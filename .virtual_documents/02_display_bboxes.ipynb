import csv
import json
from itertools import cycle
from pathlib import Path

from IPython.display import display
from ipywidgets import interact
from PIL import Image, ImageDraw


DATA_DIR = Path.cwd() / 'data'

LABEL_BABEL_1 = DATA_DIR / 'label-babel-1'
LABEL_BABEL_2 = DATA_DIR / 'label-babel-2'

SHEETS_2 = LABEL_BABEL_2 / 'herbarium-sheets-small'

UNRECONCILED = LABEL_BABEL_2 / '17633_label_babel_2.unreconciled.csv'
RECONCILED = LABEL_BABEL_2 / '17633_label_babel_2.reconciled.csv'


with open(RECONCILED) as in_file:
    reader = csv.DictReader(in_file)
    SUBJECTS = [s for s in reader]


colors = cycle('blue orange purple brown black'.split())


def show_boxes(idx):
    row = SUBJECTS[idx]
    path = SHEETS_2 / row['subject_file_name']
    image = Image.open(path)
    draw = ImageDraw.Draw(image)

    print(row['subject_file_name'])

    for box in [v for k, v in row.items() if k.startswith('merged_box_') and v]:
        box = json.loads(box)
        box = [v for v in box.values()]
        draw.rectangle(box, outline='red', width=4)

    for box in [v for k, v in row.items() if k.startswith('removed_box_') and v]:
        box = json.loads(box)
        box = [v for v in box.values()]
        draw.rectangle(box, outline='green', width=4)

    for box in [v for k, v in row.items() if k.startswith('box_') and v]:
        box = json.loads(box)
        box = [v for v in box.values()]
        color = 'blue'  # next(colors)
        draw.rectangle(box, outline=color, width=1)

    display(image)


# show_boxes(0)
interact(show_boxes, idx=(0, len(SUBJECTS) - 1));



