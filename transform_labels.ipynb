{
 "cells": [
  {
   "cell_type": "code",
   "execution_count": 9,
   "id": "1ce7d4f5",
   "metadata": {},
   "outputs": [],
   "source": [
    "import csv\n",
    "import json\n",
    "from itertools import cycle\n",
    "from pathlib import Path\n",
    "\n",
    "import easyocr\n",
    "import pytesseract\n",
    "from IPython.display import display\n",
    "from ipywidgets import interact\n",
    "from PIL import Image\n",
    "\n",
    "from digi_leap.const import TESS_CONFIG, CHAR_BLACKLIST\n",
    "import digi_leap.label_transforms as lt\n",
    "from digi_leap.ocr import ocr_label"
   ]
  },
  {
   "cell_type": "code",
   "execution_count": 2,
   "id": "2b3a6925",
   "metadata": {},
   "outputs": [],
   "source": [
    "DATA_DIR = Path.cwd() / 'data'\n",
    "LABELS_1 = DATA_DIR / 'labels-1'\n",
    "TYPEWRITTEN = LABELS_1 / 'typewritten'"
   ]
  },
  {
   "cell_type": "code",
   "execution_count": 3,
   "id": "42226c12",
   "metadata": {},
   "outputs": [],
   "source": [
    "EASY_OCR = easyocr.Reader(['en'])"
   ]
  },
  {
   "cell_type": "code",
   "execution_count": 4,
   "id": "1ba10c26",
   "metadata": {},
   "outputs": [],
   "source": [
    "LABELS = sorted(TYPEWRITTEN.glob('*.jpg'))"
   ]
  },
  {
   "cell_type": "code",
   "execution_count": 5,
   "id": "7538b187",
   "metadata": {},
   "outputs": [],
   "source": [
    "XFORM = {\n",
    "    'scale': lt.Scale(),\n",
    "    'rotate': lt.Rotate(),\n",
    "    'deskew': lt.Deskew(),\n",
    "    'rank_modal': lt.RankModal(),\n",
    "    'rank_mean': lt.RankMean(),\n",
    "    'blur': lt.Blur(),\n",
    "    'exposure': lt.Exposure(),\n",
    "    'binarize': lt.Binarize(),\n",
    "    'remove_small_holes': lt.BinaryRemoveSmallHoles(area_threshold=24),\n",
    "    'binary_opening': lt.BinaryOpening(),\n",
    "    'thin': lt.BinaryThin(max_iter=2),\n",
    "}"
   ]
  },
  {
   "cell_type": "code",
   "execution_count": null,
   "id": "8c0ba83b",
   "metadata": {
    "scrolled": false
   },
   "outputs": [
    {
     "data": {
      "application/vnd.jupyter.widget-view+json": {
       "model_id": "138f75a6313640659524471e4038780e",
       "version_major": 2,
       "version_minor": 0
      },
      "text/plain": [
       "interactive(children=(IntSlider(value=2496, description='idx', max=4992), Output()), _dom_classes=('widget-int…"
      ]
     },
     "metadata": {},
     "output_type": "display_data"
    }
   ],
   "source": [
    "def xform(idx):\n",
    "    path = LABELS[idx]\n",
    "    original = Image.open(path)\n",
    "    image = lt.LabelTransform.as_array(original)\n",
    "\n",
    "    image = XFORM['scale'](image)\n",
    "    image = XFORM['rotate'](image)\n",
    "    image = XFORM['deskew'](image)\n",
    "    image = XFORM['rank_mean'](image)\n",
    "#     image = XFORM['blur'](image, sigma=1)\n",
    "#     image = XFORM['exposure'](image)\n",
    "    image = XFORM['binarize'](image)\n",
    "    image = XFORM['remove_small_holes'](image)\n",
    "    image = XFORM['thin'](image)\n",
    "    image = XFORM['binary_opening'](image)\n",
    "    image = lt.LabelTransform.to_pil(image)\n",
    "\n",
    "    print(pytesseract.image_to_string(image, config=TESS_CONFIG))\n",
    "    print(EASY_OCR.readtext(image, blocklist=CHAR_BLACKLIST))\n",
    "    display(image)\n",
    "    display(original)\n",
    "\n",
    "\n",
    "interact(xform, idx=(0, len(LABELS)))\n",
    "# xform(46)\n",
    "# xform(2497)"
   ]
  },
  {
   "cell_type": "code",
   "execution_count": 7,
   "id": "9eefb9cb",
   "metadata": {
    "scrolled": false
   },
   "outputs": [],
   "source": [
    "def get_text(idx):\n",
    "    path = LABELS[idx]\n",
    "    original = Image.open(path)\n",
    "\n",
    "    score = ocr_label(original)\n",
    "\n",
    "    print(pytesseract.image_to_string(score.image))\n",
    "    display(score.image)\n",
    "    display(original)\n",
    "\n",
    "\n",
    "# interact(get_text, idx=(0, len(LABELS) - 1))\n",
    "# get_text(2785)\n",
    "# get_text(46)"
   ]
  },
  {
   "cell_type": "code",
   "execution_count": 8,
   "id": "a3522566",
   "metadata": {},
   "outputs": [],
   "source": [
    "def show_label(idx):\n",
    "    path = LABELS[idx]\n",
    "    original = Image.open(path)\n",
    "    print(path)\n",
    "    display(original)\n",
    "\n",
    "\n",
    "# interact(show_label, idx=(0, len(LABELS) - 1))"
   ]
  },
  {
   "cell_type": "code",
   "execution_count": null,
   "id": "7abdc3c3",
   "metadata": {},
   "outputs": [],
   "source": []
  },
  {
   "cell_type": "code",
   "execution_count": null,
   "id": "b495b211",
   "metadata": {},
   "outputs": [],
   "source": []
  },
  {
   "cell_type": "code",
   "execution_count": null,
   "id": "21b5e82e",
   "metadata": {},
   "outputs": [],
   "source": []
  },
  {
   "cell_type": "code",
   "execution_count": null,
   "id": "e6f66ba4",
   "metadata": {},
   "outputs": [],
   "source": []
  },
  {
   "cell_type": "code",
   "execution_count": null,
   "id": "abddbe73",
   "metadata": {},
   "outputs": [],
   "source": []
  },
  {
   "cell_type": "code",
   "execution_count": null,
   "id": "d2857d94",
   "metadata": {},
   "outputs": [],
   "source": []
  },
  {
   "cell_type": "code",
   "execution_count": null,
   "id": "7390ce3b",
   "metadata": {},
   "outputs": [],
   "source": []
  },
  {
   "cell_type": "code",
   "execution_count": null,
   "id": "8212ca8f",
   "metadata": {},
   "outputs": [],
   "source": []
  },
  {
   "cell_type": "code",
   "execution_count": null,
   "id": "9ad612ae",
   "metadata": {},
   "outputs": [],
   "source": []
  }
 ],
 "metadata": {
  "kernelspec": {
   "display_name": "Python 3",
   "language": "python",
   "name": "python3"
  },
  "language_info": {
   "codemirror_mode": {
    "name": "ipython",
    "version": 3
   },
   "file_extension": ".py",
   "mimetype": "text/x-python",
   "name": "python",
   "nbconvert_exporter": "python",
   "pygments_lexer": "ipython3",
   "version": "3.9.5"
  },
  "varInspector": {
   "cols": {
    "lenName": 16,
    "lenType": 16,
    "lenVar": 40
   },
   "kernels_config": {
    "python": {
     "delete_cmd_postfix": "",
     "delete_cmd_prefix": "del ",
     "library": "var_list.py",
     "varRefreshCmd": "print(var_dic_list())"
    },
    "r": {
     "delete_cmd_postfix": ") ",
     "delete_cmd_prefix": "rm(",
     "library": "var_list.r",
     "varRefreshCmd": "cat(var_dic_list()) "
    }
   },
   "types_to_exclude": [
    "module",
    "function",
    "builtin_function_or_method",
    "instance",
    "_Feature"
   ],
   "window_display": false
  }
 },
 "nbformat": 4,
 "nbformat_minor": 5
}
