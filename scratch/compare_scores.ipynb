{
 "cells": [
  {
   "cell_type": "code",
   "execution_count": 1,
   "id": "cff4760f",
   "metadata": {},
   "outputs": [],
   "source": [
    "import sys\n",
    "\n",
    "sys.path.append('..')"
   ]
  },
  {
   "cell_type": "code",
   "execution_count": 2,
   "id": "b9734500",
   "metadata": {},
   "outputs": [],
   "source": [
    "from pathlib import Path\n",
    "from random import sample\n",
    "\n",
    "import matplotlib.pyplot as plt\n",
    "import pandas as pd\n",
    "from ipywidgets import interact\n",
    "from PIL import Image\n",
    "from tqdm import tqdm\n",
    "\n",
    "from digi_leap.ocr import ocr_label"
   ]
  },
  {
   "cell_type": "code",
   "execution_count": 3,
   "id": "ace5b875",
   "metadata": {},
   "outputs": [],
   "source": [
    "DATA_DIR = Path('..') / 'data'\n",
    "LABELS_DIR = DATA_DIR / 'labels' / 'typewritten'\n",
    "# LABELS_DIR = DATA_DIR / 'labels' / 'handwritten'"
   ]
  },
  {
   "cell_type": "code",
   "execution_count": 4,
   "id": "adaacbf3",
   "metadata": {},
   "outputs": [],
   "source": [
    "IMAGES = sorted(LABELS_DIR.glob('*.jpg'))\n",
    "SAMPLE = sample(IMAGES, 100)"
   ]
  },
  {
   "cell_type": "code",
   "execution_count": null,
   "id": "2148cded",
   "metadata": {},
   "outputs": [
    {
     "name": "stderr",
     "output_type": "stream",
     "text": [
      " 70%|███████   | 70/100 [10:39<04:40,  9.34s/it]"
     ]
    }
   ],
   "source": [
    "scores = []\n",
    "for path in tqdm(SAMPLE):\n",
    "    image = Image.open(path)\n",
    "    score = ocr_label(path)\n",
    "    scores.append(score)"
   ]
  },
  {
   "cell_type": "code",
   "execution_count": null,
   "id": "2e4091ec",
   "metadata": {},
   "outputs": [],
   "source": [
    "df = pd.DataFrame(scores)"
   ]
  },
  {
   "cell_type": "code",
   "execution_count": null,
   "id": "90ac2dc8",
   "metadata": {},
   "outputs": [],
   "source": [
    "df.to_csv('../output/compare_scores.csv', index=False)"
   ]
  },
  {
   "cell_type": "code",
   "execution_count": null,
   "id": "30cca5e5",
   "metadata": {},
   "outputs": [],
   "source": []
  }
 ],
 "metadata": {
  "kernelspec": {
   "display_name": "Python 3",
   "language": "python",
   "name": "python3"
  },
  "language_info": {
   "codemirror_mode": {
    "name": "ipython",
    "version": 3
   },
   "file_extension": ".py",
   "mimetype": "text/x-python",
   "name": "python",
   "nbconvert_exporter": "python",
   "pygments_lexer": "ipython3",
   "version": "3.9.0+"
  },
  "varInspector": {
   "cols": {
    "lenName": 16,
    "lenType": 16,
    "lenVar": 40
   },
   "kernels_config": {
    "python": {
     "delete_cmd_postfix": "",
     "delete_cmd_prefix": "del ",
     "library": "var_list.py",
     "varRefreshCmd": "print(var_dic_list())"
    },
    "r": {
     "delete_cmd_postfix": ") ",
     "delete_cmd_prefix": "rm(",
     "library": "var_list.r",
     "varRefreshCmd": "cat(var_dic_list()) "
    }
   },
   "types_to_exclude": [
    "module",
    "function",
    "builtin_function_or_method",
    "instance",
    "_Feature"
   ],
   "window_display": false
  }
 },
 "nbformat": 4,
 "nbformat_minor": 5
}
