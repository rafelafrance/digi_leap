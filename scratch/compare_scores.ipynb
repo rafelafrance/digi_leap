{
 "cells": [
  {
   "cell_type": "code",
   "execution_count": 1,
   "id": "cff4760f",
   "metadata": {},
   "outputs": [],
   "source": [
    "import sys\n",
    "\n",
    "sys.path.append('..')"
   ]
  },
  {
   "cell_type": "code",
   "execution_count": 2,
   "id": "b9734500",
   "metadata": {},
   "outputs": [],
   "source": [
    "from pathlib import Path\n",
    "from random import sample\n",
    "\n",
    "import matplotlib.pyplot as plt\n",
    "import pandas as pd\n",
    "from ipywidgets import interact\n",
    "from PIL import Image\n",
    "from tqdm import tqdm\n",
    "\n",
    "from digi_leap.ocr import ocr_label\n",
    "from digi_leap.ocr_score import score_easyocr, score_tesseract"
   ]
  },
  {
   "cell_type": "code",
   "execution_count": 3,
   "id": "ace5b875",
   "metadata": {},
   "outputs": [],
   "source": [
    "DATA_DIR = Path('..') / 'data'\n",
    "LABELS_DIR = DATA_DIR / 'labels' / 'typewritten'\n",
    "# LABELS_DIR = DATA_DIR / 'labels' / 'handwritten'"
   ]
  },
  {
   "cell_type": "code",
   "execution_count": 4,
   "id": "adaacbf3",
   "metadata": {},
   "outputs": [],
   "source": [
    "IMAGES = sorted(LABELS_DIR.glob('*.jpg'))\n",
    "SAMPLE = sample(IMAGES, 100)"
   ]
  },
  {
   "cell_type": "code",
   "execution_count": 5,
   "id": "2148cded",
   "metadata": {},
   "outputs": [
    {
     "name": "stderr",
     "output_type": "stream",
     "text": [
      "100%|██████████| 100/100 [15:45<00:00,  9.46s/it]\n"
     ]
    }
   ],
   "source": [
    "easy_scores = []\n",
    "tess_scores = []\n",
    "\n",
    "for path in tqdm(SAMPLE):\n",
    "    image = Image.open(path)\n",
    "\n",
    "    tess_score = ocr_label(path, score_tesseract)\n",
    "    easy_score = ocr_label(path, score_easyocr)\n",
    "\n",
    "    tess_scores.append(tess_score)\n",
    "    easy_scores.append(easy_score)"
   ]
  },
  {
   "cell_type": "code",
   "execution_count": 6,
   "id": "2e4091ec",
   "metadata": {},
   "outputs": [],
   "source": [
    "tess_df = pd.DataFrame(tess_scores)\n",
    "# tess_df.to_csv('../output/tess_scores.csv', index=False)\n",
    "\n",
    "easy_df = pd.DataFrame(easy_scores)\n",
    "# easy_df.to_csv('../output/easy_scores.csv', index=False)"
   ]
  },
  {
   "cell_type": "code",
   "execution_count": 10,
   "id": "90ac2dc8",
   "metadata": {},
   "outputs": [],
   "source": [
    "df = tess_df.merge(\n",
    "    easy_df,\n",
    "    on=['file', 'stem'],\n",
    "    suffixes=['_tess', '_easy']\n",
    ")\n",
    "df = df.reindex(columns=[\n",
    "    'file', 'stem',\n",
    "    'total_tess', 'total_easy',\n",
    "    'found_tess', 'found_easy',\n",
    "    'method_tess', 'method_easy',\n",
    "    'text_tess', 'text_easy',\n",
    "])\n",
    "df.to_csv('../output/compare_scores.csv', index=False)"
   ]
  },
  {
   "cell_type": "code",
   "execution_count": null,
   "id": "e5167615",
   "metadata": {},
   "outputs": [],
   "source": []
  }
 ],
 "metadata": {
  "kernelspec": {
   "display_name": "Python 3",
   "language": "python",
   "name": "python3"
  },
  "language_info": {
   "codemirror_mode": {
    "name": "ipython",
    "version": 3
   },
   "file_extension": ".py",
   "mimetype": "text/x-python",
   "name": "python",
   "nbconvert_exporter": "python",
   "pygments_lexer": "ipython3",
   "version": "3.9.0+"
  },
  "varInspector": {
   "cols": {
    "lenName": 16,
    "lenType": 16,
    "lenVar": 40
   },
   "kernels_config": {
    "python": {
     "delete_cmd_postfix": "",
     "delete_cmd_prefix": "del ",
     "library": "var_list.py",
     "varRefreshCmd": "print(var_dic_list())"
    },
    "r": {
     "delete_cmd_postfix": ") ",
     "delete_cmd_prefix": "rm(",
     "library": "var_list.r",
     "varRefreshCmd": "cat(var_dic_list()) "
    }
   },
   "types_to_exclude": [
    "module",
    "function",
    "builtin_function_or_method",
    "instance",
    "_Feature"
   ],
   "window_display": false
  }
 },
 "nbformat": 4,
 "nbformat_minor": 5
}
