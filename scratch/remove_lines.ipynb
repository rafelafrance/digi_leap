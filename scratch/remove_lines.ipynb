{
 "cells": [
  {
   "cell_type": "code",
   "execution_count": 1,
   "id": "737a54ed",
   "metadata": {},
   "outputs": [],
   "source": [
    "import sys\n",
    "\n",
    "sys.path.append('..')"
   ]
  },
  {
   "cell_type": "code",
   "execution_count": 2,
   "id": "b93ec1ad",
   "metadata": {},
   "outputs": [],
   "source": [
    "from pathlib import Path\n",
    "\n",
    "import numpy as np\n",
    "from ipywidgets import interact\n",
    "from PIL import Image, ImageDraw\n",
    "from skimage import filters, feature, draw\n",
    "from skimage import exposure as ex\n",
    "from skimage import morphology as morph\n",
    "from skimage import restoration as rest\n",
    "\n",
    "from scipy.ndimage import interpolation as inter\n",
    "\n",
    "import digi_leap.const as const\n",
    "import digi_leap.util as util\n",
    "from digi_leap.ocr_score import score_tesseract, score_easyocr"
   ]
  },
  {
   "cell_type": "code",
   "execution_count": 3,
   "id": "33ae4af8",
   "metadata": {},
   "outputs": [],
   "source": [
    "DATA_DIR = Path('..') / 'data'\n",
    "LABELS_DIR = DATA_DIR / 'labels' / 'typewritten'\n",
    "# LABELS_DIR = DATA_DIR / 'labels' / 'handwritten'"
   ]
  },
  {
   "cell_type": "code",
   "execution_count": 4,
   "id": "07319f75",
   "metadata": {},
   "outputs": [],
   "source": [
    "IMAGES = sorted(LABELS_DIR.glob('*.jpg'))\n",
    "\n",
    "IDX = 3240   # A target image with plenty of underlines\n",
    "# IDX = 46    # Lots of odd colors\n",
    "# IDX = 2880  # Underlines\n",
    "# IDX = 2939  # Rotated\n",
    "# IDX = 28970  # Border"
   ]
  },
  {
   "cell_type": "markdown",
   "id": "e27a3d3d",
   "metadata": {},
   "source": [
    "### Display the raw image"
   ]
  },
  {
   "cell_type": "code",
   "execution_count": 5,
   "id": "0a5aba4c",
   "metadata": {},
   "outputs": [],
   "source": [
    "def raw_image(idx):\n",
    "    path = IMAGES[idx]\n",
    "    print(path)\n",
    "    image = Image.open(path)\n",
    "    display(image)\n",
    "\n",
    "\n",
    "# raw_image(IDX)\n",
    "# interact(raw_image, idx=(0, len(IMAGES) - 1))"
   ]
  },
  {
   "cell_type": "markdown",
   "id": "674dfc72",
   "metadata": {},
   "source": [
    "### Find lines"
   ]
  },
  {
   "cell_type": "code",
   "execution_count": 6,
   "id": "6776252f",
   "metadata": {
    "scrolled": false
   },
   "outputs": [],
   "source": [
    "WINDOW_SIZE = 11\n",
    "K = 0.032\n",
    "\n",
    "\n",
    "def show_lines(idx):\n",
    "    image = Image.open(IMAGES[idx]).convert('L')\n",
    "\n",
    "    binary = np.asarray(image).copy()\n",
    "    threshold = filters.threshold_sauvola(binary, window_size=WINDOW_SIZE, k=K)\n",
    "    binary = binary < threshold\n",
    "\n",
    "    h_lines = util.find_lines(binary, const.NEAR_HORIZ, line_length=100, line_gap=5)\n",
    "\n",
    "    image = image.convert('RGB')\n",
    "    draw = ImageDraw.Draw(image)\n",
    "\n",
    "    for line in h_lines:\n",
    "        draw.line(line, width=1, fill=(255, 0, 0))\n",
    "\n",
    "    display(image)\n",
    "\n",
    "\n",
    "# show_lines(IDX)\n",
    "# interact(show_lines, idx=(0, len(IMAGES) - 1))"
   ]
  },
  {
   "cell_type": "code",
   "execution_count": 7,
   "id": "a7423d98",
   "metadata": {
    "scrolled": false
   },
   "outputs": [],
   "source": [
    "WINDOW_SIZE = 11\n",
    "K = 0.032\n",
    "\n",
    "\n",
    "def detect(idx):\n",
    "    image = Image.open(IMAGES[idx]).convert('L')\n",
    "\n",
    "    score0 = score_tesseract(image)\n",
    "\n",
    "    adjusted = np.asarray(image).copy()\n",
    "    adjusted = filters.rank.modal(adjusted, selem=morph.disk(2))\n",
    "#     adjusted = ex.adjust_gamma(adjusted, gamma=2)\n",
    "#     adjusted = ex.rescale_intensity(adjusted)\n",
    "\n",
    "#     threshold = filters.threshold_sauvola(adjusted, window_size=WINDOW_SIZE, k=K)\n",
    "#     binary = adjusted < threshold\n",
    "\n",
    "#     binary = morph.binary_closing(binary, selem=morph.disk(2))\n",
    "\n",
    "#     h_lines = util.find_lines(binary, const.NEAR_HORIZ, line_length=100, line_gap=5)\n",
    "\n",
    "#     mask = np.zeros_like(binary)\n",
    "#     for (x0, y0), (x1, y1) in h_lines:\n",
    "#         rr, cc = draw.line(y0, x0, y1, x1)\n",
    "#         mask[rr, cc] = True\n",
    "#     mask = morph.binary_dilation(mask, selem=morph.rectangle(12, 40))\n",
    "\n",
    "#     painted = rest.inpaint_biharmonic(np.asarray(adjusted).copy(), mask)\n",
    "\n",
    "    out_image = util.to_pil(adjusted).convert('L')\n",
    "\n",
    "#     print(score0)\n",
    "#     print(score0.text)\n",
    "\n",
    "    score = score_tesseract(out_image)\n",
    "    print(score)\n",
    "    print(score.text)\n",
    "\n",
    "    display(out_image)\n",
    "\n",
    "\n",
    "# detect(IDX)\n",
    "# interact(detect, idx=(0, len(IMAGES) - 1))"
   ]
  },
  {
   "cell_type": "code",
   "execution_count": null,
   "id": "16a576b4",
   "metadata": {},
   "outputs": [],
   "source": []
  },
  {
   "cell_type": "code",
   "execution_count": 8,
   "id": "ce0f82bd",
   "metadata": {},
   "outputs": [
    {
     "data": {
      "application/javascript": [
       "$('.output_label').css('font-size', '16pt')\n"
      ],
      "text/plain": [
       "<IPython.core.display.Javascript object>"
      ]
     },
     "metadata": {},
     "output_type": "display_data"
    }
   ],
   "source": [
    "%%javascript\n",
    "$('.output_label').css('font-size', '16pt')"
   ]
  },
  {
   "cell_type": "code",
   "execution_count": null,
   "id": "a209f970",
   "metadata": {},
   "outputs": [],
   "source": []
  }
 ],
 "metadata": {
  "kernelspec": {
   "display_name": "Python 3",
   "language": "python",
   "name": "python3"
  },
  "language_info": {
   "codemirror_mode": {
    "name": "ipython",
    "version": 3
   },
   "file_extension": ".py",
   "mimetype": "text/x-python",
   "name": "python",
   "nbconvert_exporter": "python",
   "pygments_lexer": "ipython3",
   "version": "3.9.0+"
  },
  "varInspector": {
   "cols": {
    "lenName": 16,
    "lenType": 16,
    "lenVar": 40
   },
   "kernels_config": {
    "python": {
     "delete_cmd_postfix": "",
     "delete_cmd_prefix": "del ",
     "library": "var_list.py",
     "varRefreshCmd": "print(var_dic_list())"
    },
    "r": {
     "delete_cmd_postfix": ") ",
     "delete_cmd_prefix": "rm(",
     "library": "var_list.r",
     "varRefreshCmd": "cat(var_dic_list()) "
    }
   },
   "types_to_exclude": [
    "module",
    "function",
    "builtin_function_or_method",
    "instance",
    "_Feature"
   ],
   "window_display": false
  }
 },
 "nbformat": 4,
 "nbformat_minor": 5
}
