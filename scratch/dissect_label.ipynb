{
 "cells": [
  {
   "cell_type": "code",
   "execution_count": 1,
   "id": "737a54ed",
   "metadata": {},
   "outputs": [],
   "source": [
    "import sys\n",
    "\n",
    "sys.path.append('..')"
   ]
  },
  {
   "cell_type": "code",
   "execution_count": 2,
   "id": "b93ec1ad",
   "metadata": {},
   "outputs": [],
   "source": [
    "from pathlib import Path\n",
    "\n",
    "import numpy as np\n",
    "import pytesseract\n",
    "from ipywidgets import interact\n",
    "from PIL import Image, ImageDraw, ImageEnhance, ImageOps\n",
    "from scipy import ndimage\n",
    "from skimage import morphology as morph\n",
    "from skimage import measure, exposure, util, io, color, filters\n",
    "from skimage import transform as xform\n",
    "from scipy.ndimage import interpolation as inter\n",
    "\n",
    "from digi_leap import label_image as li\n",
    "from digi_leap.label_image import NEAR_HORIZ, NEAR_VERT"
   ]
  },
  {
   "cell_type": "code",
   "execution_count": 3,
   "id": "33ae4af8",
   "metadata": {},
   "outputs": [],
   "source": [
    "DATA_DIR = Path('..') / 'data'\n",
    "LABELS_DIR = DATA_DIR / 'labels' / 'typewritten'\n",
    "# LABELS_DIR = DATA_DIR / 'labels' / 'handwritten'"
   ]
  },
  {
   "cell_type": "code",
   "execution_count": 21,
   "id": "07319f75",
   "metadata": {},
   "outputs": [],
   "source": [
    "LABELS = sorted(LABELS_DIR.glob('*.jpg'))\n",
    "# KEY = '4128362'\n",
    "# KEY = '2995215'\n",
    "KEY = '11783735'\n",
    "KEY = '10667427'"
   ]
  },
  {
   "cell_type": "markdown",
   "id": "110d3953",
   "metadata": {},
   "source": [
    "### Get label image based on the given text"
   ]
  },
  {
   "cell_type": "code",
   "execution_count": 5,
   "id": "894a4606",
   "metadata": {},
   "outputs": [],
   "source": [
    "def get_label(key):\n",
    "    paths = [i for i in LABELS if str(i).find(key) > -1]\n",
    "    if not key or not paths:\n",
    "        return\n",
    "    label = Image.open(paths[0]).convert('L')\n",
    "#     label = io.imread(paths[0])\n",
    "#     label = color.rgb2gray(label)\n",
    "    return label"
   ]
  },
  {
   "cell_type": "markdown",
   "id": "4e57ea0a",
   "metadata": {},
   "source": [
    "### Try segmenting by looking for \"blobs\" of text"
   ]
  },
  {
   "cell_type": "code",
   "execution_count": 6,
   "id": "4b8d856e",
   "metadata": {
    "scrolled": false
   },
   "outputs": [],
   "source": [
    "def test2(key):\n",
    "    label1 = get_label(key)\n",
    "    labe1l = ImageOps.scale(labe1l, 2.0)\n",
    "\n",
    "    label1 = exposure.adjust_gamma(label1, gamma=1.5)\n",
    "    label1 = xform.rescale(label1, 2.0, anti_aliasing=True)\n",
    "    # label1 = exposure.equalize_adapthist(label1)\n",
    "\n",
    "    label1_text = li.ocr_text(label1)\n",
    "    print(label1_text)\n",
    "\n",
    "    label2 = label1.copy()\n",
    "    label2 = li.binarize(label2)\n",
    "\n",
    "    h_lines = li.find_lines(label2, NEAR_HORIZ, line_length=100, line_gap=5)\n",
    "    li.remove_horiz_lines(label2, h_lines, line_width=6,\n",
    "                          window=8, threshold=2.0)\n",
    "\n",
    "    label3 = label2.copy()\n",
    "    label3 = morph.binary_closing(label3, morph.disk(10))\n",
    "    label3 = morph.remove_small_objects(label3, min_size=256)\n",
    "    label3 = morph.binary_dilation(label3, morph.disk(8))\n",
    "    label3 = morph.remove_small_objects(label3, min_size=16)\n",
    "    # display(li.to_pil(label3))\n",
    "\n",
    "    label4 = label3.copy()\n",
    "    label4, count = measure.label(label4, return_num=True)\n",
    "    print(count)\n",
    "    props = measure.regionprops(label4)\n",
    "\n",
    "    for prop in props:\n",
    "        r1, c1, r2, c2 = prop.bbox\n",
    "        part = label1[r1:r2, c1:c2]\n",
    "        binary = li.binarize(part)\n",
    "        # part = exposure.adjust_gamma(part, gamma=2.0)\n",
    "        part = ndimage.gaussian_filter(part, sigma=1)\n",
    "        angle = li.find_skew(binary)\n",
    "        part = inter.rotate(part, angle, mode='nearest')\n",
    "        # part = xform.rotate(part, 1.0, resize=True, mode='minimum')\n",
    "        # part = li.binarize(part)\n",
    "        # part = util.invert(part)\n",
    "        #         h_lines = part.find_horizontal_lines(line_length=100, line_gap=5)\n",
    "        #         part.remove_horiz_lines(h_lines, line_width=6, window=8, threshold=2.0)\n",
    "        #         part.data = morph.binary_closing(part.data, morph.disk(10))\n",
    "        #         part.data = morph.remove_small_objects(part.data, min_size=8)\n",
    "        #         part.data = morph.binary_dilation(part.data, morph.disk(8))\n",
    "        display(li.to_pil(part))\n",
    "        part_text = li.ocr_text(part)\n",
    "        print(part_text)\n",
    "\n",
    "\n",
    "# interact(test2, key=KEY)"
   ]
  },
  {
   "cell_type": "markdown",
   "id": "1bb7a42f",
   "metadata": {},
   "source": [
    "### Try segmenting by looking for lines and phrases within lines\n",
    "\n",
    "- Chop the label (as best we can) into lines.\n",
    "- See if the lines work better with Tesseract"
   ]
  },
  {
   "cell_type": "code",
   "execution_count": 1,
   "id": "86fd9d56",
   "metadata": {
    "scrolled": false
   },
   "outputs": [],
   "source": [
    "PADDING = 8\n",
    "\n",
    "\n",
    "def test1(key):\n",
    "    label = get_label(key)\n",
    "#     label = ImageOps.scale(label, 2.0)\n",
    "\n",
    "    binary = np.asarray(label).copy()\n",
    "    threshold = filters.threshold_sauvola(binary, window_size=9, k=0.02)\n",
    "#     threshold = filters.threshold_local(binary, 15)\n",
    "#     threshold = filters.threshold_li(binary)\n",
    "#     threshold = filters.threshold_yen(binary)\n",
    "#     threshold = filters.threshold_otsu(binary)\n",
    "    binary = binary < threshold\n",
    "    binary = morph.remove_small_objects(binary, min_size=64)\n",
    "\n",
    "    angle = li.find_skew(binary)\n",
    "    binary = inter.rotate(binary, angle, reshape=False, order=0)\n",
    "\n",
    "    data = np.asarray(label)\n",
    "    data = inter.rotate(data, angle, reshape=False, order=0, mode='nearest')\n",
    "#     label = Image.fromarray(data)\n",
    "#     text = li.ocr_text(label)\n",
    "#     print(text)\n",
    "\n",
    "    rows = li.profile_projection(binary)\n",
    "#     rows = li.merge_rows(rows, inside_row=8)\n",
    "\n",
    "    image = li.to_pil(binary)\n",
    "    image = image.convert('RGB')\n",
    "    draw = ImageDraw.Draw(image)\n",
    "\n",
    "    for top, bot in rows:\n",
    "        draw.line((0, top, image.width, top), width=1, fill='red')\n",
    "        draw.line((0, bot, image.width, bot), width=1, fill='yellow')\n",
    "        row = label.crop((0, top - PADDING, label.width, bot + PADDING))\n",
    "#         row = li.binarize(row, window_size=9, k=0.02)\n",
    "#         row = morph.remove_small_objects(row, min_size=64)\n",
    "#         h_lines = li.find_lines(row, NEAR_HORIZ, line_length=100, line_gap=5)\n",
    "#         li.remove_horiz_lines(row, h_lines, line_width=6, window=10, threshold=2)\n",
    "#         row = li.to_pil(row)\n",
    "#         cont = ImageEnhance.Contrast(row)\n",
    "#         row = cont.enhance(2.0)\n",
    "#         brite = ImageEnhance.Contrast(row)\n",
    "#         row = brite.enhance(2.0)\n",
    "#         sharp = ImageEnhance.Sharpness(row)\n",
    "#         row  = sharp.enhance(2.0)\n",
    "#         display(row)\n",
    "#         text = li.ocr_text(row)\n",
    "#         print(text)\n",
    "\n",
    "    display(image)\n",
    "\n",
    "\n",
    "# interact(test1, key=KEY)"
   ]
  },
  {
   "cell_type": "code",
   "execution_count": null,
   "id": "5a481327",
   "metadata": {},
   "outputs": [],
   "source": []
  }
 ],
 "metadata": {
  "kernelspec": {
   "display_name": "Python 3",
   "language": "python",
   "name": "python3"
  },
  "language_info": {
   "codemirror_mode": {
    "name": "ipython",
    "version": 3
   },
   "file_extension": ".py",
   "mimetype": "text/x-python",
   "name": "python",
   "nbconvert_exporter": "python",
   "pygments_lexer": "ipython3",
   "version": "3.9.0+"
  },
  "varInspector": {
   "cols": {
    "lenName": 16,
    "lenType": 16,
    "lenVar": 40
   },
   "kernels_config": {
    "python": {
     "delete_cmd_postfix": "",
     "delete_cmd_prefix": "del ",
     "library": "var_list.py",
     "varRefreshCmd": "print(var_dic_list())"
    },
    "r": {
     "delete_cmd_postfix": ") ",
     "delete_cmd_prefix": "rm(",
     "library": "var_list.r",
     "varRefreshCmd": "cat(var_dic_list()) "
    }
   },
   "types_to_exclude": [
    "module",
    "function",
    "builtin_function_or_method",
    "instance",
    "_Feature"
   ],
   "window_display": false
  }
 },
 "nbformat": 4,
 "nbformat_minor": 5
}
