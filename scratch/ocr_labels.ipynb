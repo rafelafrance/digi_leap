{
 "cells": [
  {
   "cell_type": "markdown",
   "id": "1e856401",
   "metadata": {},
   "source": [
    "# OCR Labels\n",
    "\n",
    "This is just a rough draft of how the chain of events may go for the OCR process. Most of these steps can be replaced with more advanced methods later."
   ]
  },
  {
   "cell_type": "markdown",
   "id": "afffc178",
   "metadata": {},
   "source": [
    "## Setup"
   ]
  },
  {
   "cell_type": "markdown",
   "id": "77cc02e5",
   "metadata": {},
   "source": [
    "### Imports"
   ]
  },
  {
   "cell_type": "code",
   "execution_count": 1,
   "id": "0849215c",
   "metadata": {},
   "outputs": [],
   "source": [
    "import sys\n",
    "\n",
    "sys.path.append('..')"
   ]
  },
  {
   "cell_type": "code",
   "execution_count": 2,
   "id": "d026977c",
   "metadata": {},
   "outputs": [],
   "source": [
    "import re\n",
    "import string\n",
    "import textwrap\n",
    "from pathlib import Path\n",
    "from dataclasses import dataclass, field\n",
    "\n",
    "import enchant\n",
    "import numpy as np\n",
    "import pytesseract\n",
    "from ipywidgets import interact\n",
    "from PIL import Image, ImageDraw, ImageEnhance, ImageOps\n",
    "from scipy import ndimage\n",
    "from skimage import morphology as morph\n",
    "from skimage import measure, exposure, util, io, color, filters\n",
    "from skimage import transform as xform\n",
    "\n",
    "from digi_leap import label_image as li"
   ]
  },
  {
   "cell_type": "markdown",
   "id": "5ac2c195",
   "metadata": {},
   "source": [
    "### File locations"
   ]
  },
  {
   "cell_type": "code",
   "execution_count": 3,
   "id": "13ef25e2",
   "metadata": {},
   "outputs": [],
   "source": [
    "DATA_DIR = Path('..') / 'data'\n",
    "LABELS_DIR = DATA_DIR / 'labels' / 'typewritten'\n",
    "# LABELS_DIR = DATA_DIR / 'labels' / 'handwritten'"
   ]
  },
  {
   "cell_type": "markdown",
   "id": "072859a5",
   "metadata": {},
   "source": [
    "### Constants for image processing"
   ]
  },
  {
   "cell_type": "code",
   "execution_count": 4,
   "id": "69534597",
   "metadata": {},
   "outputs": [],
   "source": [
    "# How many words should be in a label?\n",
    "MIN_WORDS = 20\n",
    "\n",
    "# For threshold_sauvola\n",
    "WINDOW_SIZE = 11\n",
    "K = 0.032\n",
    "\n",
    "# For remove_small_objects\n",
    "MIN_SIZE = 64\n",
    "\n",
    "# For ImageOps.scale\n",
    "FACTOR = 2.0"
   ]
  },
  {
   "cell_type": "markdown",
   "id": "976f9a5d",
   "metadata": {},
   "source": [
    "### Setup for the spell checker\n",
    "\n",
    "This is being used as a proxy for scoring the quality of the OCR output. It will get either replaced or augmented later."
   ]
  },
  {
   "cell_type": "code",
   "execution_count": 5,
   "id": "c936fdc8",
   "metadata": {},
   "outputs": [],
   "source": [
    "PUNCT = re.escape(string.punctuation)\n",
    "SPLIT = re.compile(rf'([\\s{PUNCT}]+)')\n",
    "\n",
    "ALLOW = {'.)', '.]'}\n",
    "\n",
    "LANG = 'en_US'\n",
    "EXTRA_VOCAB = DATA_DIR / 'custom_vocab.txt'\n",
    "\n",
    "\n",
    "MIN_DIM = 512\n",
    "\n",
    "OK = 90.0\n",
    "BAD = 20.0"
   ]
  },
  {
   "cell_type": "code",
   "execution_count": 6,
   "id": "05b0b83b",
   "metadata": {},
   "outputs": [],
   "source": [
    "def spell_checker(lang, extra_vocab=''):\n",
    "    \"\"\"Setup the spell checker.\"\"\"\n",
    "    if extra_vocab:\n",
    "        vocab = enchant.DictWithPWL(lang, str(extra_vocab))\n",
    "    else:\n",
    "        vocab = enchant.Dict(lang)\n",
    "    return vocab\n",
    "\n",
    "\n",
    "VOCAB = spell_checker(LANG, EXTRA_VOCAB)"
   ]
  },
  {
   "cell_type": "markdown",
   "id": "004861d4",
   "metadata": {},
   "source": [
    "### Target images"
   ]
  },
  {
   "cell_type": "code",
   "execution_count": 7,
   "id": "501db5f6",
   "metadata": {
    "tags": []
   },
   "outputs": [],
   "source": [
    "IMAGES = sorted(LABELS_DIR.glob('*.jpg'))\n",
    "\n",
    "IDX = 3240   # A target image with plenty of underlines\n",
    "# IDX = 46    # Lots of odd colors\n",
    "# IDX = 2880  # Underlines\n",
    "IDX = 2939  # Rotated\n",
    "# IDX = 28970  # Border"
   ]
  },
  {
   "cell_type": "markdown",
   "id": "b3b8c98f",
   "metadata": {},
   "source": [
    "## A structure that holds an OCR score"
   ]
  },
  {
   "cell_type": "code",
   "execution_count": 8,
   "id": "0826f8b8",
   "metadata": {},
   "outputs": [],
   "source": [
    "@dataclass(order=True)\n",
    "class OCRScore:\n",
    "    found: int = 0\n",
    "    total: int = 0\n",
    "    file: str = ''\n",
    "    stem: str = ''\n",
    "    method: list[str] = field(default_factory=list)\n",
    "    text: str = ''\n",
    "\n",
    "    @property\n",
    "    def score(self):\n",
    "        return self.found, self.percent\n",
    "\n",
    "    @property\n",
    "    def is_ok(self):\n",
    "        return self.percent >= OK and self.found >= MIN_WORDS\n",
    "\n",
    "    @property\n",
    "    def percent(self):\n",
    "        per = self.found / self.total if self.total != 0 else 0.0\n",
    "        return round(per * 100.0, 2)\n",
    "\n",
    "    def __str__(self):\n",
    "        return textwrap.dedent(f\"\"\"\n",
    "        {self.score=}\n",
    "        {self.found=}\n",
    "        {self.percent=}\n",
    "        {self.total=}\n",
    "        {self.stem=}\n",
    "        {self.method=}\n",
    "        \"\"\")\n",
    "\n",
    "    def then_i(self, action):\n",
    "        if not self.method or action != self.method[-1]:\n",
    "            self.method.append(action)"
   ]
  },
  {
   "cell_type": "markdown",
   "id": "71f093b4",
   "metadata": {},
   "source": [
    "### Score OCR"
   ]
  },
  {
   "cell_type": "code",
   "execution_count": 9,
   "id": "81da6c01",
   "metadata": {},
   "outputs": [],
   "source": [
    "def score_ocr(image):\n",
    "    text = pytesseract.image_to_string(image, config=li.TESS_CONFIG)\n",
    "    text = re.sub(r'(\\n\\s*){3,}', '\\n\\n', text)\n",
    "\n",
    "    words = [x for w in SPLIT.split(text) if (x := w.strip())]\n",
    "\n",
    "    found = sum(1 for w in words if VOCAB.check(w)\n",
    "                or len(w) == 1 or w in ALLOW)\n",
    "\n",
    "    return OCRScore(\n",
    "        total=len(words),\n",
    "        found=found,\n",
    "        text=text,\n",
    "    )"
   ]
  },
  {
   "cell_type": "markdown",
   "id": "6b161134",
   "metadata": {},
   "source": [
    "### Save a score record"
   ]
  },
  {
   "cell_type": "code",
   "execution_count": 10,
   "id": "f352ff0e",
   "metadata": {},
   "outputs": [],
   "source": [
    "def save_score(score, path, method):\n",
    "    score.file = str(path)\n",
    "    score.stem = path.stem\n",
    "    score.then_i(method)\n",
    "    print()\n",
    "    print(f'{score.score=}')\n",
    "    print(f'{score.method=}')\n",
    "    print('-' * 80)\n",
    "    print(score.text)\n",
    "    print('-' * 80)\n",
    "    return score"
   ]
  },
  {
   "cell_type": "markdown",
   "id": "10d37582",
   "metadata": {},
   "source": [
    "## Find label index"
   ]
  },
  {
   "cell_type": "code",
   "execution_count": 11,
   "id": "69e55a06",
   "metadata": {},
   "outputs": [],
   "source": [
    "def get_label_index(key):\n",
    "    paths = [(i, x) for i, x in enumerate(IMAGES) if str(x).find(key) > -1]\n",
    "    if not key or not paths:\n",
    "        return\n",
    "    idx, path = paths[0]\n",
    "    label = Image.open(path).convert('L')\n",
    "    return idx"
   ]
  },
  {
   "cell_type": "markdown",
   "id": "b9793d11",
   "metadata": {},
   "source": [
    "## Process a label"
   ]
  },
  {
   "cell_type": "code",
   "execution_count": 12,
   "id": "85ab616f",
   "metadata": {},
   "outputs": [
    {
     "data": {
      "application/vnd.jupyter.widget-view+json": {
       "model_id": "ce7e1c0eb12947fab20e8e739433df15",
       "version_major": 2,
       "version_minor": 0
      },
      "text/plain": [
       "interactive(children=(Text(value='', description='key'), Output()), _dom_classes=('widget-interact',))"
      ]
     },
     "metadata": {},
     "output_type": "display_data"
    },
    {
     "data": {
      "text/plain": [
       "<function __main__.ocr_label(key)>"
      ]
     },
     "execution_count": 12,
     "metadata": {},
     "output_type": "execute_result"
    }
   ],
   "source": [
    "def ocr_label(key):\n",
    "    idx = get_label_index(key)\n",
    "    if not idx:\n",
    "        return\n",
    "    path = IMAGES[idx]\n",
    "    image = Image.open(path)\n",
    "\n",
    "    display(image)\n",
    "\n",
    "    # ################################################################\n",
    "    # Try the unmodified label\n",
    "\n",
    "    action = 'did nothing'\n",
    "\n",
    "    best = score_ocr(image)\n",
    "    print(best.score, action)\n",
    "\n",
    "    if best.is_ok:\n",
    "        return save_score(best, path, action)\n",
    "\n",
    "    # ################################################################\n",
    "    # Try a bigger label\n",
    "\n",
    "    action = f'scaled by: {FACTOR}'\n",
    "\n",
    "    bigger = ImageOps.scale(image, FACTOR)\n",
    "    score = score_ocr(bigger)\n",
    "    print(score.score, action)\n",
    "\n",
    "    if image.width < MIN_DIM or image.height < MIN_DIM:\n",
    "        image = bigger\n",
    "        best.then_i(action)\n",
    "\n",
    "    if score > best:\n",
    "        image = bigger\n",
    "        best = score\n",
    "        best.then_i(action)\n",
    "        if best.is_ok:\n",
    "            return save_score(best, path, action)\n",
    "\n",
    "    # ################################################################\n",
    "    # Try to orient the label\n",
    "\n",
    "    osd = pytesseract.image_to_osd(image)\n",
    "    angle = int(re.search(r'degrees:\\s*(\\d+)', osd).group(1))\n",
    "\n",
    "    action = f'rotated by: {angle}'\n",
    "\n",
    "    data = np.asarray(image).copy()\n",
    "\n",
    "    if angle != 0:\n",
    "        rotated = ndimage.rotate(data, int(angle), mode='nearest')\n",
    "        rotated = li.to_pil(rotated)\n",
    "        score = score_ocr(rotated)\n",
    "        print(score.score, action)\n",
    "\n",
    "        if score > best:\n",
    "            image = rotated\n",
    "            best = score\n",
    "            best.then_i(action)\n",
    "            if best.is_ok:\n",
    "                return save_score(best, path, action)\n",
    "\n",
    "    # ################################################################\n",
    "    # Try converting the image to binary\n",
    "\n",
    "    action = f'sauvola threshold window size = {WINDOW_SIZE} K = {K}'\n",
    "\n",
    "    binary = np.asarray(image).copy()\n",
    "    threshold = filters.threshold_sauvola(binary, window_size=WINDOW_SIZE, k=K)\n",
    "    binary = binary < threshold\n",
    "\n",
    "    temp = li.to_pil(binary)\n",
    "    score = score_ocr(temp)\n",
    "    print(score.score, action)\n",
    "\n",
    "    if score > best:\n",
    "        image = temp\n",
    "        best = score\n",
    "        score.then_i(action)\n",
    "        if score.is_ok:\n",
    "            return save_score(score, path, action)\n",
    "\n",
    "    # ################################################################\n",
    "    # Try to remove small objects\n",
    "\n",
    "    action = f'removed small objects min_size = {MIN_SIZE}'\n",
    "\n",
    "    cleaned = morph.remove_small_objects(binary, min_size=MIN_SIZE)\n",
    "    temp = li.to_pil(cleaned)\n",
    "    score = score_ocr(temp)\n",
    "    print(score.score, action)\n",
    "\n",
    "    if score > best:\n",
    "        image = temp\n",
    "        binary = cleaned\n",
    "        best = score\n",
    "        score.then_i(action)\n",
    "        if score.is_ok:\n",
    "            return save_score(score, path, action)\n",
    "\n",
    " \n",
    "    # ################################################################\n",
    "    # Try opening holes\n",
    "\n",
    "    action = f'binary opening'\n",
    "\n",
    "    cleaned = morph.binary_opening(binary)\n",
    "    temp = li.to_pil(binary)\n",
    "    score = score_ocr(temp)\n",
    "    print(score.score, action)\n",
    "\n",
    "    if score > best:\n",
    "        image = temp\n",
    "        binary = cleaned\n",
    "        best = score\n",
    "        score.then_i(action)\n",
    "        display(li.to_pil(image))\n",
    "        if score.is_ok:\n",
    "            return save_score(score, path, actions)\n",
    "\n",
    "    # ################################################################\n",
    "    # Try to correct skew\n",
    "\n",
    "    # ################################################################\n",
    "    # Try to remove horizontal lines\n",
    "\n",
    "    # ################################################################\n",
    "    # Nothing worked\n",
    "\n",
    "    print(best.score, f'fail')\n",
    "\n",
    "    return save_score(best, path, 'fail')\n",
    "\n",
    "\n",
    "interact(ocr_label, key='')"
   ]
  },
  {
   "cell_type": "code",
   "execution_count": null,
   "id": "cb8e8355",
   "metadata": {},
   "outputs": [],
   "source": []
  }
 ],
 "metadata": {
  "kernelspec": {
   "display_name": "Python 3",
   "language": "python",
   "name": "python3"
  },
  "language_info": {
   "codemirror_mode": {
    "name": "ipython",
    "version": 3
   },
   "file_extension": ".py",
   "mimetype": "text/x-python",
   "name": "python",
   "nbconvert_exporter": "python",
   "pygments_lexer": "ipython3",
   "version": "3.9.0+"
  },
  "varInspector": {
   "cols": {
    "lenName": 16,
    "lenType": 16,
    "lenVar": 40
   },
   "kernels_config": {
    "python": {
     "delete_cmd_postfix": "",
     "delete_cmd_prefix": "del ",
     "library": "var_list.py",
     "varRefreshCmd": "print(var_dic_list())"
    },
    "r": {
     "delete_cmd_postfix": ") ",
     "delete_cmd_prefix": "rm(",
     "library": "var_list.r",
     "varRefreshCmd": "cat(var_dic_list()) "
    }
   },
   "types_to_exclude": [
    "module",
    "function",
    "builtin_function_or_method",
    "instance",
    "_Feature"
   ],
   "window_display": false
  }
 },
 "nbformat": 4,
 "nbformat_minor": 5
}
