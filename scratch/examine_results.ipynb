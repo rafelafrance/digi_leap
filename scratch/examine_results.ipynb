{
 "cells": [
  {
   "cell_type": "code",
   "execution_count": 1,
   "id": "6f02799f",
   "metadata": {},
   "outputs": [],
   "source": [
    "import sys\n",
    "\n",
    "sys.path.append('..')"
   ]
  },
  {
   "cell_type": "code",
   "execution_count": 2,
   "id": "9409b38e",
   "metadata": {},
   "outputs": [],
   "source": [
    "from pathlib import Path\n",
    "\n",
    "import numpy as np\n",
    "from ipywidgets import interact\n",
    "from PIL import Image, ImageDraw\n",
    "from wand.image import Image as WImage\n",
    "\n",
    "from digi_leap.label import Label, BLACK, WHITE"
   ]
  },
  {
   "cell_type": "code",
   "execution_count": 3,
   "id": "4f04dd6d",
   "metadata": {},
   "outputs": [],
   "source": [
    "DATA_DIR = Path('..') / 'data'\n",
    "LABELS_DIR = DATA_DIR / 'labels' / 'typewritten'\n",
    "# LABELS_DIR = DATA_DIR / 'labels' / 'handwritten'"
   ]
  },
  {
   "cell_type": "code",
   "execution_count": 4,
   "id": "3c7c006d",
   "metadata": {},
   "outputs": [],
   "source": [
    "IMAGES = sorted(LABELS_DIR.glob('*.jpg'))\n",
    "\n",
    "IDX = 3240  # A target image with plenty of underlines"
   ]
  },
  {
   "cell_type": "code",
   "execution_count": 5,
   "id": "c527f9b3",
   "metadata": {},
   "outputs": [],
   "source": [
    "def raw_image(idx):\n",
    "    path = IMAGES[idx]\n",
    "    print(path)\n",
    "    image = Image.open(path)\n",
    "    display(image)\n",
    "\n",
    "\n",
    "# raw_image(IDX)\n",
    "# interact(raw_image, idx=(0, len(IMAGES) - 1))"
   ]
  },
  {
   "cell_type": "code",
   "execution_count": 6,
   "id": "116a6183",
   "metadata": {},
   "outputs": [],
   "source": [
    "def by_index(idx):\n",
    "    label = Label(IMAGES[idx])\n",
    "    label.deskew()\n",
    "    label.binarize()\n",
    "\n",
    "    h_lines = label.find_horizontal_lines(line_length=100, line_gap=5)\n",
    "    label.remove_horiz_lines(h_lines, line_width=6, window=20, threshold=2)\n",
    "\n",
    "    v_lines = label.find_vertical_lines(line_length=100, line_gap=5)\n",
    "    label.remove_vert_lines(v_lines, line_width=6, window=20, threshold=2)\n",
    "\n",
    "    text = label.ocr_text()\n",
    "\n",
    "    image = label.to_pil()\n",
    "    draw = ImageDraw.Draw(image)\n",
    "    print(text)\n",
    "    display(image)\n",
    "\n",
    "\n",
    "# by_index(IDX)\n",
    "# interact(by_index, idx=(0, len(IMAGES) - 1))"
   ]
  },
  {
   "cell_type": "code",
   "execution_count": 8,
   "id": "ee55c3ca",
   "metadata": {},
   "outputs": [
    {
     "data": {
      "application/vnd.jupyter.widget-view+json": {
       "model_id": "415e55f20dc74377b00d45d8a99a8d42",
       "version_major": 2,
       "version_minor": 0
      },
      "text/plain": [
       "interactive(children=(Text(value='', description='key'), Output()), _dom_classes=('widget-interact',))"
      ]
     },
     "metadata": {},
     "output_type": "display_data"
    },
    {
     "data": {
      "text/plain": [
       "<function __main__.search(key)>"
      ]
     },
     "execution_count": 8,
     "metadata": {},
     "output_type": "execute_result"
    }
   ],
   "source": [
    "def search(key):\n",
    "    paths = [i for i in IMAGES if str(i).find(key) > -1]\n",
    "    if not key or not paths:\n",
    "        return\n",
    "\n",
    "    label = Label(paths[0])\n",
    "    label.deskew()\n",
    "    label.binarize()\n",
    "\n",
    "    h_lines = label.find_horizontal_lines(line_length=100, line_gap=5)\n",
    "    label.remove_horiz_lines(h_lines, line_width=6, window=20, threshold=2)\n",
    "\n",
    "    v_lines = label.find_vertical_lines(line_length=100, line_gap=5)\n",
    "    label.remove_vert_lines(v_lines, line_width=6, window=20, threshold=2)\n",
    "\n",
    "    text = label.ocr_text()\n",
    "\n",
    "    image = label.to_pil()\n",
    "    draw = ImageDraw.Draw(image)\n",
    "    print(text)\n",
    "    display(image)\n",
    "\n",
    "\n",
    "# search(IDX)\n",
    "interact(search, key='')"
   ]
  },
  {
   "cell_type": "code",
   "execution_count": null,
   "id": "fed9fd7c",
   "metadata": {},
   "outputs": [],
   "source": []
  }
 ],
 "metadata": {
  "kernelspec": {
   "display_name": "Python 3",
   "language": "python",
   "name": "python3"
  },
  "language_info": {
   "codemirror_mode": {
    "name": "ipython",
    "version": 3
   },
   "file_extension": ".py",
   "mimetype": "text/x-python",
   "name": "python",
   "nbconvert_exporter": "python",
   "pygments_lexer": "ipython3",
   "version": "3.9.0+"
  },
  "varInspector": {
   "cols": {
    "lenName": 16,
    "lenType": 16,
    "lenVar": 40
   },
   "kernels_config": {
    "python": {
     "delete_cmd_postfix": "",
     "delete_cmd_prefix": "del ",
     "library": "var_list.py",
     "varRefreshCmd": "print(var_dic_list())"
    },
    "r": {
     "delete_cmd_postfix": ") ",
     "delete_cmd_prefix": "rm(",
     "library": "var_list.r",
     "varRefreshCmd": "cat(var_dic_list()) "
    }
   },
   "types_to_exclude": [
    "module",
    "function",
    "builtin_function_or_method",
    "instance",
    "_Feature"
   ],
   "window_display": false
  }
 },
 "nbformat": 4,
 "nbformat_minor": 5
}
