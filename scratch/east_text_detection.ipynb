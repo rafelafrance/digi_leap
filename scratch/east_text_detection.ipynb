{
 "cells": [
  {
   "cell_type": "code",
   "execution_count": null,
   "id": "1ef3fb4b",
   "metadata": {},
   "outputs": [],
   "source": [
    "import sys\n",
    "sys.path.append('..')"
   ]
  },
  {
   "cell_type": "code",
   "execution_count": null,
   "id": "17ba2e09",
   "metadata": {},
   "outputs": [],
   "source": [
    "import io\n",
    "import math\n",
    "from pathlib import Path\n",
    "\n",
    "import numpy as np\n",
    "import cv2 as cv\n",
    "import pytesseract\n",
    "from PIL import Image as PImage, ImageDraw, ImageOps"
   ]
  },
  {
   "cell_type": "code",
   "execution_count": null,
   "id": "7fd7c019",
   "metadata": {},
   "outputs": [],
   "source": [
    "DATA_DIR = Path('..') / 'data'\n",
    "MODEL_DIR = DATA_DIR / 'model'\n",
    "LABEL_DIR = DATA_DIR / 'labels' / 'typewritten'\n",
    "\n",
    "MODEL = MODEL_DIR / 'frozen_east_text_detection.pb'"
   ]
  },
  {
   "cell_type": "code",
   "execution_count": null,
   "id": "3c84f8aa",
   "metadata": {},
   "outputs": [],
   "source": [
    "def non_max_suppression(boxes, probs=None, overlapThresh=0.3):\n",
    "    if not boxes:\n",
    "        return []\n",
    "\n",
    "    # if the bounding boxes are integers, convert them to floats -- this\n",
    "    # is important since we'll be doing a bunch of divisions\n",
    "    if boxes.dtype.kind == \"i\":\n",
    "        boxes = boxes.astype(\"float\")\n",
    "\n",
    "    x1, y1, x2, y2 = boxes[:, 0], boxes[:, 1], boxes[:, 2], boxes[:, 3]\n",
    "\n",
    "    # compute the area of the bounding boxes and grab the indexes to sort\n",
    "    # (in the case that no probabilities are provided, simply sort on the\n",
    "    # bottom-left y-coordinate)\n",
    "    area = (x2 - x1 + 1) * (y2 - y1 + 1)\n",
    "    idxs = y2\n",
    "\n",
    "    # if probabilities are provided, sort on them instead\n",
    "    if probs is not None:\n",
    "        idxs = probs\n",
    "\n",
    "    idxs = np.argsort(idxs)\n",
    "\n",
    "    pick = []\n",
    "    \n",
    "    # keep looping while some indexes still remain in the indexes list\n",
    "    while len(idxs) > 0:\n",
    "        # grab the last index in the indexes list and add the index value\n",
    "        # to the list of picked indexes\n",
    "        last = len(idxs) - 1\n",
    "        i = idxs[last]\n",
    "        pick.append(i)\n",
    "\n",
    "        # find the largest (x, y) coordinates for the start of the bounding\n",
    "        # box and the smallest (x, y) coordinates for the end of the bounding\n",
    "        # box\n",
    "        xx1 = np.maximum(x1[i], x1[idxs[:last]])\n",
    "        yy1 = np.maximum(y1[i], y1[idxs[:last]])\n",
    "        xx2 = np.minimum(x2[i], x2[idxs[:last]])\n",
    "        yy2 = np.minimum(y2[i], y2[idxs[:last]])\n",
    "\n",
    "        # compute the width and height of the bounding box\n",
    "        w = np.maximum(0, xx2 - xx1 + 1)\n",
    "        h = np.maximum(0, yy2 - yy1 + 1)\n",
    "\n",
    "        # compute the ratio of overlap\n",
    "        overlap = (w * h) / area[idxs[:last]]\n",
    "\n",
    "        # delete all indexes from the index list that have overlap greater\n",
    "        # than the provided overlap threshold\n",
    "        idxs = np.delete(idxs, np.concatenate(([last],\n",
    "                                               np.where(overlap > overlapThresh)[0])))\n",
    "\n",
    "    # return only the bounding boxes that were picked\n",
    "    return boxes[pick].astype(\"int\")"
   ]
  },
  {
   "cell_type": "code",
   "execution_count": null,
   "id": "ceba1325",
   "metadata": {},
   "outputs": [],
   "source": [
    "IMAGES = sorted(LABEL_DIR.glob('*.jpg'))"
   ]
  },
  {
   "cell_type": "code",
   "execution_count": null,
   "id": "f33d8aa2",
   "metadata": {},
   "outputs": [],
   "source": [
    "IDX = 46\n",
    "print(IMAGES[IDX])"
   ]
  },
  {
   "cell_type": "code",
   "execution_count": null,
   "id": "0e873d2d",
   "metadata": {},
   "outputs": [],
   "source": [
    "MIN_CONF = 0.5"
   ]
  },
  {
   "cell_type": "code",
   "execution_count": null,
   "id": "dd8c88f4",
   "metadata": {},
   "outputs": [],
   "source": [
    "image = cv.imread(str(IMAGES[IDX]))\n",
    "orig = image.copy()\n",
    "\n",
    "temp = cv.cvtColor(image, cv.COLOR_BGR2RGB)\n",
    "# display(PImage.fromarray(temp))"
   ]
  },
  {
   "cell_type": "code",
   "execution_count": null,
   "id": "26a51abc",
   "metadata": {},
   "outputs": [],
   "source": [
    "H, W = image.shape[:2]\n",
    "print(H, W)"
   ]
  },
  {
   "cell_type": "code",
   "execution_count": null,
   "id": "415127d4",
   "metadata": {},
   "outputs": [],
   "source": [
    "new_W = math.ceil(W / 32) * 32\n",
    "new_H = math.ceil(H / 32) * 32\n",
    "print(new_H, new_W)"
   ]
  },
  {
   "cell_type": "code",
   "execution_count": null,
   "id": "a5e525fa",
   "metadata": {},
   "outputs": [],
   "source": [
    "pad_left = (new_W - W) // 2\n",
    "pad_right = new_W - W - pad_left\n",
    "\n",
    "pad_top = (new_H - H) // 2\n",
    "pad_bottom = new_H - H - pad_top\n",
    "\n",
    "print(pad_top, pad_bottom, pad_left, pad_right)"
   ]
  },
  {
   "cell_type": "code",
   "execution_count": null,
   "id": "cf390d68",
   "metadata": {},
   "outputs": [],
   "source": [
    "image = cv.copyMakeBorder(\n",
    "    image,\n",
    "    pad_top, pad_bottom, pad_left, pad_right,\n",
    "    cv.BORDER_CONSTANT,\n",
    "    value=(0, 0, 0))\n",
    "\n",
    "(H, W) = image.shape[:2]"
   ]
  },
  {
   "cell_type": "code",
   "execution_count": null,
   "id": "33bf419e",
   "metadata": {},
   "outputs": [],
   "source": [
    "# image = cv.cvtColor(image, cv.COLOR_BGR2GRAY)\n",
    "temp = cv.cvtColor(image, cv.COLOR_BGR2RGB)\n",
    "# display(PImage.fromarray(temp))"
   ]
  },
  {
   "cell_type": "code",
   "execution_count": null,
   "id": "bea0e360",
   "metadata": {},
   "outputs": [],
   "source": [
    "net = cv.dnn.readNet(str(MODEL))"
   ]
  },
  {
   "cell_type": "code",
   "execution_count": null,
   "id": "5677f1e6",
   "metadata": {},
   "outputs": [],
   "source": [
    "layerNames = [\n",
    "    \"feature_fusion/Conv_7/Sigmoid\",\n",
    "    \"feature_fusion/concat_3\"]"
   ]
  },
  {
   "cell_type": "code",
   "execution_count": null,
   "id": "74c0bfa3",
   "metadata": {},
   "outputs": [],
   "source": [
    "blob = cv.dnn.blobFromImage(\n",
    "    image, 1.0, (W, H),\n",
    "    (123.68, 116.78, 103.94),\n",
    "    swapRB=True, crop=False)"
   ]
  },
  {
   "cell_type": "code",
   "execution_count": null,
   "id": "acac885a",
   "metadata": {},
   "outputs": [],
   "source": [
    "net.setInput(blob)\n",
    "scores, geometry = net.forward(layerNames)"
   ]
  },
  {
   "cell_type": "code",
   "execution_count": null,
   "id": "ea8f1b66",
   "metadata": {},
   "outputs": [],
   "source": [
    "scores"
   ]
  },
  {
   "cell_type": "code",
   "execution_count": null,
   "id": "6772abb1",
   "metadata": {},
   "outputs": [],
   "source": [
    "rows, cols = scores.shape[2:4]\n",
    "\n",
    "rects = []\n",
    "confidences = []\n",
    "\n",
    "# rows, cols"
   ]
  },
  {
   "cell_type": "code",
   "execution_count": null,
   "id": "b866f112",
   "metadata": {},
   "outputs": [],
   "source": [
    "for y in range(rows):\n",
    "    scoresData = scores[0, 0, y]\n",
    "    xData0 = geometry[0, 0, y]\n",
    "    xData1 = geometry[0, 1, y]\n",
    "    xData2 = geometry[0, 2, y]\n",
    "    xData3 = geometry[0, 3, y]\n",
    "    anglesData = geometry[0, 4, y]\n",
    "\n",
    "    # loop over the number of columns\n",
    "    for x in range(cols):\n",
    "        # if our score does not have sufficient probability, ignore it\n",
    "        if scoresData[x] < MIN_CONF:\n",
    "            continue\n",
    "        # compute the offset factor as our resulting feature maps will\n",
    "        # be 4x smaller than the input image\n",
    "        (offsetX, offsetY) = (x * 4.0, y * 4.0)\n",
    "        # extract the rotation angle for the prediction and then\n",
    "        # compute the sin and cosine\n",
    "        angle = anglesData[x]\n",
    "        cos = np.cos(angle)\n",
    "        sin = np.sin(angle)\n",
    "        # use the geometry volume to derive the width and height of\n",
    "        # the bounding box\n",
    "        h = xData0[x] + xData2[x]\n",
    "        w = xData1[x] + xData3[x]\n",
    "        # compute both the starting and ending (x, y)-coordinates for\n",
    "        # the text prediction bounding box\n",
    "        endX = int(offsetX + (cos * xData1[x]) + (sin * xData2[x]))\n",
    "        endY = int(offsetY - (sin * xData1[x]) + (cos * xData2[x]))\n",
    "        startX = int(endX - w)\n",
    "        startY = int(endY - h)\n",
    "        # add the bounding box coordinates and probability score to\n",
    "        # our respective lists\n",
    "        rects.append((startX, startY, endX, endY))\n",
    "        confidences.append(scoresData[x])"
   ]
  },
  {
   "cell_type": "code",
   "execution_count": null,
   "id": "ec3713ae",
   "metadata": {},
   "outputs": [],
   "source": [
    "# apply non-maxima suppression to suppress weak, overlapping bounding\n",
    "# boxes\n",
    "boxes = non_max_suppression(np.array(rects), probs=confidences)\n",
    "\n",
    "# loop over the bounding boxes\n",
    "for (startX, startY, endX, endY) in boxes:\n",
    "    # scale the bounding box coordinates based on the respective\n",
    "    # ratios\n",
    "#     startX = int(startX * rW)\n",
    "#     startY = int(startY * rH)\n",
    "#     endX = int(endX * rW)\n",
    "#     endY = int(endY * rH)\n",
    "    \n",
    "    cv.rectangle(image, (startX, startY), (endX, endY), (0, 0, 255), 2)"
   ]
  },
  {
   "cell_type": "code",
   "execution_count": null,
   "id": "ad5db460",
   "metadata": {},
   "outputs": [],
   "source": [
    "temp = cv.cvtColor(image, cv.COLOR_BGR2RGB)\n",
    "display(PImage.fromarray(temp))"
   ]
  },
  {
   "cell_type": "code",
   "execution_count": null,
   "id": "f8084ff2",
   "metadata": {},
   "outputs": [],
   "source": []
  }
 ],
 "metadata": {
  "kernelspec": {
   "display_name": "Python 3",
   "language": "python",
   "name": "python3"
  },
  "language_info": {
   "codemirror_mode": {
    "name": "ipython",
    "version": 3
   },
   "file_extension": ".py",
   "mimetype": "text/x-python",
   "name": "python",
   "nbconvert_exporter": "python",
   "pygments_lexer": "ipython3",
   "version": "3.9.0+"
  },
  "varInspector": {
   "cols": {
    "lenName": 16,
    "lenType": 16,
    "lenVar": 40
   },
   "kernels_config": {
    "python": {
     "delete_cmd_postfix": "",
     "delete_cmd_prefix": "del ",
     "library": "var_list.py",
     "varRefreshCmd": "print(var_dic_list())"
    },
    "r": {
     "delete_cmd_postfix": ") ",
     "delete_cmd_prefix": "rm(",
     "library": "var_list.r",
     "varRefreshCmd": "cat(var_dic_list()) "
    }
   },
   "types_to_exclude": [
    "module",
    "function",
    "builtin_function_or_method",
    "instance",
    "_Feature"
   ],
   "window_display": false
  }
 },
 "nbformat": 4,
 "nbformat_minor": 5
}
