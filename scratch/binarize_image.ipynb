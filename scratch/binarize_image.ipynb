{
 "cells": [
  {
   "cell_type": "markdown",
   "id": "determined-danger",
   "metadata": {},
   "source": [
    "# Practice binarizing labels"
   ]
  },
  {
   "cell_type": "code",
   "execution_count": 1,
   "id": "tight-representation",
   "metadata": {},
   "outputs": [],
   "source": [
    "import sys\n",
    "\n",
    "sys.path.append('..')"
   ]
  },
  {
   "cell_type": "code",
   "execution_count": 2,
   "id": "efficient-discovery",
   "metadata": {},
   "outputs": [],
   "source": [
    "import io\n",
    "from functools import partial\n",
    "from pathlib import Path\n",
    "from tempfile import NamedTemporaryFile\n",
    "\n",
    "import cv2 as cv\n",
    "import pytesseract\n",
    "from ipywidgets import interact\n",
    "import numpy as np\n",
    "from skimage import filters, morphology, restoration, util\n",
    "from PIL import Image as PImage, ImageDraw, ImageOps\n",
    "from wand.image import Image\n",
    "from wand.drawing import Drawing"
   ]
  },
  {
   "cell_type": "code",
   "execution_count": 3,
   "id": "rotary-contest",
   "metadata": {},
   "outputs": [],
   "source": [
    "DATA_DIR = Path('..') / 'data'\n",
    "LABELS_DIR = DATA_DIR / 'labels' / 'typewritten'\n",
    "LABELS_DIR = DATA_DIR / 'labels' / 'handwritten'"
   ]
  },
  {
   "cell_type": "markdown",
   "id": "3b315098",
   "metadata": {},
   "source": [
    "### Raw image"
   ]
  },
  {
   "cell_type": "code",
   "execution_count": 4,
   "id": "efficient-mention",
   "metadata": {},
   "outputs": [
    {
     "name": "stdout",
     "output_type": "stream",
     "text": [
      "../data/labels/handwritten/10667627.jpg\n"
     ]
    }
   ],
   "source": [
    "IMAGES = sorted(LABELS_DIR.glob('*.jpg'))\n",
    "print(IMAGES[46])"
   ]
  },
  {
   "cell_type": "code",
   "execution_count": 5,
   "id": "18b8091c",
   "metadata": {},
   "outputs": [
    {
     "data": {
      "application/vnd.jupyter.widget-view+json": {
       "model_id": "558387bac22147ba921eb6d065ea2312",
       "version_major": 2,
       "version_minor": 0
      },
      "text/plain": [
       "interactive(children=(IntSlider(value=543, description='idx', max=1087), Output()), _dom_classes=('widget-inte…"
      ]
     },
     "metadata": {},
     "output_type": "display_data"
    },
    {
     "data": {
      "text/plain": [
       "<function __main__.raw_image(idx)>"
      ]
     },
     "execution_count": 5,
     "metadata": {},
     "output_type": "execute_result"
    }
   ],
   "source": [
    "def raw_image(idx):\n",
    "    image = PImage.open(IMAGES[idx])\n",
    "    display(image)\n",
    "\n",
    "\n",
    "# raw_image(46)\n",
    "interact(raw_image, idx=(0, len(IMAGES) - 1))"
   ]
  },
  {
   "cell_type": "markdown",
   "id": "17a73b54",
   "metadata": {},
   "source": [
    "### Try scikit-image"
   ]
  },
  {
   "cell_type": "code",
   "execution_count": 6,
   "id": "e37aa6c8",
   "metadata": {},
   "outputs": [
    {
     "data": {
      "application/vnd.jupyter.widget-view+json": {
       "model_id": "d07c03682c034d4287c8740387b614d0",
       "version_major": 2,
       "version_minor": 0
      },
      "text/plain": [
       "interactive(children=(IntSlider(value=543, description='idx', max=1087), Output()), _dom_classes=('widget-inte…"
      ]
     },
     "metadata": {},
     "output_type": "display_data"
    },
    {
     "data": {
      "text/plain": [
       "<function __main__.scikit_image(idx)>"
      ]
     },
     "execution_count": 6,
     "metadata": {},
     "output_type": "execute_result"
    }
   ],
   "source": [
    "BLOCK_SIZE = 11\n",
    "OFFSET = 11\n",
    "\n",
    "\n",
    "def scikit_image(idx):\n",
    "    path = IMAGES[idx]\n",
    "\n",
    "    image = PImage.open(path).convert('L')\n",
    "    data = np.array(image)\n",
    "\n",
    "    # threshold = filters.threshold_local(data, block_size=BLOCK_SIZE, offset=OFFSET)\n",
    "    threshold = filters.threshold_sauvola(data, window_size=OFFSET, k=0.032)\n",
    "    binary = data > threshold\n",
    "\n",
    "    text = pytesseract.image_to_string(binary)\n",
    "\n",
    "    print(path, '\\n')\n",
    "    print(text)\n",
    "\n",
    "    display(PImage.fromarray(binary))\n",
    "\n",
    "\n",
    "# scikit_image(46)\n",
    "interact(scikit_image, idx=(0, len(IMAGES) - 1))"
   ]
  },
  {
   "cell_type": "markdown",
   "id": "crazy-experiment",
   "metadata": {},
   "source": [
    "### Try opencv"
   ]
  },
  {
   "cell_type": "code",
   "execution_count": 7,
   "id": "parliamentary-hampton",
   "metadata": {},
   "outputs": [
    {
     "data": {
      "application/vnd.jupyter.widget-view+json": {
       "model_id": "c418a2d6028343e9b3e47f0e23a8f066",
       "version_major": 2,
       "version_minor": 0
      },
      "text/plain": [
       "interactive(children=(IntSlider(value=543, description='idx', max=1087), Output()), _dom_classes=('widget-inte…"
      ]
     },
     "metadata": {},
     "output_type": "display_data"
    },
    {
     "data": {
      "text/plain": [
       "<function __main__.opencv_image(idx)>"
      ]
     },
     "execution_count": 7,
     "metadata": {},
     "output_type": "execute_result"
    }
   ],
   "source": [
    "def opencv_image(idx):\n",
    "    image = cv.imread(str(IMAGES[idx]))\n",
    "    image = cv.cvtColor(image, cv.COLOR_BGR2GRAY)\n",
    "    # thresh = cv.adaptiveThreshold(\n",
    "    #     image, 255, cv.ADAPTIVE_THRESH_MEAN_C, cv.THRESH_BINARY, 15, 16)\n",
    "    thresh = cv.adaptiveThreshold(\n",
    "        image, 255, cv.ADAPTIVE_THRESH_GAUSSIAN_C, cv.THRESH_BINARY, 15, 12)\n",
    "    text = pytesseract.image_to_string(thresh)\n",
    "    print(text)\n",
    "    display(PImage.fromarray(thresh))\n",
    "\n",
    "\n",
    "# opencv_image(46)\n",
    "interact(opencv_image, idx=(0, len(IMAGES) - 1))"
   ]
  },
  {
   "cell_type": "markdown",
   "id": "afraid-ferry",
   "metadata": {},
   "source": [
    "### Try wand"
   ]
  },
  {
   "cell_type": "code",
   "execution_count": 8,
   "id": "funny-hebrew",
   "metadata": {},
   "outputs": [
    {
     "data": {
      "application/vnd.jupyter.widget-view+json": {
       "model_id": "0fa3f77f667d4d90bce0b827a6e6be91",
       "version_major": 2,
       "version_minor": 0
      },
      "text/plain": [
       "interactive(children=(IntSlider(value=543, description='idx', max=1087), Output()), _dom_classes=('widget-inte…"
      ]
     },
     "metadata": {},
     "output_type": "display_data"
    },
    {
     "data": {
      "text/plain": [
       "<function __main__.wand_image(idx)>"
      ]
     },
     "execution_count": 8,
     "metadata": {},
     "output_type": "execute_result"
    }
   ],
   "source": [
    "radius = 11\n",
    "\n",
    "\n",
    "def wand_image(idx):\n",
    "    path = IMAGES[idx]\n",
    "    with Image(filename=path) as image:\n",
    "        image.transform_colorspace('gray')\n",
    "        image.deskew(0.4)\n",
    "        image.adaptive_threshold(\n",
    "            width=radius, height=radius, offset=-0.04 * image.quantum_range)\n",
    "        image.despeckle()\n",
    "        image.sharpen()\n",
    "        blob = image.make_blob('jpeg')\n",
    "        blob = PImage.open(io.BytesIO(blob))\n",
    "        text = pytesseract.image_to_string(blob)\n",
    "        print(text)\n",
    "        display(image)\n",
    "\n",
    "\n",
    "# wand_image(46)\n",
    "interact(wand_image, idx=(0, len(IMAGES) - 1))"
   ]
  },
  {
   "cell_type": "code",
   "execution_count": 9,
   "id": "adopted-brave",
   "metadata": {},
   "outputs": [
    {
     "data": {
      "application/javascript": [
       "$('.output_text').css('font-size', '16pt')\n"
      ],
      "text/plain": [
       "<IPython.core.display.Javascript object>"
      ]
     },
     "metadata": {},
     "output_type": "display_data"
    }
   ],
   "source": [
    "%%javascript\n",
    "$('.output_text').css('font-size', '16pt')"
   ]
  },
  {
   "cell_type": "code",
   "execution_count": null,
   "id": "0ea65469",
   "metadata": {},
   "outputs": [],
   "source": []
  }
 ],
 "metadata": {
  "kernelspec": {
   "display_name": "Python 3",
   "language": "python",
   "name": "python3"
  },
  "language_info": {
   "codemirror_mode": {
    "name": "ipython",
    "version": 3
   },
   "file_extension": ".py",
   "mimetype": "text/x-python",
   "name": "python",
   "nbconvert_exporter": "python",
   "pygments_lexer": "ipython3",
   "version": "3.9.0+"
  },
  "varInspector": {
   "cols": {
    "lenName": 16,
    "lenType": 16,
    "lenVar": 40
   },
   "kernels_config": {
    "python": {
     "delete_cmd_postfix": "",
     "delete_cmd_prefix": "del ",
     "library": "var_list.py",
     "varRefreshCmd": "print(var_dic_list())"
    },
    "r": {
     "delete_cmd_postfix": ") ",
     "delete_cmd_prefix": "rm(",
     "library": "var_list.r",
     "varRefreshCmd": "cat(var_dic_list()) "
    }
   },
   "types_to_exclude": [
    "module",
    "function",
    "builtin_function_or_method",
    "instance",
    "_Feature"
   ],
   "window_display": false
  }
 },
 "nbformat": 4,
 "nbformat_minor": 5
}
