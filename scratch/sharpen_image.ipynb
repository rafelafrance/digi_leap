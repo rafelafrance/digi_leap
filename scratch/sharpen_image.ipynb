{
 "cells": [
  {
   "cell_type": "code",
   "execution_count": 1,
   "id": "2b8c728c-ebe9-42ad-a849-e069af5a18ea",
   "metadata": {},
   "outputs": [],
   "source": [
    "import sys\n",
    "\n",
    "sys.path.append('..')"
   ]
  },
  {
   "cell_type": "code",
   "execution_count": 2,
   "id": "3981e068",
   "metadata": {},
   "outputs": [],
   "source": [
    "from pathlib import Path\n",
    "from random import sample\n",
    "\n",
    "import matplotlib.pyplot as plt\n",
    "import pandas as pd\n",
    "import numpy as np\n",
    "from ipywidgets import interact\n",
    "from PIL import Image, ImageEnhance, ImageFilter\n",
    "from skimage import filters, morphology as morph, util\n",
    "from tqdm import tqdm\n",
    "\n",
    "import digi_leap.util as util\n",
    "from digi_leap.ocr_score import score_tesseract\n",
    "from digi_leap.ocr import ocr_label"
   ]
  },
  {
   "cell_type": "code",
   "execution_count": 3,
   "id": "5c2e2274",
   "metadata": {},
   "outputs": [],
   "source": [
    "DATA_DIR = Path('..') / 'data'\n",
    "LABELS_DIR = DATA_DIR / 'labels' / 'typewritten'\n",
    "# LABELS_DIR = DATA_DIR / 'labels' / 'handwritten'\n",
    "TARGET = LABELS_DIR / '11780338.jpg'"
   ]
  },
  {
   "cell_type": "code",
   "execution_count": 4,
   "id": "0aafc615",
   "metadata": {},
   "outputs": [],
   "source": [
    "image = Image.open(TARGET).convert('L')\n",
    "# display(image)"
   ]
  },
  {
   "cell_type": "code",
   "execution_count": 5,
   "id": "6e017521",
   "metadata": {},
   "outputs": [],
   "source": [
    "sharper = image.filter(ImageFilter.SHARPEN)\n",
    "# display(sharper)"
   ]
  },
  {
   "cell_type": "code",
   "execution_count": 6,
   "id": "6ec7e286",
   "metadata": {},
   "outputs": [],
   "source": [
    "sharpener = ImageEnhance.Sharpness(image)"
   ]
  },
  {
   "cell_type": "code",
   "execution_count": 7,
   "id": "5fdf831b",
   "metadata": {},
   "outputs": [],
   "source": [
    "# image_5 = sharpener.enhance(5.0)\n",
    "# display(image_5)\n",
    "\n",
    "# score_5 = ocr_score(image_5)\n",
    "# print(score_5)\n",
    "\n",
    "# print(score_5.text)"
   ]
  },
  {
   "cell_type": "code",
   "execution_count": 8,
   "id": "2cdc134c",
   "metadata": {},
   "outputs": [
    {
     "ename": "NameError",
     "evalue": "name 'ocr_score' is not defined",
     "output_type": "error",
     "traceback": [
      "\u001b[0;31m---------------------------------------------------------------------------\u001b[0m",
      "\u001b[0;31mNameError\u001b[0m                                 Traceback (most recent call last)",
      "\u001b[0;32m<ipython-input-8-641ead713903>\u001b[0m in \u001b[0;36m<module>\u001b[0;34m\u001b[0m\n\u001b[1;32m      2\u001b[0m \u001b[0;31m# display(image_10)\u001b[0m\u001b[0;34m\u001b[0m\u001b[0;34m\u001b[0m\u001b[0;34m\u001b[0m\u001b[0m\n\u001b[1;32m      3\u001b[0m \u001b[0;34m\u001b[0m\u001b[0m\n\u001b[0;32m----> 4\u001b[0;31m \u001b[0mscore_10\u001b[0m \u001b[0;34m=\u001b[0m \u001b[0mocr_score\u001b[0m\u001b[0;34m(\u001b[0m\u001b[0mimage_10\u001b[0m\u001b[0;34m)\u001b[0m\u001b[0;34m\u001b[0m\u001b[0;34m\u001b[0m\u001b[0m\n\u001b[0m\u001b[1;32m      5\u001b[0m \u001b[0mprint\u001b[0m\u001b[0;34m(\u001b[0m\u001b[0mscore_10\u001b[0m\u001b[0;34m)\u001b[0m\u001b[0;34m\u001b[0m\u001b[0;34m\u001b[0m\u001b[0m\n\u001b[1;32m      6\u001b[0m \u001b[0;34m\u001b[0m\u001b[0m\n",
      "\u001b[0;31mNameError\u001b[0m: name 'ocr_score' is not defined"
     ]
    }
   ],
   "source": [
    "image_10 = sharpener.enhance(10.0)\n",
    "# display(image_10)\n",
    "\n",
    "score_10 = ocr_score(image_10)\n",
    "print(score_10)\n",
    "\n",
    "print(score_10.text)"
   ]
  },
  {
   "cell_type": "code",
   "execution_count": null,
   "id": "ea07e62d",
   "metadata": {},
   "outputs": [],
   "source": [
    "image_x = sharpener.enhance(3.0)\n",
    "binary = np.asarray(image_x).copy()\n",
    "threshold = filters.threshold_sauvola(binary, window_size=WINDOW_SIZE, k=K)\n",
    "binary = binary < threshold\n",
    "binary = util.invert(binary)\n",
    "# display(li.to_pil(binary))\n",
    "\n",
    "score_bin = ocr_score(binary)\n",
    "print(score_bin)\n",
    "print(score_bin.text)"
   ]
  },
  {
   "cell_type": "code",
   "execution_count": null,
   "id": "907cc19b",
   "metadata": {},
   "outputs": [],
   "source": [
    "# image_15 = sharpener.enhance(15.0)\n",
    "# display(image_15)\n",
    "\n",
    "# score_15 = ocr_score(image_15)\n",
    "# print(score_15)\n",
    "\n",
    "# print(score_15.text)"
   ]
  },
  {
   "cell_type": "code",
   "execution_count": null,
   "id": "98a8380a",
   "metadata": {},
   "outputs": [],
   "source": []
  }
 ],
 "metadata": {
  "kernelspec": {
   "display_name": "Python 3",
   "language": "python",
   "name": "python3"
  },
  "language_info": {
   "codemirror_mode": {
    "name": "ipython",
    "version": 3
   },
   "file_extension": ".py",
   "mimetype": "text/x-python",
   "name": "python",
   "nbconvert_exporter": "python",
   "pygments_lexer": "ipython3",
   "version": "3.9.0+"
  },
  "varInspector": {
   "cols": {
    "lenName": 16,
    "lenType": 16,
    "lenVar": 40
   },
   "kernels_config": {
    "python": {
     "delete_cmd_postfix": "",
     "delete_cmd_prefix": "del ",
     "library": "var_list.py",
     "varRefreshCmd": "print(var_dic_list())"
    },
    "r": {
     "delete_cmd_postfix": ") ",
     "delete_cmd_prefix": "rm(",
     "library": "var_list.r",
     "varRefreshCmd": "cat(var_dic_list()) "
    }
   },
   "types_to_exclude": [
    "module",
    "function",
    "builtin_function_or_method",
    "instance",
    "_Feature"
   ],
   "window_display": false
  }
 },
 "nbformat": 4,
 "nbformat_minor": 5
}
