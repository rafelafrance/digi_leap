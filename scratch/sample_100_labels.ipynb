{
 "cells": [
  {
   "cell_type": "markdown",
   "id": "550910cd",
   "metadata": {},
   "source": [
    "# Output 100 Labels Side-by-Side with Their Text"
   ]
  },
  {
   "cell_type": "markdown",
   "id": "36eb614a",
   "metadata": {},
   "source": [
    "## Setup"
   ]
  },
  {
   "cell_type": "markdown",
   "id": "114e3887",
   "metadata": {},
   "source": [
    "### Imports"
   ]
  },
  {
   "cell_type": "code",
   "execution_count": null,
   "id": "57975754",
   "metadata": {},
   "outputs": [],
   "source": [
    "import sys\n",
    "\n",
    "sys.path.append('..')"
   ]
  },
  {
   "cell_type": "code",
   "execution_count": null,
   "id": "53feb9dc",
   "metadata": {},
   "outputs": [],
   "source": [
    "from pathlib import Path\n",
    "from random import sample\n",
    "\n",
    "import matplotlib.pyplot as plt\n",
    "from ipywidgets import interact\n",
    "from PIL import Image\n",
    "\n",
    "from digi_leap.ocr import ocr_label"
   ]
  },
  {
   "cell_type": "markdown",
   "id": "b2de3835",
   "metadata": {},
   "source": [
    "### Constants"
   ]
  },
  {
   "cell_type": "code",
   "execution_count": null,
   "id": "1f282956",
   "metadata": {},
   "outputs": [],
   "source": [
    "DATA_DIR = Path('..') / 'data'\n",
    "LABELS_DIR = DATA_DIR / 'labels' / 'typewritten'\n",
    "# LABELS_DIR = DATA_DIR / 'labels' / 'handwritten'\n",
    "\n",
    "OUTPUT = Path('..') / 'output' / 'ocr_sample_2021-05-10a'"
   ]
  },
  {
   "cell_type": "code",
   "execution_count": null,
   "id": "534ffe8f",
   "metadata": {},
   "outputs": [],
   "source": [
    "IMAGES = sorted(LABELS_DIR.glob('*.jpg'))\n",
    "SAMPLE = sample(IMAGES, 100)"
   ]
  },
  {
   "cell_type": "code",
   "execution_count": null,
   "id": "26d674bb",
   "metadata": {},
   "outputs": [],
   "source": [
    "def show_ocr(path):\n",
    "    image = Image.open(path)\n",
    "    score = ocr_label(path)\n",
    "\n",
    "    fig, (ax1, ax2) = plt.subplots(1, 2, figsize=(24, 10))\n",
    "    fig.set_facecolor('white')\n",
    "\n",
    "    ax1.axis('off')\n",
    "    ax1.set_anchor('NE')\n",
    "    ax1.imshow(image)\n",
    "\n",
    "    ax2.axis('off')\n",
    "    ax1.set_anchor('NW')\n",
    "    ax2.text(\n",
    "        0.0, 1.0,\n",
    "        score.text,\n",
    "        verticalalignment='top',\n",
    "        color='black',\n",
    "        fontsize=16,\n",
    "    )\n",
    "    out_path = OUTPUT / path.name\n",
    "    plt.savefig(out_path)"
   ]
  },
  {
   "cell_type": "code",
   "execution_count": null,
   "id": "44e2c360",
   "metadata": {},
   "outputs": [],
   "source": [
    "for path in SAMPLE:\n",
    "    show_ocr(path)"
   ]
  },
  {
   "cell_type": "code",
   "execution_count": null,
   "id": "95b64105",
   "metadata": {},
   "outputs": [],
   "source": []
  },
  {
   "cell_type": "code",
   "execution_count": null,
   "id": "2f01f03a",
   "metadata": {},
   "outputs": [],
   "source": []
  },
  {
   "cell_type": "code",
   "execution_count": null,
   "id": "57c100f8",
   "metadata": {},
   "outputs": [],
   "source": []
  },
  {
   "cell_type": "code",
   "execution_count": null,
   "id": "239cf3d3",
   "metadata": {},
   "outputs": [],
   "source": []
  },
  {
   "cell_type": "code",
   "execution_count": null,
   "id": "269462ec",
   "metadata": {},
   "outputs": [],
   "source": []
  },
  {
   "cell_type": "code",
   "execution_count": null,
   "id": "10b9d377",
   "metadata": {},
   "outputs": [],
   "source": []
  }
 ],
 "metadata": {
  "kernelspec": {
   "display_name": "Python 3",
   "language": "python",
   "name": "python3"
  },
  "language_info": {
   "codemirror_mode": {
    "name": "ipython",
    "version": 3
   },
   "file_extension": ".py",
   "mimetype": "text/x-python",
   "name": "python",
   "nbconvert_exporter": "python",
   "pygments_lexer": "ipython3",
   "version": "3.9.0+"
  },
  "varInspector": {
   "cols": {
    "lenName": 16,
    "lenType": 16,
    "lenVar": 40
   },
   "kernels_config": {
    "python": {
     "delete_cmd_postfix": "",
     "delete_cmd_prefix": "del ",
     "library": "var_list.py",
     "varRefreshCmd": "print(var_dic_list())"
    },
    "r": {
     "delete_cmd_postfix": ") ",
     "delete_cmd_prefix": "rm(",
     "library": "var_list.r",
     "varRefreshCmd": "cat(var_dic_list()) "
    }
   },
   "types_to_exclude": [
    "module",
    "function",
    "builtin_function_or_method",
    "instance",
    "_Feature"
   ],
   "window_display": false
  }
 },
 "nbformat": 4,
 "nbformat_minor": 5
}
