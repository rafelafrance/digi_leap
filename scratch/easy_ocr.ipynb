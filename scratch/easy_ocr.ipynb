{
 "cells": [
  {
   "cell_type": "code",
   "execution_count": 1,
   "id": "361f2e4e-34b0-43b8-b50e-a780a50ca962",
   "metadata": {},
   "outputs": [],
   "source": [
    "import sys\n",
    "\n",
    "sys.path.append('..')"
   ]
  },
  {
   "cell_type": "code",
   "execution_count": 2,
   "id": "1c0c0c8e",
   "metadata": {},
   "outputs": [],
   "source": [
    "from pathlib import Path\n",
    "\n",
    "import easyocr\n",
    "from PIL import Image, ImageDraw, ImageEnhance, ImageOps"
   ]
  },
  {
   "cell_type": "code",
   "execution_count": 3,
   "id": "8657a121-91b0-4fe4-856a-9eb506517d5a",
   "metadata": {},
   "outputs": [],
   "source": [
    "DATA_DIR = Path('..') / 'data'\n",
    "LABELS_DIR = DATA_DIR / 'labels' / 'typewritten'\n",
    "# LABELS_DIR = DATA_DIR / 'labels' / 'handwritten'"
   ]
  },
  {
   "cell_type": "code",
   "execution_count": 4,
   "id": "c73f93ad-2f5e-4dd4-a418-de23a0ba87e0",
   "metadata": {},
   "outputs": [],
   "source": [
    "IMAGES = sorted(LABELS_DIR.glob('*.jpg'))\n",
    "\n",
    "IDX = 3240   # A target image with plenty of underlines\n",
    "# IDX = 46    # Lots of odd colors\n",
    "# IDX = 2880  # Underlines\n",
    "# IDX = 2939  # Rotated\n",
    "# IDX = 28970  # Border\n",
    "IDX = 0"
   ]
  },
  {
   "cell_type": "code",
   "execution_count": 5,
   "id": "c7d57193",
   "metadata": {},
   "outputs": [],
   "source": [
    "image = Image.open(IMAGES[IDX])\n",
    "# image"
   ]
  },
  {
   "cell_type": "code",
   "execution_count": 6,
   "id": "e7c775c2-30d1-4142-937a-63e79b71c3c7",
   "metadata": {},
   "outputs": [],
   "source": [
    "reader = easyocr.Reader(['en'])"
   ]
  },
  {
   "cell_type": "code",
   "execution_count": 7,
   "id": "9e03d57d-a88c-420d-81df-359364527a00",
   "metadata": {},
   "outputs": [
    {
     "name": "stdout",
     "output_type": "stream",
     "text": [
      "Herbarium of Memphis State University\n",
      "FLORA\n",
      "McNairy\n",
      "OF\n",
      "TENRESSEE\n",
      "The lypteris\n",
      "noveboracensis\n",
      "(L.)\n",
      "Nieuu ]\n",
      "Rich\n",
      "low\n",
      "woods\n",
      "and\n",
      "roadside\n",
      "near\n",
      "wooden\n",
      "S\n",
      "of Kirk\"8 Grocery.\n",
      "Road\n",
      "runs\n",
      "of f\n",
      "TN\n",
      "57\n",
      "E\n",
      "0f\n",
      "Hill\n",
      "Pond\n",
      "Scate\n",
      "Park .\n",
      "COASTAL\n",
      "PLAIN\n",
      "PROVINCE :\n",
      "UPPER\n",
      "Dr .\n",
      "Edward\n",
      "T.\n",
      "Browne\n",
      "83C1 .1\n",
      "1983\n",
      "Wich\n",
      "Vernon\n",
      "Bates\n",
      "and\n",
      "Paul\n",
      "Lewis\n",
      "bridge\n",
      "Big\n",
      "May\n"
     ]
    }
   ],
   "source": [
    "words = reader.readtext(str(IMAGES[IDX]), blocklist='€«¢»£®§{}©|')\n",
    "for word in words:\n",
    "    print(word[1])"
   ]
  },
  {
   "cell_type": "code",
   "execution_count": null,
   "id": "90936f99-d22f-4498-ae2e-1d7968690e8b",
   "metadata": {},
   "outputs": [],
   "source": []
  }
 ],
 "metadata": {
  "kernelspec": {
   "display_name": "Python 3",
   "language": "python",
   "name": "python3"
  },
  "language_info": {
   "codemirror_mode": {
    "name": "ipython",
    "version": 3
   },
   "file_extension": ".py",
   "mimetype": "text/x-python",
   "name": "python",
   "nbconvert_exporter": "python",
   "pygments_lexer": "ipython3",
   "version": "3.9.0+"
  },
  "varInspector": {
   "cols": {
    "lenName": 16,
    "lenType": 16,
    "lenVar": 40
   },
   "kernels_config": {
    "python": {
     "delete_cmd_postfix": "",
     "delete_cmd_prefix": "del ",
     "library": "var_list.py",
     "varRefreshCmd": "print(var_dic_list())"
    },
    "r": {
     "delete_cmd_postfix": ") ",
     "delete_cmd_prefix": "rm(",
     "library": "var_list.r",
     "varRefreshCmd": "cat(var_dic_list()) "
    }
   },
   "types_to_exclude": [
    "module",
    "function",
    "builtin_function_or_method",
    "instance",
    "_Feature"
   ],
   "window_display": false
  }
 },
 "nbformat": 4,
 "nbformat_minor": 5
}
