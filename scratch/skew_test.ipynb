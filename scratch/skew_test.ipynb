{
 "cells": [
  {
   "cell_type": "code",
   "execution_count": 1,
   "id": "859a8b16",
   "metadata": {},
   "outputs": [],
   "source": [
    "import sys\n",
    "sys.path.append('..')"
   ]
  },
  {
   "cell_type": "code",
   "execution_count": 2,
   "id": "3cf664f1",
   "metadata": {},
   "outputs": [],
   "source": [
    "import io\n",
    "import re\n",
    "from functools import partial\n",
    "from pathlib import Path\n",
    "from tempfile import NamedTemporaryFile\n",
    "\n",
    "import cv2 as cv\n",
    "import pytesseract\n",
    "from ipywidgets import interact\n",
    "from IPython.display import HTML\n",
    "import numpy as np\n",
    "from skimage import filters, morphology, restoration, util\n",
    "import matplotlib.pyplot as plt\n",
    "from PIL import Image as PImage, ImageDraw, ImageOps\n",
    "from wand.image import Image\n",
    "from wand.drawing import Drawing"
   ]
  },
  {
   "cell_type": "code",
   "execution_count": 3,
   "id": "4b0847d4",
   "metadata": {},
   "outputs": [],
   "source": [
    "DATA_DIR = Path('..') / 'data'\n",
    "LABELS_DIR = DATA_DIR / 'labels' / 'typewritten'\n",
    "# LABELS_DIR = DATA_DIR / 'labels' / 'handwritten'"
   ]
  },
  {
   "cell_type": "code",
   "execution_count": 4,
   "id": "8a2d3fa2",
   "metadata": {},
   "outputs": [],
   "source": [
    "CONFIG = ' '.join([\n",
    "    '-l eng',\n",
    "    \"-c tessedit_char_blacklist='€«¢»£®'\",\n",
    "])"
   ]
  },
  {
   "cell_type": "code",
   "execution_count": 5,
   "id": "60ee9e1b",
   "metadata": {},
   "outputs": [],
   "source": [
    "IMAGES = sorted(LABELS_DIR.glob('*.jpg'))"
   ]
  },
  {
   "cell_type": "code",
   "execution_count": 6,
   "id": "cb6586f8",
   "metadata": {},
   "outputs": [],
   "source": [
    "def raw_image(idx):\n",
    "    image = PImage.open(IMAGES[idx])\n",
    "    print(IMAGES[idx])\n",
    "    print(idx)\n",
    "    display(image.getexif())\n",
    "    display(image)\n",
    "\n",
    "\n",
    "# raw_image(46)\n",
    "# raw_image(46, 0)  # Lots of odd colors\n",
    "# raw_image(288, 0)  # Underlines\n",
    "# raw_image(293, 9)  # Rotated\n",
    "# raw_image(2897, 0)  # Border\n",
    "# interact(raw_image, idx=(0, len(IMAGES) - 1))"
   ]
  },
  {
   "cell_type": "code",
   "execution_count": 7,
   "id": "08e18d33",
   "metadata": {
    "scrolled": false
   },
   "outputs": [],
   "source": [
    "BLOCK_SIZE = 11\n",
    "OFFSET = 11\n",
    "\n",
    "\n",
    "def scikit_image(idx, angle):\n",
    "    path = IMAGES[idx]\n",
    "\n",
    "    with PImage.open(path) as orig:\n",
    "        image = orig.convert('L')\n",
    "        image = image.rotate(angle, fillcolor='white', expand=True)\n",
    "        data = np.array(image)\n",
    "\n",
    "    # threshold = filters.threshold_local(data, block_size=BLOCK_SIZE, offset=OFFSET)\n",
    "    threshold = filters.threshold_sauvola(data, window_size=OFFSET, k=0.032)\n",
    "    binary = data > threshold\n",
    "\n",
    "    text = pytesseract.image_to_string(binary, config=CONFIG)\n",
    "    text = re.sub(r'\\n\\s*\\n(\\s*\\n)+', '\\n\\n', text)\n",
    "\n",
    "    print(text)\n",
    "    display(PImage.fromarray(binary))\n",
    "\n",
    "\n",
    "# scikit_image(46, 0)  # Lots of odd colors\n",
    "# scikit_image(288, 0)  # Underlines\n",
    "# scikit_image(293, 9)  # Rotated\n",
    "# scikit_image(2897, 0)  # Border\n",
    "# interact(scikit_image, idx=(0, len(IMAGES) - 1), angle=(-180, 180))"
   ]
  },
  {
   "cell_type": "code",
   "execution_count": 8,
   "id": "dc6a5157",
   "metadata": {
    "scrolled": false
   },
   "outputs": [],
   "source": [
    "radius = 11\n",
    "\n",
    "\n",
    "def wand_image(idx, angle):\n",
    "    path = IMAGES[idx]\n",
    "    with Image(filename=path) as image:\n",
    "        image.transform_colorspace('gray')\n",
    "        image.rotate(angle, background='white')\n",
    "\n",
    "        image.deskew(0.4)\n",
    "        image.adaptive_threshold(\n",
    "            width=radius, height=radius, offset=-0.04 * image.quantum_range)\n",
    "        image.despeckle()\n",
    "        image.sharpen()\n",
    "\n",
    "        # image.evaluate(operator='thresholdblack', value=1, channel='gray')\n",
    "\n",
    "        blob = image.make_blob('jpeg')\n",
    "        blob = PImage.open(io.BytesIO(blob))\n",
    "\n",
    "        text = pytesseract.image_to_string(blob)\n",
    "        text = re.sub(r'\\n\\s*\\n(\\s*\\n)+', '\\n\\n', text)\n",
    "\n",
    "        print(text)\n",
    "        display(image)\n",
    "\n",
    "\n",
    "# wand_image(46, 0)  # Lots of odd colors\n",
    "# wand_image(288, 0)  # Underlines\n",
    "# wand_image(293, 90)  # Rotated\n",
    "# wand_image(2897, 0)  # Border\n",
    "# interact(wand_image, idx=(0, len(IMAGES) - 1), angle=(-180, 180))"
   ]
  },
  {
   "cell_type": "markdown",
   "id": "f35c5e86",
   "metadata": {},
   "source": [
    "### Adjust output font"
   ]
  },
  {
   "cell_type": "code",
   "execution_count": 9,
   "id": "9ea9fc19",
   "metadata": {},
   "outputs": [
    {
     "data": {
      "application/javascript": [
       "$('.output_label').css('font-size', '16pt')\n"
      ],
      "text/plain": [
       "<IPython.core.display.Javascript object>"
      ]
     },
     "metadata": {},
     "output_type": "display_data"
    }
   ],
   "source": [
    "%%javascript\n",
    "$('.output_label').css('font-size', '16pt')"
   ]
  },
  {
   "cell_type": "code",
   "execution_count": null,
   "id": "99a6cd64",
   "metadata": {},
   "outputs": [],
   "source": []
  }
 ],
 "metadata": {
  "kernelspec": {
   "display_name": "Python 3",
   "language": "python",
   "name": "python3"
  },
  "language_info": {
   "codemirror_mode": {
    "name": "ipython",
    "version": 3
   },
   "file_extension": ".py",
   "mimetype": "text/x-python",
   "name": "python",
   "nbconvert_exporter": "python",
   "pygments_lexer": "ipython3",
   "version": "3.9.0+"
  },
  "varInspector": {
   "cols": {
    "lenName": 16,
    "lenType": 16,
    "lenVar": 40
   },
   "kernels_config": {
    "python": {
     "delete_cmd_postfix": "",
     "delete_cmd_prefix": "del ",
     "library": "var_list.py",
     "varRefreshCmd": "print(var_dic_list())"
    },
    "r": {
     "delete_cmd_postfix": ") ",
     "delete_cmd_prefix": "rm(",
     "library": "var_list.r",
     "varRefreshCmd": "cat(var_dic_list()) "
    }
   },
   "types_to_exclude": [
    "module",
    "function",
    "builtin_function_or_method",
    "instance",
    "_Feature"
   ],
   "window_display": false
  }
 },
 "nbformat": 4,
 "nbformat_minor": 5
}
