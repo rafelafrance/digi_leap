{
 "cells": [
  {
   "cell_type": "markdown",
   "id": "90fcdffe",
   "metadata": {},
   "source": [
    "# Build a vocabulary"
   ]
  },
  {
   "cell_type": "code",
   "execution_count": 1,
   "id": "0f2d3add",
   "metadata": {},
   "outputs": [],
   "source": [
    "import sys\n",
    "sys.path.append('..')"
   ]
  },
  {
   "cell_type": "code",
   "execution_count": 2,
   "id": "19c06af2",
   "metadata": {},
   "outputs": [],
   "source": [
    "import sqlite3\n",
    "from collections import Counter, defaultdict, namedtuple\n",
    "from pathlib import Path\n",
    "from zipfile import ZipFile\n",
    "\n",
    "import chardet\n",
    "import nltk\n",
    "import pandas as pd\n",
    "import regex as re\n",
    "from tqdm import tqdm\n",
    "\n",
    "from digi_leap.pylib import db\n",
    "from digi_leap.pylib import vocab"
   ]
  },
  {
   "cell_type": "code",
   "execution_count": 3,
   "id": "016ac352",
   "metadata": {},
   "outputs": [],
   "source": [
    "DATA = Path('..') / 'data' / 'raw'\n",
    "\n",
    "IDIGBIO = DATA / 'occurrence_raw_idigbio_2021-02.sqlite3.db'\n",
    "ITIS = DATA / 'ITIS.sqlite'\n",
    "NLTK = DATA / 'nltk_corpora'\n",
    "VOCAB = vocab.VOCAB_DB"
   ]
  },
  {
   "cell_type": "code",
   "execution_count": 4,
   "id": "ebaabf9c",
   "metadata": {},
   "outputs": [],
   "source": [
    "WORDS = Counter()"
   ]
  },
  {
   "cell_type": "markdown",
   "id": "6df321a9",
   "metadata": {},
   "source": [
    "## Common functions"
   ]
  },
  {
   "cell_type": "code",
   "execution_count": 5,
   "id": "2c96073b",
   "metadata": {},
   "outputs": [],
   "source": [
    "def text_to_vocab(text):\n",
    "    words = re.findall(r'\\p{L}+', text)\n",
    "    WORDS.update(words)"
   ]
  },
  {
   "cell_type": "markdown",
   "id": "73f5b7f0",
   "metadata": {},
   "source": [
    "## Get NLTK corpora"
   ]
  },
  {
   "cell_type": "code",
   "execution_count": 6,
   "id": "a2886222",
   "metadata": {},
   "outputs": [],
   "source": [
    "SKIPS = {'README', 'LICENSE'}"
   ]
  },
  {
   "cell_type": "code",
   "execution_count": 7,
   "id": "1fcfd872",
   "metadata": {},
   "outputs": [],
   "source": [
    "def read_nltk(zip_file):\n",
    "    print(f'\\n{zip_file}')\n",
    "    zip_path = NLTK / zip_file\n",
    "    stem = zip_path.stem\n",
    "    with ZipFile(zip_path) as zippy:\n",
    "        for info in zippy.infolist():\n",
    "            if Path(info.filename).stem in SKIPS or info.is_dir():\n",
    "                continue\n",
    "            print(info.filename)\n",
    "            for ln in zippy.open(info.filename):\n",
    "                enc = chardet.detect(ln)['encoding']  # Slow\n",
    "                ln = ln.decode(enc)\n",
    "                text_to_vocab(ln)"
   ]
  },
  {
   "cell_type": "code",
   "execution_count": 8,
   "id": "df089681",
   "metadata": {},
   "outputs": [
    {
     "name": "stdout",
     "output_type": "stream",
     "text": [
      "\n",
      "words.zip\n",
      "words/en\n",
      "words/en-basic\n",
      "\n",
      "gazetteers.zip\n",
      "gazetteers/caprovinces.txt\n",
      "gazetteers/countries.txt\n",
      "gazetteers/isocountries.txt\n",
      "gazetteers/mexstates.txt\n",
      "gazetteers/nationalities.txt\n",
      "gazetteers/uscities.txt\n",
      "gazetteers/usstateabbrev.txt\n",
      "gazetteers/usstates.txt\n",
      "\n",
      "gutenberg.zip\n",
      "gutenberg/austen-emma.txt\n",
      "gutenberg/austen-persuasion.txt\n",
      "gutenberg/austen-sense.txt\n",
      "gutenberg/bible-kjv.txt\n",
      "gutenberg/blake-poems.txt\n",
      "gutenberg/bryant-stories.txt\n",
      "gutenberg/burgess-busterbrown.txt\n",
      "gutenberg/carroll-alice.txt\n",
      "gutenberg/chesterton-ball.txt\n",
      "gutenberg/chesterton-brown.txt\n",
      "gutenberg/chesterton-thursday.txt\n",
      "gutenberg/edgeworth-parents.txt\n",
      "gutenberg/melville-moby_dick.txt\n",
      "gutenberg/milton-paradise.txt\n",
      "gutenberg/shakespeare-caesar.txt\n",
      "gutenberg/shakespeare-hamlet.txt\n",
      "gutenberg/shakespeare-macbeth.txt\n",
      "gutenberg/whitman-leaves.txt\n",
      "\n",
      "names.zip\n",
      "names/female.txt\n",
      "names/male.txt\n",
      "\n",
      "webtext.zip\n",
      "webtext/firefox.txt\n",
      "webtext/grail.txt\n",
      "webtext/overheard.txt\n",
      "webtext/pirates.txt\n",
      "webtext/singles.txt\n",
      "webtext/wine.txt\n"
     ]
    }
   ],
   "source": [
    "read_nltk('words.zip')\n",
    "read_nltk('gazetteers.zip')\n",
    "read_nltk('gutenberg.zip')\n",
    "read_nltk('names.zip')\n",
    "read_nltk('webtext.zip')"
   ]
  },
  {
   "cell_type": "markdown",
   "id": "d67ad1dc",
   "metadata": {},
   "source": [
    "## Get ITIS data"
   ]
  },
  {
   "cell_type": "code",
   "execution_count": 9,
   "id": "7d8343bd",
   "metadata": {},
   "outputs": [],
   "source": [
    "def itis_names():\n",
    "    sql = \"\"\"\n",
    "        select expert as name from experts\n",
    "        union select reference_author from publications\n",
    "        union select shortauthor from strippedauthor\n",
    "        union select short_author from taxon_authors_lkp\n",
    "        \"\"\"\n",
    "    for row in tqdm(db.rows_as_dicts(ITIS, sql)):\n",
    "        text_to_vocab(row['name'])"
   ]
  },
  {
   "cell_type": "code",
   "execution_count": 10,
   "id": "c28ca9f9",
   "metadata": {},
   "outputs": [],
   "source": [
    "def itis_taxa():\n",
    "    # Data is normalized so don't bother with union \"all\"\n",
    "    sql = \"\"\"\n",
    "        select unit_name1 as name from taxonomic_units where unit_name1 is not null\n",
    "        union select unit_name2 from taxonomic_units where unit_name2 is not null\n",
    "        union select unit_name3 from taxonomic_units where unit_name3 is not null\n",
    "        union select unit_name4 from taxonomic_units where unit_name4 is not null\n",
    "        \"\"\"\n",
    "    for row in tqdm(db.rows_as_dicts(ITIS, sql)):\n",
    "        text_to_vocab(row['name'])"
   ]
  },
  {
   "cell_type": "code",
   "execution_count": 11,
   "id": "2b1070a0",
   "metadata": {},
   "outputs": [],
   "source": [
    "def itis_vernaculars():\n",
    "    sql = \"\"\"select vernacular_name from vernaculars\"\"\"\n",
    "    for row in tqdm(db.rows_as_dicts(ITIS, sql)):\n",
    "        text_to_vocab(row['vernacular_name'])"
   ]
  },
  {
   "cell_type": "code",
   "execution_count": 12,
   "id": "3a987f2e",
   "metadata": {},
   "outputs": [
    {
     "name": "stderr",
     "output_type": "stream",
     "text": [
      "100%|███████████████████████████████████████████████████████████████████████████████| 168721/168721 [00:00<00:00, 277343.39it/s]\n",
      "100%|███████████████████████████████████████████████████████████████████████████████| 291801/291801 [00:00<00:00, 331012.03it/s]\n",
      "100%|███████████████████████████████████████████████████████████████████████████████| 131983/131983 [00:00<00:00, 273793.25it/s]\n"
     ]
    }
   ],
   "source": [
    "itis_names()\n",
    "itis_taxa()\n",
    "itis_vernaculars()"
   ]
  },
  {
   "cell_type": "markdown",
   "id": "8aee106c",
   "metadata": {},
   "source": [
    "## Get iDigBio data"
   ]
  },
  {
   "cell_type": "code",
   "execution_count": 13,
   "id": "33735b56",
   "metadata": {},
   "outputs": [],
   "source": [
    "TAXON_COLS = \"\"\"\n",
    "    accepted_name_usage class family genus group\n",
    "    higher_classification infraspecific_epithet\n",
    "    kingdom order original_name_usage phylum\n",
    "    previous_identifications scientific_name\n",
    "    specific_epithet subgenus taxon_rank\n",
    "    verbatim_taxon_rank vernacular_name parent_name_usage\n",
    "    verbatim_scientific_name\n",
    "    \"\"\".split()\n",
    "\n",
    "NAME_COLS = \"\"\"\n",
    "    georeferenced_by identified_by location_according_to\n",
    "    name_according_to recorded_by scientific_name_authorship\n",
    "    record_entered_by \n",
    "    \"\"\".split()\n",
    "\n",
    "PLACE_COLS = \"\"\"\n",
    "    continent country country_code county island\n",
    "    island_group municipality higher_geography\n",
    "    state_province verbatim_coordinate_system\n",
    "    verbatim_coordinates verbatim_elevation\n",
    "    verbatim_latitude verbatim_longitude water_body\n",
    "    georeference_protocol verbatim_srs\n",
    "    \"\"\".split()\n",
    "\n",
    "WORD_COLS = \"\"\"\n",
    "    dataset_name dwc_rights_holder dwc_verbatim_event_date\n",
    "    establishment_means event_remarks georeference_remarks\n",
    "    georeference_sources habitat identification_remarks\n",
    "    information_withheld life_stage locality location_remarks\n",
    "    occurrence_remarks organism_remarks\n",
    "    georeference_verification_status name_published_in\n",
    "    owner_institution_code preparations reproductive_condition\n",
    "    rights_holder sampling_protocol sex taxon_remarks\n",
    "    taxonomic_status type_status verbatim_event_date\n",
    "    verbatim_locality\n",
    "    \"\"\".split()\n",
    "\n",
    "COLUMNS = TAXON_COLS + NAME_COLS + PLACE_COLS + WORD_COLS"
   ]
  },
  {
   "cell_type": "code",
   "execution_count": 14,
   "id": "1822d3f1",
   "metadata": {},
   "outputs": [],
   "source": [
    "def idigbio_data():\n",
    "    columns = [f\"`{c}`\" for c in COLUMNS]\n",
    "    sql = f\"\"\"select {', '.join(columns)} from occurrence_raw\"\"\"\n",
    "    with sqlite3.connect(IDIGBIO) as cxn:\n",
    "        cxn.row_factory = sqlite3.Row\n",
    "        for row in tqdm(cxn.execute(sql)):\n",
    "            row = dict(row)\n",
    "            for col in COLUMNS:\n",
    "                text_to_vocab(row[col])"
   ]
  },
  {
   "cell_type": "code",
   "execution_count": 15,
   "id": "fc6b48e9",
   "metadata": {},
   "outputs": [
    {
     "name": "stderr",
     "output_type": "stream",
     "text": [
      "127261791it [8:53:18, 3977.17it/s]\n"
     ]
    }
   ],
   "source": [
    "idigbio_data()"
   ]
  },
  {
   "cell_type": "markdown",
   "id": "88fa7c9c",
   "metadata": {},
   "source": [
    "## Write to the vocab database"
   ]
  },
  {
   "cell_type": "code",
   "execution_count": 16,
   "id": "771e4b6d",
   "metadata": {},
   "outputs": [],
   "source": [
    "def to_vocab_db():\n",
    "    db.create_vocab_table(VOCAB, drop=True)\n",
    "    batch = list(WORDS.items())\n",
    "    db.insert_vocabulary_words(VOCAB, batch)"
   ]
  },
  {
   "cell_type": "code",
   "execution_count": 17,
   "id": "2a363803",
   "metadata": {},
   "outputs": [],
   "source": [
    "to_vocab_db()"
   ]
  },
  {
   "cell_type": "markdown",
   "id": "29db53ef",
   "metadata": {},
   "source": [
    "## Look at the character set"
   ]
  },
  {
   "cell_type": "markdown",
   "id": "b4ae5d8e",
   "metadata": {},
   "source": [
    "The spell checker does not depend on the character set but it is interesting to see what's in the DB."
   ]
  },
  {
   "cell_type": "code",
   "execution_count": 18,
   "id": "0281a96b",
   "metadata": {},
   "outputs": [],
   "source": [
    "with sqlite3.connect(VOCAB) as cxn:\n",
    "    sql = 'select * from vocab'\n",
    "    WORDS = {r[0]: r[1] for r in cxn.execute(sql)}"
   ]
  },
  {
   "cell_type": "code",
   "execution_count": 19,
   "id": "c07837e5",
   "metadata": {
    "scrolled": true
   },
   "outputs": [
    {
     "name": "stdout",
     "output_type": "stream",
     "text": [
      "['A', 'B', 'C', 'D', 'E', 'F', 'G', 'H', 'I', 'J', 'K', 'L', 'M', 'N', 'O', 'P', 'Q', 'R', 'S', 'T', 'U', 'V', 'W', 'X', 'Y', 'Z', 'a', 'b', 'c', 'd', 'e', 'f', 'g', 'h', 'i', 'j', 'k', 'l', 'm', 'n', 'o', 'p', 'q', 'r', 's', 't', 'u', 'v', 'w', 'x', 'y', 'z', 'ª', 'µ', 'º', 'À', 'Á', 'Â', 'Ã', 'Ä', 'Å', 'Æ', 'Ç', 'È', 'É', 'Ê', 'Ë', 'Ì', 'Í', 'Î', 'Ï', 'Ð', 'Ñ', 'Ò', 'Ó', 'Ô', 'Õ', 'Ö', 'Ø', 'Ù', 'Ú', 'Û', 'Ü', 'Ý', 'Þ', 'ß', 'à', 'á', 'â', 'ã', 'ä', 'å', 'æ', 'ç', 'è', 'é', 'ê', 'ë', 'ì', 'í', 'î', 'ï', 'ð', 'ñ', 'ò', 'ó', 'ô', 'õ', 'ö', 'ø', 'ù', 'ú', 'û', 'ü', 'ý', 'þ', 'ÿ', 'Ā', 'ā', 'ă', 'ą', 'Ć', 'ć', 'Ĉ', 'ĉ', 'Ċ', 'ċ', 'Č', 'č', 'Ď', 'ď', 'Đ', 'đ', 'Ē', 'ē', 'Ĕ', 'ĕ', 'Ė', 'ė', 'ę', 'Ě', 'ě', 'ĝ', 'ğ', 'Ġ', 'ġ', 'ģ', 'ĥ', 'Ħ', 'ħ', 'ĩ', 'Ī', 'ī', 'ĭ', 'į', 'İ', 'ı', 'Ķ', 'ķ', 'ĺ', 'Ļ', 'ļ', 'Ľ', 'ľ', 'Ŀ', 'Ł', 'ł', 'ń', 'ņ', 'Ň', 'ň', 'ŉ', 'ŋ', 'Ō', 'ō', 'ŏ', 'Ő', 'ő', 'Œ', 'œ', 'ŕ', 'Ř', 'ř', 'Ś', 'ś', 'Ŝ', 'ŝ', 'Ş', 'ş', 'Š', 'š', 'Ţ', 'ţ', 'ť', 'ũ', 'Ū', 'ū', 'Ŭ', 'ŭ', 'Ů', 'ů', 'ű', 'ŵ', 'ŷ', 'Ÿ', 'ź', 'Ż', 'ż', 'Ž', 'ž', 'ſ', 'Ɛ', 'ƒ', 'ƚ', 'Ɵ', 'Ơ', 'ơ', 'ƫ', 'ư', 'ǀ', 'ǁ', 'ǎ', 'Ǐ', 'ǐ', 'ǔ', 'ǘ', 'ǝ', 'ǥ', 'ǫ', 'ǵ', 'ǹ', 'Ǻ', 'ǿ', 'ȁ', 'ȃ', 'ȋ', 'ȍ', 'ȏ', 'ȕ', 'Ș', 'ș', 'Ț', 'ț', 'ȧ', 'ȩ', 'ȳ', 'ȼ', 'ɑ', 'ɒ', 'ɔ', 'ɖ', 'ə', 'ɛ', 'ɪ', 'ɶ', 'ʔ', 'ʱ', 'ʹ', 'ʺ', 'ʻ', 'ʼ', 'ʽ', 'ʿ', 'ˆ', 'ˈ', 'ˌ', 'ˍ', 'ͱ', 'ʹ', 'ͻ', 'Ά', 'Έ', 'ΐ', 'Α', 'Β', 'Γ', 'Δ', 'Ε', 'Ζ', 'Η', 'Θ', 'Ι', 'Κ', 'Λ', 'Μ', 'Ν', 'Π', 'Ρ', 'Σ', 'Τ', 'Φ', 'Χ', 'Ω', 'ά', 'έ', 'ή', 'ί', 'α', 'β', 'γ', 'δ', 'ε', 'ζ', 'η', 'θ', 'ι', 'κ', 'λ', 'μ', 'ν', 'ο', 'π', 'ρ', 'ς', 'σ', 'τ', 'υ', 'φ', 'χ', 'ω', 'ϊ', 'ό', 'ύ', 'ώ', 'ϒ', 'Ђ', 'І', 'Ј', 'Ћ', 'А', 'Б', 'В', 'Г', 'Д', 'Е', 'Ж', 'З', 'И', 'Й', 'К', 'Л', 'М', 'Н', 'О', 'П', 'Р', 'С', 'Т', 'У', 'Ф', 'Х', 'Ц', 'Ч', 'Ш', 'Ы', 'Ь', 'Э', 'Ю', 'Я', 'а', 'б', 'в', 'г', 'д', 'е', 'ж', 'з', 'и', 'й', 'к', 'л', 'м', 'н', 'о', 'п', 'р', 'с', 'т', 'у', 'ф', 'х', 'ц', 'ч', 'ш', 'щ', 'ъ', 'ы', 'ь', 'э', 'ю', 'я', 'ѐ', 'ё', 'ђ', 'є', 'і', 'ї', 'ј', 'ѣ', 'Ѳ', 'ҁ', 'ҫ', 'ӏ', 'ӑ', 'ӗ', 'ә', 'Ӧ', 'ӧ', 'ө', 'ԍ', 'Ա', 'Գ', 'Ե', 'Լ', 'Կ', 'Ս', 'ա', 'գ', 'ե', 'ժ', 'ի', 'ծ', 'կ', 'հ', 'ձ', 'ղ', 'յ', 'ն', 'ո', 'ռ', 'ս', 'վ', 'տ', 'ր', 'ւ', 'ք', 'א', 'ב', 'ד', 'ה', 'ו', 'ז', 'ח', 'י', 'כ', 'ל', 'ם', 'מ', 'ן', 'פ', 'צ', 'ר', 'ש', 'ת', 'آ', 'أ', 'إ', 'ا', 'ب', 'ة', 'ت', 'ج', 'ح', 'خ', 'د', 'ذ', 'ر', 'ز', 'س', 'ش', 'ص', 'ض', 'ط', 'ظ', 'ع', 'غ', 'ف', 'ق', 'ك', 'ل', 'م', 'ن', 'ه', 'و', 'ى', 'ي', 'پ', 'ک', 'ی', 'ख', 'ङ', 'ज', 'भ', 'ल', 'व', 'स', 'ক', 'ঢ', 'ਮ', 'ก', 'ข', 'ค', 'ง', 'จ', 'ช', 'ญ', 'ฎ', 'ณ', 'ด', 'ต', 'ถ', 'ท', 'ธ', 'น', 'บ', 'ป', 'พ', 'ภ', 'ม', 'ย', 'ร', 'ล', 'ว', 'ศ', 'ษ', 'ส', 'ห', 'อ', 'ฮ', 'ะ', 'า', 'ำ', 'เ', 'แ', 'โ', 'ใ', 'ᚄ', 'ᴄ', 'ᴙ', 'ᴱ', 'ᴸ', 'ᵃ', 'ᶵ', 'Ḍ', 'ḍ', 'ḑ', 'ḗ', 'Ḥ', 'ḥ', 'Ḩ', 'ḩ', 'ḷ', 'Ḿ', 'ḿ', 'ṁ', 'ṅ', 'ṇ', 'ṛ', 'ṡ', 'Ṣ', 'ṣ', 'Ṭ', 'ṭ', 'ẏ', 'ẑ', 'Ẓ', 'ẓ', 'Ẕ', 'ẕ', 'ẖ', 'ẞ', 'ạ', 'ả', 'Ấ', 'ấ', 'ầ', 'ẩ', 'ậ', 'ắ', 'ằ', 'ẵ', 'ặ', 'ẹ', 'ẻ', 'ẽ', 'ế', 'ề', 'ể', 'ễ', 'ệ', 'ỉ', 'ị', 'ọ', 'ỏ', 'ố', 'ồ', 'ổ', 'ộ', 'ớ', 'ờ', 'ở', 'ợ', 'ụ', 'ủ', 'ứ', 'ừ', 'ử', 'ữ', 'ỳ', 'ỷ', 'ỹ', 'ό', 'ύ', 'ᾰ', 'ᾶ', 'ῡ', 'ⁿ', 'ₓ', 'ₙ', 'ₛ', 'Ω', 'ⱼ', 'ぇ', 'キ', 'ゴ', 'サ', 'ハ', 'ブ', 'マ', 'ヤ', '㔱', '㔶', '万', '三', '上', '业', '东', '中', '乐', '云', '五', '井', '京', '仙', '伊', '佐', '作', '児', '八', '公', '兴', '兵', '内', '农', '凯', '分', '前', '勢', '北', '千', '南', '即', '县', '取', '口', '古', '台', '吉', '吴', '和', '哈', '嘉', '四', '园', '国', '園', '土', '城', '基', '埼', '墨', '夏', '夔', '外', '大', '天', '夹', '奈', '媛', '子', '学', '宁', '宇', '安', '宜', '宮', '家', '富', '小', '尔', '尖', '屏', '山', '岐', '岛', '岡', '岩', '岭', '峰', '島', '崂', '崎', '川', '州', '巴', '市', '带', '广', '広', '庆', '府', '庫', '建', '形', '復', '徳', '德', '徽', '忠', '愛', '慬', '所', '手', '投', '拉', '拔', '指', '摩', '摮', '新', '方', '日', '月', '木', '本', '村', '東', '林', '果', '架', '栃', '根', '桃', '桥', '梨', '森', '植', '橋', '歌', '江', '池', '沖', '沙', '河', '治', '津', '流', '浙', '浮', '海', '港', '湖', '滋', '滨', '漢', '潟', '潭', '澎', '澳', '烟', '热', '熊', '爱', '物', '玉', '理', '甘', '田', '疆', '盈', '県', '知', '石', '研', '神', '福', '秋', '究', '竹', '簚', '縄', '縣', '群', '義', '聂', '肃', '興', '良', '花', '苏', '茨', '营', '葉', '蒙', '蓐', '薩', '藏', '蘭', '西', '語', '賀', '贵', '赣', '辺', '辽', '达', '道', '都', '鄉', '里', '重', '野', '金', '釜', '镇', '長', '长', '門', '阜', '队', '阪', '陕', '院', '陵', '隆', '雄', '雲', '露', '青', '静', '香', '馬', '高', '鳥', '鹿', '麗', '黑', '龍', '龙', 'ꟷ', '가', '강', '경', '고', '골', '구', '군', '금', '기', '남', '대', '덕', '도', '동', '두', '란', '람', '량', '령', '룡', '류', '릉', '리', '만', '맹', '모', '묘', '물', '방', '백', '봉', '부', '북', '불', '빈', '사', '산', '삼', '상', '서', '선', '성', '세', '수', '슭', '시', '식', '악', '안', '암', '앙', '애', '양', '어', '역', '연', '오', '옹', '우', '울', '원', '월', '율', '은', '인', '자', '장', '전', '정', '제', '주', '중', '지', '진', '천', '추', '충', '타', '평', '포', '풍', '하', '합', '항', '해', '향', '혜', '화', '황', '흥', 'ﬁ', 'ﬂ', 'ｱ', 'ｳ', 'ﾖ', 'ﾠ', 'ﾰ']\n"
     ]
    }
   ],
   "source": [
    "chars = set()\n",
    "for word, freq in WORDS.items():\n",
    "    chars |= set(word)\n",
    "\n",
    "print(sorted(chars))"
   ]
  },
  {
   "cell_type": "markdown",
   "id": "866fcd67",
   "metadata": {},
   "source": [
    "## Create a table to hold the misspelling mappings"
   ]
  },
  {
   "cell_type": "code",
   "execution_count": 4,
   "id": "d208080e",
   "metadata": {},
   "outputs": [],
   "source": [
    "SPELLS = {}"
   ]
  },
  {
   "cell_type": "code",
   "execution_count": 5,
   "id": "61b63a72",
   "metadata": {},
   "outputs": [
    {
     "name": "stderr",
     "output_type": "stream",
     "text": [
      "1945481it [01:56, 16711.96it/s]\n"
     ]
    }
   ],
   "source": [
    "sql = \"\"\" select word, freq from vocab where length(word) >= 3 and freq >= 5 \"\"\"\n",
    "\n",
    "with sqlite3.connect(VOCAB) as cxn:\n",
    "    for term in tqdm(cxn.execute(sql)):\n",
    "        word, freq = term\n",
    "        freq = -freq\n",
    "\n",
    "        SPELLS[word] = (0, freq, word)\n",
    "\n",
    "        for i in range(len(word)):\n",
    "            miss1 = word[:i] + word[i+1:]\n",
    "            new1 = (1, freq, word)\n",
    "            spell1 = SPELLS.get(miss1, (99, 99, ''))\n",
    "\n",
    "            if spell1 > new1:\n",
    "                SPELLS[miss1] = new1\n",
    "\n",
    "            for j in range(len(miss1)):\n",
    "                miss2 = miss1[:j] + miss1[j+1:]\n",
    "                new2 = (2, freq, word)\n",
    "                spell2 = SPELLS.get(miss2, (99, 99, ''))\n",
    "\n",
    "                if spell2 > new2:\n",
    "                    SPELLS[miss2] = new2"
   ]
  },
  {
   "cell_type": "code",
   "execution_count": 6,
   "id": "6fbc77c5",
   "metadata": {},
   "outputs": [
    {
     "data": {
      "text/plain": [
       "63830356"
      ]
     },
     "execution_count": 6,
     "metadata": {},
     "output_type": "execute_result"
    }
   ],
   "source": [
    "len(SPELLS)"
   ]
  },
  {
   "cell_type": "code",
   "execution_count": 7,
   "id": "cedab4c2",
   "metadata": {},
   "outputs": [],
   "source": [
    "SPELLS = [(k, v[2], v[0], -v[1]) for k, v in SPELLS.items()]"
   ]
  },
  {
   "cell_type": "code",
   "execution_count": 8,
   "id": "8af4dc10",
   "metadata": {},
   "outputs": [],
   "source": [
    "db.create_misspellings_table(VOCAB, drop=True)\n",
    "db.insert_misspellings(VOCAB, SPELLS)"
   ]
  },
  {
   "cell_type": "code",
   "execution_count": null,
   "id": "b5fbf7cf",
   "metadata": {},
   "outputs": [],
   "source": []
  }
 ],
 "metadata": {
  "kernelspec": {
   "display_name": "Python 3 (ipykernel)",
   "language": "python",
   "name": "python3"
  },
  "language_info": {
   "codemirror_mode": {
    "name": "ipython",
    "version": 3
   },
   "file_extension": ".py",
   "mimetype": "text/x-python",
   "name": "python",
   "nbconvert_exporter": "python",
   "pygments_lexer": "ipython3",
   "version": "3.9.5"
  }
 },
 "nbformat": 4,
 "nbformat_minor": 5
}
