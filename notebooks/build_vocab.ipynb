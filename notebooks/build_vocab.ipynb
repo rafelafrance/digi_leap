{
 "cells": [
  {
   "cell_type": "markdown",
   "id": "90fcdffe",
   "metadata": {},
   "source": [
    "# Build a vocabulary"
   ]
  },
  {
   "cell_type": "code",
   "execution_count": 1,
   "id": "0f2d3add",
   "metadata": {},
   "outputs": [],
   "source": [
    "import sys\n",
    "sys.path.append('..')"
   ]
  },
  {
   "cell_type": "code",
   "execution_count": 21,
   "id": "19c06af2",
   "metadata": {},
   "outputs": [],
   "source": [
    "import sqlite3\n",
    "from collections import Counter, defaultdict\n",
    "from pathlib import Path\n",
    "from zipfile import ZipFile\n",
    "\n",
    "import chardet\n",
    "import nltk\n",
    "import pandas as pd\n",
    "import regex as re\n",
    "from tqdm import tqdm\n",
    "\n",
    "from digi_leap.pylib import db\n",
    "from digi_leap.pylib import vocab"
   ]
  },
  {
   "cell_type": "code",
   "execution_count": 3,
   "id": "016ac352",
   "metadata": {},
   "outputs": [],
   "source": [
    "DATA = Path('..') / 'data' / 'raw'\n",
    "\n",
    "IDIGBIO = DATA / 'occurrence_raw_idigbio_2021-02.sqlite3.db'\n",
    "ITIS = DATA / 'ITIS.sqlite'\n",
    "NLTK = DATA / 'nltk_corpora'\n",
    "VOCAB = vocab.VOCAB_DB"
   ]
  },
  {
   "cell_type": "code",
   "execution_count": 4,
   "id": "ebaabf9c",
   "metadata": {},
   "outputs": [],
   "source": [
    "WORDS = Counter()"
   ]
  },
  {
   "cell_type": "markdown",
   "id": "6df321a9",
   "metadata": {},
   "source": [
    "## Common functions"
   ]
  },
  {
   "cell_type": "code",
   "execution_count": 5,
   "id": "2c96073b",
   "metadata": {},
   "outputs": [],
   "source": [
    "def text_to_vocab(text):\n",
    "    words = re.findall(r'\\w+', text)\n",
    "    words = [w for w in words if not vocab.is_number(w)]\n",
    "    WORDS.update(words)"
   ]
  },
  {
   "cell_type": "markdown",
   "id": "73f5b7f0",
   "metadata": {},
   "source": [
    "## Get NLTK corpora"
   ]
  },
  {
   "cell_type": "code",
   "execution_count": 6,
   "id": "a2886222",
   "metadata": {},
   "outputs": [],
   "source": [
    "SKIPS = {'README', 'LICENSE'}"
   ]
  },
  {
   "cell_type": "code",
   "execution_count": 7,
   "id": "1fcfd872",
   "metadata": {},
   "outputs": [],
   "source": [
    "def read_nltk(zip_file):\n",
    "    print(f'\\n{zip_file}')\n",
    "    zip_path = NLTK / zip_file\n",
    "    stem = zip_path.stem\n",
    "    with ZipFile(zip_path) as zippy:\n",
    "        for info in zippy.infolist():\n",
    "            if Path(info.filename).stem in SKIPS or info.is_dir():\n",
    "                continue\n",
    "            print(info.filename)\n",
    "            for ln in zippy.open(info.filename):\n",
    "                enc = chardet.detect(ln)['encoding']  # Slow\n",
    "                ln = ln.decode(enc)\n",
    "                text_to_vocab(ln)"
   ]
  },
  {
   "cell_type": "code",
   "execution_count": 8,
   "id": "df089681",
   "metadata": {},
   "outputs": [],
   "source": [
    "# read_nltk('words.zip')\n",
    "# read_nltk('gazetteers.zip')\n",
    "# read_nltk('gutenberg.zip')\n",
    "# read_nltk('names.zip')\n",
    "# read_nltk('webtext.zip')"
   ]
  },
  {
   "cell_type": "markdown",
   "id": "d67ad1dc",
   "metadata": {},
   "source": [
    "## Get ITIS data"
   ]
  },
  {
   "cell_type": "code",
   "execution_count": 9,
   "id": "7d8343bd",
   "metadata": {},
   "outputs": [],
   "source": [
    "def itis_names():\n",
    "    sql = \"\"\"\n",
    "        select expert as name from experts\n",
    "        union select reference_author from publications\n",
    "        union select shortauthor from strippedauthor\n",
    "        union select short_author from taxon_authors_lkp\n",
    "        \"\"\"\n",
    "    for row in tqdm(db.build_select(ITIS, sql)):\n",
    "        text_to_vocab(row[0])"
   ]
  },
  {
   "cell_type": "code",
   "execution_count": 10,
   "id": "c28ca9f9",
   "metadata": {},
   "outputs": [],
   "source": [
    "def itis_taxa():\n",
    "    # Data is normalized so don't bother with union \"all\"\n",
    "    sql = \"\"\"\n",
    "        select unit_name1 as name from taxonomic_units where unit_name1 is not null\n",
    "        union select unit_name2 from taxonomic_units where unit_name2 is not null\n",
    "        union select unit_name3 from taxonomic_units where unit_name3 is not null\n",
    "        union select unit_name4 from taxonomic_units where unit_name4 is not null\n",
    "        \"\"\"\n",
    "    for row in tqdm(db.build_select(ITIS, sql)):\n",
    "        text_to_vocab(row[0])"
   ]
  },
  {
   "cell_type": "code",
   "execution_count": 11,
   "id": "2b1070a0",
   "metadata": {},
   "outputs": [],
   "source": [
    "def itis_vernaculars():\n",
    "    sql = \"\"\"select vernacular_name from vernaculars\"\"\"\n",
    "    for row in tqdm(db.build_select(ITIS, sql)):\n",
    "        text_to_vocab(row[0])"
   ]
  },
  {
   "cell_type": "code",
   "execution_count": 12,
   "id": "3a987f2e",
   "metadata": {},
   "outputs": [],
   "source": [
    "# itis_names()\n",
    "# itis_taxa()\n",
    "# itis_vernaculars()"
   ]
  },
  {
   "cell_type": "markdown",
   "id": "8aee106c",
   "metadata": {},
   "source": [
    "## Get iDigBio data"
   ]
  },
  {
   "cell_type": "code",
   "execution_count": 14,
   "id": "33735b56",
   "metadata": {},
   "outputs": [],
   "source": [
    "TAXON_COLS = \"\"\"\n",
    "    accepted_name_usage class family genus group\n",
    "    higher_classification infraspecific_epithet\n",
    "    kingdom order original_name_usage phylum\n",
    "    previous_identifications scientific_name\n",
    "    specific_epithet subgenus taxon_rank\n",
    "    verbatim_taxon_rank vernacular_name parent_name_usage\n",
    "    verbatim_scientific_name\n",
    "    \"\"\".split()\n",
    "\n",
    "NAME_COLS = \"\"\"\n",
    "    georeferenced_by identified_by location_according_to\n",
    "    name_according_to recorded_by scientific_name_authorship\n",
    "    record_entered_by \n",
    "    \"\"\".split()\n",
    "\n",
    "PLACE_COLS = \"\"\"\n",
    "    continent country country_code county island\n",
    "    island_group municipality higher_geography\n",
    "    state_province verbatim_coordinate_system\n",
    "    verbatim_coordinates verbatim_elevation\n",
    "    verbatim_latitude verbatim_longitude water_body\n",
    "    georeference_protocol verbatim_srs\n",
    "    \"\"\".split()\n",
    "\n",
    "WORD_COLS = \"\"\"\n",
    "    dataset_name dwc_rights_holder dwc_verbatim_event_date\n",
    "    establishment_means event_remarks georeference_remarks\n",
    "    georeference_sources habitat identification_remarks\n",
    "    information_withheld life_stage locality location_remarks\n",
    "    occurrence_remarks organism_remarks\n",
    "    georeference_verification_status name_published_in\n",
    "    owner_institution_code preparations reproductive_condition\n",
    "    rights_holder sampling_protocol sex taxon_remarks\n",
    "    taxonomic_status type_status verbatim_event_date\n",
    "    verbatim_locality\n",
    "    \"\"\".split()\n",
    "\n",
    "COLUMNS = TAXON_COLS + NAME_COLS + PLACE_COLS + WORD_COLS"
   ]
  },
  {
   "cell_type": "code",
   "execution_count": 15,
   "id": "1822d3f1",
   "metadata": {},
   "outputs": [],
   "source": [
    "def idigbio_data():\n",
    "    columns = [f\"`{c}`\" for c in COLUMNS]\n",
    "    sql = f\"\"\"select {', '.join(columns)} from occurrence_raw\"\"\"\n",
    "    for row in tqdm(db.build_select(IDIGBIO, sql)):\n",
    "        row = dict(row)\n",
    "        for col in COLUMNS:\n",
    "            text_to_vocab(row[col])"
   ]
  },
  {
   "cell_type": "code",
   "execution_count": 16,
   "id": "fc6b48e9",
   "metadata": {},
   "outputs": [],
   "source": [
    "# idigbio_data()"
   ]
  },
  {
   "cell_type": "markdown",
   "id": "88fa7c9c",
   "metadata": {},
   "source": [
    "## Write to the vocab database"
   ]
  },
  {
   "cell_type": "code",
   "execution_count": 17,
   "id": "771e4b6d",
   "metadata": {},
   "outputs": [],
   "source": [
    "def to_vocab_db():\n",
    "    db.create_vocab_table(VOCAB, drop=True)\n",
    "    batch = list(WORDS.items())\n",
    "    db.insert_vocabulary_words(VOCAB, batch)"
   ]
  },
  {
   "cell_type": "code",
   "execution_count": 18,
   "id": "2a363803",
   "metadata": {},
   "outputs": [],
   "source": [
    "# to_vocab_db()"
   ]
  },
  {
   "cell_type": "markdown",
   "id": "29db53ef",
   "metadata": {},
   "source": [
    "## Look at the character set"
   ]
  },
  {
   "cell_type": "code",
   "execution_count": 29,
   "id": "0281a96b",
   "metadata": {},
   "outputs": [],
   "source": [
    "with sqlite3.connect(VOCAB) as cxn:\n",
    "    sql = 'select * from vocab'\n",
    "    WORDS = {r[0]: r[1] for r in cxn.execute(sql)}"
   ]
  },
  {
   "cell_type": "code",
   "execution_count": 30,
   "id": "c07837e5",
   "metadata": {},
   "outputs": [
    {
     "name": "stdout",
     "output_type": "stream",
     "text": [
      "['a', 'b', 'c', 'd', 'e', 'f', 'g', 'h', 'i', 'j', 'k', 'l', 'm', 'n', 'o', 'p', 'q', 'r', 's', 't', 'u', 'v', 'w', 'x', 'y', 'z', 'ª', 'µ', 'º', 'ß', 'à', 'á', 'â', 'ã', 'ä', 'å', 'æ', 'ç', 'è', 'é', 'ê', 'ë', 'ì', 'í', 'î', 'ï', 'ð', 'ñ', 'ò', 'ó', 'ô', 'õ', 'ö', 'ø', 'ù', 'ú', 'û', 'ü', 'ý', 'þ', 'ÿ', 'ā', 'ă', 'ą', 'ć', 'ĉ', 'ċ', 'č', 'ď', 'đ', 'ē', 'ĕ', 'ė', 'ę', 'ě', 'ĝ', 'ğ', 'ġ', 'ħ', 'ĩ', 'ī', 'ĭ', 'į', 'ı', 'ķ', 'ĺ', 'ļ', 'ľ', 'ł', 'ń', 'ņ', 'ň', 'ŋ', 'ō', 'ŏ', 'ő', 'œ', 'ŕ', 'ř', 'ś', 'ŝ', 'ş', 'š', 'ţ', 'ť', 'ũ', 'ū', 'ŭ', 'ů', 'ű', 'ŵ', 'ŷ', 'ź', 'ż', 'ž', 'ſ', 'ƒ', 'ơ', 'ư', 'ǀ', 'ǁ', 'ǎ', 'ǝ', 'ǥ', 'ǫ', 'ǿ', 'ȃ', 'ȋ', 'ș', 'ț', 'ȳ', 'ə', 'ɛ', 'ɶ', 'ʻ', 'ʼ', 'ʽ', 'ʿ', 'ˆ', '̀', '́', '̂', '̃', '̄', '̆', '̇', '̈', '̊', '̋', '̌', '̍', '̜', '̢', '̦', '̧', '̩', '̬', '̱', '̲', '͠', '͡', 'ͦ', 'ͱ', 'ʹ', 'ͻ', 'ΐ', 'ά', 'έ', 'ή', 'ί', 'α', 'β', 'γ', 'δ', 'ε', 'ζ', 'η', 'θ', 'ι', 'κ', 'λ', 'μ', 'ν', 'ο', 'π', 'ρ', 'ς', 'σ', 'τ', 'υ', 'φ', 'χ', 'ω', 'ό', 'ύ', 'ώ', 'а', 'б', 'в', 'г', 'д', 'е', 'ж', 'з', 'и', 'й', 'к', 'л', 'м', 'н', 'о', 'п', 'р', 'с', 'т', 'у', 'ф', 'х', 'ц', 'ч', 'ш', 'щ', 'ъ', 'ы', 'ь', 'э', 'ю', 'я', 'ѐ', 'ё', 'ђ', 'є', 'і', 'ї', 'ѣ', 'ҫ', 'ӑ', 'ә', 'ӧ', 'ө', 'ա', 'գ', 'ե', 'ի', 'լ', 'կ', 'հ', 'ձ', 'ղ', 'յ', 'ն', 'ո', 'ռ', 'ս', 'վ', 'ր', 'ւ', 'ք', 'א', 'ב', 'ד', 'ה', 'ו', 'ז', 'ח', 'י', 'כ', 'ל', 'ם', 'מ', 'ן', 'פ', 'צ', 'ר', 'ש', 'ת', 'آ', 'أ', 'ا', 'ب', 'ة', 'ت', 'ج', 'ح', 'خ', 'د', 'ذ', 'ر', 'ز', 'س', 'ش', 'ص', 'ض', 'ط', 'ظ', 'ع', 'غ', 'ف', 'ق', 'ك', 'ل', 'م', 'ن', 'ه', 'و', 'ى', 'ي', 'َ', 'ی', 'ก', 'ข', 'ค', 'ง', 'จ', 'ช', 'ญ', 'ฎ', 'ณ', 'ด', 'ต', 'ถ', 'ท', 'ธ', 'น', 'บ', 'ป', 'พ', 'ภ', 'ม', 'ย', 'ร', 'ล', 'ว', 'ศ', 'ษ', 'ส', 'ห', 'อ', 'ฮ', 'ะ', 'ั', 'า', 'ำ', 'ิ', 'ี', 'ุ', 'ู', 'เ', 'แ', 'โ', 'ใ', '็', '่', '์', 'ᵃ', 'ḍ', 'ḑ', 'ḥ', 'ḩ', 'ḷ', 'ṁ', 'ṅ', 'ṇ', 'ṣ', 'ṭ', 'ẏ', 'ẓ', 'ẕ', 'ẖ', 'ạ', 'ả', 'ấ', 'ầ', 'ẩ', 'ậ', 'ắ', 'ằ', 'ẵ', 'ặ', 'ẹ', 'ẻ', 'ế', 'ề', 'ể', 'ễ', 'ệ', 'ỉ', 'ị', 'ọ', 'ỏ', 'ố', 'ồ', 'ổ', 'ộ', 'ớ', 'ờ', 'ở', 'ợ', 'ụ', 'ủ', 'ứ', 'ừ', 'ử', 'ữ', 'ỳ', 'ỷ', 'ỹ', 'ό', 'ᾶ', '\\u200c', 'ⁿ', 'ₛ', 'ⱼ', '万', '三', '上', '业', '东', '中', '云', '井', '仙', '佐', '児', '八', '兵', '内', '农', '分', '前', '北', '千', '南', '县', '取', '口', '古', '台', '吉', '吴', '和', '哈', '嘉', '四', '国', '園', '城', '基', '埼', '外', '大', '天', '奈', '媛', '子', '学', '宁', '安', '宜', '宮', '富', '小', '尔', '屏', '山', '岐', '岛', '岡', '岩', '島', '崂', '崎', '川', '州', '市', '广', '広', '庆', '府', '庫', '建', '形', '徳', '徽', '忠', '愛', '手', '投', '新', '木', '本', '村', '東', '林', '栃', '桃', '桥', '梨', '森', '歌', '江', '沖', '沙', '河', '津', '流', '浙', '浮', '海', '港', '湖', '滋', '滨', '潟', '澳', '烟', '熊', '玉', '理', '甘', '田', '疆', '県', '知', '石', '神', '福', '秋', '縄', '縣', '群', '義', '肃', '良', '苏', '茨', '葉', '蒙', '藏', '蘭', '西', '賀', '贵', '赣', '辽', '达', '道', '里', '重', '野', '釜', '長', '长', '門', '阜', '阪', '陕', '隆', '雄', '青', '静', '香', '馬', '高', '鳥', '鹿', '黑', '龍', '龙', 'ꟷ', '가', '강', '경', '고', '구', '군', '금', '남', '대', '덕', '도', '동', '두', '란', '람', '량', '령', '룡', '만', '맹', '모', '묘', '백', '봉', '부', '북', '불', '산', '삼', '상', '서', '성', '수', '시', '악', '안', '암', '양', '어', '역', '연', '오', '옹', '울', '원', '월', '율', '은', '인', '자', '장', '전', '제', '주', '지', '진', '천', '타', '평', '풍', '하', '합', '해', '향', '혜', '화', '황', '흥', 'ﬁ', 'ﬂ']\n"
     ]
    }
   ],
   "source": [
    "chars = set()\n",
    "for word, freq in words.items():\n",
    "    chars |= set(word)\n",
    "\n",
    "print(sorted(chars))"
   ]
  },
  {
   "cell_type": "markdown",
   "id": "cbd94432",
   "metadata": {},
   "source": [
    "## Remove words with certain characters"
   ]
  },
  {
   "cell_type": "code",
   "execution_count": 32,
   "id": "bdfdbf00",
   "metadata": {},
   "outputs": [],
   "source": [
    "old = list(WORDS.items())\n",
    "new = [(w, f) for w, f in old if min(list(w)) >= 'a' and max(list(w)) <= 'ž']"
   ]
  },
  {
   "cell_type": "code",
   "execution_count": 33,
   "id": "74e92c7f",
   "metadata": {},
   "outputs": [
    {
     "name": "stdout",
     "output_type": "stream",
     "text": [
      "3038513\n",
      "3037124\n"
     ]
    }
   ],
   "source": [
    "print(len(old))\n",
    "print(len(new))"
   ]
  },
  {
   "cell_type": "markdown",
   "id": "24c75114",
   "metadata": {},
   "source": [
    "## Look at how often characters are used"
   ]
  },
  {
   "cell_type": "code",
   "execution_count": 39,
   "id": "a1c6aac0",
   "metadata": {},
   "outputs": [],
   "source": [
    "chars = defaultdict(int)\n",
    "for word, freq in new:\n",
    "    counts = Counter(word)\n",
    "    for c, n in counts.items():\n",
    "        chars[c] += n * freq"
   ]
  },
  {
   "cell_type": "code",
   "execution_count": 40,
   "id": "8aa58e9e",
   "metadata": {
    "scrolled": true
   },
   "outputs": [
    {
     "name": "stdout",
     "output_type": "stream",
     "text": [
      "a 4037155287\n",
      "l 1778385944\n",
      "i 2576731874\n",
      "m 1113043937\n",
      "n 2124650937\n",
      "r 2168575361\n",
      "d 1158749086\n",
      "v 297950477\n",
      "k 229055867\n",
      "w 242184169\n",
      "o 2312754508\n",
      "f 437132114\n",
      "u 1099590274\n",
      "b 508137107\n",
      "c 1445873493\n",
      "t 1972650864\n",
      "e 3223351923\n",
      "y 487128387\n",
      "s 1995752635\n",
      "h 847848271\n",
      "x 94522787\n",
      "g 581379950\n",
      "z 77450151\n",
      "j 102260471\n",
      "p 966797908\n",
      "q 42696521\n",
      "å 4961264\n",
      "ô 1610442\n",
      "é 14101442\n",
      "è 1129784\n",
      "î 99838\n",
      "æ 709600\n",
      "ß 18698\n",
      "ü 2702049\n",
      "ä 5612947\n",
      "ö 6614731\n",
      "à 483978\n",
      "ã 7476540\n",
      "â 2840961\n",
      "á 20488858\n",
      "ø 4002871\n",
      "ó 13543907\n",
      "ç 3714903\n",
      "ñ 1328256\n",
      "ú 1283447\n",
      "í 11208184\n",
      "ë 160571\n",
      "ê 1424301\n",
      "ý 20719\n",
      "ï 74536\n",
      "ò 7803\n",
      "ì 68566\n",
      "û 66797\n",
      "õ 242365\n",
      "č 13588\n",
      "ě 13309\n",
      "œ 8064\n",
      "ğ 1882\n",
      "š 33523\n",
      "ą 1037\n",
      "ū 19616\n",
      "þ 1660\n",
      "ŕ 13\n",
      "ń 1337\n",
      "µ 16216\n",
      "ř 2478\n",
      "ġ 23\n",
      "ħ 1917\n",
      "ă 2436\n",
      "ł 3880\n",
      "ž 3237\n",
      "ð 15412\n",
      "ę 221\n",
      "ś 1774\n",
      "ĕ 1763\n",
      "ć 2334\n",
      "ō 3100\n",
      "ı 1861\n",
      "ş 2594\n",
      "ù 20564\n",
      "į 6\n",
      "ż 972\n",
      "ā 9502\n",
      "º 50255\n",
      "ŏ 574\n",
      "ī 3984\n",
      "ľ 62\n",
      "ţ 1174\n",
      "ů 158\n",
      "ė 104\n",
      "ň 3745\n",
      "ŷ 10\n",
      "ª 43946\n",
      "ÿ 2340\n",
      "ŋ 5\n",
      "ē 180\n",
      "ő 367\n",
      "ď 115\n",
      "ű 32\n",
      "đ 574\n",
      "ĩ 713\n",
      "ũ 288\n",
      "ĭ 63\n",
      "ź 93\n",
      "ŝ 4\n",
      "ŭ 446\n",
      "ť 42\n",
      "ĉ 11\n",
      "ŵ 408\n",
      "ĺ 5\n",
      "ĝ 2\n",
      "ļ 8\n",
      "ċ 36\n",
      "ķ 2\n",
      "ņ 2\n"
     ]
    }
   ],
   "source": [
    "for c, n in chars.items():\n",
    "    print(c, n)"
   ]
  },
  {
   "cell_type": "code",
   "execution_count": 43,
   "id": "1dfa5b91",
   "metadata": {},
   "outputs": [
    {
     "data": {
      "text/plain": [
       "'abcdefghijklmnopqrstuvwxyzªµºßàáâãäåæçèéêëìíîïðñóôõöøùúûüýčěšū'"
      ]
     },
     "execution_count": 43,
     "metadata": {},
     "output_type": "execute_result"
    }
   ],
   "source": [
    "use = [c for c, n in chars.items() if n >= 10_000]\n",
    "''.join(sorted(use))"
   ]
  },
  {
   "cell_type": "code",
   "execution_count": null,
   "id": "b166f56c",
   "metadata": {},
   "outputs": [],
   "source": []
  }
 ],
 "metadata": {
  "kernelspec": {
   "display_name": "Python 3 (ipykernel)",
   "language": "python",
   "name": "python3"
  },
  "language_info": {
   "codemirror_mode": {
    "name": "ipython",
    "version": 3
   },
   "file_extension": ".py",
   "mimetype": "text/x-python",
   "name": "python",
   "nbconvert_exporter": "python",
   "pygments_lexer": "ipython3",
   "version": "3.9.5"
  }
 },
 "nbformat": 4,
 "nbformat_minor": 5
}
