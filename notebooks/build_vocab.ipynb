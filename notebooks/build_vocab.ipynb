{
 "cells": [
  {
   "cell_type": "markdown",
   "id": "c7c78da5",
   "metadata": {},
   "source": [
    "# Build a vocabulary"
   ]
  },
  {
   "cell_type": "code",
   "execution_count": 1,
   "id": "3d2698a3",
   "metadata": {},
   "outputs": [],
   "source": [
    "import sys\n",
    "sys.path.append('..')"
   ]
  },
  {
   "cell_type": "code",
   "execution_count": 2,
   "id": "a25420cc",
   "metadata": {},
   "outputs": [],
   "source": [
    "import sqlite3\n",
    "from collections import defaultdict\n",
    "from pathlib import Path\n",
    "from zipfile import ZipFile\n",
    "\n",
    "import chardet\n",
    "import nltk\n",
    "import regex as re\n",
    "from tqdm import tqdm\n",
    "\n",
    "from digi_leap.pylib import db\n",
    "from digi_leap.pylib import vocab"
   ]
  },
  {
   "cell_type": "code",
   "execution_count": 3,
   "id": "c92619a0",
   "metadata": {},
   "outputs": [],
   "source": [
    "DATA = Path('..') / 'data' / 'raw'\n",
    "\n",
    "IDIGBIO = DATA / 'occurrence_raw_idigbio_2021-02.sqlite3.db'\n",
    "ITIS = DATA / 'ITIS.sqlite'\n",
    "NLTK = DATA / 'nltk_corpora'\n",
    "VOCAB = vocab.VOCAB_DB"
   ]
  },
  {
   "cell_type": "code",
   "execution_count": 4,
   "id": "8e6eb0d7",
   "metadata": {},
   "outputs": [],
   "source": [
    "WORDS = defaultdict(int)"
   ]
  },
  {
   "cell_type": "markdown",
   "id": "050c60d1",
   "metadata": {},
   "source": [
    "## Common functions"
   ]
  },
  {
   "cell_type": "code",
   "execution_count": 5,
   "id": "30d2b7d7",
   "metadata": {},
   "outputs": [],
   "source": [
    "def text_to_vocab(text):\n",
    "    words = vocab.text_to_words(text)\n",
    "    words = [w for w in words if not vocab.is_number(w)]\n",
    "    for w in words:\n",
    "        WORDS[w] += 1"
   ]
  },
  {
   "cell_type": "markdown",
   "id": "7afe23cd",
   "metadata": {},
   "source": [
    "## Get NLTK corpora"
   ]
  },
  {
   "cell_type": "code",
   "execution_count": 6,
   "id": "db52be1f",
   "metadata": {},
   "outputs": [],
   "source": [
    "SKIPS = {'README', 'LICENSE'}"
   ]
  },
  {
   "cell_type": "code",
   "execution_count": 7,
   "id": "c16ec53c",
   "metadata": {},
   "outputs": [],
   "source": [
    "def read_nltk(zip_file):\n",
    "    print(f'\\n{zip_file}')\n",
    "    zip_path = NLTK / zip_file\n",
    "    stem = zip_path.stem\n",
    "    with ZipFile(zip_path) as zippy:\n",
    "        for info in zippy.infolist():\n",
    "            if Path(info.filename).stem in SKIPS or info.is_dir():\n",
    "                continue\n",
    "            print(info.filename)\n",
    "            for ln in zippy.open(info.filename):\n",
    "                enc = chardet.detect(ln)['encoding']  # Slow\n",
    "                ln = ln.decode(enc)\n",
    "                text_to_vocab(ln)"
   ]
  },
  {
   "cell_type": "code",
   "execution_count": 8,
   "id": "18226896",
   "metadata": {},
   "outputs": [
    {
     "name": "stdout",
     "output_type": "stream",
     "text": [
      "\n",
      "words.zip\n",
      "words/en\n",
      "words/en-basic\n",
      "\n",
      "gazetteers.zip\n",
      "gazetteers/caprovinces.txt\n",
      "gazetteers/countries.txt\n",
      "gazetteers/isocountries.txt\n",
      "gazetteers/mexstates.txt\n",
      "gazetteers/nationalities.txt\n",
      "gazetteers/uscities.txt\n",
      "gazetteers/usstateabbrev.txt\n",
      "gazetteers/usstates.txt\n",
      "\n",
      "gutenberg.zip\n",
      "gutenberg/austen-emma.txt\n",
      "gutenberg/austen-persuasion.txt\n",
      "gutenberg/austen-sense.txt\n",
      "gutenberg/bible-kjv.txt\n",
      "gutenberg/blake-poems.txt\n",
      "gutenberg/bryant-stories.txt\n",
      "gutenberg/burgess-busterbrown.txt\n",
      "gutenberg/carroll-alice.txt\n",
      "gutenberg/chesterton-ball.txt\n",
      "gutenberg/chesterton-brown.txt\n",
      "gutenberg/chesterton-thursday.txt\n",
      "gutenberg/edgeworth-parents.txt\n",
      "gutenberg/melville-moby_dick.txt\n",
      "gutenberg/milton-paradise.txt\n",
      "gutenberg/shakespeare-caesar.txt\n",
      "gutenberg/shakespeare-hamlet.txt\n",
      "gutenberg/shakespeare-macbeth.txt\n",
      "gutenberg/whitman-leaves.txt\n",
      "\n",
      "names.zip\n",
      "names/female.txt\n",
      "names/male.txt\n",
      "\n",
      "webtext.zip\n",
      "webtext/firefox.txt\n",
      "webtext/grail.txt\n",
      "webtext/overheard.txt\n",
      "webtext/pirates.txt\n",
      "webtext/singles.txt\n",
      "webtext/wine.txt\n"
     ]
    }
   ],
   "source": [
    "read_nltk('words.zip')\n",
    "read_nltk('gazetteers.zip')\n",
    "read_nltk('gutenberg.zip')\n",
    "read_nltk('names.zip')\n",
    "read_nltk('webtext.zip')"
   ]
  },
  {
   "cell_type": "markdown",
   "id": "f42384f7",
   "metadata": {},
   "source": [
    "## Get ITIS data"
   ]
  },
  {
   "cell_type": "code",
   "execution_count": 9,
   "id": "b7442e25",
   "metadata": {},
   "outputs": [],
   "source": [
    "def itis_names():\n",
    "    sql = \"\"\"\n",
    "        select expert as name from experts\n",
    "        union select reference_author from publications\n",
    "        union select shortauthor from strippedauthor\n",
    "        union select short_author from taxon_authors_lkp\n",
    "        \"\"\"\n",
    "    for row in tqdm(db.select_records(ITIS, sql)):\n",
    "        text_to_vocab(row[0])"
   ]
  },
  {
   "cell_type": "code",
   "execution_count": 10,
   "id": "7fa8a4eb",
   "metadata": {},
   "outputs": [],
   "source": [
    "def itis_taxa():\n",
    "    # Data is normalized so don't bother with union \"all\"\n",
    "    sql = \"\"\"\n",
    "        select unit_name1 as name from taxonomic_units where unit_name1 is not null\n",
    "        union select unit_name2 from taxonomic_units where unit_name2 is not null\n",
    "        union select unit_name3 from taxonomic_units where unit_name3 is not null\n",
    "        union select unit_name4 from taxonomic_units where unit_name4 is not null\n",
    "        \"\"\"\n",
    "    for row in tqdm(db.select_records(ITIS, sql)):\n",
    "        text_to_vocab(row[0])"
   ]
  },
  {
   "cell_type": "code",
   "execution_count": 11,
   "id": "e7fc903c",
   "metadata": {},
   "outputs": [],
   "source": [
    "def itis_vernaculars():\n",
    "    sql = \"\"\"select vernacular_name from vernaculars\"\"\"\n",
    "    for row in tqdm(db.select_records(ITIS, sql)):\n",
    "        text_to_vocab(row[0])"
   ]
  },
  {
   "cell_type": "code",
   "execution_count": 12,
   "id": "c916eca5",
   "metadata": {},
   "outputs": [
    {
     "name": "stderr",
     "output_type": "stream",
     "text": [
      "168721it [00:02, 79171.79it/s]\n",
      "291801it [00:01, 159727.94it/s]\n",
      "131983it [00:01, 98755.24it/s]\n"
     ]
    }
   ],
   "source": [
    "itis_names()\n",
    "itis_taxa()\n",
    "itis_vernaculars()"
   ]
  },
  {
   "cell_type": "markdown",
   "id": "ac500c00",
   "metadata": {},
   "source": [
    "## Get iDigBio data"
   ]
  },
  {
   "cell_type": "code",
   "execution_count": 13,
   "id": "e6995dfd",
   "metadata": {},
   "outputs": [],
   "source": [
    "TAXON_COLS = \"\"\"\n",
    "    accepted_name_usage class family genus group\n",
    "    higher_classification infraspecific_epithet\n",
    "    kingdom order original_name_usage phylum\n",
    "    previous_identifications scientific_name\n",
    "    specific_epithet subgenus taxon_rank\n",
    "    verbatim_taxon_rank vernacular_name parent_name_usage\n",
    "    verbatim_scientific_name\n",
    "    \"\"\".split()\n",
    "\n",
    "NAME_COLS = \"\"\"\n",
    "    georeferenced_by identified_by location_according_to\n",
    "    name_according_to recorded_by scientific_name_authorship\n",
    "    record_entered_by \n",
    "    \"\"\".split()\n",
    "\n",
    "PLACE_COLS = \"\"\"\n",
    "    continent country country_code county island\n",
    "    island_group municipality higher_geography\n",
    "    state_province verbatim_coordinate_system\n",
    "    verbatim_coordinates verbatim_elevation\n",
    "    verbatim_latitude verbatim_longitude water_body\n",
    "    georeference_protocol verbatim_srs\n",
    "    \"\"\".split()\n",
    "\n",
    "WORD_COLS = \"\"\"\n",
    "    dataset_name dwc_rights_holder dwc_verbatim_event_date\n",
    "    establishment_means event_remarks georeference_remarks\n",
    "    georeference_sources habitat identification_remarks\n",
    "    information_withheld life_stage locality location_remarks\n",
    "    occurrence_remarks organism_remarks\n",
    "    georeference_verification_status name_published_in\n",
    "    owner_institution_code preparations reproductive_condition\n",
    "    rights_holder sampling_protocol sex taxon_remarks\n",
    "    taxonomic_status type_status verbatim_event_date\n",
    "    verbatim_locality\n",
    "    \"\"\".split()\n",
    "\n",
    "COLUMNS = TAXON_COLS + NAME_COLS + PLACE_COLS + WORD_COLS"
   ]
  },
  {
   "cell_type": "code",
   "execution_count": 14,
   "id": "e045d74c",
   "metadata": {},
   "outputs": [],
   "source": [
    "def idigbio_data():\n",
    "    columns = [f\"`{c}`\" for c in COLUMNS]\n",
    "    sql = f\"\"\"select {', '.join(columns)} from occurrence_raw\"\"\"\n",
    "    for row in tqdm(db.select_records(IDIGBIO, sql)):\n",
    "        row = dict(row)   \n",
    "        for col in COLUMNS:\n",
    "            text_to_vocab(row[col])"
   ]
  },
  {
   "cell_type": "code",
   "execution_count": null,
   "id": "2537caca",
   "metadata": {},
   "outputs": [
    {
     "name": "stderr",
     "output_type": "stream",
     "text": [
      "18220777it [1:49:44, 2928.15it/s]"
     ]
    }
   ],
   "source": [
    "idigbio_data()"
   ]
  },
  {
   "cell_type": "markdown",
   "id": "ea268357",
   "metadata": {},
   "source": [
    "## Write to the vocab database"
   ]
  },
  {
   "cell_type": "code",
   "execution_count": null,
   "id": "e521cc4b",
   "metadata": {},
   "outputs": [],
   "source": [
    "def to_vocab_db():\n",
    "    db.create_vocab_table(VOCAB, drop=True)\n",
    "    batch = list(WORDS.items())\n",
    "    db.insert_vocabulary_words(VOCAB, batch)"
   ]
  },
  {
   "cell_type": "code",
   "execution_count": null,
   "id": "45179f9d",
   "metadata": {},
   "outputs": [],
   "source": [
    "to_vocab_db()"
   ]
  },
  {
   "cell_type": "code",
   "execution_count": null,
   "id": "711372c1",
   "metadata": {},
   "outputs": [],
   "source": []
  }
 ],
 "metadata": {
  "kernelspec": {
   "display_name": "Python 3 (ipykernel)",
   "language": "python",
   "name": "python3"
  },
  "language_info": {
   "codemirror_mode": {
    "name": "ipython",
    "version": 3
   },
   "file_extension": ".py",
   "mimetype": "text/x-python",
   "name": "python",
   "nbconvert_exporter": "python",
   "pygments_lexer": "ipython3",
   "version": "3.9.5"
  }
 },
 "nbformat": 4,
 "nbformat_minor": 5
}
