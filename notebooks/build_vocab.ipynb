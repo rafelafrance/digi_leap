{
 "cells": [
  {
   "cell_type": "markdown",
   "id": "90fcdffe",
   "metadata": {},
   "source": [
    "# Build a vocabulary"
   ]
  },
  {
   "cell_type": "code",
   "execution_count": 18,
   "id": "0f2d3add",
   "metadata": {},
   "outputs": [],
   "source": [
    "import sys\n",
    "sys.path.append('..')"
   ]
  },
  {
   "cell_type": "code",
   "execution_count": 19,
   "id": "19c06af2",
   "metadata": {},
   "outputs": [],
   "source": [
    "import sqlite3\n",
    "from collections import Counter\n",
    "from pathlib import Path\n",
    "from zipfile import ZipFile\n",
    "\n",
    "import chardet\n",
    "import nltk\n",
    "import regex as re\n",
    "from tqdm import tqdm\n",
    "\n",
    "from digi_leap.pylib import db\n",
    "from digi_leap.pylib import vocab"
   ]
  },
  {
   "cell_type": "code",
   "execution_count": 20,
   "id": "016ac352",
   "metadata": {},
   "outputs": [],
   "source": [
    "DATA = Path('..') / 'data' / 'raw'\n",
    "\n",
    "IDIGBIO = DATA / 'occurrence_raw_idigbio_2021-02.sqlite3.db'\n",
    "ITIS = DATA / 'ITIS.sqlite'\n",
    "NLTK = DATA / 'nltk_corpora'\n",
    "VOCAB = vocab.VOCAB_DB"
   ]
  },
  {
   "cell_type": "code",
   "execution_count": 4,
   "id": "ebaabf9c",
   "metadata": {},
   "outputs": [],
   "source": [
    "WORDS = Counter()"
   ]
  },
  {
   "cell_type": "markdown",
   "id": "6df321a9",
   "metadata": {},
   "source": [
    "## Common functions"
   ]
  },
  {
   "cell_type": "code",
   "execution_count": 5,
   "id": "2c96073b",
   "metadata": {},
   "outputs": [],
   "source": [
    "def text_to_vocab(text):\n",
    "    words = re.findall(r'\\w+', text)\n",
    "    words = [w for w in words if not vocab.is_number(w)]\n",
    "    WORDS.update(words)"
   ]
  },
  {
   "cell_type": "markdown",
   "id": "73f5b7f0",
   "metadata": {},
   "source": [
    "## Get NLTK corpora"
   ]
  },
  {
   "cell_type": "code",
   "execution_count": 6,
   "id": "a2886222",
   "metadata": {},
   "outputs": [],
   "source": [
    "SKIPS = {'README', 'LICENSE'}"
   ]
  },
  {
   "cell_type": "code",
   "execution_count": 7,
   "id": "1fcfd872",
   "metadata": {},
   "outputs": [],
   "source": [
    "def read_nltk(zip_file):\n",
    "    print(f'\\n{zip_file}')\n",
    "    zip_path = NLTK / zip_file\n",
    "    stem = zip_path.stem\n",
    "    with ZipFile(zip_path) as zippy:\n",
    "        for info in zippy.infolist():\n",
    "            if Path(info.filename).stem in SKIPS or info.is_dir():\n",
    "                continue\n",
    "            print(info.filename)\n",
    "            for ln in zippy.open(info.filename):\n",
    "                enc = chardet.detect(ln)['encoding']  # Slow\n",
    "                ln = ln.decode(enc)\n",
    "                text_to_vocab(ln)"
   ]
  },
  {
   "cell_type": "code",
   "execution_count": 8,
   "id": "df089681",
   "metadata": {},
   "outputs": [
    {
     "name": "stdout",
     "output_type": "stream",
     "text": [
      "\n",
      "words.zip\n",
      "words/en\n",
      "words/en-basic\n",
      "\n",
      "gazetteers.zip\n",
      "gazetteers/caprovinces.txt\n",
      "gazetteers/countries.txt\n",
      "gazetteers/isocountries.txt\n",
      "gazetteers/mexstates.txt\n",
      "gazetteers/nationalities.txt\n",
      "gazetteers/uscities.txt\n",
      "gazetteers/usstateabbrev.txt\n",
      "gazetteers/usstates.txt\n",
      "\n",
      "gutenberg.zip\n",
      "gutenberg/austen-emma.txt\n",
      "gutenberg/austen-persuasion.txt\n",
      "gutenberg/austen-sense.txt\n",
      "gutenberg/bible-kjv.txt\n",
      "gutenberg/blake-poems.txt\n",
      "gutenberg/bryant-stories.txt\n",
      "gutenberg/burgess-busterbrown.txt\n",
      "gutenberg/carroll-alice.txt\n",
      "gutenberg/chesterton-ball.txt\n",
      "gutenberg/chesterton-brown.txt\n",
      "gutenberg/chesterton-thursday.txt\n",
      "gutenberg/edgeworth-parents.txt\n",
      "gutenberg/melville-moby_dick.txt\n",
      "gutenberg/milton-paradise.txt\n",
      "gutenberg/shakespeare-caesar.txt\n",
      "gutenberg/shakespeare-hamlet.txt\n",
      "gutenberg/shakespeare-macbeth.txt\n",
      "gutenberg/whitman-leaves.txt\n",
      "\n",
      "names.zip\n",
      "names/female.txt\n",
      "names/male.txt\n",
      "\n",
      "webtext.zip\n",
      "webtext/firefox.txt\n",
      "webtext/grail.txt\n",
      "webtext/overheard.txt\n",
      "webtext/pirates.txt\n",
      "webtext/singles.txt\n",
      "webtext/wine.txt\n"
     ]
    }
   ],
   "source": [
    "read_nltk('words.zip')\n",
    "read_nltk('gazetteers.zip')\n",
    "read_nltk('gutenberg.zip')\n",
    "read_nltk('names.zip')\n",
    "read_nltk('webtext.zip')"
   ]
  },
  {
   "cell_type": "markdown",
   "id": "d67ad1dc",
   "metadata": {},
   "source": [
    "## Get ITIS data"
   ]
  },
  {
   "cell_type": "code",
   "execution_count": 9,
   "id": "7d8343bd",
   "metadata": {},
   "outputs": [],
   "source": [
    "def itis_names():\n",
    "    sql = \"\"\"\n",
    "        select expert as name from experts\n",
    "        union select reference_author from publications\n",
    "        union select shortauthor from strippedauthor\n",
    "        union select short_author from taxon_authors_lkp\n",
    "        \"\"\"\n",
    "    for row in tqdm(db.build_select(ITIS, sql)):\n",
    "        text_to_vocab(row[0])"
   ]
  },
  {
   "cell_type": "code",
   "execution_count": 10,
   "id": "c28ca9f9",
   "metadata": {},
   "outputs": [],
   "source": [
    "def itis_taxa():\n",
    "    # Data is normalized so don't bother with union \"all\"\n",
    "    sql = \"\"\"\n",
    "        select unit_name1 as name from taxonomic_units where unit_name1 is not null\n",
    "        union select unit_name2 from taxonomic_units where unit_name2 is not null\n",
    "        union select unit_name3 from taxonomic_units where unit_name3 is not null\n",
    "        union select unit_name4 from taxonomic_units where unit_name4 is not null\n",
    "        \"\"\"\n",
    "    for row in tqdm(db.build_select(ITIS, sql)):\n",
    "        text_to_vocab(row[0])"
   ]
  },
  {
   "cell_type": "code",
   "execution_count": 11,
   "id": "2b1070a0",
   "metadata": {},
   "outputs": [],
   "source": [
    "def itis_vernaculars():\n",
    "    sql = \"\"\"select vernacular_name from vernaculars\"\"\"\n",
    "    for row in tqdm(db.build_select(ITIS, sql)):\n",
    "        text_to_vocab(row[0])"
   ]
  },
  {
   "cell_type": "code",
   "execution_count": 12,
   "id": "3a987f2e",
   "metadata": {},
   "outputs": [
    {
     "name": "stderr",
     "output_type": "stream",
     "text": [
      "168721it [00:02, 81585.72it/s]\n",
      "291801it [00:02, 143135.46it/s]\n",
      "131983it [00:01, 93648.13it/s]\n"
     ]
    }
   ],
   "source": [
    "itis_names()\n",
    "itis_taxa()\n",
    "itis_vernaculars()"
   ]
  },
  {
   "cell_type": "markdown",
   "id": "8aee106c",
   "metadata": {},
   "source": [
    "## Get iDigBio data"
   ]
  },
  {
   "cell_type": "code",
   "execution_count": 13,
   "id": "33735b56",
   "metadata": {},
   "outputs": [],
   "source": [
    "TAXON_COLS = \"\"\"\n",
    "    accepted_name_usage class family genus group\n",
    "    higher_classification infraspecific_epithet\n",
    "    kingdom order original_name_usage phylum\n",
    "    previous_identifications scientific_name\n",
    "    specific_epithet subgenus taxon_rank\n",
    "    verbatim_taxon_rank vernacular_name parent_name_usage\n",
    "    verbatim_scientific_name\n",
    "    \"\"\".split()\n",
    "\n",
    "NAME_COLS = \"\"\"\n",
    "    georeferenced_by identified_by location_according_to\n",
    "    name_according_to recorded_by scientific_name_authorship\n",
    "    record_entered_by \n",
    "    \"\"\".split()\n",
    "\n",
    "PLACE_COLS = \"\"\"\n",
    "    continent country country_code county island\n",
    "    island_group municipality higher_geography\n",
    "    state_province verbatim_coordinate_system\n",
    "    verbatim_coordinates verbatim_elevation\n",
    "    verbatim_latitude verbatim_longitude water_body\n",
    "    georeference_protocol verbatim_srs\n",
    "    \"\"\".split()\n",
    "\n",
    "WORD_COLS = \"\"\"\n",
    "    dataset_name dwc_rights_holder dwc_verbatim_event_date\n",
    "    establishment_means event_remarks georeference_remarks\n",
    "    georeference_sources habitat identification_remarks\n",
    "    information_withheld life_stage locality location_remarks\n",
    "    occurrence_remarks organism_remarks\n",
    "    georeference_verification_status name_published_in\n",
    "    owner_institution_code preparations reproductive_condition\n",
    "    rights_holder sampling_protocol sex taxon_remarks\n",
    "    taxonomic_status type_status verbatim_event_date\n",
    "    verbatim_locality\n",
    "    \"\"\".split()\n",
    "\n",
    "COLUMNS = TAXON_COLS + NAME_COLS + PLACE_COLS + WORD_COLS"
   ]
  },
  {
   "cell_type": "code",
   "execution_count": 14,
   "id": "1822d3f1",
   "metadata": {},
   "outputs": [],
   "source": [
    "def idigbio_data():\n",
    "    columns = [f\"`{c}`\" for c in COLUMNS]\n",
    "    sql = f\"\"\"select {', '.join(columns)} from occurrence_raw\"\"\"\n",
    "    for row in tqdm(db.build_select(IDIGBIO, sql)):\n",
    "        row = dict(row)\n",
    "        for col in COLUMNS:\n",
    "            text_to_vocab(row[col])"
   ]
  },
  {
   "cell_type": "code",
   "execution_count": 15,
   "id": "fc6b48e9",
   "metadata": {},
   "outputs": [
    {
     "name": "stderr",
     "output_type": "stream",
     "text": [
      "127261791it [13:02:07, 2711.90it/s]\n"
     ]
    }
   ],
   "source": [
    "idigbio_data()"
   ]
  },
  {
   "cell_type": "markdown",
   "id": "88fa7c9c",
   "metadata": {},
   "source": [
    "## Write to the vocab database"
   ]
  },
  {
   "cell_type": "code",
   "execution_count": 16,
   "id": "771e4b6d",
   "metadata": {},
   "outputs": [],
   "source": [
    "def to_vocab_db():\n",
    "    db.create_vocab_table(VOCAB, drop=True)\n",
    "    batch = list(WORDS.items())\n",
    "    db.insert_vocabulary_words(VOCAB, batch)"
   ]
  },
  {
   "cell_type": "code",
   "execution_count": 17,
   "id": "2a363803",
   "metadata": {},
   "outputs": [],
   "source": [
    "to_vocab_db()"
   ]
  },
  {
   "cell_type": "markdown",
   "id": "29db53ef",
   "metadata": {},
   "source": [
    "## Look at the character set"
   ]
  },
  {
   "cell_type": "code",
   "execution_count": 39,
   "id": "0281a96b",
   "metadata": {},
   "outputs": [],
   "source": [
    "with sqlite3.connect(VOCAB) as cxn:\n",
    "    sql = 'select * from vocab'\n",
    "    words = {r[0]: r[1] for r in cxn.execute(sql)}"
   ]
  },
  {
   "cell_type": "code",
   "execution_count": 44,
   "id": "c07837e5",
   "metadata": {},
   "outputs": [
    {
     "name": "stdout",
     "output_type": "stream",
     "text": [
      "['a', 'b', 'c', 'd', 'e', 'f', 'g', 'h', 'i', 'j', 'k', 'l', 'm', 'n', 'o', 'p', 'q', 'r', 's', 't', 'u', 'v', 'w', 'x', 'y', 'z', 'ª', 'µ', 'º', 'ß', 'à', 'á', 'â', 'ã', 'ä', 'å', 'æ', 'ç', 'è', 'é', 'ê', 'ë', 'ì', 'í', 'î', 'ï', 'ð', 'ñ', 'ò', 'ó', 'ô', 'õ', 'ö', 'ø', 'ù', 'ú', 'û', 'ü', 'ý', 'þ', 'ÿ', 'ā', 'ă', 'ą', 'ć', 'ĉ', 'ċ', 'č', 'ď', 'đ', 'ē', 'ĕ', 'ė', 'ę', 'ě', 'ĝ', 'ğ', 'ġ', 'ħ', 'ĩ', 'ī', 'ĭ', 'į', 'ı', 'ķ', 'ĺ', 'ļ', 'ľ', 'ł', 'ń', 'ņ', 'ň', 'ŋ', 'ō', 'ŏ', 'ő', 'œ', 'ŕ', 'ř', 'ś', 'ŝ', 'ş', 'š', 'ţ', 'ť', 'ũ', 'ū', 'ŭ', 'ů', 'ű', 'ŵ', 'ŷ', 'ź', 'ż', 'ž', 'ſ', 'ƒ', 'ơ', 'ư', 'ǀ', 'ǁ', 'ǎ', 'ǝ', 'ǥ', 'ǫ', 'ǿ', 'ȃ', 'ȋ', 'ș', 'ț', 'ȳ', 'ə', 'ɛ', 'ɶ', 'ʻ', 'ʼ', 'ʽ', 'ʿ', 'ˆ', '̀', '́', '̂', '̃', '̄', '̆', '̇', '̈', '̊', '̋', '̌', '̍', '̜', '̢', '̦', '̧', '̩', '̬', '̱', '̲', '͠', '͡', 'ͦ', 'ͱ', 'ʹ', 'ͻ', 'ΐ', 'ά', 'έ', 'ή', 'ί', 'α', 'β', 'γ', 'δ', 'ε', 'ζ', 'η', 'θ', 'ι', 'κ', 'λ', 'μ', 'ν', 'ο', 'π', 'ρ', 'ς', 'σ', 'τ', 'υ', 'φ', 'χ', 'ω', 'ό', 'ύ', 'ώ', 'а', 'б', 'в', 'г', 'д', 'е', 'ж', 'з', 'и', 'й', 'к', 'л', 'м', 'н', 'о', 'п', 'р', 'с', 'т', 'у', 'ф', 'х', 'ц', 'ч', 'ш', 'щ', 'ъ', 'ы', 'ь', 'э', 'ю', 'я', 'ѐ', 'ё', 'ђ', 'є', 'і', 'ї', 'ѣ', 'ҫ', 'ӑ', 'ә', 'ӧ', 'ө', 'ա', 'գ', 'ե', 'ի', 'լ', 'կ', 'հ', 'ձ', 'ղ', 'յ', 'ն', 'ո', 'ռ', 'ս', 'վ', 'ր', 'ւ', 'ք', 'א', 'ב', 'ד', 'ה', 'ו', 'ז', 'ח', 'י', 'כ', 'ל', 'ם', 'מ', 'ן', 'פ', 'צ', 'ר', 'ש', 'ת', 'آ', 'أ', 'ا', 'ب', 'ة', 'ت', 'ج', 'ح', 'خ', 'د', 'ذ', 'ر', 'ز', 'س', 'ش', 'ص', 'ض', 'ط', 'ظ', 'ع', 'غ', 'ف', 'ق', 'ك', 'ل', 'م', 'ن', 'ه', 'و', 'ى', 'ي', 'َ', 'ی', 'ก', 'ข', 'ค', 'ง', 'จ', 'ช', 'ญ', 'ฎ', 'ณ', 'ด', 'ต', 'ถ', 'ท', 'ธ', 'น', 'บ', 'ป', 'พ', 'ภ', 'ม', 'ย', 'ร', 'ล', 'ว', 'ศ', 'ษ', 'ส', 'ห', 'อ', 'ฮ', 'ะ', 'ั', 'า', 'ำ', 'ิ', 'ี', 'ุ', 'ู', 'เ', 'แ', 'โ', 'ใ', '็', '่', '์', 'ᵃ', 'ḍ', 'ḑ', 'ḥ', 'ḩ', 'ḷ', 'ṁ', 'ṅ', 'ṇ', 'ṣ', 'ṭ', 'ẏ', 'ẓ', 'ẕ', 'ẖ', 'ạ', 'ả', 'ấ', 'ầ', 'ẩ', 'ậ', 'ắ', 'ằ', 'ẵ', 'ặ', 'ẹ', 'ẻ', 'ế', 'ề', 'ể', 'ễ', 'ệ', 'ỉ', 'ị', 'ọ', 'ỏ', 'ố', 'ồ', 'ổ', 'ộ', 'ớ', 'ờ', 'ở', 'ợ', 'ụ', 'ủ', 'ứ', 'ừ', 'ử', 'ữ', 'ỳ', 'ỷ', 'ỹ', 'ό', 'ᾶ', '\\u200c', 'ⁿ', 'ₛ', 'ⱼ', '万', '三', '上', '业', '东', '中', '云', '井', '仙', '佐', '児', '八', '兵', '内', '农', '分', '前', '北', '千', '南', '县', '取', '口', '古', '台', '吉', '吴', '和', '哈', '嘉', '四', '国', '園', '城', '基', '埼', '外', '大', '天', '奈', '媛', '子', '学', '宁', '安', '宜', '宮', '富', '小', '尔', '屏', '山', '岐', '岛', '岡', '岩', '島', '崂', '崎', '川', '州', '市', '广', '広', '庆', '府', '庫', '建', '形', '徳', '徽', '忠', '愛', '手', '投', '新', '木', '本', '村', '東', '林', '栃', '桃', '桥', '梨', '森', '歌', '江', '沖', '沙', '河', '津', '流', '浙', '浮', '海', '港', '湖', '滋', '滨', '潟', '澳', '烟', '熊', '玉', '理', '甘', '田', '疆', '県', '知', '石', '神', '福', '秋', '縄', '縣', '群', '義', '肃', '良', '苏', '茨', '葉', '蒙', '藏', '蘭', '西', '賀', '贵', '赣', '辽', '达', '道', '里', '重', '野', '釜', '長', '长', '門', '阜', '阪', '陕', '隆', '雄', '青', '静', '香', '馬', '高', '鳥', '鹿', '黑', '龍', '龙', 'ꟷ', '가', '강', '경', '고', '구', '군', '금', '남', '대', '덕', '도', '동', '두', '란', '람', '량', '령', '룡', '만', '맹', '모', '묘', '백', '봉', '부', '북', '불', '산', '삼', '상', '서', '성', '수', '시', '악', '안', '암', '양', '어', '역', '연', '오', '옹', '울', '원', '월', '율', '은', '인', '자', '장', '전', '제', '주', '지', '진', '천', '타', '평', '풍', '하', '합', '해', '향', '혜', '화', '황', '흥', 'ﬁ', 'ﬂ']\n"
     ]
    }
   ],
   "source": [
    "chars = set()\n",
    "for word, freq in words.items():\n",
    "    chars |= set(word)\n",
    "\n",
    "print(sorted(chars))"
   ]
  },
  {
   "cell_type": "markdown",
   "id": "cbd94432",
   "metadata": {},
   "source": [
    "## Remove words with certain characters"
   ]
  },
  {
   "cell_type": "code",
   "execution_count": 49,
   "id": "bdfdbf00",
   "metadata": {},
   "outputs": [],
   "source": [
    "old = list(WORDS.items())\n",
    "new = [(w, f) for w, f in old if min(list(w)) >= 'a' and max(list(w)) <= 'ž']\n",
    "new = [(w, f) for w, f in old if not any()]"
   ]
  },
  {
   "cell_type": "code",
   "execution_count": 50,
   "id": "74e92c7f",
   "metadata": {},
   "outputs": [
    {
     "name": "stdout",
     "output_type": "stream",
     "text": [
      "6244256\n",
      "5215544\n"
     ]
    }
   ],
   "source": [
    "print(len(old))\n",
    "print(len(new))"
   ]
  },
  {
   "cell_type": "code",
   "execution_count": 52,
   "id": "a1c6aac0",
   "metadata": {},
   "outputs": [
    {
     "name": "stdout",
     "output_type": "stream",
     "text": [
      "['a', 'b', 'c', 'd', 'e', 'f', 'g', 'h', 'i', 'j', 'k', 'l', 'm', 'n', 'o', 'p', 'q', 'r', 's', 't', 'u', 'v', 'w', 'x', 'y', 'z', 'ª', 'µ', 'º', 'ß', 'à', 'á', 'â', 'ã', 'ä', 'å', 'æ', 'ç', 'è', 'é', 'ê', 'ë', 'ì', 'í', 'î', 'ï', 'ð', 'ñ', 'ò', 'ó', 'ô', 'õ', 'ö', 'ø', 'ù', 'ú', 'û', 'ü', 'ý', 'þ', 'ÿ', 'ā', 'ă', 'ą', 'ć', 'ĉ', 'ċ', 'č', 'ď', 'đ', 'ē', 'ĕ', 'ė', 'ę', 'ě', 'ĝ', 'ğ', 'ġ', 'ģ', 'ĥ', 'ħ', 'ĩ', 'ī', 'ĭ', 'į', 'ı', 'ķ', 'ĺ', 'ļ', 'ľ', 'ŀ', 'ł', 'ń', 'ņ', 'ň', 'ŉ', 'ŋ', 'ō', 'ŏ', 'ő', 'œ', 'ŕ', 'ř', 'ś', 'ŝ', 'ş', 'š', 'ţ', 'ť', 'ũ', 'ū', 'ŭ', 'ů', 'ű', 'ŵ', 'ŷ', 'ź', 'ż', 'ž']\n",
      "119\n",
      "abcdefghijklmnopqrstuvwxyzªµºßàáâãäåæçèéêëìíîïðñòóôõöøùúûüýþÿāăąćĉċčďđēĕėęěĝğġģĥħĩīĭįıķĺļľŀłńņňŉŋōŏőœŕřśŝşšţťũūŭůűŵŷźżž\n"
     ]
    }
   ],
   "source": [
    "chars = set()\n",
    "for word, freq in new:\n",
    "    chars |= set(word)\n",
    "\n",
    "chars = sorted(chars)\n",
    "print(chars)\n",
    "print(len(chars))\n",
    "print(''.join(chars))"
   ]
  },
  {
   "cell_type": "code",
   "execution_count": null,
   "id": "1dfa5b91",
   "metadata": {},
   "outputs": [],
   "source": []
  }
 ],
 "metadata": {
  "kernelspec": {
   "display_name": "Python 3 (ipykernel)",
   "language": "python",
   "name": "python3"
  },
  "language_info": {
   "codemirror_mode": {
    "name": "ipython",
    "version": 3
   },
   "file_extension": ".py",
   "mimetype": "text/x-python",
   "name": "python",
   "nbconvert_exporter": "python",
   "pygments_lexer": "ipython3",
   "version": "3.9.5"
  }
 },
 "nbformat": 4,
 "nbformat_minor": 5
}
