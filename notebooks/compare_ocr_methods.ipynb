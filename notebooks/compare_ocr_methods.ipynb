{
 "cells": [
  {
   "cell_type": "markdown",
   "id": "6f1d91f3-a0c5-4ee2-926e-2091aa6a374e",
   "metadata": {
    "tags": []
   },
   "source": [
    "# Measure contributions of parts of OCR pipeline"
   ]
  },
  {
   "cell_type": "markdown",
   "id": "89a5b980-67c5-41e7-b49e-1bab3d17d789",
   "metadata": {
    "tags": []
   },
   "source": [
    "## Possible OCR pipelines (actions are green)"
   ]
  },
  {
   "cell_type": "markdown",
   "id": "03270b28-13a7-4cd9-8f66-a7d8ebc0853a",
   "metadata": {},
   "source": [
    "![ocr_flow](assets/ocr_flow.drawio.jpg)"
   ]
  },
  {
   "cell_type": "markdown",
   "id": "154a51cd-2831-40b0-b316-81c9926168c1",
   "metadata": {
    "tags": []
   },
   "source": [
    "#### The are 4 groups of actions in the full pipeline (green boxes). The purpose of this notebook is to test if all of these actions really helps with the OCR results, and if they do, by how much.\n",
    "\n",
    "- Which of the 4 image processing pipelines improve OCR performance?\n",
    "- Two OCR engines: `Tesseract` & `EasyOCR`. `Tesseract` is the current leader in open source OCR engines, does adding `EasyOCR` improve the results?\n",
    "- The `combine text` function is only needed if we stick with the ensemble approach. I.e. only if we use more than one image processing pipeline or more than one OCR engine.\n",
    "- The `clean text` function corrects misspellings and common OCR errors with punctuation, spacing, etc. We want to measure its efficacy."
   ]
  },
  {
   "cell_type": "markdown",
   "id": "c6cf0268-53f0-4272-b002-e4d67a04c898",
   "metadata": {
    "tags": []
   },
   "source": [
    "## Comparison strategy"
   ]
  },
  {
   "cell_type": "markdown",
   "id": "138c7d10-a9f7-403e-80b7-39cd294129e7",
   "metadata": {
    "tags": []
   },
   "source": [
    "#### We're doing ablations on the OCR pipeline.\n",
    "- How well do `Tesseract` and `EasyOCR` perform on their own without image pre-processing. I'll also try the engine directly grafted to the `clean text` function.\n",
    "- How well do each of the image pre-processing steps help the OCR process? and which ones work well with which OCR engine. I'm going to try various permutations of these.\n",
    "- Can I whittle this down to one or zero image pre-processing pipelines and one OCR engine? If so, then this would allow me to drop the `combine text` step.\n",
    "- How much does the `clean text` step help?\n",
    "- Note that EasyOCR uses a fair bit of GPU resources and if we can remove it it will speed up the OCR pipeline significantly. I.e. it's difficult to parallelize.\n",
    "\n",
    "#### Scoring\n",
    "- I'll use an expert derived gold standard to compare against the ablation sequences.\n",
    "- I am using Levenshtein distance as the scores. Levenshtein distance counts character mismatches between sequences in a best case pairwise alignment.\n",
    "- I will normalize the Levenshtein distance it by dividing by the length of the gold standard sequence."
   ]
  },
  {
   "cell_type": "markdown",
   "id": "f2158239-7ae2-4812-b2ed-9e5cc63083e7",
   "metadata": {
    "tags": []
   },
   "source": [
    "## Setup"
   ]
  },
  {
   "cell_type": "code",
   "execution_count": 11,
   "id": "3e14a709-4d3f-475d-aac3-05f11b996f1c",
   "metadata": {
    "tags": []
   },
   "outputs": [],
   "source": [
    "import json\n",
    "from collections import defaultdict\n",
    "from itertools import groupby\n",
    "from pathlib import Path\n",
    "from types import SimpleNamespace\n",
    "\n",
    "from digi_leap.pylib import consts\n",
    "from digi_leap.pylib.ocr import ocr_compare as comp"
   ]
  },
  {
   "cell_type": "markdown",
   "id": "ae927e6d-8a61-45e2-89de-70a7c1013a7d",
   "metadata": {
    "tags": []
   },
   "source": [
    "## Constants"
   ]
  },
  {
   "cell_type": "code",
   "execution_count": 2,
   "id": "73ec813d-d7e5-4ab0-8dd4-6b839268727d",
   "metadata": {},
   "outputs": [],
   "source": [
    "ARGS = SimpleNamespace(\n",
    "    database=Path(consts.DATA_DIR / \"sernec\" / \"sernec.sqlite\"),\n",
    "    gold_set=\"test_gold_set\",\n",
    "    score_set=\"notebook_scores\",\n",
    "    notes=\"\",\n",
    "    csv_path=consts.DATA_DIR / \"sernec\" / \"gold_std_2022-06-28_sample.csv\",\n",
    ")"
   ]
  },
  {
   "cell_type": "markdown",
   "id": "e05affe5-8c3f-4efe-bbdc-ba2faac6098e",
   "metadata": {
    "tags": []
   },
   "source": [
    "## Get a gold standard"
   ]
  },
  {
   "cell_type": "code",
   "execution_count": 3,
   "id": "4ce5caba-a91e-4b62-a2c3-bf15410f2f7d",
   "metadata": {},
   "outputs": [],
   "source": [
    "# Save a new gold standard to a database\n",
    "\n",
    "# comp.insert_gold_std(ARGS.csv_path, ARGS.database, ARGS.gold_set)"
   ]
  },
  {
   "cell_type": "code",
   "execution_count": 4,
   "id": "9c9f7fc4-afe7-45d5-977a-d6dc2df81727",
   "metadata": {},
   "outputs": [],
   "source": [
    "# Read a gold standard for the database\n",
    "\n",
    "GOLD_STD = comp.select_gold_std(ARGS.database, ARGS.gold_set)\n",
    "GOLD_DICT = {g[\"gold_id\"]: g for g in GOLD_STD}"
   ]
  },
  {
   "cell_type": "markdown",
   "id": "f8f418c1-45ad-4a68-9b7d-60e80a8945b0",
   "metadata": {
    "tags": []
   },
   "source": [
    "## Get OCR scores"
   ]
  },
  {
   "cell_type": "code",
   "execution_count": 5,
   "id": "89bbc4f9-707a-42ef-8288-ec84d8116e3b",
   "metadata": {},
   "outputs": [],
   "source": [
    "scorer = comp.Scorer(ARGS)"
   ]
  },
  {
   "cell_type": "code",
   "execution_count": 6,
   "id": "9f41ae18-427f-4fc9-9008-55bf19a5bac8",
   "metadata": {},
   "outputs": [
    {
     "name": "stderr",
     "output_type": "stream",
     "text": [
      "100%|████████████████████████████████████████████████████████████████████████████████████████████████████████████████████████████| 4/4 [01:28<00:00, 22.11s/it]\n"
     ]
    }
   ],
   "source": [
    "# Calculate new scores\n",
    "\n",
    "# SCORES = scorer.calculate(GOLD_STD)\n",
    "# scorer.insert_scores(SCORES)"
   ]
  },
  {
   "cell_type": "code",
   "execution_count": 7,
   "id": "ea11a33a-a4d3-496f-8d34-0b0d931a9704",
   "metadata": {},
   "outputs": [],
   "source": [
    "SCORES = scorer.select_scores()"
   ]
  },
  {
   "cell_type": "markdown",
   "id": "5dcd77b7-b28e-42a6-9ac7-7f7960ec4852",
   "metadata": {},
   "source": [
    "## Peek at the scores"
   ]
  },
  {
   "cell_type": "code",
   "execution_count": 8,
   "id": "f7c7959e-6b22-4ad5-a7e2-a1df677ecd47",
   "metadata": {},
   "outputs": [],
   "source": [
    "def peek_scores(scores):\n",
    "    grouped_scores = groupby(scores, key=lambda s: s[\"label_id\"])\n",
    "\n",
    "    for labels_id, scores in grouped_scores:\n",
    "        print(\"=\" * 80)\n",
    "        print(labels_id)\n",
    "        scores = sorted(scores, key=lambda s: (s[\"score\"], len(s[\"actions\"])))\n",
    "        for score in scores:\n",
    "            print(f\"{score['score']:4d}  {score['actions']}\")\n",
    "\n",
    "\n",
    "# peek_scores(SCORES)"
   ]
  },
  {
   "cell_type": "code",
   "execution_count": 12,
   "id": "35e15f03-0307-4705-84c3-ee3904a114bf",
   "metadata": {},
   "outputs": [
    {
     "name": "stdout",
     "output_type": "stream",
     "text": [
      "    0.1734  [[\"\", \"tesseract\"], [\"deskew\", \"tesseract\"], [\"binarize\", \"tesseract\"], [\"denoise\", \"tesseract\"], [\"post_process\"]]\n",
      "    0.1741  [[\"deskew\", \"easyocr\"], [\"deskew\", \"tesseract\"], [\"binarize\", \"easyocr\"], [\"binarize\", \"tesseract\"], [\"post_process\"]]\n",
      "    0.1752  [[\"\", \"easyocr\"], [\"\", \"tesseract\"], [\"deskew\", \"easyocr\"], [\"deskew\", \"tesseract\"], [\"post_process\"]]\n",
      "    0.1760  [[\"\", \"tesseract\"], [\"binarize\", \"tesseract\"], [\"denoise\", \"tesseract\"], [\"post_process\"]]\n",
      "    0.1864  [[\"deskew\", \"tesseract\"], [\"binarize\", \"tesseract\"], [\"denoise\", \"tesseract\"], [\"post_process\"]]\n",
      "    0.2096  [[\"\", \"tesseract\"], [\"deskew\", \"tesseract\"], [\"binarize\", \"tesseract\"], [\"post_process\"]]\n",
      "    0.2098  [[\"binarize\", \"easyocr\"], [\"binarize\", \"tesseract\"], [\"denoise\", \"easyocr\"], [\"denoise\", \"tesseract\"], [\"post_process\"]]\n",
      "    0.2131  [[\"deskew\", \"easyocr\"], [\"deskew\", \"tesseract\"], [\"post_process\"]]\n",
      "    0.2159  [[\"\", \"tesseract\"], [\"deskew\", \"tesseract\"], [\"denoise\", \"tesseract\"], [\"post_process\"]]\n",
      "    0.2165  [[\"binarize\", \"easyocr\"], [\"binarize\", \"tesseract\"], [\"post_process\"]]\n",
      "    0.2182  [[\"deskew\", \"easyocr\"], [\"deskew\", \"tesseract\"], [\"binarize\", \"easyocr\"], [\"binarize\", \"tesseract\"], [\"denoise\", \"easyocr\"], [\"denoise\", \"tesseract\"], [\"post_process\"]]\n",
      "    0.2218  [[\"binarize\", \"tesseract\"], [\"denoise\", \"tesseract\"]]\n",
      "    0.2227  [[\"\", \"tesseract\"], [\"binarize\", \"tesseract\"], [\"denoise\", \"tesseract\"]]\n",
      "    0.2257  [[\"binarize\", \"tesseract\"], [\"denoise\", \"tesseract\"], [\"post_process\"]]\n",
      "    0.2270  [[\"\", \"easyocr\"], [\"\", \"tesseract\"], [\"binarize\", \"easyocr\"], [\"binarize\", \"tesseract\"], [\"denoise\", \"easyocr\"], [\"denoise\", \"tesseract\"], [\"post_process\"]]\n",
      "    0.2279  [[\"deskew\", \"tesseract\"], [\"binarize\", \"tesseract\"], [\"denoise\", \"tesseract\"]]\n",
      "    0.2288  [[\"\", \"easyocr\"], [\"\", \"tesseract\"], [\"deskew\", \"easyocr\"], [\"deskew\", \"tesseract\"], [\"denoise\", \"easyocr\"], [\"denoise\", \"tesseract\"], [\"post_process\"]]\n",
      "    0.2303  [[\"deskew\", \"easyocr\"], [\"deskew\", \"tesseract\"], [\"denoise\", \"easyocr\"], [\"denoise\", \"tesseract\"], [\"post_process\"]]\n",
      "    0.2337  [[\"\", \"easyocr\"], [\"\", \"tesseract\"], [\"denoise\", \"easyocr\"], [\"denoise\", \"tesseract\"], [\"post_process\"]]\n",
      "    0.2377  [[\"\", \"tesseract\"], [\"deskew\", \"tesseract\"], [\"binarize\", \"tesseract\"], [\"denoise\", \"tesseract\"]]\n",
      "    0.2398  [[\"deskew\", \"tesseract\"], [\"denoise\", \"tesseract\"], [\"post_process\"]]\n",
      "    0.2457  [[\"deskew\", \"tesseract\"], [\"binarize\", \"tesseract\"], [\"post_process\"]]\n",
      "    0.2461  [[\"deskew\", \"tesseract\"]]\n",
      "    0.2497  [[\"deskew\", \"tesseract\"], [\"post_process\"]]\n",
      "    0.2541  [[\"deskew\", \"tesseract\"], [\"denoise\", \"tesseract\"]]\n",
      "    0.2569  [[\"\", \"easyocr\"], [\"deskew\", \"easyocr\"], [\"denoise\", \"easyocr\"], [\"post_process\"]]\n",
      "    0.2588  [[\"\", \"easyocr\"], [\"binarize\", \"easyocr\"], [\"denoise\", \"easyocr\"], [\"post_process\"]]\n",
      "    0.2598  [[\"\", \"tesseract\"], [\"deskew\", \"tesseract\"], [\"binarize\", \"tesseract\"]]\n",
      "    0.2613  [[\"deskew\", \"tesseract\"], [\"binarize\", \"tesseract\"]]\n",
      "    0.2635  [[\"\", \"tesseract\"], [\"deskew\", \"tesseract\"], [\"denoise\", \"tesseract\"]]\n",
      "    0.2697  [[\"deskew\", \"easyocr\"], [\"binarize\", \"easyocr\"], [\"post_process\"]]\n",
      "    0.2735  [[\"deskew\", \"easyocr\"], [\"binarize\", \"easyocr\"], [\"denoise\", \"easyocr\"], [\"post_process\"]]\n",
      "    0.2763  [[\"\", \"easyocr\"], [\"deskew\", \"easyocr\"], [\"post_process\"]]\n",
      "    0.2774  [[\"binarize\", \"easyocr\"], [\"binarize\", \"tesseract\"]]\n",
      "    0.2913  [[\"\", \"easyocr\"], [\"\", \"tesseract\"], [\"post_process\"]]\n",
      "    0.2935  [[\"\", \"tesseract\"], [\"denoise\", \"tesseract\"]]\n",
      "    0.2998  [[\"deskew\", \"easyocr\"], [\"deskew\", \"tesseract\"]]\n",
      "    0.3007  [[\"\", \"tesseract\"], [\"denoise\", \"tesseract\"], [\"post_process\"]]\n",
      "    0.3057  [[\"deskew\", \"easyocr\"], [\"deskew\", \"tesseract\"], [\"binarize\", \"easyocr\"], [\"binarize\", \"tesseract\"]]\n",
      "    0.3161  [[\"binarize\", \"easyocr\"], [\"binarize\", \"tesseract\"], [\"denoise\", \"easyocr\"], [\"denoise\", \"tesseract\"]]\n",
      "    0.3196  [[\"\", \"tesseract\"], [\"binarize\", \"tesseract\"], [\"post_process\"]]\n",
      "    0.3232  [[\"binarize\", \"easyocr\"], [\"denoise\", \"easyocr\"], [\"post_process\"]]\n",
      "    0.3251  [[\"binarize\", \"tesseract\"]]\n",
      "    0.3298  [[\"binarize\", \"tesseract\"], [\"post_process\"]]\n",
      "    0.3305  [[\"deskew\", \"easyocr\"], [\"denoise\", \"easyocr\"], [\"post_process\"]]\n",
      "    0.3314  [[\"\", \"easyocr\"], [\"\", \"tesseract\"], [\"deskew\", \"easyocr\"], [\"deskew\", \"tesseract\"]]\n",
      "    0.3373  [[\"\", \"tesseract\"], [\"binarize\", \"tesseract\"]]\n",
      "    0.3406  [[\"\", \"tesseract\"]]\n",
      "    0.3414  [[\"\", \"tesseract\"], [\"deskew\", \"tesseract\"], [\"post_process\"]]\n",
      "    0.3425  [[\"\", \"easyocr\"], [\"denoise\", \"easyocr\"], [\"post_process\"]]\n",
      "    0.3479  [[\"\", \"tesseract\"], [\"post_process\"]]\n",
      "    0.3486  [[\"\", \"tesseract\"], [\"deskew\", \"tesseract\"]]\n",
      "    0.3544  [[\"\", \"easyocr\"], [\"\", \"tesseract\"], [\"binarize\", \"easyocr\"], [\"binarize\", \"tesseract\"], [\"post_process\"]]\n",
      "    0.3561  [[\"deskew\", \"easyocr\"], [\"binarize\", \"easyocr\"]]\n",
      "    0.3592  [[\"denoise\", \"easyocr\"], [\"denoise\", \"tesseract\"], [\"post_process\"]]\n",
      "    0.3724  [[\"\", \"easyocr\"], [\"post_process\"]]\n",
      "    0.3742  [[\"\", \"easyocr\"], [\"\", \"tesseract\"]]\n",
      "    0.3758  [[\"binarize\", \"easyocr\"], [\"denoise\", \"easyocr\"]]\n",
      "    0.3786  [[\"\", \"easyocr\"], [\"\", \"tesseract\"], [\"denoise\", \"easyocr\"], [\"denoise\", \"tesseract\"]]\n",
      "    0.3786  [[\"denoise\", \"tesseract\"]]\n",
      "    0.3859  [[\"denoise\", \"tesseract\"], [\"post_process\"]]\n",
      "    0.3890  [[\"binarize\", \"easyocr\"], [\"post_process\"]]\n",
      "    0.3930  [[\"deskew\", \"easyocr\"], [\"deskew\", \"tesseract\"], [\"binarize\", \"easyocr\"], [\"binarize\", \"tesseract\"], [\"denoise\", \"easyocr\"], [\"denoise\", \"tesseract\"]]\n",
      "    0.3935  [[\"\", \"easyocr\"], [\"\", \"tesseract\"], [\"binarize\", \"easyocr\"], [\"binarize\", \"tesseract\"], [\"denoise\", \"easyocr\"], [\"denoise\", \"tesseract\"]]\n",
      "    0.3955  [[\"deskew\", \"easyocr\"], [\"deskew\", \"tesseract\"], [\"denoise\", \"easyocr\"], [\"denoise\", \"tesseract\"]]\n",
      "    0.4019  [[\"deskew\", \"easyocr\"], [\"binarize\", \"easyocr\"], [\"denoise\", \"easyocr\"]]\n",
      "    0.4052  [[\"\", \"easyocr\"], [\"binarize\", \"easyocr\"], [\"denoise\", \"easyocr\"]]\n",
      "    0.4068  [[\"\", \"easyocr\"], [\"deskew\", \"easyocr\"]]\n",
      "    0.4105  [[\"denoise\", \"easyocr\"], [\"denoise\", \"tesseract\"]]\n",
      "    0.4132  [[\"\", \"easyocr\"], [\"\", \"tesseract\"], [\"deskew\", \"easyocr\"], [\"deskew\", \"tesseract\"], [\"binarize\", \"easyocr\"], [\"binarize\", \"tesseract\"], [\"post_process\"]]\n",
      "    0.4188  [[\"\", \"easyocr\"], [\"deskew\", \"easyocr\"], [\"denoise\", \"easyocr\"]]\n",
      "    0.4253  [[\"\", \"easyocr\"], [\"\", \"tesseract\"], [\"deskew\", \"easyocr\"], [\"deskew\", \"tesseract\"], [\"denoise\", \"easyocr\"], [\"denoise\", \"tesseract\"]]\n",
      "    0.4343  [[\"\", \"easyocr\"], [\"deskew\", \"easyocr\"], [\"binarize\", \"easyocr\"], [\"post_process\"]]\n",
      "    0.4411  [[\"\", \"easyocr\"], [\"binarize\", \"easyocr\"], [\"post_process\"]]\n",
      "    0.4427  [[\"binarize\", \"easyocr\"]]\n",
      "    0.4451  [[\"\", \"easyocr\"]]\n",
      "    0.4465  [[\"deskew\", \"easyocr\"], [\"post_process\"]]\n",
      "    0.4486  [[\"\", \"easyocr\"], [\"deskew\", \"easyocr\"], [\"binarize\", \"easyocr\"], [\"denoise\", \"easyocr\"], [\"post_process\"]]\n",
      "    0.4489  [[\"\", \"easyocr\"], [\"denoise\", \"easyocr\"]]\n",
      "    0.4564  [[\"deskew\", \"easyocr\"], [\"denoise\", \"easyocr\"]]\n",
      "    0.4597  [[\"\", \"easyocr\"], [\"\", \"tesseract\"], [\"deskew\", \"easyocr\"], [\"deskew\", \"tesseract\"], [\"binarize\", \"easyocr\"], [\"binarize\", \"tesseract\"], [\"denoise\", \"easyocr\"], [\"denoise\", \"tesseract\"], [\"post_process\"]]\n",
      "    0.5309  [[\"\", \"easyocr\"], [\"\", \"tesseract\"], [\"binarize\", \"easyocr\"], [\"binarize\", \"tesseract\"]]\n",
      "    0.5324  [[\"deskew\", \"easyocr\"]]\n",
      "    0.5370  [[\"\", \"easyocr\"], [\"binarize\", \"easyocr\"]]\n",
      "    0.6115  [[\"\", \"easyocr\"], [\"deskew\", \"easyocr\"], [\"binarize\", \"easyocr\"]]\n",
      "    0.6195  [[\"\", \"easyocr\"], [\"deskew\", \"easyocr\"], [\"binarize\", \"easyocr\"], [\"denoise\", \"easyocr\"]]\n",
      "    0.6337  [[\"denoise\", \"easyocr\"], [\"post_process\"]]\n",
      "    0.6598  [[\"denoise\", \"easyocr\"]]\n",
      "    0.6635  [[\"\", \"easyocr\"], [\"\", \"tesseract\"], [\"deskew\", \"easyocr\"], [\"deskew\", \"tesseract\"], [\"binarize\", \"easyocr\"], [\"binarize\", \"tesseract\"]]\n",
      "    0.6906  [[\"\", \"easyocr\"], [\"\", \"tesseract\"], [\"deskew\", \"easyocr\"], [\"deskew\", \"tesseract\"], [\"binarize\", \"easyocr\"], [\"binarize\", \"tesseract\"], [\"denoise\", \"easyocr\"], [\"denoise\", \"tesseract\"]]\n"
     ]
    }
   ],
   "source": [
    "def normalized_scores(scores, gold_std):\n",
    "    tally = defaultdict(float)\n",
    "\n",
    "    for score in scores:\n",
    "        gold = gold_std[score[\"gold_id\"]]\n",
    "        denominator = float(len(gold[\"gold_text\"]))\n",
    "        tally[score[\"actions\"]] += score[\"score\"] / denominator\n",
    "\n",
    "    tally = [(v, len(json.loads(k)), k) for k, v in tally.items()]\n",
    "    tally = sorted(tally)\n",
    "\n",
    "    norms = [f\"{s:10.4f}  {a}\" for s, _, a in tally]\n",
    "    return norms\n",
    "\n",
    "\n",
    "norms = normalized_scores(SCORES, GOLD_DICT)\n",
    "\n",
    "for norm in norms:\n",
    "    print(norm)"
   ]
  },
  {
   "cell_type": "code",
   "execution_count": 10,
   "id": "913b1f46-7d2d-4f99-acc6-84f04d497097",
   "metadata": {},
   "outputs": [
    {
     "data": {
      "text/plain": [
       "90"
      ]
     },
     "execution_count": 10,
     "metadata": {},
     "output_type": "execute_result"
    }
   ],
   "source": [
    "len(norms)"
   ]
  },
  {
   "cell_type": "code",
   "execution_count": null,
   "id": "03d92272-69e0-4bca-94fc-229b5c60a596",
   "metadata": {},
   "outputs": [],
   "source": []
  }
 ],
 "metadata": {
  "kernelspec": {
   "display_name": "Python 3 (ipykernel)",
   "language": "python",
   "name": "python3"
  },
  "language_info": {
   "codemirror_mode": {
    "name": "ipython",
    "version": 3
   },
   "file_extension": ".py",
   "mimetype": "text/x-python",
   "name": "python",
   "nbconvert_exporter": "python",
   "pygments_lexer": "ipython3",
   "version": "3.10.4"
  }
 },
 "nbformat": 4,
 "nbformat_minor": 5
}
