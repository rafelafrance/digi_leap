{
 "cells": [
  {
   "cell_type": "markdown",
   "id": "6f1d91f3-a0c5-4ee2-926e-2091aa6a374e",
   "metadata": {
    "tags": []
   },
   "source": [
    "# Measure contributions of parts of OCR pipeline"
   ]
  },
  {
   "cell_type": "markdown",
   "id": "89a5b980-67c5-41e7-b49e-1bab3d17d789",
   "metadata": {
    "tags": []
   },
   "source": [
    "## Possible OCR pipelines (actions are green)"
   ]
  },
  {
   "cell_type": "markdown",
   "id": "03270b28-13a7-4cd9-8f66-a7d8ebc0853a",
   "metadata": {},
   "source": [
    "![ocr_flow](assets/ocr_flow.drawio.jpg)"
   ]
  },
  {
   "cell_type": "markdown",
   "id": "154a51cd-2831-40b0-b316-81c9926168c1",
   "metadata": {
    "tags": []
   },
   "source": [
    "#### The are 4 groups of actions in the full pipeline (green boxes). The purpose of this notebook is to test if all of these actions really helps with the OCR results, and if they do, by how much.\n",
    "\n",
    "- **Find the single best ensemble.**\n",
    "- Which of the 4 image processing pipelines improve OCR performance?\n",
    "- Two OCR engines: `Tesseract` & `EasyOCR`. `Tesseract` is the current leader in open source OCR engines, does adding `EasyOCR` improve the results?\n",
    "- The `combine text` function is only needed if we stick with the ensemble approach. I.e. only if we use more than one image processing pipeline or more than one OCR engine.\n",
    "- The `clean text` function corrects misspellings and common OCR errors with punctuation, spacing, etc. We want to measure its efficacy."
   ]
  },
  {
   "cell_type": "markdown",
   "id": "c6cf0268-53f0-4272-b002-e4d67a04c898",
   "metadata": {
    "tags": []
   },
   "source": [
    "## Comparison strategy"
   ]
  },
  {
   "cell_type": "markdown",
   "id": "138c7d10-a9f7-403e-80b7-39cd294129e7",
   "metadata": {
    "tags": []
   },
   "source": [
    "#### We're doing ablations on the OCR pipeline.\n",
    "- How well do `Tesseract` and `EasyOCR` perform on their own without image pre-processing. I'll also try the engine directly grafted to the `clean text` function.\n",
    "- How well do each of the image pre-processing steps help the OCR process? and which ones work well with which OCR engine. I'm going to try various permutations of these.\n",
    "- Can I whittle this down to one or zero image pre-processing pipelines and one OCR engine? If so, then this would allow me to drop the `combine text` step.\n",
    "- How much does the `clean text` step help?\n",
    "- Note that `EasyOCR` uses a fair bit of GPU resources and if we can remove it it will speed up the OCR pipeline significantly. I.e. `EasyOCR` is difficult to parallelize.\n",
    "\n",
    "#### Scoring\n",
    "- I'll use an expert derived gold standard to compare against the ablation sequences.\n",
    "- I am using Levenshtein distance as the scores. Levenshtein distance counts character mismatches between sequences in a best case pairwise alignment."
   ]
  },
  {
   "cell_type": "markdown",
   "id": "f2158239-7ae2-4812-b2ed-9e5cc63083e7",
   "metadata": {
    "tags": []
   },
   "source": [
    "## Setup"
   ]
  },
  {
   "cell_type": "code",
   "execution_count": 22,
   "id": "3e14a709-4d3f-475d-aac3-05f11b996f1c",
   "metadata": {
    "tags": []
   },
   "outputs": [],
   "source": [
    "import json\n",
    "from IPython.display import display, HTML\n",
    "from collections import defaultdict, namedtuple\n",
    "from datetime import datetime\n",
    "from itertools import groupby\n",
    "from types import SimpleNamespace\n",
    "\n",
    "import jinja2\n",
    "from tqdm import tqdm\n",
    "\n",
    "from digi_leap.pylib import consts\n",
    "from digi_leap.pylib.ocr import ocr_compare as compare"
   ]
  },
  {
   "cell_type": "code",
   "execution_count": 2,
   "id": "71b0edf4-cd7f-42a1-a901-310fb7b0f294",
   "metadata": {
    "tags": []
   },
   "outputs": [
    {
     "data": {
      "text/html": [
       "<style>pre { white-space: pre !important; }</style>"
      ],
      "text/plain": [
       "<IPython.core.display.HTML object>"
      ]
     },
     "metadata": {},
     "output_type": "display_data"
    }
   ],
   "source": [
    "display(HTML(\"<style>pre { white-space: pre !important; }</style>\"))"
   ]
  },
  {
   "cell_type": "code",
   "execution_count": 21,
   "id": "73ec813d-d7e5-4ab0-8dd4-6b839268727d",
   "metadata": {},
   "outputs": [],
   "source": [
    "GOLD_STD_PATH = consts.DATA_DIR / \"sernec\" / \"gold_std_2022-06-28\"\n",
    "\n",
    "ARGS = SimpleNamespace(\n",
    "    database=consts.DATA_DIR / \"sernec\" / \"sernec.sqlite\",\n",
    "    gold_set=\"gold_set_2022-06-28\",\n",
    "    score_set=\"scores_2022-06-28\",\n",
    "    char_set=\"default\",\n",
    "    notes=\"\",\n",
    "    csv_path=GOLD_STD_PATH / \"gold_std_2022-06-28.csv\",\n",
    "    out_file=consts.DATA_DIR / \"output\" / \"compare_pipelines_2022-08-15.html\",\n",
    ")"
   ]
  },
  {
   "cell_type": "markdown",
   "id": "e05affe5-8c3f-4efe-bbdc-ba2faac6098e",
   "metadata": {
    "tags": []
   },
   "source": [
    "## Gold standard"
   ]
  },
  {
   "cell_type": "code",
   "execution_count": 4,
   "id": "4ce5caba-a91e-4b62-a2c3-bf15410f2f7d",
   "metadata": {},
   "outputs": [],
   "source": [
    "# Save a new gold standard to a database\n",
    "\n",
    "# compare.insert_gold_std(ARGS.csv_path, ARGS.database, ARGS.gold_set)"
   ]
  },
  {
   "cell_type": "code",
   "execution_count": 5,
   "id": "9c9f7fc4-afe7-45d5-977a-d6dc2df81727",
   "metadata": {},
   "outputs": [],
   "source": [
    "# Read a gold standard from the database\n",
    "\n",
    "GOLD_STD = compare.select_gold_std(ARGS.database, ARGS.gold_set)\n",
    "GOLD_DICT = {g[\"gold_id\"]: g for g in GOLD_STD}"
   ]
  },
  {
   "cell_type": "markdown",
   "id": "f8f418c1-45ad-4a68-9b7d-60e80a8945b0",
   "metadata": {
    "tags": []
   },
   "source": [
    "## OCR scores"
   ]
  },
  {
   "cell_type": "code",
   "execution_count": 6,
   "id": "89bbc4f9-707a-42ef-8288-ec84d8116e3b",
   "metadata": {},
   "outputs": [],
   "source": [
    "scorer = compare.Scorer(ARGS)"
   ]
  },
  {
   "cell_type": "code",
   "execution_count": 7,
   "id": "9f41ae18-427f-4fc9-9008-55bf19a5bac8",
   "metadata": {},
   "outputs": [
    {
     "name": "stderr",
     "output_type": "stream",
     "text": [
      "100%|████████████████████████████████████████████████████████████████████████████████████████████████████████████| 337/337 [2:48:11<00:00, 29.95s/it]\n"
     ]
    }
   ],
   "source": [
    "# Calculate new scores\n",
    "\n",
    "SCORES = scorer.calculate(GOLD_STD)\n",
    "scorer.insert_scores(SCORES)"
   ]
  },
  {
   "cell_type": "code",
   "execution_count": 8,
   "id": "ea11a33a-a4d3-496f-8d34-0b0d931a9704",
   "metadata": {},
   "outputs": [],
   "source": [
    "SCORES = scorer.select_scores()"
   ]
  },
  {
   "cell_type": "markdown",
   "id": "5dcd77b7-b28e-42a6-9ac7-7f7960ec4852",
   "metadata": {},
   "source": [
    "## Total scores by pipeline"
   ]
  },
  {
   "cell_type": "code",
   "execution_count": 19,
   "id": "35e15f03-0307-4705-84c3-ee3904a114bf",
   "metadata": {},
   "outputs": [
    {
     "name": "stdout",
     "output_type": "stream",
     "text": [
      "PipelineScore(score=2698, pipeline='[[\"deskew\", \"easyocr\"], [\"deskew\", \"tesseract\"], [\"binarize\", \"easyocr\"], [\"binarize\", \"tesseract\"], [\"post_process\"]]')\n",
      "PipelineScore(score=2865, pipeline='[[\"deskew\", \"easyocr\"], [\"deskew\", \"tesseract\"], [\"binarize\", \"easyocr\"], [\"binarize\", \"tesseract\"]]')\n",
      "PipelineScore(score=3356, pipeline='[[\"deskew\", \"tesseract\"], [\"binarize\", \"tesseract\"], [\"denoise\", \"tesseract\"]]')\n",
      "PipelineScore(score=3378, pipeline='[[\"deskew\", \"easyocr\"], [\"deskew\", \"tesseract\"], [\"binarize\", \"easyocr\"], [\"binarize\", \"tesseract\"], [\"denoise\", \"easyocr\"], [\"denoise\", \"tesseract\"], [\"post_process\"]]')\n",
      "PipelineScore(score=3417, pipeline='[[\"deskew\", \"tesseract\"], [\"binarize\", \"tesseract\"], [\"denoise\", \"tesseract\"], [\"post_process\"]]')\n",
      "PipelineScore(score=3714, pipeline='[[\"deskew\", \"easyocr\"], [\"deskew\", \"tesseract\"], [\"binarize\", \"easyocr\"], [\"binarize\", \"tesseract\"], [\"denoise\", \"easyocr\"], [\"denoise\", \"tesseract\"]]')\n",
      "PipelineScore(score=3882, pipeline='[[\"deskew\", \"easyocr\"], [\"deskew\", \"tesseract\"], [\"denoise\", \"easyocr\"], [\"denoise\", \"tesseract\"], [\"post_process\"]]')\n",
      "PipelineScore(score=3938, pipeline='[[\"\", \"tesseract\"], [\"binarize\", \"tesseract\"], [\"denoise\", \"tesseract\"]]')\n",
      "PipelineScore(score=3956, pipeline='[[\"deskew\", \"easyocr\"], [\"deskew\", \"tesseract\"], [\"denoise\", \"easyocr\"], [\"denoise\", \"tesseract\"]]')\n",
      "PipelineScore(score=4009, pipeline='[[\"\", \"tesseract\"], [\"binarize\", \"tesseract\"], [\"denoise\", \"tesseract\"], [\"post_process\"]]')\n",
      "PipelineScore(score=4119, pipeline='[[\"\", \"tesseract\"], [\"deskew\", \"tesseract\"], [\"binarize\", \"tesseract\"], [\"denoise\", \"tesseract\"]]')\n",
      "PipelineScore(score=4222, pipeline='[[\"\", \"tesseract\"], [\"deskew\", \"tesseract\"], [\"binarize\", \"tesseract\"], [\"denoise\", \"tesseract\"], [\"post_process\"]]')\n",
      "PipelineScore(score=4405, pipeline='[[\"binarize\", \"easyocr\"], [\"binarize\", \"tesseract\"], [\"denoise\", \"easyocr\"], [\"denoise\", \"tesseract\"], [\"post_process\"]]')\n",
      "PipelineScore(score=4442, pipeline='[[\"binarize\", \"easyocr\"], [\"binarize\", \"tesseract\"], [\"denoise\", \"easyocr\"], [\"denoise\", \"tesseract\"]]')\n",
      "PipelineScore(score=4476, pipeline='[[\"deskew\", \"easyocr\"], [\"binarize\", \"easyocr\"], [\"denoise\", \"easyocr\"], [\"post_process\"]]')\n",
      "PipelineScore(score=4782, pipeline='[[\"deskew\", \"easyocr\"], [\"binarize\", \"easyocr\"], [\"post_process\"]]')\n",
      "PipelineScore(score=4961, pipeline='[[\"\", \"easyocr\"], [\"deskew\", \"easyocr\"], [\"binarize\", \"easyocr\"], [\"post_process\"]]')\n",
      "PipelineScore(score=4971, pipeline='[[\"\", \"easyocr\"], [\"binarize\", \"easyocr\"], [\"denoise\", \"easyocr\"], [\"post_process\"]]')\n",
      "PipelineScore(score=4980, pipeline='[[\"\", \"easyocr\"], [\"deskew\", \"easyocr\"], [\"denoise\", \"easyocr\"], [\"post_process\"]]')\n",
      "PipelineScore(score=5000, pipeline='[[\"\", \"easyocr\"], [\"deskew\", \"easyocr\"], [\"binarize\", \"easyocr\"], [\"denoise\", \"easyocr\"], [\"post_process\"]]')\n",
      "PipelineScore(score=5110, pipeline='[[\"deskew\", \"easyocr\"], [\"binarize\", \"easyocr\"], [\"denoise\", \"easyocr\"]]')\n",
      "PipelineScore(score=5245, pipeline='[[\"\", \"tesseract\"], [\"deskew\", \"tesseract\"], [\"denoise\", \"tesseract\"]]')\n",
      "PipelineScore(score=5271, pipeline='[[\"deskew\", \"easyocr\"], [\"binarize\", \"easyocr\"]]')\n",
      "PipelineScore(score=5325, pipeline='[[\"\", \"tesseract\"], [\"deskew\", \"tesseract\"], [\"denoise\", \"tesseract\"], [\"post_process\"]]')\n",
      "PipelineScore(score=5332, pipeline='[[\"binarize\", \"tesseract\"], [\"denoise\", \"tesseract\"]]')\n",
      "PipelineScore(score=5410, pipeline='[[\"\", \"easyocr\"], [\"\", \"tesseract\"], [\"deskew\", \"easyocr\"], [\"deskew\", \"tesseract\"], [\"binarize\", \"easyocr\"], [\"binarize\", \"tesseract\"], [\"post_process\"]]')\n",
      "PipelineScore(score=5419, pipeline='[[\"binarize\", \"easyocr\"], [\"binarize\", \"tesseract\"]]')\n",
      "PipelineScore(score=5456, pipeline='[[\"\", \"tesseract\"], [\"deskew\", \"tesseract\"], [\"binarize\", \"tesseract\"]]')\n",
      "PipelineScore(score=5480, pipeline='[[\"binarize\", \"tesseract\"], [\"denoise\", \"tesseract\"], [\"post_process\"]]')\n",
      "PipelineScore(score=5525, pipeline='[[\"\", \"tesseract\"], [\"deskew\", \"tesseract\"], [\"binarize\", \"tesseract\"], [\"post_process\"]]')\n",
      "PipelineScore(score=5533, pipeline='[[\"binarize\", \"easyocr\"], [\"binarize\", \"tesseract\"], [\"post_process\"]]')\n",
      "PipelineScore(score=5563, pipeline='[[\"\", \"easyocr\"], [\"\", \"tesseract\"], [\"binarize\", \"easyocr\"], [\"binarize\", \"tesseract\"], [\"denoise\", \"easyocr\"], [\"denoise\", \"tesseract\"], [\"post_process\"]]')\n",
      "PipelineScore(score=5596, pipeline='[[\"\", \"easyocr\"], [\"\", \"tesseract\"], [\"binarize\", \"easyocr\"], [\"binarize\", \"tesseract\"], [\"post_process\"]]')\n",
      "PipelineScore(score=5634, pipeline='[[\"\", \"easyocr\"], [\"binarize\", \"easyocr\"], [\"denoise\", \"easyocr\"]]')\n",
      "PipelineScore(score=5650, pipeline='[[\"\", \"easyocr\"], [\"deskew\", \"easyocr\"], [\"binarize\", \"easyocr\"], [\"denoise\", \"easyocr\"]]')\n",
      "PipelineScore(score=5660, pipeline='[[\"deskew\", \"easyocr\"], [\"deskew\", \"tesseract\"]]')\n",
      "PipelineScore(score=5670, pipeline='[[\"\", \"easyocr\"], [\"\", \"tesseract\"], [\"deskew\", \"easyocr\"], [\"deskew\", \"tesseract\"], [\"binarize\", \"easyocr\"], [\"binarize\", \"tesseract\"], [\"denoise\", \"easyocr\"], [\"denoise\", \"tesseract\"], [\"post_process\"]]')\n",
      "PipelineScore(score=5721, pipeline='[[\"\", \"easyocr\"], [\"deskew\", \"easyocr\"], [\"denoise\", \"easyocr\"]]')\n",
      "PipelineScore(score=5724, pipeline='[[\"\", \"easyocr\"], [\"deskew\", \"easyocr\"], [\"binarize\", \"easyocr\"]]')\n",
      "PipelineScore(score=5753, pipeline='[[\"deskew\", \"easyocr\"], [\"deskew\", \"tesseract\"], [\"post_process\"]]')\n",
      "PipelineScore(score=5770, pipeline='[[\"deskew\", \"easyocr\"], [\"denoise\", \"easyocr\"], [\"post_process\"]]')\n",
      "PipelineScore(score=5780, pipeline='[[\"\", \"easyocr\"], [\"\", \"tesseract\"], [\"binarize\", \"easyocr\"], [\"binarize\", \"tesseract\"]]')\n",
      "PipelineScore(score=5817, pipeline='[[\"\", \"easyocr\"], [\"\", \"tesseract\"], [\"deskew\", \"easyocr\"], [\"deskew\", \"tesseract\"], [\"binarize\", \"easyocr\"], [\"binarize\", \"tesseract\"]]')\n",
      "PipelineScore(score=5836, pipeline='[[\"\", \"easyocr\"], [\"\", \"tesseract\"], [\"deskew\", \"easyocr\"], [\"deskew\", \"tesseract\"], [\"denoise\", \"easyocr\"], [\"denoise\", \"tesseract\"], [\"post_process\"]]')\n",
      "PipelineScore(score=5944, pipeline='[[\"\", \"easyocr\"], [\"\", \"tesseract\"], [\"binarize\", \"easyocr\"], [\"binarize\", \"tesseract\"], [\"denoise\", \"easyocr\"], [\"denoise\", \"tesseract\"]]')\n",
      "PipelineScore(score=5997, pipeline='[[\"\", \"easyocr\"], [\"binarize\", \"easyocr\"], [\"post_process\"]]')\n",
      "PipelineScore(score=6005, pipeline='[[\"\", \"easyocr\"], [\"deskew\", \"easyocr\"], [\"post_process\"]]')\n",
      "PipelineScore(score=6014, pipeline='[[\"deskew\", \"tesseract\"], [\"denoise\", \"tesseract\"]]')\n",
      "PipelineScore(score=6079, pipeline='[[\"\", \"easyocr\"], [\"\", \"tesseract\"], [\"deskew\", \"easyocr\"], [\"deskew\", \"tesseract\"], [\"post_process\"]]')\n",
      "PipelineScore(score=6097, pipeline='[[\"binarize\", \"easyocr\"], [\"denoise\", \"easyocr\"], [\"post_process\"]]')\n",
      "PipelineScore(score=6130, pipeline='[[\"\", \"easyocr\"], [\"\", \"tesseract\"], [\"deskew\", \"easyocr\"], [\"deskew\", \"tesseract\"], [\"binarize\", \"easyocr\"], [\"binarize\", \"tesseract\"], [\"denoise\", \"easyocr\"], [\"denoise\", \"tesseract\"]]')\n",
      "PipelineScore(score=6162, pipeline='[[\"deskew\", \"easyocr\"], [\"denoise\", \"easyocr\"]]')\n",
      "PipelineScore(score=6179, pipeline='[[\"deskew\", \"tesseract\"], [\"denoise\", \"tesseract\"], [\"post_process\"]]')\n",
      "PipelineScore(score=6200, pipeline='[[\"\", \"easyocr\"], [\"\", \"tesseract\"], [\"deskew\", \"easyocr\"], [\"deskew\", \"tesseract\"], [\"denoise\", \"easyocr\"], [\"denoise\", \"tesseract\"]]')\n",
      "PipelineScore(score=6236, pipeline='[[\"\", \"easyocr\"], [\"\", \"tesseract\"], [\"deskew\", \"easyocr\"], [\"deskew\", \"tesseract\"]]')\n",
      "PipelineScore(score=6317, pipeline='[[\"\", \"easyocr\"], [\"\", \"tesseract\"], [\"denoise\", \"easyocr\"], [\"denoise\", \"tesseract\"], [\"post_process\"]]')\n",
      "PipelineScore(score=6455, pipeline='[[\"\", \"easyocr\"], [\"\", \"tesseract\"], [\"denoise\", \"easyocr\"], [\"denoise\", \"tesseract\"]]')\n",
      "PipelineScore(score=6470, pipeline='[[\"binarize\", \"easyocr\"], [\"denoise\", \"easyocr\"]]')\n",
      "PipelineScore(score=6497, pipeline='[[\"\", \"easyocr\"], [\"\", \"tesseract\"]]')\n",
      "PipelineScore(score=6500, pipeline='[[\"\", \"easyocr\"], [\"binarize\", \"easyocr\"]]')\n",
      "PipelineScore(score=6551, pipeline='[[\"\", \"easyocr\"], [\"\", \"tesseract\"], [\"post_process\"]]')\n",
      "PipelineScore(score=6635, pipeline='[[\"\", \"easyocr\"], [\"deskew\", \"easyocr\"]]')\n",
      "PipelineScore(score=6767, pipeline='[[\"deskew\", \"tesseract\"], [\"binarize\", \"tesseract\"]]')\n",
      "PipelineScore(score=6902, pipeline='[[\"deskew\", \"tesseract\"]]')\n",
      "PipelineScore(score=6920, pipeline='[[\"deskew\", \"tesseract\"], [\"binarize\", \"tesseract\"], [\"post_process\"]]')\n",
      "PipelineScore(score=6936, pipeline='[[\"deskew\", \"tesseract\"], [\"post_process\"]]')\n",
      "PipelineScore(score=7225, pipeline='[[\"\", \"easyocr\"], [\"denoise\", \"easyocr\"], [\"post_process\"]]')\n",
      "PipelineScore(score=7342, pipeline='[[\"deskew\", \"easyocr\"], [\"post_process\"]]')\n",
      "PipelineScore(score=7394, pipeline='[[\"denoise\", \"easyocr\"], [\"denoise\", \"tesseract\"]]')\n",
      "PipelineScore(score=7467, pipeline='[[\"\", \"tesseract\"]]')\n",
      "PipelineScore(score=7551, pipeline='[[\"\", \"tesseract\"], [\"post_process\"]]')\n",
      "PipelineScore(score=7603, pipeline='[[\"\", \"easyocr\"], [\"post_process\"]]')\n",
      "PipelineScore(score=7623, pipeline='[[\"\", \"easyocr\"], [\"denoise\", \"easyocr\"]]')\n",
      "PipelineScore(score=7693, pipeline='[[\"denoise\", \"easyocr\"], [\"denoise\", \"tesseract\"], [\"post_process\"]]')\n",
      "PipelineScore(score=8047, pipeline='[[\"binarize\", \"tesseract\"], [\"post_process\"]]')\n",
      "PipelineScore(score=8114, pipeline='[[\"deskew\", \"easyocr\"]]')\n",
      "PipelineScore(score=8229, pipeline='[[\"binarize\", \"tesseract\"]]')\n",
      "PipelineScore(score=8307, pipeline='[[\"\", \"tesseract\"], [\"denoise\", \"tesseract\"]]')\n",
      "PipelineScore(score=8363, pipeline='[[\"\", \"easyocr\"]]')\n",
      "PipelineScore(score=8437, pipeline='[[\"binarize\", \"easyocr\"], [\"post_process\"]]')\n",
      "PipelineScore(score=8502, pipeline='[[\"\", \"tesseract\"], [\"denoise\", \"tesseract\"], [\"post_process\"]]')\n",
      "PipelineScore(score=8728, pipeline='[[\"\", \"tesseract\"], [\"binarize\", \"tesseract\"]]')\n",
      "PipelineScore(score=8780, pipeline='[[\"denoise\", \"tesseract\"]]')\n",
      "PipelineScore(score=8901, pipeline='[[\"\", \"tesseract\"], [\"binarize\", \"tesseract\"], [\"post_process\"]]')\n",
      "PipelineScore(score=8928, pipeline='[[\"denoise\", \"tesseract\"], [\"post_process\"]]')\n",
      "PipelineScore(score=9133, pipeline='[[\"binarize\", \"easyocr\"]]')\n",
      "PipelineScore(score=9374, pipeline='[[\"\", \"tesseract\"], [\"deskew\", \"tesseract\"]]')\n",
      "PipelineScore(score=9568, pipeline='[[\"\", \"tesseract\"], [\"deskew\", \"tesseract\"], [\"post_process\"]]')\n",
      "PipelineScore(score=10091, pipeline='[[\"denoise\", \"easyocr\"], [\"post_process\"]]')\n",
      "PipelineScore(score=10230, pipeline='[[\"denoise\", \"easyocr\"]]')\n"
     ]
    }
   ],
   "source": [
    "PipelineScore = namedtuple(\"PipelineScore\", \"score pipeline\")\n",
    "\n",
    "\n",
    "def scores_by_pipeline(scores, gold_std):\n",
    "    tally = defaultdict(int)\n",
    "\n",
    "    for score in scores:\n",
    "        tally[score[\"actions\"]] += score[\"score\"]\n",
    "\n",
    "    tally = [(v, len(k), k) for k, v in tally.items()]\n",
    "    tally = sorted(tally)\n",
    "\n",
    "    return [PipelineScore(t[0], t[2]) for t in tally]\n",
    "\n",
    "\n",
    "summed = scores_by_pipeline(SCORES, GOLD_DICT)\n",
    "for sum_ in summed:\n",
    "    print(sum_)"
   ]
  },
  {
   "cell_type": "markdown",
   "id": "c884c803-d23e-4fce-86d7-efe051c70cbc",
   "metadata": {},
   "source": [
    "## Output how many times a pipeline was the best"
   ]
  },
  {
   "cell_type": "code",
   "execution_count": 18,
   "id": "3ab7a7ab-5efe-4335-964d-296db58bbe23",
   "metadata": {},
   "outputs": [
    {
     "name": "stdout",
     "output_type": "stream",
     "text": [
      "PipelineWinner(count=86, pipeline='[[\"deskew\", \"tesseract\"]]')\n",
      "PipelineWinner(count=85, pipeline='[[\"\", \"tesseract\"], [\"deskew\", \"tesseract\"], [\"binarize\", \"tesseract\"]]')\n",
      "PipelineWinner(count=79, pipeline='[[\"\", \"tesseract\"], [\"deskew\", \"tesseract\"], [\"binarize\", \"tesseract\"], [\"post_process\"]]')\n",
      "PipelineWinner(count=78, pipeline='[[\"deskew\", \"tesseract\"], [\"binarize\", \"tesseract\"], [\"denoise\", \"tesseract\"]]')\n",
      "PipelineWinner(count=73, pipeline='[[\"deskew\", \"tesseract\"], [\"post_process\"]]')\n",
      "PipelineWinner(count=71, pipeline='[[\"deskew\", \"tesseract\"], [\"binarize\", \"tesseract\"], [\"denoise\", \"tesseract\"], [\"post_process\"]]')\n",
      "PipelineWinner(count=69, pipeline='[[\"\", \"tesseract\"], [\"deskew\", \"tesseract\"], [\"denoise\", \"tesseract\"]]')\n",
      "PipelineWinner(count=65, pipeline='[[\"deskew\", \"easyocr\"], [\"deskew\", \"tesseract\"], [\"binarize\", \"easyocr\"], [\"binarize\", \"tesseract\"], [\"post_process\"]]')\n",
      "PipelineWinner(count=61, pipeline='[[\"\", \"tesseract\"], [\"deskew\", \"tesseract\"], [\"denoise\", \"tesseract\"], [\"post_process\"]]')\n",
      "PipelineWinner(count=60, pipeline='[[\"\", \"tesseract\"], [\"binarize\", \"tesseract\"], [\"denoise\", \"tesseract\"]]')\n",
      "PipelineWinner(count=59, pipeline='[[\"\", \"easyocr\"], [\"\", \"tesseract\"], [\"binarize\", \"easyocr\"], [\"binarize\", \"tesseract\"], [\"post_process\"]]')\n",
      "PipelineWinner(count=57, pipeline='[[\"\", \"tesseract\"]]')\n",
      "PipelineWinner(count=57, pipeline='[[\"\", \"tesseract\"], [\"post_process\"]]')\n",
      "PipelineWinner(count=54, pipeline='[[\"\", \"tesseract\"], [\"deskew\", \"tesseract\"], [\"binarize\", \"tesseract\"], [\"denoise\", \"tesseract\"]]')\n",
      "PipelineWinner(count=52, pipeline='[[\"\", \"tesseract\"], [\"binarize\", \"tesseract\"], [\"denoise\", \"tesseract\"], [\"post_process\"]]')\n",
      "PipelineWinner(count=49, pipeline='[[\"\", \"easyocr\"], [\"\", \"tesseract\"], [\"deskew\", \"easyocr\"], [\"deskew\", \"tesseract\"], [\"post_process\"]]')\n",
      "PipelineWinner(count=48, pipeline='[[\"\", \"easyocr\"], [\"\", \"tesseract\"], [\"deskew\", \"easyocr\"], [\"deskew\", \"tesseract\"], [\"binarize\", \"easyocr\"], [\"binarize\", \"tesseract\"], [\"post_process\"]]')\n",
      "PipelineWinner(count=46, pipeline='[[\"\", \"tesseract\"], [\"deskew\", \"tesseract\"], [\"binarize\", \"tesseract\"], [\"denoise\", \"tesseract\"], [\"post_process\"]]')\n",
      "PipelineWinner(count=44, pipeline='[[\"deskew\", \"easyocr\"], [\"deskew\", \"tesseract\"], [\"binarize\", \"easyocr\"], [\"binarize\", \"tesseract\"]]')\n",
      "PipelineWinner(count=41, pipeline='[[\"\", \"tesseract\"], [\"deskew\", \"tesseract\"]]')\n",
      "PipelineWinner(count=40, pipeline='[[\"deskew\", \"easyocr\"], [\"deskew\", \"tesseract\"], [\"binarize\", \"easyocr\"], [\"binarize\", \"tesseract\"], [\"denoise\", \"easyocr\"], [\"denoise\", \"tesseract\"], [\"post_process\"]]')\n",
      "PipelineWinner(count=38, pipeline='[[\"\", \"easyocr\"], [\"\", \"tesseract\"], [\"binarize\", \"easyocr\"], [\"binarize\", \"tesseract\"]]')\n",
      "PipelineWinner(count=38, pipeline='[[\"\", \"easyocr\"], [\"\", \"tesseract\"], [\"deskew\", \"easyocr\"], [\"deskew\", \"tesseract\"], [\"binarize\", \"easyocr\"], [\"binarize\", \"tesseract\"], [\"denoise\", \"easyocr\"], [\"denoise\", \"tesseract\"], [\"post_process\"]]')\n",
      "PipelineWinner(count=37, pipeline='[[\"deskew\", \"tesseract\"], [\"denoise\", \"tesseract\"]]')\n",
      "PipelineWinner(count=37, pipeline='[[\"\", \"tesseract\"], [\"deskew\", \"tesseract\"], [\"post_process\"]]')\n",
      "PipelineWinner(count=37, pipeline='[[\"\", \"easyocr\"], [\"\", \"tesseract\"], [\"deskew\", \"easyocr\"], [\"deskew\", \"tesseract\"]]')\n",
      "PipelineWinner(count=35, pipeline='[[\"deskew\", \"tesseract\"], [\"denoise\", \"tesseract\"], [\"post_process\"]]')\n",
      "PipelineWinner(count=32, pipeline='[[\"binarize\", \"tesseract\"]]')\n",
      "PipelineWinner(count=32, pipeline='[[\"binarize\", \"tesseract\"], [\"post_process\"]]')\n",
      "PipelineWinner(count=32, pipeline='[[\"deskew\", \"tesseract\"], [\"binarize\", \"tesseract\"]]')\n",
      "PipelineWinner(count=30, pipeline='[[\"\", \"easyocr\"], [\"\", \"tesseract\"], [\"binarize\", \"easyocr\"], [\"binarize\", \"tesseract\"], [\"denoise\", \"easyocr\"], [\"denoise\", \"tesseract\"], [\"post_process\"]]')\n",
      "PipelineWinner(count=29, pipeline='[[\"deskew\", \"easyocr\"], [\"deskew\", \"tesseract\"]]')\n",
      "PipelineWinner(count=29, pipeline='[[\"deskew\", \"tesseract\"], [\"binarize\", \"tesseract\"], [\"post_process\"]]')\n",
      "PipelineWinner(count=27, pipeline='[[\"deskew\", \"easyocr\"], [\"deskew\", \"tesseract\"], [\"post_process\"]]')\n",
      "PipelineWinner(count=26, pipeline='[[\"\", \"easyocr\"], [\"\", \"tesseract\"], [\"post_process\"]]')\n",
      "PipelineWinner(count=26, pipeline='[[\"\", \"easyocr\"], [\"\", \"tesseract\"], [\"deskew\", \"easyocr\"], [\"deskew\", \"tesseract\"], [\"denoise\", \"easyocr\"], [\"denoise\", \"tesseract\"], [\"post_process\"]]')\n",
      "PipelineWinner(count=25, pipeline='[[\"\", \"easyocr\"], [\"\", \"tesseract\"]]')\n",
      "PipelineWinner(count=25, pipeline='[[\"\", \"easyocr\"], [\"\", \"tesseract\"], [\"deskew\", \"easyocr\"], [\"deskew\", \"tesseract\"], [\"binarize\", \"easyocr\"], [\"binarize\", \"tesseract\"]]')\n",
      "PipelineWinner(count=24, pipeline='[[\"\", \"tesseract\"], [\"denoise\", \"tesseract\"], [\"post_process\"]]')\n",
      "PipelineWinner(count=23, pipeline='[[\"\", \"tesseract\"], [\"denoise\", \"tesseract\"]]')\n",
      "PipelineWinner(count=23, pipeline='[[\"deskew\", \"easyocr\"], [\"deskew\", \"tesseract\"], [\"denoise\", \"easyocr\"], [\"denoise\", \"tesseract\"], [\"post_process\"]]')\n",
      "PipelineWinner(count=22, pipeline='[[\"binarize\", \"tesseract\"], [\"denoise\", \"tesseract\"], [\"post_process\"]]')\n",
      "PipelineWinner(count=22, pipeline='[[\"\", \"easyocr\"], [\"\", \"tesseract\"], [\"denoise\", \"easyocr\"], [\"denoise\", \"tesseract\"], [\"post_process\"]]')\n",
      "PipelineWinner(count=21, pipeline='[[\"binarize\", \"tesseract\"], [\"denoise\", \"tesseract\"]]')\n",
      "PipelineWinner(count=19, pipeline='[[\"binarize\", \"easyocr\"], [\"binarize\", \"tesseract\"]]')\n",
      "PipelineWinner(count=19, pipeline='[[\"binarize\", \"easyocr\"], [\"binarize\", \"tesseract\"], [\"post_process\"]]')\n",
      "PipelineWinner(count=18, pipeline='[[\"\", \"tesseract\"], [\"binarize\", \"tesseract\"]]')\n",
      "PipelineWinner(count=17, pipeline='[[\"\", \"tesseract\"], [\"binarize\", \"tesseract\"], [\"post_process\"]]')\n",
      "PipelineWinner(count=17, pipeline='[[\"binarize\", \"easyocr\"], [\"binarize\", \"tesseract\"], [\"denoise\", \"easyocr\"], [\"denoise\", \"tesseract\"], [\"post_process\"]]')\n",
      "PipelineWinner(count=17, pipeline='[[\"\", \"easyocr\"], [\"\", \"tesseract\"], [\"deskew\", \"easyocr\"], [\"deskew\", \"tesseract\"], [\"binarize\", \"easyocr\"], [\"binarize\", \"tesseract\"], [\"denoise\", \"easyocr\"], [\"denoise\", \"tesseract\"]]')\n",
      "PipelineWinner(count=16, pipeline='[[\"\", \"easyocr\"], [\"\", \"tesseract\"], [\"denoise\", \"easyocr\"], [\"denoise\", \"tesseract\"]]')\n",
      "PipelineWinner(count=16, pipeline='[[\"\", \"easyocr\"], [\"\", \"tesseract\"], [\"binarize\", \"easyocr\"], [\"binarize\", \"tesseract\"], [\"denoise\", \"easyocr\"], [\"denoise\", \"tesseract\"]]')\n",
      "PipelineWinner(count=14, pipeline='[[\"deskew\", \"easyocr\"], [\"deskew\", \"tesseract\"], [\"denoise\", \"easyocr\"], [\"denoise\", \"tesseract\"]]')\n",
      "PipelineWinner(count=13, pipeline='[[\"\", \"easyocr\"], [\"\", \"tesseract\"], [\"deskew\", \"easyocr\"], [\"deskew\", \"tesseract\"], [\"denoise\", \"easyocr\"], [\"denoise\", \"tesseract\"]]')\n",
      "PipelineWinner(count=13, pipeline='[[\"deskew\", \"easyocr\"], [\"deskew\", \"tesseract\"], [\"binarize\", \"easyocr\"], [\"binarize\", \"tesseract\"], [\"denoise\", \"easyocr\"], [\"denoise\", \"tesseract\"]]')\n",
      "PipelineWinner(count=11, pipeline='[[\"denoise\", \"tesseract\"], [\"post_process\"]]')\n",
      "PipelineWinner(count=10, pipeline='[[\"\", \"easyocr\"], [\"deskew\", \"easyocr\"], [\"binarize\", \"easyocr\"], [\"denoise\", \"easyocr\"], [\"post_process\"]]')\n",
      "PipelineWinner(count=9, pipeline='[[\"\", \"easyocr\"], [\"deskew\", \"easyocr\"], [\"denoise\", \"easyocr\"], [\"post_process\"]]')\n",
      "PipelineWinner(count=9, pipeline='[[\"\", \"easyocr\"], [\"binarize\", \"easyocr\"], [\"denoise\", \"easyocr\"], [\"post_process\"]]')\n",
      "PipelineWinner(count=9, pipeline='[[\"deskew\", \"easyocr\"], [\"binarize\", \"easyocr\"], [\"denoise\", \"easyocr\"], [\"post_process\"]]')\n",
      "PipelineWinner(count=9, pipeline='[[\"binarize\", \"easyocr\"], [\"binarize\", \"tesseract\"], [\"denoise\", \"easyocr\"], [\"denoise\", \"tesseract\"]]')\n",
      "PipelineWinner(count=8, pipeline='[[\"\", \"easyocr\"], [\"binarize\", \"easyocr\"], [\"post_process\"]]')\n",
      "PipelineWinner(count=8, pipeline='[[\"deskew\", \"easyocr\"], [\"binarize\", \"easyocr\"], [\"post_process\"]]')\n",
      "PipelineWinner(count=7, pipeline='[[\"denoise\", \"tesseract\"]]')\n",
      "PipelineWinner(count=7, pipeline='[[\"denoise\", \"easyocr\"], [\"denoise\", \"tesseract\"]]')\n",
      "PipelineWinner(count=7, pipeline='[[\"\", \"easyocr\"], [\"deskew\", \"easyocr\"], [\"post_process\"]]')\n",
      "PipelineWinner(count=6, pipeline='[[\"denoise\", \"easyocr\"], [\"denoise\", \"tesseract\"], [\"post_process\"]]')\n",
      "PipelineWinner(count=5, pipeline='[[\"\", \"easyocr\"], [\"deskew\", \"easyocr\"], [\"binarize\", \"easyocr\"], [\"post_process\"]]')\n",
      "PipelineWinner(count=4, pipeline='[[\"\", \"easyocr\"], [\"binarize\", \"easyocr\"]]')\n",
      "PipelineWinner(count=4, pipeline='[[\"binarize\", \"easyocr\"], [\"post_process\"]]')\n",
      "PipelineWinner(count=4, pipeline='[[\"\", \"easyocr\"], [\"deskew\", \"easyocr\"], [\"binarize\", \"easyocr\"]]')\n",
      "PipelineWinner(count=3, pipeline='[[\"\", \"easyocr\"]]')\n",
      "PipelineWinner(count=3, pipeline='[[\"deskew\", \"easyocr\"]]')\n",
      "PipelineWinner(count=3, pipeline='[[\"\", \"easyocr\"], [\"post_process\"]]')\n",
      "PipelineWinner(count=3, pipeline='[[\"\", \"easyocr\"], [\"deskew\", \"easyocr\"]]')\n",
      "PipelineWinner(count=3, pipeline='[[\"\", \"easyocr\"], [\"denoise\", \"easyocr\"], [\"post_process\"]]')\n",
      "PipelineWinner(count=3, pipeline='[[\"\", \"easyocr\"], [\"deskew\", \"easyocr\"], [\"denoise\", \"easyocr\"]]')\n",
      "PipelineWinner(count=2, pipeline='[[\"binarize\", \"easyocr\"]]')\n",
      "PipelineWinner(count=2, pipeline='[[\"deskew\", \"easyocr\"], [\"post_process\"]]')\n",
      "PipelineWinner(count=2, pipeline='[[\"\", \"easyocr\"], [\"binarize\", \"easyocr\"], [\"denoise\", \"easyocr\"]]')\n",
      "PipelineWinner(count=2, pipeline='[[\"\", \"easyocr\"], [\"deskew\", \"easyocr\"], [\"binarize\", \"easyocr\"], [\"denoise\", \"easyocr\"]]')\n",
      "PipelineWinner(count=1, pipeline='[[\"\", \"easyocr\"], [\"denoise\", \"easyocr\"]]')\n",
      "PipelineWinner(count=1, pipeline='[[\"deskew\", \"easyocr\"], [\"binarize\", \"easyocr\"]]')\n",
      "PipelineWinner(count=1, pipeline='[[\"deskew\", \"easyocr\"], [\"denoise\", \"easyocr\"], [\"post_process\"]]')\n",
      "PipelineWinner(count=1, pipeline='[[\"deskew\", \"easyocr\"], [\"binarize\", \"easyocr\"], [\"denoise\", \"easyocr\"]]')\n"
     ]
    }
   ],
   "source": [
    "PipelineWinner = namedtuple(\"PipelineWinner\", \"count pipeline\")\n",
    "\n",
    "\n",
    "def winners_by_pipeline(all_scores, gold_std):\n",
    "    tally = defaultdict(int)\n",
    "    grouped_scores = groupby(all_scores, key=lambda s: s[\"label_id\"])\n",
    "\n",
    "    for label_id, scores in grouped_scores:\n",
    "        scores = list(scores)\n",
    "\n",
    "        min_score = min(s[\"score\"] for s in scores)\n",
    "        for score in scores:\n",
    "            if score[\"score\"] == min_score:\n",
    "                tally[score[\"actions\"]] += 1\n",
    "\n",
    "    tally = [(v, -len(k), k) for k, v in tally.items()]\n",
    "    tally = sorted(tally, reverse=True)\n",
    "    return [PipelineWinner(t[0], t[2]) for t in tally]\n",
    "\n",
    "\n",
    "winners = winners_by_pipeline(SCORES, GOLD_DICT)\n",
    "\n",
    "for win in winners:\n",
    "    print(win)"
   ]
  },
  {
   "cell_type": "markdown",
   "id": "16154b39-0b53-4e6b-9619-5b70f2795751",
   "metadata": {},
   "source": [
    "## Output best scores"
   ]
  },
  {
   "cell_type": "code",
   "execution_count": 57,
   "id": "fd44fb71-bdde-491b-9b4e-099fbf7d45e3",
   "metadata": {},
   "outputs": [
    {
     "name": "stderr",
     "output_type": "stream",
     "text": [
      "337it [00:50,  6.64it/s]\n"
     ]
    }
   ],
   "source": [
    "ACTIONS = [\n",
    "    ([\"\", \"easyocr\"], \".e\",),\n",
    "    ([\"\", \"tesseract\"], \".t\",),\n",
    "    ([\"deskew\", \"easyocr\"], \"De\",),\n",
    "    ([\"deskew\", \"tesseract\"], \"Dt\",),\n",
    "    ([\"binarize\", \"easyocr\"], \"Be\",),\n",
    "    ([\"binarize\", \"tesseract\"], \"Bt\",),\n",
    "    ([\"denoise\", \"easyocr\"], \"Ne\",),\n",
    "    ([\"denoise\", \"tesseract\"], \"Nt\",),\n",
    "    ([\"post_process\"], \"p \",),\n",
    "]\n",
    "\n",
    "\n",
    "def html_top_scores(scores, gold_std, line_align):\n",
    "    grouped_scores = groupby(scores, key=lambda s: s[\"label_id\"])\n",
    "\n",
    "    for label_id, scores in tqdm(grouped_scores):\n",
    "        scores = list(scores)\n",
    "\n",
    "        gold = gold_std[scores[0][\"gold_id\"]]\n",
    "\n",
    "        min_score = min(s[\"score\"] for s in scores)\n",
    "\n",
    "        # Shrink actions to codes\n",
    "        actions = [f\"gold {'__ ' * 7}\"]\n",
    "        for acts in [json.loads(s[\"actions\"]) for s in scores if s[\"score\"] == min_score]:\n",
    "            pipe = [c if a in acts else \"__\" for a, c in ACTIONS]\n",
    "            actions.append(\" \".join(pipe))\n",
    "\n",
    "        top = [gold[\"gold_text\"]]\n",
    "        top += [s[\"score_text\"] for s in scores if s[\"score\"] == min_score]\n",
    "\n",
    "        top = [\" \".join(ln.split()) for ln in top]\n",
    "\n",
    "        # print(f\"{label_id}  {min_score}\")\n",
    "\n",
    "        aligned = line_align.align(top)\n",
    "\n",
    "        rows = len(aligned)\n",
    "        cols = len(aligned[0])\n",
    "        colored = [list(a) for a in aligned]\n",
    "\n",
    "        for col in range(cols):\n",
    "            col_chars = [aligned[row][col] for row in range(rows)]\n",
    "            if len(set(col_chars)) > 1:\n",
    "                for i, row in enumerate(range(rows)):\n",
    "                    if i == 0:\n",
    "                        colored[row][\n",
    "                            col\n",
    "                        ] = f'<span class=\"yellow\">{aligned[row][col]}</span>'\n",
    "                    elif aligned[0][col] != aligned[row][col]:\n",
    "                        colored[row][\n",
    "                            col\n",
    "                        ] = f'<span class=\"green\">{aligned[row][col]}</span>'\n",
    "\n",
    "        colored = [\"\".join(ln) for ln in colored]\n",
    "        gold[\"colored\"] = list(zip(actions, colored))\n",
    "        gold[\"min_score\"] = min_score\n",
    "        gold[\"path\"] = f\"lb_{gold['sheet_id']:06d}_{gold['label_id']:08d}.jpg\"\n",
    "\n",
    "\n",
    "html_top_scores(SCORES, GOLD_DICT, scorer.line_align)"
   ]
  },
  {
   "cell_type": "code",
   "execution_count": 58,
   "id": "98372a4d-aeef-44c1-8337-47901d571b25",
   "metadata": {},
   "outputs": [],
   "source": [
    "def write_html(gold_std):\n",
    "    env = jinja2.Environment(\n",
    "        loader=jinja2.FileSystemLoader(\"assets/\"),\n",
    "        autoescape=True,\n",
    "    )\n",
    "\n",
    "    template = env.get_template(\"html_template.html\").render(\n",
    "        now=datetime.strftime(datetime.now(), \"%Y-%m-%d %H:%M\"),\n",
    "        golden=gold_std,\n",
    "    )\n",
    "\n",
    "    with open(ARGS.out_file, \"w\", encoding=\"utf_8\") as html_file:\n",
    "        html_file.write(template)\n",
    "\n",
    "\n",
    "write_html(GOLD_DICT)"
   ]
  },
  {
   "cell_type": "code",
   "execution_count": null,
   "id": "8f300940-62ce-4594-9bd7-dd76281a597c",
   "metadata": {},
   "outputs": [],
   "source": []
  }
 ],
 "metadata": {
  "kernelspec": {
   "display_name": "Python 3 (ipykernel)",
   "language": "python",
   "name": "python3"
  },
  "language_info": {
   "codemirror_mode": {
    "name": "ipython",
    "version": 3
   },
   "file_extension": ".py",
   "mimetype": "text/x-python",
   "name": "python",
   "nbconvert_exporter": "python",
   "pygments_lexer": "ipython3",
   "version": "3.10.4"
  }
 },
 "nbformat": 4,
 "nbformat_minor": 5
}
