{
 "cells": [
  {
   "cell_type": "markdown",
   "id": "6f1d91f3-a0c5-4ee2-926e-2091aa6a374e",
   "metadata": {
    "tags": []
   },
   "source": [
    "# Measure contributions of parts of OCR pipeline"
   ]
  },
  {
   "cell_type": "markdown",
   "id": "89a5b980-67c5-41e7-b49e-1bab3d17d789",
   "metadata": {
    "tags": []
   },
   "source": [
    "## Possible OCR pipelines (actions are green)"
   ]
  },
  {
   "cell_type": "markdown",
   "id": "03270b28-13a7-4cd9-8f66-a7d8ebc0853a",
   "metadata": {},
   "source": [
    "![ocr_flow](assets/ocr_flow.drawio.jpg)"
   ]
  },
  {
   "cell_type": "markdown",
   "id": "154a51cd-2831-40b0-b316-81c9926168c1",
   "metadata": {
    "tags": []
   },
   "source": [
    "#### The are 4 groups of actions in the full pipeline (green boxes). The purpose of this notebook is to test if all of these actions really helps with the OCR results, and if they do, by how much.\n",
    "\n",
    "- Which of the 4 image processing pipelines improve OCR performance?\n",
    "- Two OCR engines: `Tesseract` & `EasyOCR`. `Tesseract` is the current leader in open source OCR engines, does adding `EasyOCR` improve the results?\n",
    "- The `combine text` function is only needed if we stick with the ensemble approach. I.e. only if we use more than one image processing pipeline or more than one OCR engine.\n",
    "- The `clean text` function corrects misspellings and common OCR errors with punctuation, spacing, etc. We want to measure its efficacy."
   ]
  },
  {
   "cell_type": "markdown",
   "id": "c6cf0268-53f0-4272-b002-e4d67a04c898",
   "metadata": {
    "tags": []
   },
   "source": [
    "## Comparison strategy"
   ]
  },
  {
   "cell_type": "markdown",
   "id": "138c7d10-a9f7-403e-80b7-39cd294129e7",
   "metadata": {
    "tags": []
   },
   "source": [
    "#### We're doing ablations on the OCR pipeline.\n",
    "- How well do `Tesseract` and `EasyOCR` perform on their own without image pre-processing. I'll also try the engine directly grafted to the `clean text` function.\n",
    "- How well do each of the image pre-processing steps help the OCR process? and which ones work well with which OCR engine. I'm going to try various permutations of these.\n",
    "- Can I whittle this down to one or zero image pre-processing pipelines and one OCR engine? If so, then this would allow me to drop the `combine text` step.\n",
    "- How much does the `clean text` step help?\n",
    "\n",
    "#### Scoring\n",
    "- I'll use an expert derived gold standard to compare against the ablation sequences.\n",
    "- We are using Levenshtein distance as the scores. Levenshtein distance counts character mismatches between sequences in a best case pai alignment."
   ]
  },
  {
   "cell_type": "markdown",
   "id": "f2158239-7ae2-4812-b2ed-9e5cc63083e7",
   "metadata": {
    "tags": []
   },
   "source": [
    "## Setup"
   ]
  },
  {
   "cell_type": "code",
   "execution_count": 11,
   "id": "3e14a709-4d3f-475d-aac3-05f11b996f1c",
   "metadata": {
    "tags": []
   },
   "outputs": [],
   "source": [
    "from collections import defaultdict\n",
    "from itertools import groupby\n",
    "from pathlib import Path\n",
    "from types import SimpleNamespace\n",
    "\n",
    "from tqdm import tqdm\n",
    "\n",
    "from digi_leap.pylib import consts\n",
    "from digi_leap.pylib.db import db\n",
    "from digi_leap.pylib.ocr import ocr_compare as comp"
   ]
  },
  {
   "cell_type": "markdown",
   "id": "ae927e6d-8a61-45e2-89de-70a7c1013a7d",
   "metadata": {
    "tags": []
   },
   "source": [
    "## Constants"
   ]
  },
  {
   "cell_type": "code",
   "execution_count": 2,
   "id": "73ec813d-d7e5-4ab0-8dd4-6b839268727d",
   "metadata": {},
   "outputs": [],
   "source": [
    "ARGS = SimpleNamespace(\n",
    "    database=Path(consts.DATA_DIR / \"sernec\" / \"sernec.sqlite\"),\n",
    "    gold_set=\"test_gold_set\",\n",
    "    score_set=\"notebook_scores\",\n",
    "    notes=\"\",\n",
    "    csv_path=consts.DATA_DIR / \"sernec\" / \"gold_std_2022-06-28_sample.csv\",\n",
    ")"
   ]
  },
  {
   "cell_type": "markdown",
   "id": "e05affe5-8c3f-4efe-bbdc-ba2faac6098e",
   "metadata": {},
   "source": [
    "## Save a gold standard to the database"
   ]
  },
  {
   "cell_type": "code",
   "execution_count": 3,
   "id": "d6ae2d60-dee3-4813-b143-3a727620f9e7",
   "metadata": {},
   "outputs": [],
   "source": [
    "# comp.insert_gold_std(ARGS.csv_path, ARGS.database, ARGS.gold_set)"
   ]
  },
  {
   "cell_type": "markdown",
   "id": "47b62c14-0ab8-45d3-a3ee-8b3ffcd4d265",
   "metadata": {},
   "source": [
    "## Get a gold standard from the database"
   ]
  },
  {
   "cell_type": "code",
   "execution_count": 4,
   "id": "165f0525-6d7e-4bb5-9fc5-506db55c9a2b",
   "metadata": {},
   "outputs": [],
   "source": [
    "GOLD_STD = comp.select_gold_std(ARGS.database, ARGS.gold_set)\n",
    "# gold_std[:2]"
   ]
  },
  {
   "cell_type": "markdown",
   "id": "f8f418c1-45ad-4a68-9b7d-60e80a8945b0",
   "metadata": {},
   "source": [
    "## Score the image processing OCR engine combinations"
   ]
  },
  {
   "cell_type": "code",
   "execution_count": 5,
   "id": "9f41ae18-427f-4fc9-9008-55bf19a5bac8",
   "metadata": {},
   "outputs": [],
   "source": [
    "def calculate_scores(args, gold_std):\n",
    "    combos = comp.pipeline_engine_combos()\n",
    "\n",
    "    scores = []\n",
    "\n",
    "    for gold in tqdm(gold_std):\n",
    "        images = comp.process_images(gold)\n",
    "        all_frags = comp.get_ocr_fragments(images, gold)\n",
    "\n",
    "        scores += comp.score_simple_ocr(args, gold, images)\n",
    "        scores += comp.score_ocr_ensembles(args, gold, all_frags, combos)\n",
    "\n",
    "    return scores\n",
    "\n",
    "\n",
    "# SCORES = calculate_scores(ARGS, GOLD_STD)"
   ]
  },
  {
   "cell_type": "markdown",
   "id": "6c5a7d6e-1fab-4ba9-9db3-402f35af7d6e",
   "metadata": {},
   "source": [
    "## Insert scores"
   ]
  },
  {
   "cell_type": "code",
   "execution_count": 9,
   "id": "1e5a3b63-e7cf-46f2-b4ec-fcbf6b557dff",
   "metadata": {},
   "outputs": [],
   "source": [
    "# comp.insert_scores(ARGS, SCORES)"
   ]
  },
  {
   "cell_type": "markdown",
   "id": "21859216-c18a-41de-b2b3-1b3776a6b0d4",
   "metadata": {},
   "source": [
    "## Load scores"
   ]
  },
  {
   "cell_type": "code",
   "execution_count": 7,
   "id": "ea11a33a-a4d3-496f-8d34-0b0d931a9704",
   "metadata": {},
   "outputs": [],
   "source": [
    "def select_scores(args):\n",
    "    with db.connect(args.database) as cxn:\n",
    "        results = db.execute(\n",
    "            cxn, \"select * from ocr_scores where score_set = ?\", (args.score_set,)\n",
    "        )\n",
    "        scores = [r for r in results]\n",
    "    return scores\n",
    "\n",
    "\n",
    "SCORES = select_scores(ARGS)"
   ]
  },
  {
   "cell_type": "markdown",
   "id": "5dcd77b7-b28e-42a6-9ac7-7f7960ec4852",
   "metadata": {},
   "source": [
    "## Peek at the scores"
   ]
  },
  {
   "cell_type": "code",
   "execution_count": 10,
   "id": "f7c7959e-6b22-4ad5-a7e2-a1df677ecd47",
   "metadata": {},
   "outputs": [],
   "source": [
    "def peek_scores(scores):\n",
    "    grouped_scores = groupby(scores, key=lambda s: s[\"label_id\"])\n",
    "\n",
    "    for labels_id, scores in grouped_scores:\n",
    "        print(\"=\" * 80)\n",
    "        print(labels_id)\n",
    "        scores = sorted(scores, key=lambda s: (s[\"score\"], len(s[\"actions\"])))\n",
    "        for score in scores:\n",
    "            print(f\"{score['score']:4d}  {score['actions']}\")\n",
    "\n",
    "\n",
    "# peek_scores(SCORES)"
   ]
  },
  {
   "cell_type": "code",
   "execution_count": 18,
   "id": "35e15f03-0307-4705-84c3-ee3904a114bf",
   "metadata": {},
   "outputs": [
    {
     "name": "stdout",
     "output_type": "stream",
     "text": [
      "  14  ('', 'tesseract') ('deskew', 'tesseract') ('binarize', 'tesseract') ('denoise', 'tesseract') post_process\n",
      "  15  ('', 'tesseract') ('binarize', 'tesseract') ('denoise', 'tesseract') post_process\n",
      "  15  ('', 'easyocr') ('', 'tesseract') ('deskew', 'easyocr') ('deskew', 'tesseract') post_process\n",
      "  15  ('deskew', 'easyocr') ('deskew', 'tesseract') ('binarize', 'easyocr') ('binarize', 'tesseract') post_process\n",
      "  17  ('deskew', 'tesseract') ('binarize', 'tesseract') ('denoise', 'tesseract') post_process\n",
      "  22  ('binarize', 'easyocr') ('binarize', 'tesseract') ('denoise', 'easyocr') ('denoise', 'tesseract') post_process\n",
      "  23  ('', 'tesseract') ('deskew', 'tesseract') ('binarize', 'tesseract') post_process\n",
      "  24  ('binarize', 'tesseract') ('denoise', 'tesseract')\n",
      "  24  ('deskew', 'easyocr') ('deskew', 'tesseract') post_process\n",
      "  24  ('binarize', 'easyocr') ('binarize', 'tesseract') post_process\n",
      "  25  ('binarize', 'tesseract') ('denoise', 'tesseract') post_process\n",
      "  25  ('deskew', 'easyocr') ('deskew', 'tesseract') ('binarize', 'easyocr') ('binarize', 'tesseract') ('denoise', 'easyocr') ('denoise', 'tesseract') post_process\n",
      "  26  ('', 'tesseract') ('binarize', 'tesseract') ('denoise', 'tesseract')\n",
      "  26  ('', 'tesseract') ('deskew', 'tesseract') ('denoise', 'tesseract') post_process\n",
      "  27  ('deskew', 'tesseract') ('binarize', 'tesseract') ('denoise', 'tesseract')\n",
      "  28  ('', 'easyocr') ('', 'tesseract') ('deskew', 'easyocr') ('deskew', 'tesseract') ('denoise', 'easyocr') ('denoise', 'tesseract') post_process\n",
      "  28  ('', 'easyocr') ('', 'tesseract') ('binarize', 'easyocr') ('binarize', 'tesseract') ('denoise', 'easyocr') ('denoise', 'tesseract') post_process\n",
      "  29  ('', 'tesseract') ('deskew', 'tesseract') ('binarize', 'tesseract') ('denoise', 'tesseract')\n",
      "  29  ('', 'easyocr') ('', 'tesseract') ('denoise', 'easyocr') ('denoise', 'tesseract') post_process\n",
      "  29  ('deskew', 'easyocr') ('deskew', 'tesseract') ('denoise', 'easyocr') ('denoise', 'tesseract') post_process\n",
      "  30  ('deskew', 'tesseract') ('denoise', 'tesseract') post_process\n",
      "  30  ('', 'easyocr') ('', 'tesseract') ('binarize', 'easyocr') ('binarize', 'tesseract') post_process\n",
      "  31  ('deskew', 'tesseract') ('binarize', 'tesseract') post_process\n",
      "  33  ('deskew', 'tesseract')\n",
      "  34  ('deskew', 'tesseract') post_process\n",
      "  34  ('deskew', 'tesseract') ('denoise', 'tesseract')\n",
      "  35  ('deskew', 'tesseract') ('binarize', 'tesseract')\n",
      "  35  ('', 'tesseract') ('deskew', 'tesseract') ('binarize', 'tesseract')\n",
      "  35  ('', 'easyocr') ('binarize', 'easyocr') ('denoise', 'easyocr') post_process\n",
      "  36  ('', 'easyocr') ('deskew', 'easyocr') ('denoise', 'easyocr') post_process\n",
      "  37  ('binarize', 'easyocr') ('binarize', 'tesseract')\n",
      "  37  ('', 'tesseract') ('deskew', 'tesseract') ('denoise', 'tesseract')\n",
      "  37  ('', 'easyocr') ('', 'tesseract') ('deskew', 'easyocr') ('deskew', 'tesseract') ('binarize', 'easyocr') ('binarize', 'tesseract') post_process\n",
      "  38  ('deskew', 'easyocr') ('binarize', 'easyocr') post_process\n",
      "  39  ('', 'tesseract') ('denoise', 'tesseract')\n",
      "  39  ('', 'easyocr') ('', 'tesseract') post_process\n",
      "  39  ('deskew', 'easyocr') ('binarize', 'easyocr') ('denoise', 'easyocr') post_process\n",
      "  40  ('binarize', 'tesseract')\n",
      "  41  ('binarize', 'tesseract') post_process\n",
      "  41  ('', 'easyocr') ('deskew', 'easyocr') post_process\n",
      "  41  ('', 'tesseract') ('denoise', 'tesseract') post_process\n",
      "  43  ('', 'tesseract') ('binarize', 'tesseract') post_process\n",
      "  45  ('', 'tesseract') ('binarize', 'tesseract')\n",
      "  46  ('deskew', 'easyocr') ('deskew', 'tesseract')\n",
      "  46  ('deskew', 'easyocr') ('deskew', 'tesseract') ('binarize', 'easyocr') ('binarize', 'tesseract')\n",
      "  48  ('binarize', 'easyocr') ('binarize', 'tesseract') ('denoise', 'easyocr') ('denoise', 'tesseract')\n",
      "  48  ('', 'easyocr') ('', 'tesseract') ('deskew', 'easyocr') ('deskew', 'tesseract') ('binarize', 'easyocr') ('binarize', 'tesseract') ('denoise', 'easyocr') ('denoise', 'tesseract') post_process\n",
      "  50  ('binarize', 'easyocr') ('denoise', 'easyocr') post_process\n",
      "  52  ('', 'tesseract') ('deskew', 'tesseract') post_process\n",
      "  53  ('deskew', 'easyocr') ('denoise', 'easyocr') post_process\n",
      "  53  ('', 'easyocr') ('deskew', 'easyocr') ('binarize', 'easyocr') ('denoise', 'easyocr') post_process\n",
      "  54  ('', 'tesseract')\n",
      "  54  ('', 'tesseract') ('deskew', 'tesseract')\n",
      "  54  ('', 'easyocr') ('binarize', 'easyocr') post_process\n",
      "  54  ('', 'easyocr') ('deskew', 'easyocr') ('binarize', 'easyocr') post_process\n",
      "  55  ('', 'tesseract') post_process\n",
      "  55  ('', 'easyocr') ('denoise', 'easyocr') post_process\n",
      "  55  ('', 'easyocr') ('', 'tesseract') ('deskew', 'easyocr') ('deskew', 'tesseract')\n",
      "  58  ('', 'easyocr') ('', 'tesseract')\n",
      "  59  ('denoise', 'easyocr') ('denoise', 'tesseract') post_process\n",
      "  60  ('denoise', 'tesseract')\n",
      "  60  ('deskew', 'easyocr') ('binarize', 'easyocr')\n",
      "  61  ('binarize', 'easyocr') ('denoise', 'easyocr')\n",
      "  62  ('denoise', 'tesseract') post_process\n",
      "  63  ('', 'easyocr') post_process\n",
      "  65  ('binarize', 'easyocr') post_process\n",
      "  65  ('', 'easyocr') ('', 'tesseract') ('binarize', 'easyocr') ('binarize', 'tesseract')\n",
      "  66  ('', 'easyocr') ('', 'tesseract') ('denoise', 'easyocr') ('denoise', 'tesseract')\n",
      "  68  ('', 'easyocr') ('', 'tesseract') ('binarize', 'easyocr') ('binarize', 'tesseract') ('denoise', 'easyocr') ('denoise', 'tesseract')\n",
      "  69  ('deskew', 'easyocr') ('deskew', 'tesseract') ('binarize', 'easyocr') ('binarize', 'tesseract') ('denoise', 'easyocr') ('denoise', 'tesseract')\n",
      "  70  ('denoise', 'easyocr') ('denoise', 'tesseract')\n",
      "  70  ('deskew', 'easyocr') ('deskew', 'tesseract') ('denoise', 'easyocr') ('denoise', 'tesseract')\n",
      "  71  ('deskew', 'easyocr') ('binarize', 'easyocr') ('denoise', 'easyocr')\n",
      "  72  ('', 'easyocr') ('binarize', 'easyocr') ('denoise', 'easyocr')\n",
      "  73  ('', 'easyocr') ('deskew', 'easyocr')\n",
      "  74  ('binarize', 'easyocr')\n",
      "  75  ('', 'easyocr') ('binarize', 'easyocr')\n",
      "  76  ('', 'easyocr') ('deskew', 'easyocr') ('denoise', 'easyocr')\n",
      "  77  ('', 'easyocr') ('', 'tesseract') ('deskew', 'easyocr') ('deskew', 'tesseract') ('denoise', 'easyocr') ('denoise', 'tesseract')\n",
      "  78  ('', 'easyocr')\n",
      "  80  ('deskew', 'easyocr') post_process\n",
      "  81  ('', 'easyocr') ('denoise', 'easyocr')\n",
      "  82  ('deskew', 'easyocr') ('denoise', 'easyocr')\n",
      "  83  ('', 'easyocr') ('', 'tesseract') ('deskew', 'easyocr') ('deskew', 'tesseract') ('binarize', 'easyocr') ('binarize', 'tesseract')\n",
      "  86  ('', 'easyocr') ('deskew', 'easyocr') ('binarize', 'easyocr')\n",
      "  87  ('', 'easyocr') ('deskew', 'easyocr') ('binarize', 'easyocr') ('denoise', 'easyocr')\n",
      "  92  ('', 'easyocr') ('', 'tesseract') ('deskew', 'easyocr') ('deskew', 'tesseract') ('binarize', 'easyocr') ('binarize', 'tesseract') ('denoise', 'easyocr') ('denoise', 'tesseract')\n",
      "  95  ('deskew', 'easyocr')\n",
      "  95  ('denoise', 'easyocr') post_process\n",
      "  98  ('denoise', 'easyocr')\n"
     ]
    }
   ],
   "source": [
    "def best_pipelines_tally(scores):\n",
    "    tally = defaultdict(int)\n",
    "\n",
    "    grouped_scores = groupby(scores, key=lambda s: s[\"label_id\"])\n",
    "    for _, scores in grouped_scores:\n",
    "        scores = sorted(scores, key=lambda s: (s[\"score\"], len(s[\"actions\"])))\n",
    "        prev_score = -1\n",
    "        place = 0\n",
    "        for score in scores:\n",
    "            if score[\"score\"] != prev_score:\n",
    "                place += 1\n",
    "                prev_score = score[\"score\"]\n",
    "            tally[score[\"actions\"]] += place\n",
    "\n",
    "    tally = [(v, len(k), k) for k, v in tally.items()]\n",
    "    tally = sorted(tally)\n",
    "\n",
    "    for score, _, actions in tally:\n",
    "        print(f\"{score:4d}  {actions}\")\n",
    "\n",
    "\n",
    "best_pipelines_tally(SCORES)"
   ]
  },
  {
   "cell_type": "code",
   "execution_count": null,
   "id": "913b1f46-7d2d-4f99-acc6-84f04d497097",
   "metadata": {},
   "outputs": [],
   "source": []
  }
 ],
 "metadata": {
  "kernelspec": {
   "display_name": "Python 3 (ipykernel)",
   "language": "python",
   "name": "python3"
  },
  "language_info": {
   "codemirror_mode": {
    "name": "ipython",
    "version": 3
   },
   "file_extension": ".py",
   "mimetype": "text/x-python",
   "name": "python",
   "nbconvert_exporter": "python",
   "pygments_lexer": "ipython3",
   "version": "3.10.4"
  }
 },
 "nbformat": 4,
 "nbformat_minor": 5
}
