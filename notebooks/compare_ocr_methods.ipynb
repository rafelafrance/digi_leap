{
 "cells": [
  {
   "cell_type": "markdown",
   "id": "6f1d91f3-a0c5-4ee2-926e-2091aa6a374e",
   "metadata": {
    "tags": []
   },
   "source": [
    "# Measure contributions of parts of OCR pipeline"
   ]
  },
  {
   "cell_type": "markdown",
   "id": "89a5b980-67c5-41e7-b49e-1bab3d17d789",
   "metadata": {
    "tags": []
   },
   "source": [
    "## Possible OCR pipelines (actions are green)"
   ]
  },
  {
   "cell_type": "markdown",
   "id": "03270b28-13a7-4cd9-8f66-a7d8ebc0853a",
   "metadata": {},
   "source": [
    "![ocr_flow](assets/ocr_flow.drawio.jpg)"
   ]
  },
  {
   "cell_type": "markdown",
   "id": "154a51cd-2831-40b0-b316-81c9926168c1",
   "metadata": {
    "tags": []
   },
   "source": [
    "#### The are 4 groups of actions in the full pipeline (green boxes). The purpose of this notebook is to test if all of these actions really helps with the OCR results, and if they do, by how much.\n",
    "\n",
    "- Which of the 4 image processing pipelines improve OCR performance?\n",
    "- Two OCR engines: `Tesseract` & `EasyOCR`. `Tesseract` is the current leader in open source OCR engines, does adding `EasyOCR` improve the results?\n",
    "- The `combine text` function is only needed if we stick with the ensemble approach. I.e. only if we use more than one image processing pipeline or more than one OCR engine.\n",
    "- The `clean text` function corrects misspellings and common OCR errors with punctuation, spacing, etc. We want to measure its efficacy."
   ]
  },
  {
   "cell_type": "markdown",
   "id": "c6cf0268-53f0-4272-b002-e4d67a04c898",
   "metadata": {
    "tags": []
   },
   "source": [
    "## Comparison strategy"
   ]
  },
  {
   "cell_type": "markdown",
   "id": "138c7d10-a9f7-403e-80b7-39cd294129e7",
   "metadata": {
    "tags": []
   },
   "source": [
    "#### We're doing ablations on the OCR pipeline.\n",
    "- How well do `Tesseract` and `EasyOCR` perform on their own without image pre-processing. I'll also try the engine directly grafted to the `clean text` function.\n",
    "- How well do each of the image pre-processing steps help the OCR process? and which ones work well with which OCR engine. I'm going to try various permutations of these.\n",
    "- Can I whittle this down to one or zero image pre-processing pipelines and one OCR engine? If so, then this would allow me to drop the `combine text` step.\n",
    "- How much does the `clean text` step help?\n",
    "- Note that EasyOCR uses a fair bit of GPU resources and if we can remove it it will speed up the OCR pipeline significantly. I.e. it's difficult to parallelize.\n",
    "\n",
    "#### Scoring\n",
    "- I'll use an expert derived gold standard to compare against the ablation sequences.\n",
    "- I am using Levenshtein distance as the scores. Levenshtein distance counts character mismatches between sequences in a best case pairwise alignment.\n",
    "- I will normalize the Levenshtein distance it by dividing by the length of the sequence."
   ]
  },
  {
   "cell_type": "markdown",
   "id": "f2158239-7ae2-4812-b2ed-9e5cc63083e7",
   "metadata": {
    "jp-MarkdownHeadingCollapsed": true,
    "tags": []
   },
   "source": [
    "## Setup"
   ]
  },
  {
   "cell_type": "code",
   "execution_count": 1,
   "id": "3e14a709-4d3f-475d-aac3-05f11b996f1c",
   "metadata": {
    "tags": []
   },
   "outputs": [],
   "source": [
    "from collections import defaultdict\n",
    "from itertools import groupby\n",
    "from pathlib import Path\n",
    "from types import SimpleNamespace\n",
    "\n",
    "from tqdm import tqdm\n",
    "\n",
    "from digi_leap.pylib import consts\n",
    "from digi_leap.pylib.db import db\n",
    "from digi_leap.pylib.ocr import ocr_compare as comp"
   ]
  },
  {
   "cell_type": "markdown",
   "id": "ae927e6d-8a61-45e2-89de-70a7c1013a7d",
   "metadata": {
    "jp-MarkdownHeadingCollapsed": true,
    "tags": []
   },
   "source": [
    "## Constants"
   ]
  },
  {
   "cell_type": "code",
   "execution_count": 2,
   "id": "73ec813d-d7e5-4ab0-8dd4-6b839268727d",
   "metadata": {},
   "outputs": [],
   "source": [
    "ARGS = SimpleNamespace(\n",
    "    database=Path(consts.DATA_DIR / \"sernec\" / \"sernec.sqlite\"),\n",
    "    gold_set=\"test_gold_set\",\n",
    "    score_set=\"notebook_scores\",\n",
    "    notes=\"\",\n",
    "    csv_path=consts.DATA_DIR / \"sernec\" / \"gold_std_2022-06-28_sample.csv\",\n",
    ")"
   ]
  },
  {
   "cell_type": "markdown",
   "id": "e05affe5-8c3f-4efe-bbdc-ba2faac6098e",
   "metadata": {
    "jp-MarkdownHeadingCollapsed": true,
    "tags": []
   },
   "source": [
    "## Save a gold standard to the database"
   ]
  },
  {
   "cell_type": "code",
   "execution_count": 3,
   "id": "d6ae2d60-dee3-4813-b143-3a727620f9e7",
   "metadata": {},
   "outputs": [],
   "source": [
    "# comp.insert_gold_std(ARGS.csv_path, ARGS.database, ARGS.gold_set)"
   ]
  },
  {
   "cell_type": "markdown",
   "id": "47b62c14-0ab8-45d3-a3ee-8b3ffcd4d265",
   "metadata": {
    "jp-MarkdownHeadingCollapsed": true,
    "tags": []
   },
   "source": [
    "## Get a gold standard from the database"
   ]
  },
  {
   "cell_type": "code",
   "execution_count": 4,
   "id": "165f0525-6d7e-4bb5-9fc5-506db55c9a2b",
   "metadata": {},
   "outputs": [],
   "source": [
    "GOLD_STD = comp.select_gold_std(ARGS.database, ARGS.gold_set)\n",
    "# gold_std[:2]"
   ]
  },
  {
   "cell_type": "markdown",
   "id": "f8f418c1-45ad-4a68-9b7d-60e80a8945b0",
   "metadata": {
    "jp-MarkdownHeadingCollapsed": true,
    "tags": []
   },
   "source": [
    "## Score the image processing OCR engine combinations"
   ]
  },
  {
   "cell_type": "code",
   "execution_count": 5,
   "id": "9f41ae18-427f-4fc9-9008-55bf19a5bac8",
   "metadata": {},
   "outputs": [],
   "source": [
    "def calculate_scores(args, gold_std):\n",
    "    combos = comp.pipeline_engine_combos()\n",
    "\n",
    "    scores = []\n",
    "\n",
    "    for gold in tqdm(gold_std):\n",
    "        images = comp.process_images(gold)\n",
    "        all_frags = comp.get_ocr_fragments(images, gold)\n",
    "\n",
    "        scores += comp.score_simple_ocr(args, gold, images)\n",
    "        scores += comp.score_ocr_ensembles(args, gold, all_frags, combos)\n",
    "\n",
    "    return scores\n",
    "\n",
    "\n",
    "# SCORES = calculate_scores(ARGS, GOLD_STD)"
   ]
  },
  {
   "cell_type": "markdown",
   "id": "6c5a7d6e-1fab-4ba9-9db3-402f35af7d6e",
   "metadata": {
    "tags": []
   },
   "source": [
    "## Insert scores"
   ]
  },
  {
   "cell_type": "code",
   "execution_count": 6,
   "id": "1e5a3b63-e7cf-46f2-b4ec-fcbf6b557dff",
   "metadata": {},
   "outputs": [],
   "source": [
    "# comp.insert_scores(ARGS, SCORES)"
   ]
  },
  {
   "cell_type": "markdown",
   "id": "21859216-c18a-41de-b2b3-1b3776a6b0d4",
   "metadata": {
    "tags": []
   },
   "source": [
    "## Select scores"
   ]
  },
  {
   "cell_type": "code",
   "execution_count": 7,
   "id": "ea11a33a-a4d3-496f-8d34-0b0d931a9704",
   "metadata": {},
   "outputs": [],
   "source": [
    "SCORES = comp.select_scores(ARGS)"
   ]
  },
  {
   "cell_type": "markdown",
   "id": "5dcd77b7-b28e-42a6-9ac7-7f7960ec4852",
   "metadata": {},
   "source": [
    "## Peek at the scores"
   ]
  },
  {
   "cell_type": "code",
   "execution_count": 8,
   "id": "f7c7959e-6b22-4ad5-a7e2-a1df677ecd47",
   "metadata": {},
   "outputs": [],
   "source": [
    "def peek_scores(scores):\n",
    "    grouped_scores = groupby(scores, key=lambda s: s[\"label_id\"])\n",
    "\n",
    "    for labels_id, scores in grouped_scores:\n",
    "        print(\"=\" * 80)\n",
    "        print(labels_id)\n",
    "        scores = sorted(scores, key=lambda s: (s[\"score\"], len(s[\"actions\"])))\n",
    "        for score in scores:\n",
    "            print(f\"{score['score']:4d}  {score['actions']}\")\n",
    "\n",
    "\n",
    "# peek_scores(SCORES)"
   ]
  },
  {
   "cell_type": "code",
   "execution_count": 9,
   "id": "35e15f03-0307-4705-84c3-ee3904a114bf",
   "metadata": {},
   "outputs": [
    {
     "data": {
      "text/plain": [
       "[\"    0.1755  ('', 'tesseract') ('deskew', 'tesseract') ('binarize', 'tesseract') ('denoise', 'tesseract') post_process\",\n",
       " \"    0.1779  ('deskew', 'easyocr') ('deskew', 'tesseract') ('binarize', 'easyocr') ('binarize', 'tesseract') post_process\",\n",
       " \"    0.1787  ('', 'easyocr') ('', 'tesseract') ('deskew', 'easyocr') ('deskew', 'tesseract') post_process\",\n",
       " \"    0.1794  ('', 'tesseract') ('binarize', 'tesseract') ('denoise', 'tesseract') post_process\",\n",
       " \"    0.1886  ('deskew', 'tesseract') ('binarize', 'tesseract') ('denoise', 'tesseract') post_process\",\n",
       " \"    0.2161  ('deskew', 'easyocr') ('deskew', 'tesseract') post_process\",\n",
       " \"    0.2164  ('', 'tesseract') ('deskew', 'tesseract') ('binarize', 'tesseract') post_process\",\n",
       " \"    0.2164  ('binarize', 'easyocr') ('binarize', 'tesseract') ('denoise', 'easyocr') ('denoise', 'tesseract') post_process\",\n",
       " \"    0.2207  ('', 'tesseract') ('deskew', 'tesseract') ('denoise', 'tesseract') post_process\",\n",
       " \"    0.2209  ('', 'tesseract') ('binarize', 'tesseract') ('denoise', 'tesseract')\",\n",
       " \"    0.2228  ('binarize', 'tesseract') ('denoise', 'tesseract')\",\n",
       " \"    0.2234  ('deskew', 'easyocr') ('deskew', 'tesseract') ('binarize', 'easyocr') ('binarize', 'tesseract') ('denoise', 'easyocr') ('denoise', 'tesseract') post_process\",\n",
       " \"    0.2236  ('binarize', 'easyocr') ('binarize', 'tesseract') post_process\",\n",
       " \"    0.2258  ('deskew', 'tesseract') ('binarize', 'tesseract') ('denoise', 'tesseract')\",\n",
       " \"    0.2313  ('binarize', 'tesseract') ('denoise', 'tesseract') post_process\",\n",
       " \"    0.2330  ('', 'easyocr') ('', 'tesseract') ('binarize', 'easyocr') ('binarize', 'tesseract') ('denoise', 'easyocr') ('denoise', 'tesseract') post_process\",\n",
       " \"    0.2331  ('', 'easyocr') ('', 'tesseract') ('deskew', 'easyocr') ('deskew', 'tesseract') ('denoise', 'easyocr') ('denoise', 'tesseract') post_process\",\n",
       " \"    0.2348  ('', 'tesseract') ('deskew', 'tesseract') ('binarize', 'tesseract') ('denoise', 'tesseract')\",\n",
       " \"    0.2366  ('deskew', 'easyocr') ('deskew', 'tesseract') ('denoise', 'easyocr') ('denoise', 'tesseract') post_process\",\n",
       " \"    0.2424  ('', 'easyocr') ('', 'tesseract') ('denoise', 'easyocr') ('denoise', 'tesseract') post_process\",\n",
       " \"    0.2425  ('deskew', 'tesseract') ('denoise', 'tesseract') post_process\",\n",
       " \"    0.2438  ('deskew', 'tesseract')\",\n",
       " \"    0.2469  ('deskew', 'tesseract') post_process\",\n",
       " \"    0.2506  ('deskew', 'tesseract') ('binarize', 'tesseract') post_process\",\n",
       " \"    0.2529  ('deskew', 'tesseract') ('denoise', 'tesseract')\",\n",
       " \"    0.2607  ('', 'tesseract') ('deskew', 'tesseract') ('binarize', 'tesseract')\",\n",
       " \"    0.2618  ('', 'tesseract') ('deskew', 'tesseract') ('denoise', 'tesseract')\",\n",
       " \"    0.2633  ('deskew', 'tesseract') ('binarize', 'tesseract')\",\n",
       " \"    0.2644  ('', 'easyocr') ('deskew', 'easyocr') ('denoise', 'easyocr') post_process\",\n",
       " \"    0.2666  ('', 'easyocr') ('binarize', 'easyocr') ('denoise', 'easyocr') post_process\",\n",
       " \"    0.2722  ('binarize', 'easyocr') ('binarize', 'tesseract')\",\n",
       " \"    0.2766  ('deskew', 'easyocr') ('binarize', 'easyocr') post_process\",\n",
       " \"    0.2829  ('', 'easyocr') ('deskew', 'easyocr') post_process\",\n",
       " \"    0.2832  ('deskew', 'easyocr') ('binarize', 'easyocr') ('denoise', 'easyocr') post_process\",\n",
       " \"    0.2939  ('deskew', 'easyocr') ('deskew', 'tesseract')\",\n",
       " \"    0.2961  ('deskew', 'easyocr') ('deskew', 'tesseract') ('binarize', 'easyocr') ('binarize', 'tesseract')\",\n",
       " \"    0.3078  ('binarize', 'tesseract')\",\n",
       " \"    0.3082  ('binarize', 'easyocr') ('binarize', 'tesseract') ('denoise', 'easyocr') ('denoise', 'tesseract')\",\n",
       " \"    0.3087  ('', 'tesseract') ('denoise', 'tesseract')\",\n",
       " \"    0.3087  ('', 'easyocr') ('', 'tesseract') post_process\",\n",
       " \"    0.3138  ('binarize', 'tesseract') post_process\",\n",
       " \"    0.3185  ('', 'tesseract') ('denoise', 'tesseract') post_process\",\n",
       " \"    0.3198  ('', 'easyocr') ('', 'tesseract') ('deskew', 'easyocr') ('deskew', 'tesseract')\",\n",
       " \"    0.3376  ('binarize', 'easyocr') ('denoise', 'easyocr') post_process\",\n",
       " \"    0.3440  ('', 'tesseract') ('binarize', 'tesseract') post_process\",\n",
       " \"    0.3468  ('deskew', 'easyocr') ('denoise', 'easyocr') post_process\",\n",
       " \"    0.3490  ('deskew', 'easyocr') ('binarize', 'easyocr')\",\n",
       " \"    0.3537  ('', 'tesseract')\",\n",
       " \"    0.3561  ('', 'tesseract') ('binarize', 'tesseract')\",\n",
       " \"    0.3577  ('', 'easyocr') ('denoise', 'easyocr') post_process\",\n",
       " \"    0.3580  ('', 'easyocr') ('', 'tesseract') ('binarize', 'easyocr') ('binarize', 'tesseract') post_process\",\n",
       " \"    0.3611  ('', 'tesseract') post_process\",\n",
       " \"    0.3624  ('', 'tesseract') ('deskew', 'tesseract') post_process\",\n",
       " \"    0.3667  ('', 'easyocr') ('', 'tesseract') ('denoise', 'easyocr') ('denoise', 'tesseract')\",\n",
       " \"    0.3678  ('', 'tesseract') ('deskew', 'tesseract')\",\n",
       " \"    0.3706  ('binarize', 'easyocr') ('denoise', 'easyocr')\",\n",
       " \"    0.3759  ('', 'easyocr') ('', 'tesseract') ('binarize', 'easyocr') ('binarize', 'tesseract') ('denoise', 'easyocr') ('denoise', 'tesseract')\",\n",
       " \"    0.3766  ('deskew', 'easyocr') ('deskew', 'tesseract') ('binarize', 'easyocr') ('binarize', 'tesseract') ('denoise', 'easyocr') ('denoise', 'tesseract')\",\n",
       " \"    0.3775  ('denoise', 'easyocr') ('denoise', 'tesseract') post_process\",\n",
       " \"    0.3787  ('denoise', 'tesseract')\",\n",
       " \"    0.3797  ('deskew', 'easyocr') ('deskew', 'tesseract') ('denoise', 'easyocr') ('denoise', 'tesseract')\",\n",
       " \"    0.3809  ('', 'easyocr') ('', 'tesseract')\",\n",
       " \"    0.3835  ('', 'easyocr') post_process\",\n",
       " \"    0.3862  ('denoise', 'tesseract') post_process\",\n",
       " \"    0.3914  ('deskew', 'easyocr') ('binarize', 'easyocr') ('denoise', 'easyocr')\",\n",
       " \"    0.3924  ('', 'easyocr') ('binarize', 'easyocr') ('denoise', 'easyocr')\",\n",
       " \"    0.3966  ('', 'easyocr') ('deskew', 'easyocr')\",\n",
       " \"    0.3979  ('binarize', 'easyocr') post_process\",\n",
       " \"    0.4025  ('', 'easyocr') ('', 'tesseract') ('deskew', 'easyocr') ('deskew', 'tesseract') ('denoise', 'easyocr') ('denoise', 'tesseract')\",\n",
       " \"    0.4065  ('', 'easyocr') ('deskew', 'easyocr') ('denoise', 'easyocr')\",\n",
       " \"    0.4144  ('denoise', 'easyocr') ('denoise', 'tesseract')\",\n",
       " \"    0.4222  ('', 'easyocr') ('', 'tesseract') ('deskew', 'easyocr') ('deskew', 'tesseract') ('binarize', 'easyocr') ('binarize', 'tesseract') post_process\",\n",
       " \"    0.4390  ('', 'easyocr') ('denoise', 'easyocr')\",\n",
       " \"    0.4408  ('binarize', 'easyocr')\",\n",
       " \"    0.4422  ('', 'easyocr')\",\n",
       " \"    0.4430  ('', 'easyocr') ('deskew', 'easyocr') ('binarize', 'easyocr') post_process\",\n",
       " \"    0.4508  ('deskew', 'easyocr') ('denoise', 'easyocr')\",\n",
       " \"    0.4508  ('', 'easyocr') ('binarize', 'easyocr') post_process\",\n",
       " \"    0.4536  ('', 'easyocr') ('deskew', 'easyocr') ('binarize', 'easyocr') ('denoise', 'easyocr') post_process\",\n",
       " \"    0.4565  ('deskew', 'easyocr') post_process\",\n",
       " \"    0.4707  ('', 'easyocr') ('', 'tesseract') ('deskew', 'easyocr') ('deskew', 'tesseract') ('binarize', 'easyocr') ('binarize', 'tesseract') ('denoise', 'easyocr') ('denoise', 'tesseract') post_process\",\n",
       " \"    0.5058  ('', 'easyocr') ('', 'tesseract') ('binarize', 'easyocr') ('binarize', 'tesseract')\",\n",
       " \"    0.5277  ('deskew', 'easyocr')\",\n",
       " \"    0.5291  ('', 'easyocr') ('binarize', 'easyocr')\",\n",
       " \"    0.5834  ('', 'easyocr') ('deskew', 'easyocr') ('binarize', 'easyocr')\",\n",
       " \"    0.5894  ('', 'easyocr') ('deskew', 'easyocr') ('binarize', 'easyocr') ('denoise', 'easyocr')\",\n",
       " \"    0.6204  ('', 'easyocr') ('', 'tesseract') ('deskew', 'easyocr') ('deskew', 'tesseract') ('binarize', 'easyocr') ('binarize', 'tesseract')\",\n",
       " \"    0.6471  ('', 'easyocr') ('', 'tesseract') ('deskew', 'easyocr') ('deskew', 'tesseract') ('binarize', 'easyocr') ('binarize', 'tesseract') ('denoise', 'easyocr') ('denoise', 'tesseract')\",\n",
       " \"    0.6684  ('denoise', 'easyocr') post_process\",\n",
       " \"    0.6760  ('denoise', 'easyocr')\"]"
      ]
     },
     "execution_count": 9,
     "metadata": {},
     "output_type": "execute_result"
    }
   ],
   "source": [
    "def normalized_scores(scores):\n",
    "    tally = defaultdict(float)\n",
    "\n",
    "    for score in scores:\n",
    "        tally[score[\"actions\"]] += score[\"score\"] / float(len(score[\"score_text\"]))\n",
    "\n",
    "    tally = [(v, len(k), k) for k, v in tally.items()]\n",
    "    tally = sorted(tally)\n",
    "\n",
    "    norms = [f\"{s:10.4f}  {a}\" for s, _, a in tally]\n",
    "    return norms\n",
    "\n",
    "\n",
    "norms = normalized_scores(SCORES)\n",
    "norms"
   ]
  },
  {
   "cell_type": "code",
   "execution_count": 10,
   "id": "913b1f46-7d2d-4f99-acc6-84f04d497097",
   "metadata": {},
   "outputs": [
    {
     "data": {
      "text/plain": [
       "90"
      ]
     },
     "execution_count": 10,
     "metadata": {},
     "output_type": "execute_result"
    }
   ],
   "source": [
    "len(norms)"
   ]
  },
  {
   "cell_type": "code",
   "execution_count": null,
   "id": "03d92272-69e0-4bca-94fc-229b5c60a596",
   "metadata": {},
   "outputs": [],
   "source": []
  }
 ],
 "metadata": {
  "kernelspec": {
   "display_name": "Python 3 (ipykernel)",
   "language": "python",
   "name": "python3"
  },
  "language_info": {
   "codemirror_mode": {
    "name": "ipython",
    "version": 3
   },
   "file_extension": ".py",
   "mimetype": "text/x-python",
   "name": "python",
   "nbconvert_exporter": "python",
   "pygments_lexer": "ipython3",
   "version": "3.10.4"
  }
 },
 "nbformat": 4,
 "nbformat_minor": 5
}
