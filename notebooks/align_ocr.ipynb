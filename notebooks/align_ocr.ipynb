{
 "cells": [
  {
   "cell_type": "code",
   "execution_count": 1,
   "id": "d17cb6a8",
   "metadata": {},
   "outputs": [],
   "source": [
    "import sys\n",
    "sys.path.append('..')"
   ]
  },
  {
   "cell_type": "code",
   "execution_count": 2,
   "id": "8be3d7b3",
   "metadata": {},
   "outputs": [],
   "source": [
    "import difflib as dl\n",
    "import re\n",
    "import statistics as stat\n",
    "import string\n",
    "import subprocess\n",
    "import tempfile\n",
    "import warnings\n",
    "from collections import Counter, defaultdict, namedtuple\n",
    "from dataclasses import dataclass, field\n",
    "from itertools import groupby, combinations\n",
    "from pathlib import Path\n",
    "from pprint import pp\n",
    "from typing import Union\n",
    "from types import SimpleNamespace\n",
    "\n",
    "import numpy as np\n",
    "import pandas as pd\n",
    "from Bio import SeqUtils\n",
    "from Bio.Seq import Seq\n",
    "from IPython.display import display\n",
    "from ipywidgets import interact\n",
    "from PIL import Image, ImageDraw\n",
    "\n",
    "from digi_leap.pylib import (\n",
    "    line_align as la,\n",
    "    db,\n",
    "    image_util as iu,\n",
    "    label_transforms as lt,\n",
    "    line_align_subs as subs,\n",
    ")"
   ]
  },
  {
   "cell_type": "code",
   "execution_count": 3,
   "id": "b2a1d7c2",
   "metadata": {},
   "outputs": [],
   "source": [
    "DATA = Path('..') / 'data' / 'sernec'\n",
    "SHEETS = DATA / 'sheets'\n",
    "DB = DATA / 'sernec.sqlite'"
   ]
  },
  {
   "cell_type": "code",
   "execution_count": 4,
   "id": "13d29aef",
   "metadata": {},
   "outputs": [],
   "source": [
    "SHEETS = [dict(s) for s in db.select_sheets(DB)]"
   ]
  },
  {
   "cell_type": "code",
   "execution_count": 5,
   "id": "d423fad7",
   "metadata": {},
   "outputs": [],
   "source": [
    "ocr = [dict(ocr) for ocr in db.select_ocr(DB)]\n",
    "OCR = defaultdict(list)\n",
    "for o in ocr:\n",
    "    OCR[o['label_id']].append(o)"
   ]
  },
  {
   "cell_type": "code",
   "execution_count": 6,
   "id": "f3bb9e20",
   "metadata": {},
   "outputs": [],
   "source": [
    "LABELS = [dict(lb) for lb in db.select_labels(DB) if lb['label_id'] in OCR]"
   ]
  },
  {
   "cell_type": "code",
   "execution_count": 7,
   "id": "89fadf44",
   "metadata": {},
   "outputs": [],
   "source": [
    "@dataclass\n",
    "class Row:\n",
    "    left: int = 0\n",
    "    top: int = 0\n",
    "    right: int = 0\n",
    "    bottom: int = 0\n",
    "    text: list[str] = field(default_factory=list)\n",
    "    source: tuple[str, str] = field(default_factory=tuple)\n",
    "\n",
    "    @property\n",
    "    def center(self) -> int:\n",
    "        \"\"\"Get the vertical center line of the box.\"\"\"\n",
    "        return (self.bottom + self.top) // 2\n",
    "\n",
    "    def update(self, box, source=''):\n",
    "        self.left = box['left']\n",
    "        self.top = box['top']\n",
    "        self.right = box['right']\n",
    "        self.bottom = box['bottom']\n",
    "        self.text.append(box['text'])\n",
    "        if source:\n",
    "            self.source = source"
   ]
  },
  {
   "cell_type": "code",
   "execution_count": 8,
   "id": "26101fd3",
   "metadata": {},
   "outputs": [],
   "source": [
    "@dataclass\n",
    "class Group:\n",
    "    left: int = 0\n",
    "    top: int = 0\n",
    "    right: int = 0\n",
    "    bottom: int = 0\n",
    "    rows: list[Row] = field(default_factory=list)\n",
    "    aligned: list[str] = field(default_factory=list)\n",
    "\n",
    "    @property\n",
    "    def center(self) -> int:\n",
    "        \"\"\"Get the vertical center line of the box.\"\"\"\n",
    "        return (self.bottom + self.top) // 2\n",
    "\n",
    "    @property\n",
    "    def text(self) -> str:\n",
    "        return [' '.join(r.text) for r in self.rows]\n",
    "\n",
    "    def update(self, row):\n",
    "        self.left = row.left\n",
    "        self.top = row.top\n",
    "        self.right = row.right\n",
    "        self.bottom = row.bottom\n",
    "        self.rows.append(row)"
   ]
  },
  {
   "cell_type": "code",
   "execution_count": 9,
   "id": "ce5ba1ba",
   "metadata": {},
   "outputs": [],
   "source": [
    "def get_label(idx):\n",
    "    with warnings.catch_warnings():  # Turn off EXIF warnings\n",
    "        warnings.filterwarnings(\"ignore\", category=UserWarning)\n",
    "        lb = LABELS[idx]\n",
    "        path = Path('..') / lb['path']\n",
    "        sheet = Image.open(path)\n",
    "        label = sheet.crop((lb[\"left\"], lb[\"top\"],\n",
    "                           lb[\"right\"], lb[\"bottom\"]))\n",
    "        return lb, label"
   ]
  },
  {
   "cell_type": "code",
   "execution_count": 10,
   "id": "2b48cc96",
   "metadata": {},
   "outputs": [],
   "source": [
    "def filter_boxes(boxes, image_height, conf=0.25, height_threshold=0.25, std_devs=2.0):\n",
    "    \"\"\"Remove problem bounding boxes from the data frame.\n",
    "\n",
    "    Excuses for removing boxes include:\n",
    "    - Remove bounding boxes with no text.\n",
    "    - Remove boxes with a low confidence score (from the OCR engine) for the text.\n",
    "    - Remove boxes that are too tall relative to the label.\n",
    "    - Remove boxes that are really skinny or really short.\n",
    "    \"\"\"\n",
    "    if len(boxes) < 2:\n",
    "        return boxes\n",
    "\n",
    "    too_tall = round(image_height * height_threshold)\n",
    "\n",
    "    widths = [b['right'] - b['left'] for b in boxes]\n",
    "    heights = [b['bottom'] - b['top'] for b in boxes]\n",
    "    too_short = round(stat.mean(widths) - (std_devs * stat.stdev(widths)))\n",
    "    too_thin = round(stat.mean(heights) - (std_devs * stat.stdev(heights)))\n",
    "\n",
    "    filtered = []\n",
    "    for box in boxes:\n",
    "        width = box['right'] - box['left']\n",
    "        height = box['bottom'] - box['top']\n",
    "\n",
    "        # Remove boxes with nothing in them\n",
    "        box['text'] = box['text'].strip()\n",
    "        if not box['text']:\n",
    "            continue\n",
    "\n",
    "        # Remove boxes with low confidence\n",
    "        if box['conf'] < conf:\n",
    "            continue\n",
    "\n",
    "        # Remove boxes that are too tall\n",
    "        if height >= too_tall:\n",
    "            continue\n",
    "\n",
    "        # Remove boxes that are very thin or very short\n",
    "        if width < too_thin or height < too_short:\n",
    "            continue\n",
    "\n",
    "        # It passes\n",
    "        filtered.append(box)\n",
    "\n",
    "    return filtered"
   ]
  },
  {
   "cell_type": "code",
   "execution_count": 11,
   "id": "446cb81e",
   "metadata": {},
   "outputs": [],
   "source": [
    "def transform_label(lb, label):\n",
    "    ocr = OCR[lb['label_id']]\n",
    "    trans = lt.transform_label('deskew', label)\n",
    "    trans = trans.convert('RGB')\n",
    "    return trans"
   ]
  },
  {
   "cell_type": "code",
   "execution_count": 12,
   "id": "4dadfcbc",
   "metadata": {},
   "outputs": [],
   "source": [
    "COLORS = {\n",
    "    ('deskew', 'tesseract'): 'red',\n",
    "    ('deskew', 'easy'): 'blue',\n",
    "    ('binarize', 'tesseract'): 'green',\n",
    "    ('binarize', 'easy'): 'orange',\n",
    "}\n",
    "\n",
    "\n",
    "def display_boxes(lb, label):\n",
    "    ocr = OCR[lb['label_id']]\n",
    "    draw = ImageDraw.Draw(label)\n",
    "\n",
    "    for o in ocr:\n",
    "        box = [o['left'], o['top'], o['right'], o['bottom']]\n",
    "        color = COLORS[(o['pipeline'], o['engine'])]\n",
    "        draw.rectangle(box, outline=color, width=2)"
   ]
  },
  {
   "cell_type": "code",
   "execution_count": 13,
   "id": "fabc7218",
   "metadata": {},
   "outputs": [],
   "source": [
    "def trim_boxes(lb, label):\n",
    "    ocr = OCR[lb['label_id']]\n",
    "\n",
    "    for o in ocr:\n",
    "        box = [o['left'], o['top'], o['right'], o['bottom']]\n",
    "        box = label.crop(box)\n",
    "        if box.size[0] == 0 or box.size[1] == 0:\n",
    "            continue\n",
    "        proj = iu.profile_projection(box)\n",
    "        above = np.where(proj > 0)\n",
    "        if above and len(above[0]) > 0:\n",
    "            o['bottom'] = o['top'] + above[0][-1]\n",
    "            o['top'] += above[0][0]"
   ]
  },
  {
   "cell_type": "code",
   "execution_count": 14,
   "id": "b2416aeb",
   "metadata": {},
   "outputs": [],
   "source": [
    "def line_overlap(top1, bottom1, top2, bottom2, eps=1):\n",
    "    area = min(bottom1 - top1, bottom2 - top2)\n",
    "    y_min = max(top1, top2)\n",
    "    y_max = min(bottom1, bottom2)\n",
    "    inter = max(0, y_min - y_min)\n",
    "    return inter / (area + eps)"
   ]
  },
  {
   "cell_type": "code",
   "execution_count": 15,
   "id": "321823b0",
   "metadata": {},
   "outputs": [],
   "source": [
    "def get_rows(lb, label, overlap_fraction=0.1):\n",
    "    lines = []\n",
    "    ocr = OCR[lb['label_id']]\n",
    "\n",
    "    grouped = groupby(ocr, lambda o: (o['pipeline'], o['engine']))\n",
    "\n",
    "    for source, boxes in grouped:\n",
    "        boxes = list(boxes)\n",
    "        boxes = filter_boxes(boxes, boxes[0]['height'])\n",
    "        if not boxes:\n",
    "            continue\n",
    "\n",
    "        boxes = sorted(boxes, key=lambda b: b['left'])\n",
    "\n",
    "        rows: list[Row] = []\n",
    "\n",
    "        for box in boxes:\n",
    "            center_line = [r for r in rows if box['top']\n",
    "                           <= r.center <= box['bottom']]\n",
    "\n",
    "            # Did we find a row that this box overlaps?\n",
    "            if len(center_line) == 1:\n",
    "                center_line[0].update(box)\n",
    "                continue\n",
    "\n",
    "            # Is the box big and covers multiple rows?\n",
    "            if len(center_line) > 1:\n",
    "                mid = (box['top'] + box['bottom']) // 2\n",
    "                center_line = sorted(\n",
    "                    center_line, key=lambda r: abs(r.center - mid))\n",
    "                center_line[0].update(box)\n",
    "                continue\n",
    "\n",
    "            # Do we have significant overlap anyway?\n",
    "            over = [(line_overlap(box['top'], box['bottom'], r.top, r.bottom), r) for r in rows]\n",
    "            over = sorted(over, key=lambda r: -r[0])\n",
    "            if over and over[0][0] > overlap_fraction:\n",
    "                over[0][1].update(box)\n",
    "                continue\n",
    "\n",
    "            # We have a new row\n",
    "            row = Row()\n",
    "            row.update(box, source=source)\n",
    "            rows.append(row)\n",
    "\n",
    "        lines.append(sorted(rows, key=lambda r: r.top))\n",
    "\n",
    "    return lines"
   ]
  },
  {
   "cell_type": "code",
   "execution_count": 16,
   "id": "d74797d4",
   "metadata": {},
   "outputs": [],
   "source": [
    "def group_rows(rows, overlap_fraction=0.1):\n",
    "    groups = []\n",
    "\n",
    "    for source in rows:\n",
    "        for ln in source:\n",
    "            overlaps = [g for g in groups if ln.top <= g.center <= ln.bottom]\n",
    "\n",
    "            # Did we find a row that this box overlaps?\n",
    "            if len(overlaps) == 1:\n",
    "                overlaps[0].update(ln)\n",
    "                continue\n",
    "\n",
    "            # Is the line big and covers multiple rows?\n",
    "            if len(overlaps) > 1:\n",
    "                mid = (ln.top + ln.bottom) // 2\n",
    "                overlaps = sorted(overlaps, key=lambda r: abs(r.center - mid))\n",
    "                overlaps[0].update(ln)\n",
    "                continue\n",
    "\n",
    "            # Do we have significant overlap anyway?\n",
    "            over = [(line_overlap(g.top, g.bottom, ln.top, ln.bottom), g) for g in groups]\n",
    "            over = sorted(over, key=lambda r: -r[0])\n",
    "            if over and over[0][0] > overlap_fraction:\n",
    "                over[0][1].update(ln)\n",
    "                continue\n",
    "\n",
    "            # We have a new row\n",
    "            group = Group()\n",
    "            group.update(ln)\n",
    "            groups.append(group)\n",
    "\n",
    "    groups = sorted(groups, key=lambda g: g.top)\n",
    "\n",
    "    return groups"
   ]
  },
  {
   "cell_type": "code",
   "execution_count": 17,
   "id": "a6a6949f",
   "metadata": {},
   "outputs": [],
   "source": [
    "def consensus(group):\n",
    "    cons = []\n",
    "    if len(group.text) < 1:\n",
    "        return ''\n",
    "\n",
    "    group.aligned = la.align_all(group.text, subs.SUBS)\n",
    "    str_len = len(group.aligned[0])\n",
    "\n",
    "    counts = defaultdict(int)\n",
    "    for i in range(str_len):\n",
    "        counts = Counter(s[i] for s in group.aligned).most_common()\n",
    "        counts = sorted(counts, key=lambda c: (-c[1], c[0]))\n",
    "        cons.append(counts[0][0])\n",
    "\n",
    "    result = ''.join(cons)\n",
    "    result = result.replace('⋄', '')\n",
    "    return result"
   ]
  },
  {
   "cell_type": "code",
   "execution_count": 18,
   "id": "d90a9df4",
   "metadata": {},
   "outputs": [],
   "source": [
    "TIE_BREAKER = {}\n",
    "REPLACER = {}\n",
    "\n",
    "# Need to do a dictionary check on weak consensus\n",
    "\n",
    "\n",
    "def heuristics(groups):\n",
    "    cons = []\n",
    "    for group in groups:\n",
    "        if len(group.text) == 1:\n",
    "            continue\n",
    "        con = consensus(group)\n",
    "        con = re.sub(r\"(\\w)\\s([.?!,;:\\-'\\\"])\", r'\\1\\2', con)\n",
    "        con = con.replace('_', '')\n",
    "        cons.append(con)\n",
    "    return cons"
   ]
  },
  {
   "cell_type": "code",
   "execution_count": 20,
   "id": "77565752",
   "metadata": {
    "scrolled": false
   },
   "outputs": [
    {
     "data": {
      "application/vnd.jupyter.widget-view+json": {
       "model_id": "76c486695ed74bb48a572701aa1cc6b8",
       "version_major": 2,
       "version_minor": 0
      },
      "text/plain": [
       "interactive(children=(IntSlider(value=5561, description='idx', max=11122), Output()), _dom_classes=('widget-in…"
      ]
     },
     "metadata": {},
     "output_type": "display_data"
    }
   ],
   "source": [
    "def ocr_label(idx):\n",
    "    lb, label = get_label(idx)\n",
    "    label = transform_label(lb, label)\n",
    "    # trim_boxes(lb, label)\n",
    "    rows = get_rows(lb, label)\n",
    "    display_boxes(lb, label)\n",
    "    groups = group_rows(rows)\n",
    "    cons = heuristics(groups)\n",
    "\n",
    "    print('\\n'.join(cons))\n",
    "    display(label)\n",
    "    for group in groups:\n",
    "        print('\\n'.join(group.aligned))\n",
    "        print()\n",
    "\n",
    "\n",
    "interact(ocr_label, idx=(0, len(LABELS) - 1));\n",
    "# ocr_label(0)"
   ]
  },
  {
   "cell_type": "code",
   "execution_count": null,
   "id": "b05395b7",
   "metadata": {},
   "outputs": [],
   "source": []
  }
 ],
 "metadata": {
  "hide_input": false,
  "kernelspec": {
   "display_name": "Python 3 (ipykernel)",
   "language": "python",
   "name": "python3"
  },
  "language_info": {
   "codemirror_mode": {
    "name": "ipython",
    "version": 3
   },
   "file_extension": ".py",
   "mimetype": "text/x-python",
   "name": "python",
   "nbconvert_exporter": "python",
   "pygments_lexer": "ipython3",
   "version": "3.9.5"
  },
  "varInspector": {
   "cols": {
    "lenName": 16,
    "lenType": 16,
    "lenVar": 40
   },
   "kernels_config": {
    "python": {
     "delete_cmd_postfix": "",
     "delete_cmd_prefix": "del ",
     "library": "var_list.py",
     "varRefreshCmd": "print(var_dic_list())"
    },
    "r": {
     "delete_cmd_postfix": ") ",
     "delete_cmd_prefix": "rm(",
     "library": "var_list.r",
     "varRefreshCmd": "cat(var_dic_list()) "
    }
   },
   "types_to_exclude": [
    "module",
    "function",
    "builtin_function_or_method",
    "instance",
    "_Feature"
   ],
   "window_display": false
  }
 },
 "nbformat": 4,
 "nbformat_minor": 5
}
