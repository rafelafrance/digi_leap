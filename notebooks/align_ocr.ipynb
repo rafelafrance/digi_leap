{
 "cells": [
  {
   "cell_type": "code",
   "execution_count": 1,
   "id": "d17cb6a8",
   "metadata": {},
   "outputs": [],
   "source": [
    "import sys\n",
    "sys.path.append('..')"
   ]
  },
  {
   "cell_type": "code",
   "execution_count": 2,
   "id": "8be3d7b3",
   "metadata": {},
   "outputs": [],
   "source": [
    "import sqlite3\n",
    "import warnings\n",
    "from collections import defaultdict\n",
    "from pathlib import Path\n",
    "\n",
    "from ipywidgets import interact, interactive, fixed, interact_manual\n",
    "import ipywidgets as widgets\n",
    "from PIL import Image, ImageDraw\n",
    "\n",
    "from digi_leap.pylib import db\n",
    "from digi_leap.pylib import label_transforms as lt\n",
    "from digi_leap.pylib import ocr_results\n",
    "from digi_leap.pylib import vocab"
   ]
  },
  {
   "cell_type": "code",
   "execution_count": 3,
   "id": "8bc89b73",
   "metadata": {},
   "outputs": [
    {
     "data": {
      "text/plain": [
       "1679018"
      ]
     },
     "execution_count": 3,
     "metadata": {},
     "output_type": "execute_result"
    }
   ],
   "source": [
    "len(vocab.WORDS)"
   ]
  },
  {
   "cell_type": "code",
   "execution_count": 21,
   "id": "b2a1d7c2",
   "metadata": {},
   "outputs": [],
   "source": [
    "DATA = Path('..') / 'data' / 'sernec'\n",
    "# DATA = Path('..') / 'data' / 'label-babel-2'\n",
    "SHEETS = DATA / 'sheets'\n",
    "# DB = DATA / 'label-babel-2.sqlite'\n",
    "DB = DATA / 'sernec.sqlite'\n",
    "\n",
    "TEMP = Path('..') / 'data' / 'temp'"
   ]
  },
  {
   "cell_type": "code",
   "execution_count": 5,
   "id": "13d29aef",
   "metadata": {},
   "outputs": [],
   "source": [
    "SHEETS = db.select_sheets(DB)"
   ]
  },
  {
   "cell_type": "code",
   "execution_count": 6,
   "id": "d423fad7",
   "metadata": {},
   "outputs": [],
   "source": [
    "ocr = db.select_ocr(DB)\n",
    "OCR = defaultdict(list)\n",
    "for o in ocr:\n",
    "    OCR[o['label_id']].append(o)\n",
    "# OCR[7]"
   ]
  },
  {
   "cell_type": "code",
   "execution_count": 7,
   "id": "f3bb9e20",
   "metadata": {},
   "outputs": [
    {
     "data": {
      "text/plain": [
       "{'label_id': 35,\n",
       " 'offset': 2,\n",
       " 'class': 'Typewritten',\n",
       " 'sheet_id': 6,\n",
       " 'label_run': '',\n",
       " 'label_left': 2138,\n",
       " 'label_top': 4771,\n",
       " 'label_right': 3928,\n",
       " 'label_bottom': 5881,\n",
       " 'path': 'data/sernec/sheets/895d87af-3e67-4efd-a9d9-1d80d99af765.jpg',\n",
       " 'width': 4000,\n",
       " 'height': 6000}"
      ]
     },
     "execution_count": 7,
     "metadata": {},
     "output_type": "execute_result"
    }
   ],
   "source": [
    "LABELS = [dict(lb) for lb in db.select_labels(DB) if lb['label_id'] in OCR]\n",
    "LABELS = [lb for lb in LABELS if lb['class'] == 'Typewritten']\n",
    "LABELS = sorted(LABELS, key=lambda lb: lb['label_id'])\n",
    "\n",
    "len(LABELS)\n",
    "LABELS[7]"
   ]
  },
  {
   "cell_type": "code",
   "execution_count": 8,
   "id": "ce5ba1ba",
   "metadata": {},
   "outputs": [],
   "source": [
    "def get_label(idx):\n",
    "    with warnings.catch_warnings():  # Turn off EXIF warnings\n",
    "        warnings.filterwarnings(\"ignore\", category=UserWarning)\n",
    "        label = LABELS[idx]\n",
    "        path = Path('..') / label['path']\n",
    "        sheet = Image.open(path)\n",
    "        image = sheet.crop((label[\"label_left\"], label[\"label_top\"],\n",
    "                            label[\"label_right\"], label[\"label_bottom\"]))\n",
    "        return label, image"
   ]
  },
  {
   "cell_type": "code",
   "execution_count": 9,
   "id": "446cb81e",
   "metadata": {},
   "outputs": [],
   "source": [
    "def transform_label(label, image):\n",
    "    trans = lt.transform_label('deskew', image)\n",
    "    trans = trans.convert('RGB')\n",
    "    return trans"
   ]
  },
  {
   "cell_type": "code",
   "execution_count": 10,
   "id": "4dadfcbc",
   "metadata": {},
   "outputs": [],
   "source": [
    "COLORS = {\n",
    "    ('deskew', 'tesseract'): 'red',\n",
    "    ('deskew', 'easy'): 'blue',\n",
    "    ('binarize', 'tesseract'): 'green',\n",
    "    ('binarize', 'easy'): 'orange',\n",
    "}\n",
    "\n",
    "\n",
    "def display_boxes(ocr_boxes, image):\n",
    "    draw = ImageDraw.Draw(image)\n",
    "\n",
    "    for o in ocr_boxes:\n",
    "        box = [o['ocr_left'], o['ocr_top'], o['ocr_right'], o['ocr_bottom']]\n",
    "        color = COLORS[(o['pipeline'], o['engine'])]\n",
    "        draw.rectangle(box, outline=color, width=2)"
   ]
  },
  {
   "cell_type": "code",
   "execution_count": 11,
   "id": "fabc7218",
   "metadata": {},
   "outputs": [],
   "source": [
    "def trim_boxes(ocr_boxes, label):\n",
    "    ocr = OCR[ocr_boxes['label_id']]\n",
    "\n",
    "    for o in ocr:\n",
    "        box = [o['ocr_left'], o['ocr_top'], o['ocr_right'], o['ocr_bottom']]\n",
    "        box = label.crop(box)\n",
    "        if box.size[0] == 0 or box.size[1] == 0:\n",
    "            continue\n",
    "        proj = iu.profile_projection(box)\n",
    "        above = np.where(proj > 0)\n",
    "        if above and len(above[0]) > 0:\n",
    "            o['bottom'] = o['top'] + above[0][-1]\n",
    "            o['top'] += above[0][0]"
   ]
  },
  {
   "cell_type": "code",
   "execution_count": 24,
   "id": "77565752",
   "metadata": {
    "scrolled": false
   },
   "outputs": [],
   "source": [
    "def build_ocr(idx, save):\n",
    "    label, image = get_label(idx)\n",
    "    #     print(label['label_id'])\n",
    "\n",
    "    image = transform_label(label, image)\n",
    "\n",
    "    ocr_boxes = OCR[label['label_id']]\n",
    "    # display_boxes(ocr_boxes, image)\n",
    "    ocr_boxes = ocr_results.filter_boxes(ocr_boxes)\n",
    "    # trim_boxes(ocr_boxes, label)\n",
    "    # display_boxes(ocr_boxes, image)\n",
    "\n",
    "    rows = ocr_results.get_lines(ocr_boxes)\n",
    "    lines = []\n",
    "    for row in rows:\n",
    "        copies = ocr_results.get_copies(row)\n",
    "\n",
    "        if len(copies) <= 1:\n",
    "            continue\n",
    "\n",
    "        copies = ocr_results.sort_copies(copies)\n",
    "\n",
    "        aligned = ocr_results.align_copies(copies)\n",
    "        # print('\\n'.join(aligned))\n",
    "\n",
    "        cons = ocr_results.consensus(aligned)\n",
    "\n",
    "        ln = ocr_results.substitute(cons)\n",
    "        # print(f'substitute={ln}')\n",
    "        ln = ocr_results.spaces(ln)\n",
    "\n",
    "        # print(f'spaces={ln}')\n",
    "\n",
    "        ln = ocr_results.spell_correct(ln)\n",
    "        # print(f'spell_correct={ln}')\n",
    "        # print()\n",
    "        lines.append(ln)\n",
    "\n",
    "    text = '\\n'.join(lines)\n",
    "    print(text)\n",
    "    display(image)\n",
    "\n",
    "    if save:\n",
    "        image.save(TEMP / f'{idx}.jpg')\n",
    "        with open(TEMP / f'{idx}.txt', 'w') as txt_file:\n",
    "            txt_file.write(text)\n",
    "\n",
    "\n",
    "# interact(build_ocr, idx=(0, len(LABELS) - 1), save=False);\n",
    "# build_ocr(3)\n",
    "# build_ocr(7625)"
   ]
  },
  {
   "cell_type": "code",
   "execution_count": 14,
   "id": "42d0d765",
   "metadata": {},
   "outputs": [],
   "source": []
  }
 ],
 "metadata": {
  "hide_input": false,
  "kernelspec": {
   "display_name": "Python 3.9.0  ('.venv': venv)",
   "language": "python",
   "name": "pythonjvsc74a57bd032d845bac60b679f8e5f22d8a5bba0d3cb74b30896cf30d8a0b9935d5a07e95d"
  },
  "language_info": {
   "codemirror_mode": {
    "name": "ipython",
    "version": 3
   },
   "file_extension": ".py",
   "mimetype": "text/x-python",
   "name": "python",
   "nbconvert_exporter": "python",
   "pygments_lexer": "ipython3",
   "version": "3.9.5"
  },
  "varInspector": {
   "cols": {
    "lenName": 16,
    "lenType": 16,
    "lenVar": 40
   },
   "kernels_config": {
    "python": {
     "delete_cmd_postfix": "",
     "delete_cmd_prefix": "del ",
     "library": "var_list.py",
     "varRefreshCmd": "print(var_dic_list())"
    },
    "r": {
     "delete_cmd_postfix": ") ",
     "delete_cmd_prefix": "rm(",
     "library": "var_list.r",
     "varRefreshCmd": "cat(var_dic_list()) "
    }
   },
   "types_to_exclude": [
    "module",
    "function",
    "builtin_function_or_method",
    "instance",
    "_Feature"
   ],
   "window_display": false
  }
 },
 "nbformat": 4,
 "nbformat_minor": 5
}
