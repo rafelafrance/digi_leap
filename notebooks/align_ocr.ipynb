{
 "cells": [
  {
   "cell_type": "code",
   "execution_count": 1,
   "id": "d17cb6a8",
   "metadata": {},
   "outputs": [],
   "source": [
    "import sys\n",
    "sys.path.append('..')"
   ]
  },
  {
   "cell_type": "code",
   "execution_count": 2,
   "id": "8be3d7b3",
   "metadata": {},
   "outputs": [],
   "source": [
    "import difflib as dl\n",
    "import regex as re\n",
    "import statistics as stat\n",
    "import string\n",
    "import subprocess\n",
    "import tempfile\n",
    "import unicodedata\n",
    "import warnings\n",
    "from collections import Counter, defaultdict, namedtuple\n",
    "from dataclasses import dataclass, field\n",
    "from functools import reduce\n",
    "from itertools import groupby, combinations\n",
    "from pathlib import Path\n",
    "from pprint import pp\n",
    "from textblob import Word\n",
    "from typing import Union\n",
    "from types import SimpleNamespace\n",
    "\n",
    "import numpy as np\n",
    "import pandas as pd\n",
    "from spellchecker import SpellChecker\n",
    "from IPython.display import display\n",
    "from ipywidgets import interact\n",
    "from PIL import Image, ImageDraw\n",
    "from textblob import Word\n",
    "\n",
    "from digi_leap.pylib import (\n",
    "    db,\n",
    "    image_util as iu,\n",
    "    label_transforms as lt,\n",
    "    line_align_subs as subs,\n",
    "    line_align_py as la,\n",
    "    ocr_results,\n",
    "    vocab,\n",
    ")"
   ]
  },
  {
   "cell_type": "code",
   "execution_count": 3,
   "id": "b2a1d7c2",
   "metadata": {},
   "outputs": [],
   "source": [
    "DATA = Path('..') / 'data' / 'sernec'\n",
    "SHEETS = DATA / 'sheets'\n",
    "DB = DATA / 'sernec.sqlite'"
   ]
  },
  {
   "cell_type": "code",
   "execution_count": 4,
   "id": "13d29aef",
   "metadata": {},
   "outputs": [],
   "source": [
    "SHEETS = [dict(s) for s in db.select_sheets(DB)]"
   ]
  },
  {
   "cell_type": "code",
   "execution_count": 5,
   "id": "d423fad7",
   "metadata": {},
   "outputs": [],
   "source": [
    "ocr = [dict(ocr) for ocr in db.select_ocr(DB)]\n",
    "OCR = defaultdict(list)\n",
    "for o in ocr:\n",
    "    OCR[o['label_id']].append(o)"
   ]
  },
  {
   "cell_type": "code",
   "execution_count": 6,
   "id": "f3bb9e20",
   "metadata": {},
   "outputs": [],
   "source": [
    "LABELS = [dict(lb) for lb in db.select_labels(DB) if lb['label_id'] in OCR]\n",
    "LABELS = [lb for lb in LABELS if lb['class'] == 'Typewritten']"
   ]
  },
  {
   "cell_type": "code",
   "execution_count": 7,
   "id": "ce5ba1ba",
   "metadata": {},
   "outputs": [],
   "source": [
    "def get_label(idx):\n",
    "    with warnings.catch_warnings():  # Turn off EXIF warnings\n",
    "        warnings.filterwarnings(\"ignore\", category=UserWarning)\n",
    "        label = LABELS[idx]\n",
    "        path = Path('..') / label['path']\n",
    "        sheet = Image.open(path)\n",
    "        image = sheet.crop((label[\"left\"], label[\"top\"],\n",
    "                            label[\"right\"], label[\"bottom\"]))\n",
    "        return label, image"
   ]
  },
  {
   "cell_type": "code",
   "execution_count": 8,
   "id": "446cb81e",
   "metadata": {},
   "outputs": [],
   "source": [
    "def transform_label(label, image):\n",
    "    trans = lt.transform_label('deskew', image)\n",
    "    trans = trans.convert('RGB')\n",
    "    return trans"
   ]
  },
  {
   "cell_type": "code",
   "execution_count": 9,
   "id": "4dadfcbc",
   "metadata": {},
   "outputs": [],
   "source": [
    "COLORS = {\n",
    "    ('deskew', 'tesseract'): 'red',\n",
    "    ('deskew', 'easy'): 'blue',\n",
    "    ('binarize', 'tesseract'): 'green',\n",
    "    ('binarize', 'easy'): 'orange',\n",
    "}\n",
    "\n",
    "\n",
    "def display_boxes(ocr_boxes, image):\n",
    "    draw = ImageDraw.Draw(image)\n",
    "\n",
    "    for o in ocr_boxes:\n",
    "        box = [o['left'], o['top'], o['right'], o['bottom']]\n",
    "        color = COLORS[(o['pipeline'], o['engine'])]\n",
    "        draw.rectangle(box, outline=color, width=2)"
   ]
  },
  {
   "cell_type": "code",
   "execution_count": 10,
   "id": "fabc7218",
   "metadata": {},
   "outputs": [],
   "source": [
    "def trim_boxes(ocr_boxes, label):\n",
    "    ocr = OCR[ocr_boxes['label_id']]\n",
    "\n",
    "    for o in ocr:\n",
    "        box = [o['left'], o['top'], o['right'], o['bottom']]\n",
    "        box = label.crop(box)\n",
    "        if box.size[0] == 0 or box.size[1] == 0:\n",
    "            continue\n",
    "        proj = iu.profile_projection(box)\n",
    "        above = np.where(proj > 0)\n",
    "        if above and len(above[0]) > 0:\n",
    "            o['bottom'] = o['top'] + above[0][-1]\n",
    "            o['top'] += above[0][0]"
   ]
  },
  {
   "cell_type": "code",
   "execution_count": 11,
   "id": "4aacea5a",
   "metadata": {},
   "outputs": [],
   "source": [
    "SPELL = SpellChecker(distance=1)\n",
    "_WORDS = vocab.get_word_set(vocab.VOCAB_DIR / \"plant_taxa.txt\")\n",
    "SPELL.word_frequency.load_words(list(_WORDS))\n",
    "\n",
    "\n",
    "def misspellings(ln):\n",
    "    \"\"\"Word misspellings.\"\"\"\n",
    "    words = ln.split()\n",
    "\n",
    "    new = []\n",
    "    for word in words:\n",
    "        if vocab.in_any_vocab(word):\n",
    "            new.append(word)\n",
    "        else:\n",
    "            pre, suff = '', ''\n",
    "            if match := re.match(r'^\\W+', word):\n",
    "                pre = match.group(0)\n",
    "            if match := re.match(r'\\W+$', word):\n",
    "                suff = match.group(0)\n",
    "            base = word.removeprefix(pre).removesuffix(suff)\n",
    "            if not vocab.in_any_vocab(word) and len(base) > 2:\n",
    "                cand = SPELL.candidates(base)\n",
    "                print(f'{word=} {base=} {pre=} {suff=}')\n",
    "                for c in cand:\n",
    "                    print(c)\n",
    "                print()\n",
    "            new.append(word)\n",
    "\n",
    "    return ' '.join(new)"
   ]
  },
  {
   "cell_type": "code",
   "execution_count": 13,
   "id": "77565752",
   "metadata": {
    "scrolled": false
   },
   "outputs": [
    {
     "data": {
      "application/vnd.jupyter.widget-view+json": {
       "model_id": "3c754224e6cf4553b348dac89f4a9b0a",
       "version_major": 2,
       "version_minor": 0
      },
      "text/plain": [
       "interactive(children=(IntSlider(value=5561, description='idx', max=11122), Output()), _dom_classes=('widget-in…"
      ]
     },
     "metadata": {},
     "output_type": "display_data"
    }
   ],
   "source": [
    "threshold = 2**16\n",
    "\n",
    "\n",
    "def build_ocr(idx):  # , threshold=2**16):\n",
    "    label, image = get_label(idx)\n",
    "    image = transform_label(label, image)\n",
    "    ocr_boxes = OCR[label['label_id']]\n",
    "    ocr_boxes = ocr_results.filter_boxes(ocr_boxes, image.size[1])\n",
    "    # trim_boxes(ocr_boxes, label)\n",
    "    # display_boxes(ocr_boxes, image)\n",
    "    rows = ocr_results.get_lines(ocr_boxes)\n",
    "    lines = []\n",
    "    for row in rows:\n",
    "        copies = ocr_results.get_copies(row)\n",
    "\n",
    "        if len(copies) <= 1:\n",
    "            continue\n",
    "\n",
    "        copies = ocr_results.sort_copies(copies)\n",
    "\n",
    "        aligned = ocr_results.align_copies(copies)\n",
    "#         print('\\n'.join(aligned))\n",
    "#         print()\n",
    "\n",
    "        cons = ocr_results.consensus(aligned)\n",
    "\n",
    "        ln = ocr_results.substitute(cons)\n",
    "        ln = ocr_results.spaces(ln)\n",
    "#         ln = misspellings(ln)\n",
    "        lines.append(ln)\n",
    "\n",
    "    print('\\n'.join(lines))\n",
    "    display(image)\n",
    "\n",
    "\n",
    "interact(build_ocr, idx=(0, len(LABELS) - 1));\n",
    "# build_ocr(0)  # Dropped char in Det.\n",
    "# build_ocr(2)  # The date is wrong\n",
    "# build_ocr(11112)  # wes t of Charleston -- fixed\n",
    "# build_ocr(10647)  # Changed character in Baccharis"
   ]
  },
  {
   "cell_type": "code",
   "execution_count": null,
   "id": "b05395b7",
   "metadata": {},
   "outputs": [],
   "source": []
  }
 ],
 "metadata": {
  "hide_input": false,
  "kernelspec": {
   "display_name": "Python 3 (ipykernel)",
   "language": "python",
   "name": "python3"
  },
  "language_info": {
   "codemirror_mode": {
    "name": "ipython",
    "version": 3
   },
   "file_extension": ".py",
   "mimetype": "text/x-python",
   "name": "python",
   "nbconvert_exporter": "python",
   "pygments_lexer": "ipython3",
   "version": "3.9.5"
  },
  "varInspector": {
   "cols": {
    "lenName": 16,
    "lenType": 16,
    "lenVar": 40
   },
   "kernels_config": {
    "python": {
     "delete_cmd_postfix": "",
     "delete_cmd_prefix": "del ",
     "library": "var_list.py",
     "varRefreshCmd": "print(var_dic_list())"
    },
    "r": {
     "delete_cmd_postfix": ") ",
     "delete_cmd_prefix": "rm(",
     "library": "var_list.r",
     "varRefreshCmd": "cat(var_dic_list()) "
    }
   },
   "types_to_exclude": [
    "module",
    "function",
    "builtin_function_or_method",
    "instance",
    "_Feature"
   ],
   "window_display": false
  }
 },
 "nbformat": 4,
 "nbformat_minor": 5
}
