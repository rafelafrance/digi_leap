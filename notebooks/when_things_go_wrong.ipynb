{
 "cells": [
  {
   "cell_type": "markdown",
   "id": "3b4b72e7-dcb0-40de-8e0a-b6fb24cff811",
   "metadata": {},
   "source": [
    "# See if bad reconstructions can be improved"
   ]
  },
  {
   "cell_type": "code",
   "execution_count": 1,
   "id": "3b00eda8-1157-4046-a3e3-e283a27bba56",
   "metadata": {},
   "outputs": [],
   "source": [
    "from collections import defaultdict, namedtuple\n",
    "from types import SimpleNamespace\n",
    "\n",
    "from IPython.display import display, HTML\n",
    "\n",
    "from digi_leap.pylib import consts\n",
    "from digi_leap.pylib.db import db\n",
    "from digi_leap.pylib.label_builder.line_align import char_sub_matrix as subs\n",
    "from digi_leap.pylib.label_builder.line_align import line_align_py  # noqa\n",
    "from digi_leap.pylib.ocr import ocr_compare as compare"
   ]
  },
  {
   "cell_type": "code",
   "execution_count": 2,
   "id": "b692a0f9-b7d4-4de3-9641-b26dac10ad0c",
   "metadata": {},
   "outputs": [
    {
     "data": {
      "text/html": [
       "<style>pre { white-space: pre !important; }</style>"
      ],
      "text/plain": [
       "<IPython.core.display.HTML object>"
      ]
     },
     "metadata": {},
     "output_type": "display_data"
    }
   ],
   "source": [
    "display(HTML(\"<style>pre { white-space: pre !important; }</style>\"))"
   ]
  },
  {
   "cell_type": "code",
   "execution_count": 3,
   "id": "a9a96fd3-60ee-4ae6-b199-c81d394b113b",
   "metadata": {},
   "outputs": [],
   "source": [
    "GOLD_STD_PATH = consts.DATA_DIR / \"sernec\" / \"gold_std_2022-06-28\"\n",
    "\n",
    "ARGS = SimpleNamespace(\n",
    "    database=consts.DATA_DIR / \"sernec\" / \"sernec.sqlite\",\n",
    "    gold_set=\"gold_set_2022-06-28\",\n",
    "    score_set=\"scores_2022-06-28\",\n",
    "    char_set=\"default\",\n",
    ")"
   ]
  },
  {
   "cell_type": "markdown",
   "id": "cc82d0f5-f8a4-40bd-8282-a6b46b267c6e",
   "metadata": {},
   "source": [
    "## Setup the line align utility"
   ]
  },
  {
   "cell_type": "code",
   "execution_count": 4,
   "id": "2e22a28b-7a78-4f3a-9a75-bb1ce59e4364",
   "metadata": {},
   "outputs": [],
   "source": [
    "matrix = subs.select_char_sub_matrix(char_set=ARGS.char_set)\n",
    "ALIGN = line_align_py.LineAlign(matrix)"
   ]
  },
  {
   "cell_type": "markdown",
   "id": "423c04d0-cebb-46bd-b3d7-c07b85a30740",
   "metadata": {},
   "source": [
    "## Get gold standard and scores"
   ]
  },
  {
   "cell_type": "code",
   "execution_count": 5,
   "id": "1f73f736-39ed-4c9f-be9c-c7205fe56b80",
   "metadata": {},
   "outputs": [],
   "source": [
    "GOLD_STD = compare.select_gold_std(ARGS.database, ARGS.gold_set)\n",
    "GOLD_DICT = {g[\"gold_id\"]: g for g in GOLD_STD}"
   ]
  },
  {
   "cell_type": "code",
   "execution_count": 6,
   "id": "4b26f977-4e1e-4642-bebe-57a9190e0424",
   "metadata": {},
   "outputs": [],
   "source": [
    "scorer = compare.Scorer(ARGS)\n",
    "SCORES = scorer.select_scores()"
   ]
  },
  {
   "cell_type": "markdown",
   "id": "9d7f11ee-b677-4549-a514-10c151c37785",
   "metadata": {},
   "source": [
    "## Get pipeline total scores"
   ]
  },
  {
   "cell_type": "code",
   "execution_count": 7,
   "id": "b98cc483-efb7-4c83-8504-65f692f03411",
   "metadata": {},
   "outputs": [
    {
     "name": "stdout",
     "output_type": "stream",
     "text": [
      "PipelineScore(score=2752, pipeline='[[\"deskew\", \"easyocr\"], [\"deskew\", \"tesseract\"], [\"binarize\", \"easyocr\"], [\"binarize\", \"tesseract\"], [\"post_process\"]]')\n",
      "PipelineScore(score=2889, pipeline='[[\"deskew\", \"easyocr\"], [\"deskew\", \"tesseract\"], [\"binarize\", \"easyocr\"], [\"binarize\", \"tesseract\"]]')\n",
      "PipelineScore(score=3322, pipeline='[[\"deskew\", \"easyocr\"], [\"deskew\", \"tesseract\"], [\"binarize\", \"easyocr\"], [\"binarize\", \"tesseract\"], [\"denoise\", \"easyocr\"], [\"denoise\", \"tesseract\"], [\"post_process\"]]')\n",
      "PipelineScore(score=3340, pipeline='[[\"deskew\", \"tesseract\"], [\"binarize\", \"tesseract\"], [\"denoise\", \"tesseract\"]]')\n",
      "PipelineScore(score=3410, pipeline='[[\"deskew\", \"tesseract\"], [\"binarize\", \"tesseract\"], [\"denoise\", \"tesseract\"], [\"post_process\"]]')\n",
      "PipelineScore(score=3661, pipeline='[[\"deskew\", \"easyocr\"], [\"deskew\", \"tesseract\"], [\"binarize\", \"easyocr\"], [\"binarize\", \"tesseract\"], [\"denoise\", \"easyocr\"], [\"denoise\", \"tesseract\"]]')\n",
      "PipelineScore(score=3829, pipeline='[[\"deskew\", \"easyocr\"], [\"deskew\", \"tesseract\"], [\"denoise\", \"easyocr\"], [\"denoise\", \"tesseract\"], [\"post_process\"]]')\n",
      "PipelineScore(score=3901, pipeline='[[\"deskew\", \"easyocr\"], [\"deskew\", \"tesseract\"], [\"denoise\", \"easyocr\"], [\"denoise\", \"tesseract\"]]')\n",
      "PipelineScore(score=3903, pipeline='[[\"\", \"tesseract\"], [\"binarize\", \"tesseract\"], [\"denoise\", \"tesseract\"]]')\n",
      "PipelineScore(score=3971, pipeline='[[\"\", \"tesseract\"], [\"binarize\", \"tesseract\"], [\"denoise\", \"tesseract\"], [\"post_process\"]]')\n",
      "PipelineScore(score=4108, pipeline='[[\"\", \"tesseract\"], [\"deskew\", \"tesseract\"], [\"binarize\", \"tesseract\"], [\"denoise\", \"tesseract\"]]')\n",
      "PipelineScore(score=4217, pipeline='[[\"\", \"tesseract\"], [\"deskew\", \"tesseract\"], [\"binarize\", \"tesseract\"], [\"denoise\", \"tesseract\"], [\"post_process\"]]')\n",
      "PipelineScore(score=4315, pipeline='[[\"binarize\", \"easyocr\"], [\"binarize\", \"tesseract\"], [\"denoise\", \"easyocr\"], [\"denoise\", \"tesseract\"], [\"post_process\"]]')\n",
      "PipelineScore(score=4339, pipeline='[[\"binarize\", \"easyocr\"], [\"binarize\", \"tesseract\"], [\"denoise\", \"easyocr\"], [\"denoise\", \"tesseract\"]]')\n",
      "PipelineScore(score=4487, pipeline='[[\"deskew\", \"easyocr\"], [\"binarize\", \"easyocr\"], [\"denoise\", \"easyocr\"], [\"post_process\"]]')\n",
      "PipelineScore(score=4764, pipeline='[[\"deskew\", \"easyocr\"], [\"binarize\", \"easyocr\"], [\"post_process\"]]')\n",
      "PipelineScore(score=4964, pipeline='[[\"\", \"easyocr\"], [\"deskew\", \"easyocr\"], [\"binarize\", \"easyocr\"], [\"post_process\"]]')\n",
      "PipelineScore(score=4981, pipeline='[[\"\", \"easyocr\"], [\"binarize\", \"easyocr\"], [\"denoise\", \"easyocr\"], [\"post_process\"]]')\n",
      "PipelineScore(score=4995, pipeline='[[\"\", \"easyocr\"], [\"deskew\", \"easyocr\"], [\"denoise\", \"easyocr\"], [\"post_process\"]]')\n",
      "PipelineScore(score=5018, pipeline='[[\"\", \"easyocr\"], [\"deskew\", \"easyocr\"], [\"binarize\", \"easyocr\"], [\"denoise\", \"easyocr\"], [\"post_process\"]]')\n",
      "PipelineScore(score=5117, pipeline='[[\"deskew\", \"easyocr\"], [\"binarize\", \"easyocr\"], [\"denoise\", \"easyocr\"]]')\n",
      "PipelineScore(score=5238, pipeline='[[\"\", \"tesseract\"], [\"deskew\", \"tesseract\"], [\"denoise\", \"tesseract\"]]')\n",
      "PipelineScore(score=5244, pipeline='[[\"deskew\", \"easyocr\"], [\"binarize\", \"easyocr\"]]')\n",
      "PipelineScore(score=5306, pipeline='[[\"binarize\", \"tesseract\"], [\"denoise\", \"tesseract\"]]')\n",
      "PipelineScore(score=5320, pipeline='[[\"\", \"tesseract\"], [\"deskew\", \"tesseract\"], [\"denoise\", \"tesseract\"], [\"post_process\"]]')\n",
      "PipelineScore(score=5373, pipeline='[[\"binarize\", \"easyocr\"], [\"binarize\", \"tesseract\"]]')\n",
      "PipelineScore(score=5435, pipeline='[[\"\", \"easyocr\"], [\"\", \"tesseract\"], [\"deskew\", \"easyocr\"], [\"deskew\", \"tesseract\"], [\"binarize\", \"easyocr\"], [\"binarize\", \"tesseract\"], [\"post_process\"]]')\n",
      "PipelineScore(score=5442, pipeline='[[\"\", \"tesseract\"], [\"deskew\", \"tesseract\"], [\"binarize\", \"tesseract\"]]')\n",
      "PipelineScore(score=5472, pipeline='[[\"binarize\", \"tesseract\"], [\"denoise\", \"tesseract\"], [\"post_process\"]]')\n",
      "PipelineScore(score=5505, pipeline='[[\"\", \"tesseract\"], [\"deskew\", \"tesseract\"], [\"binarize\", \"tesseract\"], [\"post_process\"]]')\n",
      "PipelineScore(score=5515, pipeline='[[\"binarize\", \"easyocr\"], [\"binarize\", \"tesseract\"], [\"post_process\"]]')\n",
      "PipelineScore(score=5546, pipeline='[[\"\", \"easyocr\"], [\"\", \"tesseract\"], [\"binarize\", \"easyocr\"], [\"binarize\", \"tesseract\"], [\"denoise\", \"easyocr\"], [\"denoise\", \"tesseract\"], [\"post_process\"]]')\n",
      "PipelineScore(score=5565, pipeline='[[\"deskew\", \"easyocr\"], [\"deskew\", \"tesseract\"]]')\n",
      "PipelineScore(score=5603, pipeline='[[\"\", \"easyocr\"], [\"\", \"tesseract\"], [\"binarize\", \"easyocr\"], [\"binarize\", \"tesseract\"], [\"post_process\"]]')\n",
      "PipelineScore(score=5632, pipeline='[[\"\", \"easyocr\"], [\"binarize\", \"easyocr\"], [\"denoise\", \"easyocr\"]]')\n",
      "PipelineScore(score=5659, pipeline='[[\"\", \"easyocr\"], [\"deskew\", \"easyocr\"], [\"binarize\", \"easyocr\"], [\"denoise\", \"easyocr\"]]')\n",
      "PipelineScore(score=5665, pipeline='[[\"deskew\", \"easyocr\"], [\"deskew\", \"tesseract\"], [\"post_process\"]]')\n",
      "PipelineScore(score=5672, pipeline='[[\"\", \"easyocr\"], [\"\", \"tesseract\"], [\"deskew\", \"easyocr\"], [\"deskew\", \"tesseract\"], [\"binarize\", \"easyocr\"], [\"binarize\", \"tesseract\"], [\"denoise\", \"easyocr\"], [\"denoise\", \"tesseract\"], [\"post_process\"]]')\n",
      "PipelineScore(score=5732, pipeline='[[\"\", \"easyocr\"], [\"deskew\", \"easyocr\"], [\"denoise\", \"easyocr\"]]')\n",
      "PipelineScore(score=5732, pipeline='[[\"\", \"easyocr\"], [\"deskew\", \"easyocr\"], [\"binarize\", \"easyocr\"]]')\n",
      "PipelineScore(score=5742, pipeline='[[\"deskew\", \"easyocr\"], [\"denoise\", \"easyocr\"], [\"post_process\"]]')\n",
      "PipelineScore(score=5775, pipeline='[[\"\", \"easyocr\"], [\"\", \"tesseract\"], [\"binarize\", \"easyocr\"], [\"binarize\", \"tesseract\"]]')\n",
      "PipelineScore(score=5817, pipeline='[[\"\", \"easyocr\"], [\"\", \"tesseract\"], [\"deskew\", \"easyocr\"], [\"deskew\", \"tesseract\"], [\"denoise\", \"easyocr\"], [\"denoise\", \"tesseract\"], [\"post_process\"]]')\n",
      "PipelineScore(score=5846, pipeline='[[\"\", \"easyocr\"], [\"\", \"tesseract\"], [\"deskew\", \"easyocr\"], [\"deskew\", \"tesseract\"], [\"binarize\", \"easyocr\"], [\"binarize\", \"tesseract\"]]')\n",
      "PipelineScore(score=5930, pipeline='[[\"\", \"easyocr\"], [\"\", \"tesseract\"], [\"binarize\", \"easyocr\"], [\"binarize\", \"tesseract\"], [\"denoise\", \"easyocr\"], [\"denoise\", \"tesseract\"]]')\n",
      "PipelineScore(score=5962, pipeline='[[\"\", \"easyocr\"], [\"binarize\", \"easyocr\"], [\"post_process\"]]')\n",
      "PipelineScore(score=6018, pipeline='[[\"deskew\", \"tesseract\"], [\"denoise\", \"tesseract\"]]')\n",
      "PipelineScore(score=6019, pipeline='[[\"\", \"easyocr\"], [\"\", \"tesseract\"], [\"deskew\", \"easyocr\"], [\"deskew\", \"tesseract\"], [\"post_process\"]]')\n",
      "PipelineScore(score=6025, pipeline='[[\"\", \"easyocr\"], [\"deskew\", \"easyocr\"], [\"post_process\"]]')\n",
      "PipelineScore(score=6047, pipeline='[[\"binarize\", \"easyocr\"], [\"denoise\", \"easyocr\"], [\"post_process\"]]')\n",
      "PipelineScore(score=6118, pipeline='[[\"\", \"easyocr\"], [\"\", \"tesseract\"], [\"deskew\", \"easyocr\"], [\"deskew\", \"tesseract\"], [\"binarize\", \"easyocr\"], [\"binarize\", \"tesseract\"], [\"denoise\", \"easyocr\"], [\"denoise\", \"tesseract\"]]')\n",
      "PipelineScore(score=6130, pipeline='[[\"deskew\", \"easyocr\"], [\"denoise\", \"easyocr\"]]')\n",
      "PipelineScore(score=6176, pipeline='[[\"\", \"easyocr\"], [\"\", \"tesseract\"], [\"deskew\", \"easyocr\"], [\"deskew\", \"tesseract\"]]')\n",
      "PipelineScore(score=6186, pipeline='[[\"\", \"easyocr\"], [\"\", \"tesseract\"], [\"deskew\", \"easyocr\"], [\"deskew\", \"tesseract\"], [\"denoise\", \"easyocr\"], [\"denoise\", \"tesseract\"]]')\n",
      "PipelineScore(score=6191, pipeline='[[\"deskew\", \"tesseract\"], [\"denoise\", \"tesseract\"], [\"post_process\"]]')\n",
      "PipelineScore(score=6255, pipeline='[[\"\", \"easyocr\"], [\"\", \"tesseract\"], [\"denoise\", \"easyocr\"], [\"denoise\", \"tesseract\"], [\"post_process\"]]')\n",
      "PipelineScore(score=6371, pipeline='[[\"\", \"easyocr\"], [\"\", \"tesseract\"], [\"denoise\", \"easyocr\"], [\"denoise\", \"tesseract\"]]')\n",
      "PipelineScore(score=6414, pipeline='[[\"binarize\", \"easyocr\"], [\"denoise\", \"easyocr\"]]')\n",
      "PipelineScore(score=6430, pipeline='[[\"\", \"easyocr\"], [\"\", \"tesseract\"]]')\n",
      "PipelineScore(score=6442, pipeline='[[\"\", \"easyocr\"], [\"binarize\", \"easyocr\"]]')\n",
      "PipelineScore(score=6497, pipeline='[[\"\", \"easyocr\"], [\"\", \"tesseract\"], [\"post_process\"]]')\n",
      "PipelineScore(score=6642, pipeline='[[\"\", \"easyocr\"], [\"deskew\", \"easyocr\"]]')\n",
      "PipelineScore(score=6787, pipeline='[[\"deskew\", \"tesseract\"], [\"binarize\", \"tesseract\"]]')\n",
      "PipelineScore(score=6878, pipeline='[[\"deskew\", \"tesseract\"]]')\n",
      "PipelineScore(score=6912, pipeline='[[\"deskew\", \"tesseract\"], [\"post_process\"]]')\n",
      "PipelineScore(score=6947, pipeline='[[\"deskew\", \"tesseract\"], [\"binarize\", \"tesseract\"], [\"post_process\"]]')\n",
      "PipelineScore(score=7226, pipeline='[[\"\", \"easyocr\"], [\"denoise\", \"easyocr\"], [\"post_process\"]]')\n",
      "PipelineScore(score=7317, pipeline='[[\"denoise\", \"easyocr\"], [\"denoise\", \"tesseract\"]]')\n",
      "PipelineScore(score=7350, pipeline='[[\"deskew\", \"easyocr\"], [\"post_process\"]]')\n",
      "PipelineScore(score=7450, pipeline='[[\"\", \"tesseract\"]]')\n",
      "PipelineScore(score=7530, pipeline='[[\"\", \"tesseract\"], [\"post_process\"]]')\n",
      "PipelineScore(score=7597, pipeline='[[\"\", \"easyocr\"], [\"denoise\", \"easyocr\"]]')\n",
      "PipelineScore(score=7619, pipeline='[[\"\", \"easyocr\"], [\"post_process\"]]')\n",
      "PipelineScore(score=7625, pipeline='[[\"denoise\", \"easyocr\"], [\"denoise\", \"tesseract\"], [\"post_process\"]]')\n",
      "PipelineScore(score=8028, pipeline='[[\"binarize\", \"tesseract\"], [\"post_process\"]]')\n",
      "PipelineScore(score=8123, pipeline='[[\"deskew\", \"easyocr\"]]')\n",
      "PipelineScore(score=8219, pipeline='[[\"binarize\", \"tesseract\"]]')\n",
      "PipelineScore(score=8332, pipeline='[[\"\", \"tesseract\"], [\"denoise\", \"tesseract\"]]')\n",
      "PipelineScore(score=8377, pipeline='[[\"\", \"easyocr\"]]')\n",
      "PipelineScore(score=8457, pipeline='[[\"binarize\", \"easyocr\"], [\"post_process\"]]')\n",
      "PipelineScore(score=8556, pipeline='[[\"\", \"tesseract\"], [\"denoise\", \"tesseract\"], [\"post_process\"]]')\n",
      "PipelineScore(score=8762, pipeline='[[\"\", \"tesseract\"], [\"binarize\", \"tesseract\"]]')\n",
      "PipelineScore(score=8769, pipeline='[[\"denoise\", \"tesseract\"]]')\n",
      "PipelineScore(score=8919, pipeline='[[\"denoise\", \"tesseract\"], [\"post_process\"]]')\n",
      "PipelineScore(score=8961, pipeline='[[\"\", \"tesseract\"], [\"binarize\", \"tesseract\"], [\"post_process\"]]')\n",
      "PipelineScore(score=9150, pipeline='[[\"binarize\", \"easyocr\"]]')\n",
      "PipelineScore(score=9432, pipeline='[[\"\", \"tesseract\"], [\"deskew\", \"tesseract\"]]')\n",
      "PipelineScore(score=9606, pipeline='[[\"\", \"tesseract\"], [\"deskew\", \"tesseract\"], [\"post_process\"]]')\n",
      "PipelineScore(score=10120, pipeline='[[\"denoise\", \"easyocr\"], [\"post_process\"]]')\n",
      "PipelineScore(score=10253, pipeline='[[\"denoise\", \"easyocr\"]]')\n"
     ]
    }
   ],
   "source": [
    "PipelineScore = namedtuple(\"PipelineScore\", \"score pipeline\")\n",
    "\n",
    "\n",
    "def scores_by_pipeline(scores, gold_std):\n",
    "    tally = defaultdict(int)\n",
    "\n",
    "    for score in scores:\n",
    "        tally[score[\"actions\"]] += score[\"score\"]\n",
    "\n",
    "    tally = [(v, len(k), k) for k, v in tally.items()]\n",
    "    tally = sorted(tally)\n",
    "\n",
    "    return [PipelineScore(t[0], t[2]) for t in tally]\n",
    "\n",
    "\n",
    "summed = scores_by_pipeline(SCORES, GOLD_DICT)\n",
    "for sum_ in summed:\n",
    "    print(sum_)"
   ]
  },
  {
   "cell_type": "markdown",
   "id": "4b4a55c7-b0dd-4101-9171-a99e1d957ca9",
   "metadata": {},
   "source": [
    "## Examine a pipeline"
   ]
  },
  {
   "cell_type": "code",
   "execution_count": 25,
   "id": "c9466895-652c-4eae-894b-8f11c0626414",
   "metadata": {},
   "outputs": [
    {
     "name": "stdout",
     "output_type": "stream",
     "text": [
      "score['score']=108\tscore['norm']=72\tscore['gold_id']=304\tscore['score_id']=121176\tscore['label_id']=235441\n",
      "PLANTS O\u001b[2;31;34mF\u001b[0;0m THE GULF STATES. C\u001b[2;31;34mO\u001b[0;0mLL\u001b[2;31;34mE\u001b[0;0m\u001b[2;31;34mC\u001b[0;0m\u001b[2;31;34mT\u001b[0;0mE\u001b[2;31;34mD\u001b[0;0m\u001b[2;31;34m⋄\u001b[0;0m AND DISTRIBUTED B\u001b[2;31;34mY\u001b[0;0m S. M. T\u001b[2;31;34m⋄\u001b[0;0m\u001b[2;31;34m⋄\u001b[0;0m\u001b[2;31;34m⋄\u001b[0;0m\u001b[2;31;34m⋄\u001b[0;0m\u001b[2;31;34m⋄\u001b[0;0m\u001b[2;31;34m⋄\u001b[0;0m\u001b[2;31;34m⋄\u001b[0;0m\u001b[2;31;34m⋄\u001b[0;0m\u001b[2;31;34m⋄\u001b[0;0m\u001b[2;31;34m⋄\u001b[0;0m\u001b[2;31;34m⋄\u001b[0;0m\u001b[2;31;34m⋄\u001b[0;0m\u001b[2;31;34m⋄\u001b[0;0m\u001b[2;31;34m⋄\u001b[0;0m\u001b[2;31;34m⋄\u001b[0;0m\u001b[2;31;34m⋄\u001b[0;0m\u001b[2;31;34m⋄\u001b[0;0m\u001b[2;31;34m⋄\u001b[0;0m\u001b[2;31;34m⋄\u001b[0;0m\u001b[2;31;34m⋄\u001b[0;0m\u001b[2;31;34m⋄\u001b[0;0m\u001b[2;31;34m⋄\u001b[0;0mR\u001b[2;31;34m⋄\u001b[0;0m\u001b[2;31;34m⋄\u001b[0;0m\u001b[2;31;34m⋄\u001b[0;0m\u001b[2;31;34m⋄\u001b[0;0m\u001b[2;31;34m⋄\u001b[0;0m\u001b[2;31;34m⋄\u001b[0;0m\u001b[2;31;34m⋄\u001b[0;0m\u001b[2;31;34m⋄\u001b[0;0m\u001b[2;31;34m⋄\u001b[0;0m\u001b[2;31;34m⋄\u001b[0;0m\u001b[2;31;34m⋄\u001b[0;0m\u001b[2;31;34m⋄\u001b[0;0m\u001b[2;31;34m⋄\u001b[0;0m\u001b[2;31;34m⋄\u001b[0;0m\u001b[2;31;34m⋄\u001b[0;0m\u001b[2;31;34m⋄\u001b[0;0m\u001b[2;31;34m⋄\u001b[0;0m\u001b[2;31;34m⋄\u001b[0;0m\u001b[2;31;34m⋄\u001b[0;0m\u001b[2;31;34m⋄\u001b[0;0m\u001b[2;31;34m⋄\u001b[0;0m\u001b[2;31;34m⋄\u001b[0;0m\u001b[2;31;34m⋄\u001b[0;0m\u001b[2;31;34m⋄\u001b[0;0m\u001b[2;31;34m⋄\u001b[0;0m\u001b[2;31;34m⋄\u001b[0;0m\u001b[2;31;34m⋄\u001b[0;0m\u001b[2;31;34m⋄\u001b[0;0m\u001b[2;31;34m⋄\u001b[0;0m\u001b[2;31;34m⋄\u001b[0;0m\u001b[2;31;34m⋄\u001b[0;0m\u001b[2;31;34m⋄\u001b[0;0m\u001b[2;31;34m⋄\u001b[0;0m\u001b[2;31;34m⋄\u001b[0;0m\u001b[2;31;34m⋄\u001b[0;0m\u001b[2;31;34m⋄\u001b[0;0m\u001b[2;31;34m⋄\u001b[0;0m\u001b[2;31;34m⋄\u001b[0;0m\u001b[2;31;34m⋄\u001b[0;0m\u001b[2;31;34m⋄\u001b[0;0m\u001b[2;31;34m⋄\u001b[0;0m\u001b[2;31;34m⋄\u001b[0;0m\u001b[2;31;34m⋄\u001b[0;0m\u001b[2;31;34m⋄\u001b[0;0m\u001b[2;31;34m⋄\u001b[0;0m\u001b[2;31;34m⋄\u001b[0;0m\u001b[2;31;34m⋄\u001b[0;0m\u001b[2;31;34m⋄\u001b[0;0m\u001b[2;31;34m⋄\u001b[0;0mA\u001b[2;31;34m⋄\u001b[0;0m\u001b[2;31;34m⋄\u001b[0;0m\u001b[2;31;34m⋄\u001b[0;0m\u001b[2;31;34m⋄\u001b[0;0m\u001b[2;31;34m⋄\u001b[0;0m\u001b[2;31;34m⋄\u001b[0;0m\u001b[2;31;34m⋄\u001b[0;0m\u001b[2;31;34m⋄\u001b[0;0m\u001b[2;31;34m⋄\u001b[0;0m\u001b[2;31;34m⋄\u001b[0;0m\u001b[2;31;34m⋄\u001b[0;0m\u001b[2;31;34m⋄\u001b[0;0m\u001b[2;31;34mC\u001b[0;0m\u001b[2;31;34m⋄\u001b[0;0m\u001b[2;31;34m⋄\u001b[0;0m\u001b[2;31;34m⋄\u001b[0;0mY\u001b[2;31;34m⋄\u001b[0;0m\u001b[2;31;34m⋄\u001b[0;0m.\u001b[2;31;34m⋄\u001b[0;0m\u001b[2;31;34m⋄\u001b[0;0m \u001b[2;31;34m⋄\u001b[0;0m\u001b[2;31;34m⋄\u001b[0;0m\u001b[2;31;34m⋄\u001b[0;0m\u001b[2;31;34m⋄\u001b[0;0m\u001b[2;31;34m⋄\u001b[0;0m\u001b[2;31;34m⋄\u001b[0;0mNo. 7683. Rynchospora fascicularis (Michx\u001b[2;31;34m⋄\u001b[0;0m\u001b[2;31;34m.\u001b[0;0m) Vahl\u001b[2;31;34m.\u001b[0;0m Horn Id., Miss. June 27, 1901.\n",
      "PLANTS O\u001b[2;31;34mf\u001b[0;0m THE GULF STATES. C\u001b[2;31;34mo\u001b[0;0mLL\u001b[2;31;34me\u001b[0;0m\u001b[2;31;34mc\u001b[0;0m\u001b[2;31;34mr\u001b[0;0mE\u001b[2;31;34me\u001b[0;0m\u001b[2;31;34mp\u001b[0;0m AND DISTRIBUTED B\u001b[2;31;34my\u001b[0;0m S. M. T\u001b[2;31;34mr\u001b[0;0m\u001b[2;31;34ma\u001b[0;0m\u001b[2;31;34mc\u001b[0;0m\u001b[2;31;34my\u001b[0;0m\u001b[2;31;34m.\u001b[0;0m\u001b[2;31;34m \u001b[0;0m\u001b[2;31;34mP\u001b[0;0m\u001b[2;31;34mo\u001b[0;0m\u001b[2;31;34m.\u001b[0;0m\u001b[2;31;34mO\u001b[0;0m\u001b[2;31;34mF\u001b[0;0m\u001b[2;31;34m \u001b[0;0m\u001b[2;31;34mG\u001b[0;0m\u001b[2;31;34m6\u001b[0;0m\u001b[2;31;34mL\u001b[0;0m\u001b[2;31;34mF\u001b[0;0m\u001b[2;31;34m8\u001b[0;0m\u001b[2;31;34mT\u001b[0;0m\u001b[2;31;34mT\u001b[0;0m\u001b[2;31;34mS\u001b[0;0m\u001b[2;31;34m.\u001b[0;0m\u001b[2;31;34m \u001b[0;0mR\u001b[2;31;34my\u001b[0;0m\u001b[2;31;34mn\u001b[0;0m\u001b[2;31;34mc\u001b[0;0m\u001b[2;31;34mh\u001b[0;0m\u001b[2;31;34mo\u001b[0;0m\u001b[2;31;34ms\u001b[0;0m\u001b[2;31;34mp\u001b[0;0m\u001b[2;31;34mo\u001b[0;0m\u001b[2;31;34mr\u001b[0;0m\u001b[2;31;34ma\u001b[0;0m\u001b[2;31;34m \u001b[0;0m\u001b[2;31;34mf\u001b[0;0m\u001b[2;31;34ma\u001b[0;0m\u001b[2;31;34ms\u001b[0;0m\u001b[2;31;34mc\u001b[0;0m\u001b[2;31;34mi\u001b[0;0m\u001b[2;31;34mc\u001b[0;0m\u001b[2;31;34mu\u001b[0;0m\u001b[2;31;34ml\u001b[0;0m\u001b[2;31;34ma\u001b[0;0m\u001b[2;31;34mr\u001b[0;0m\u001b[2;31;34mi\u001b[0;0m\u001b[2;31;34ms\u001b[0;0m\u001b[2;31;34m \u001b[0;0m\u001b[2;31;34m(\u001b[0;0m\u001b[2;31;34mM\u001b[0;0m\u001b[2;31;34mi\u001b[0;0m\u001b[2;31;34mc\u001b[0;0m\u001b[2;31;34mh\u001b[0;0m\u001b[2;31;34mx\u001b[0;0m\u001b[2;31;34m.\u001b[0;0m\u001b[2;31;34m)\u001b[0;0m\u001b[2;31;34m \u001b[0;0m\u001b[2;31;34mV\u001b[0;0m\u001b[2;31;34ma\u001b[0;0m\u001b[2;31;34mh\u001b[0;0m\u001b[2;31;34ml\u001b[0;0m\u001b[2;31;34m.\u001b[0;0m\u001b[2;31;34m \u001b[0;0m\u001b[2;31;34mC\u001b[0;0m\u001b[2;31;34mo\u001b[0;0m\u001b[2;31;34mL\u001b[0;0m\u001b[2;31;34mL\u001b[0;0m\u001b[2;31;34mE\u001b[0;0m\u001b[2;31;34mC\u001b[0;0m\u001b[2;31;34mI\u001b[0;0m\u001b[2;31;34mE\u001b[0;0m\u001b[2;31;34m.\u001b[0;0m\u001b[2;31;34m \u001b[0;0mA\u001b[2;31;34mN\u001b[0;0m\u001b[2;31;34mD\u001b[0;0m\u001b[2;31;34m \u001b[0;0m\u001b[2;31;34mD\u001b[0;0m\u001b[2;31;34mI\u001b[0;0m\u001b[2;31;34mS\u001b[0;0m\u001b[2;31;34mT\u001b[0;0m\u001b[2;31;34m.\u001b[0;0m\u001b[2;31;34mI\u001b[0;0m\u001b[2;31;34mB\u001b[0;0m\u001b[2;31;34mU\u001b[0;0m\u001b[2;31;34mJ\u001b[0;0m\u001b[2;31;34mE\u001b[0;0m\u001b[2;31;34mD\u001b[0;0m\u001b[2;31;34me\u001b[0;0m\u001b[2;31;34mB\u001b[0;0mY\u001b[2;31;34m \u001b[0;0m\u001b[2;31;34mS\u001b[0;0m.\u001b[2;31;34m,\u001b[0;0m\u001b[2;31;34mM\u001b[0;0m \u001b[2;31;34mT\u001b[0;0m\u001b[2;31;34m9\u001b[0;0m\u001b[2;31;34m0\u001b[0;0m\u001b[2;31;34m1\u001b[0;0m\u001b[2;31;34m.\u001b[0;0m\u001b[2;31;34m \u001b[0;0mNo. 7683. Rynchospora fascicularis (Michx\u001b[2;31;34m:\u001b[0;0m\u001b[2;31;34m,\u001b[0;0m) Vahl\u001b[2;31;34m:\u001b[0;0m Horn Id., Miss. June 27, 1901.\n",
      "\n",
      "score['score']=162\tscore['norm']=65\tscore['gold_id']=201\tscore['score_id']=111906\tscore['label_id']=210941\n",
      "UNIVERSITY \u001b[2;31;34mO\u001b[0;0m\u001b[2;31;34mF\u001b[0;0m\u001b[2;31;34m \u001b[0;0m\u001b[2;31;34mV\u001b[0;0m\u001b[2;31;34mI\u001b[0;0m\u001b[2;31;34mR\u001b[0;0mGI\u001b[2;31;34mN\u001b[0;0m\u001b[2;31;34mI\u001b[0;0mA\u001b[2;31;34m⋄\u001b[0;0m \u001b[2;31;34mM\u001b[0;0m\u001b[2;31;34mO\u001b[0;0m\u001b[2;31;34mU\u001b[0;0m\u001b[2;31;34mN\u001b[0;0mTA\u001b[2;31;34m⋄\u001b[0;0mI\u001b[2;31;34m⋄\u001b[0;0mN \u001b[2;31;34mL\u001b[0;0m\u001b[2;31;34mA\u001b[0;0m\u001b[2;31;34mK\u001b[0;0m\u001b[2;31;34mE\u001b[0;0m \u001b[2;31;34mB\u001b[0;0mI\u001b[2;31;34mO\u001b[0;0m\u001b[2;31;34mL\u001b[0;0m\u001b[2;31;34mO\u001b[0;0mGI\u001b[2;31;34mC\u001b[0;0m\u001b[2;31;34m⋄\u001b[0;0mA\u001b[2;31;34mL\u001b[0;0m \u001b[2;31;34mS\u001b[0;0m\u001b[2;31;34mT\u001b[0;0m\u001b[2;31;34mA\u001b[0;0m\u001b[2;31;34m⋄\u001b[0;0mTI\u001b[2;31;34mO\u001b[0;0m\u001b[2;31;34m⋄\u001b[0;0m\u001b[2;31;34m⋄\u001b[0;0m\u001b[2;31;34m⋄\u001b[0;0m\u001b[2;31;34mN\u001b[0;0m\u001b[2;31;34m⋄\u001b[0;0m HERBAR\u001b[2;31;34m⋄\u001b[0;0mIUM Asclepias verticillata\u001b[2;31;34m⋄\u001b[0;0m\u001b[2;31;34m⋄\u001b[0;0m\u001b[2;31;34m⋄\u001b[0;0m\u001b[2;31;34m⋄\u001b[0;0m\u001b[2;31;34m⋄\u001b[0;0m\u001b[2;31;34m⋄\u001b[0;0m\u001b[2;31;34m⋄\u001b[0;0m\u001b[2;31;34m⋄\u001b[0;0m\u001b[2;31;34m⋄\u001b[0;0m\u001b[2;31;34m⋄\u001b[0;0m\u001b[2;31;34m⋄\u001b[0;0m \u001b[2;31;34m⋄\u001b[0;0m\u001b[2;31;34m⋄\u001b[0;0m\u001b[2;31;34m⋄\u001b[0;0m\u001b[2;31;34m⋄\u001b[0;0m\u001b[2;31;34m⋄\u001b[0;0m\u001b[2;31;34m⋄\u001b[0;0m\u001b[2;31;34m⋄\u001b[0;0mL. (Asclepiadaceae) Craig Co., VA. Junction of Patterson and Craig Cr\u001b[2;31;34m⋄\u001b[0;0m\u001b[2;31;34m⋄\u001b[0;0m\u001b[2;31;34m⋄\u001b[0;0m\u001b[2;31;34m⋄\u001b[0;0m\u001b[2;31;34m⋄\u001b[0;0m\u001b[2;31;34m⋄\u001b[0;0m\u001b[2;31;34m⋄\u001b[0;0m\u001b[2;31;34m⋄\u001b[0;0m\u001b[2;31;34m⋄\u001b[0;0m\u001b[2;31;34m⋄\u001b[0;0m\u001b[2;31;34m⋄\u001b[0;0m\u001b[2;31;34m⋄\u001b[0;0m\u001b[2;31;34m⋄\u001b[0;0m\u001b[2;31;34m⋄\u001b[0;0m\u001b[2;31;34m⋄\u001b[0;0m\u001b[2;31;34m⋄\u001b[0;0m\u001b[2;31;34m⋄\u001b[0;0m\u001b[2;31;34m⋄\u001b[0;0m\u001b[2;31;34m⋄\u001b[0;0m\u001b[2;31;34m⋄\u001b[0;0m\u001b[2;31;34m⋄\u001b[0;0m\u001b[2;31;34m⋄\u001b[0;0m\u001b[2;31;34m⋄\u001b[0;0m\u001b[2;31;34m⋄\u001b[0;0m\u001b[2;31;34m⋄\u001b[0;0m\u001b[2;31;34m⋄\u001b[0;0m\u001b[2;31;34m⋄\u001b[0;0m\u001b[2;31;34m⋄\u001b[0;0me\u001b[2;31;34m⋄\u001b[0;0m\u001b[2;31;34m⋄\u001b[0;0m\u001b[2;31;34m⋄\u001b[0;0m\u001b[2;31;34m⋄\u001b[0;0m\u001b[2;31;34m⋄\u001b[0;0m\u001b[2;31;34m⋄\u001b[0;0m\u001b[2;31;34m⋄\u001b[0;0m\u001b[2;31;34m⋄\u001b[0;0m\u001b[2;31;34m⋄\u001b[0;0m\u001b[2;31;34m⋄\u001b[0;0m\u001b[2;31;34m⋄\u001b[0;0m\u001b[2;31;34m⋄\u001b[0;0m\u001b[2;31;34m⋄\u001b[0;0m\u001b[2;31;34m⋄\u001b[0;0m\u001b[2;31;34m⋄\u001b[0;0m\u001b[2;31;34m⋄\u001b[0;0me\u001b[2;31;34m⋄\u001b[0;0mks. Exposed face of shale barren above creek \u001b[2;31;34m⋄\u001b[0;0m\u001b[2;31;34m⋄\u001b[0;0m\u001b[2;31;34m⋄\u001b[0;0m\u001b[2;31;34m⋄\u001b[0;0m\u001b[2;31;34m⋄\u001b[0;0m\u001b[2;31;34m⋄\u001b[0;0m\u001b[2;31;34m⋄\u001b[0;0m\u001b[2;31;34m⋄\u001b[0;0m\u001b[2;31;34m⋄\u001b[0;0m\u001b[2;31;34m⋄\u001b[0;0m\u001b[2;31;34m⋄\u001b[0;0m\u001b[2;31;34m⋄\u001b[0;0m\u001b[2;31;34m⋄\u001b[0;0m\u001b[2;31;34m⋄\u001b[0;0m\u001b[2;31;34m⋄\u001b[0;0m\u001b[2;31;34m⋄\u001b[0;0m\u001b[2;31;34m⋄\u001b[0;0m\u001b[2;31;34m⋄\u001b[0;0m\u001b[2;31;34m⋄\u001b[0;0m\u001b[2;31;34m⋄\u001b[0;0m\u001b[2;31;34m⋄\u001b[0;0m\u001b[2;31;34m⋄\u001b[0;0m\u001b[2;31;34m⋄\u001b[0;0m\u001b[2;31;34m⋄\u001b[0;0m\u001b[2;31;34m⋄\u001b[0;0m\u001b[2;31;34m⋄\u001b[0;0m\u001b[2;31;34m⋄\u001b[0;0m\u001b[2;31;34m⋄\u001b[0;0m\u001b[2;31;34m⋄\u001b[0;0m\u001b[2;31;34m⋄\u001b[0;0m\u001b[2;31;34m⋄\u001b[0;0m\u001b[2;31;34m⋄\u001b[0;0m\u001b[2;31;34m⋄\u001b[0;0m\u001b[2;31;34m⋄\u001b[0;0m\u001b[2;31;34m⋄\u001b[0;0m\u001b[2;31;34m⋄\u001b[0;0m\u001b[2;31;34m⋄\u001b[0;0m\u001b[2;31;34m⋄\u001b[0;0m\u001b[2;31;34m⋄\u001b[0;0m\u001b[2;31;34m⋄\u001b[0;0m\u001b[2;31;34m⋄\u001b[0;0mjunction. Coll. Ann W. Kelly 83 \u001b[2;31;34m⋄\u001b[0;0m9\u001b[2;31;34m⋄\u001b[0;0m\u001b[2;31;34m⋄\u001b[0;0m\u001b[2;31;34m⋄\u001b[0;0m Ju\u001b[2;31;34m⋄\u001b[0;0m\u001b[2;31;34m⋄\u001b[0;0m\u001b[2;31;34m⋄\u001b[0;0m\u001b[2;31;34m⋄\u001b[0;0m\u001b[2;31;34m⋄\u001b[0;0m\u001b[2;31;34m⋄\u001b[0;0m\u001b[2;31;34m⋄\u001b[0;0ml\u001b[2;31;34m⋄\u001b[0;0my\u001b[2;31;34m⋄\u001b[0;0m\u001b[2;31;34m⋄\u001b[0;0m \u001b[2;31;34m⋄\u001b[0;0m\u001b[2;31;34m⋄\u001b[0;0m\u001b[2;31;34m⋄\u001b[0;0m\u001b[2;31;34m⋄\u001b[0;0m\u001b[2;31;34m⋄\u001b[0;0m\u001b[2;31;34m⋄\u001b[0;0m\u001b[2;31;34m⋄\u001b[0;0m1987\n",
      "UNIVERSITY \u001b[2;31;34mB\u001b[0;0m\u001b[2;31;34mI\u001b[0;0m\u001b[2;31;34mO\u001b[0;0m\u001b[2;31;34m⋄\u001b[0;0m\u001b[2;31;34mL\u001b[0;0m\u001b[2;31;34mO\u001b[0;0mGI\u001b[2;31;34mC\u001b[0;0m\u001b[2;31;34m⋄\u001b[0;0mA\u001b[2;31;34mL\u001b[0;0m \u001b[2;31;34mS\u001b[0;0m\u001b[2;31;34m⋄\u001b[0;0m\u001b[2;31;34m⋄\u001b[0;0m\u001b[2;31;34m⋄\u001b[0;0mTA\u001b[2;31;34mT\u001b[0;0mI\u001b[2;31;34mO\u001b[0;0mN \u001b[2;31;34mO\u001b[0;0m\u001b[2;31;34m⋄\u001b[0;0m\u001b[2;31;34m⋄\u001b[0;0m\u001b[2;31;34mF\u001b[0;0m \u001b[2;31;34mV\u001b[0;0mI\u001b[2;31;34m⋄\u001b[0;0m\u001b[2;31;34mR\u001b[0;0m\u001b[2;31;34m⋄\u001b[0;0mGI\u001b[2;31;34mN\u001b[0;0m\u001b[2;31;34mI\u001b[0;0mA\u001b[2;31;34m⋄\u001b[0;0m \u001b[2;31;34mM\u001b[0;0m\u001b[2;31;34mO\u001b[0;0m\u001b[2;31;34mU\u001b[0;0m\u001b[2;31;34mN\u001b[0;0mTI\u001b[2;31;34mN\u001b[0;0m\u001b[2;31;34m \u001b[0;0m\u001b[2;31;34mL\u001b[0;0m\u001b[2;31;34mA\u001b[0;0m\u001b[2;31;34mK\u001b[0;0m\u001b[2;31;34mE\u001b[0;0m HERBAR\u001b[2;31;34m \u001b[0;0mIUM Asclepias verticillata\u001b[2;31;34m(\u001b[0;0m\u001b[2;31;34mA\u001b[0;0m\u001b[2;31;34ms\u001b[0;0m\u001b[2;31;34mc\u001b[0;0m\u001b[2;31;34ml\u001b[0;0m\u001b[2;31;34me\u001b[0;0m\u001b[2;31;34mp\u001b[0;0m\u001b[2;31;34mi\u001b[0;0m\u001b[2;31;34ma\u001b[0;0m\u001b[2;31;34me\u001b[0;0m\u001b[2;31;34m)\u001b[0;0m \u001b[2;31;34mv\u001b[0;0m\u001b[2;31;34mr\u001b[0;0m\u001b[2;31;34mi\u001b[0;0m\u001b[2;31;34mi\u001b[0;0m\u001b[2;31;34ml\u001b[0;0m\u001b[2;31;34mt\u001b[0;0m\u001b[2;31;34ma\u001b[0;0mL. (Asclepiadaceae) Craig Co., VA. Junction of Patterson and Craig Cr\u001b[2;31;34ma\u001b[0;0m\u001b[2;31;34mi\u001b[0;0m\u001b[2;31;34mg\u001b[0;0m\u001b[2;31;34m \u001b[0;0m\u001b[2;31;34mC\u001b[0;0m\u001b[2;31;34mo\u001b[0;0m\u001b[2;31;34m.\u001b[0;0m\u001b[2;31;34m \u001b[0;0m\u001b[2;31;34mV\u001b[0;0m\u001b[2;31;34mA\u001b[0;0m\u001b[2;31;34m.\u001b[0;0m\u001b[2;31;34m \u001b[0;0m\u001b[2;31;34mJ\u001b[0;0m\u001b[2;31;34mu\u001b[0;0m\u001b[2;31;34mn\u001b[0;0m\u001b[2;31;34mc\u001b[0;0m\u001b[2;31;34mt\u001b[0;0m\u001b[2;31;34mi\u001b[0;0m\u001b[2;31;34mo\u001b[0;0m\u001b[2;31;34mn\u001b[0;0m\u001b[2;31;34m \u001b[0;0m\u001b[2;31;34mo\u001b[0;0m\u001b[2;31;34mf\u001b[0;0m\u001b[2;31;34m \u001b[0;0m\u001b[2;31;34mM\u001b[0;0m\u001b[2;31;34ma\u001b[0;0m\u001b[2;31;34mt\u001b[0;0m\u001b[2;31;34mt\u001b[0;0me\u001b[2;31;34ms\u001b[0;0m\u001b[2;31;34mo\u001b[0;0m\u001b[2;31;34mn\u001b[0;0m\u001b[2;31;34m \u001b[0;0m\u001b[2;31;34ma\u001b[0;0m\u001b[2;31;34mn\u001b[0;0m\u001b[2;31;34md\u001b[0;0m\u001b[2;31;34m \u001b[0;0m\u001b[2;31;34mC\u001b[0;0m\u001b[2;31;34mr\u001b[0;0m\u001b[2;31;34ma\u001b[0;0m\u001b[2;31;34mi\u001b[0;0m\u001b[2;31;34mg\u001b[0;0m\u001b[2;31;34m \u001b[0;0m\u001b[2;31;34mC\u001b[0;0m\u001b[2;31;34mr\u001b[0;0me\u001b[2;31;34me\u001b[0;0mks. Exposed face of shale barren above creek \u001b[2;31;34mE\u001b[0;0m\u001b[2;31;34mx\u001b[0;0m\u001b[2;31;34mp\u001b[0;0m\u001b[2;31;34mo\u001b[0;0m\u001b[2;31;34ms\u001b[0;0m\u001b[2;31;34me\u001b[0;0m\u001b[2;31;34md\u001b[0;0m\u001b[2;31;34m \u001b[0;0m\u001b[2;31;34mf\u001b[0;0m\u001b[2;31;34ma\u001b[0;0m\u001b[2;31;34mc\u001b[0;0m\u001b[2;31;34me\u001b[0;0m\u001b[2;31;34m \u001b[0;0m\u001b[2;31;34mo\u001b[0;0m\u001b[2;31;34mf\u001b[0;0m\u001b[2;31;34m \u001b[0;0m\u001b[2;31;34ms\u001b[0;0m\u001b[2;31;34mh\u001b[0;0m\u001b[2;31;34ma\u001b[0;0m\u001b[2;31;34ml\u001b[0;0m\u001b[2;31;34me\u001b[0;0m\u001b[2;31;34m \u001b[0;0m\u001b[2;31;34mb\u001b[0;0m\u001b[2;31;34ma\u001b[0;0m\u001b[2;31;34mr\u001b[0;0m\u001b[2;31;34mr\u001b[0;0m\u001b[2;31;34me\u001b[0;0m\u001b[2;31;34mn\u001b[0;0m\u001b[2;31;34m \u001b[0;0m\u001b[2;31;34ma\u001b[0;0m\u001b[2;31;34mb\u001b[0;0m\u001b[2;31;34mo\u001b[0;0m\u001b[2;31;34mv\u001b[0;0m\u001b[2;31;34me\u001b[0;0m\u001b[2;31;34m \u001b[0;0m\u001b[2;31;34mc\u001b[0;0m\u001b[2;31;34mr\u001b[0;0m\u001b[2;31;34me\u001b[0;0m\u001b[2;31;34me\u001b[0;0m\u001b[2;31;34mk\u001b[0;0m\u001b[2;31;34m \u001b[0;0mjunction. Coll. Ann W. Kelly 83 \u001b[2;31;34mC\u001b[0;0m9\u001b[2;31;34ml\u001b[0;0m\u001b[2;31;34ml\u001b[0;0m\u001b[2;31;34m.\u001b[0;0m Ju\u001b[2;31;34mn\u001b[0;0m\u001b[2;31;34m \u001b[0;0m\u001b[2;31;34mW\u001b[0;0m\u001b[2;31;34m.\u001b[0;0m\u001b[2;31;34m \u001b[0;0m\u001b[2;31;34mK\u001b[0;0m\u001b[2;31;34me\u001b[0;0ml\u001b[2;31;34ml\u001b[0;0my\u001b[2;31;34m8\u001b[0;0m\u001b[2;31;34m3\u001b[0;0m \u001b[2;31;34m9\u001b[0;0m\u001b[2;31;34m \u001b[0;0m\u001b[2;31;34mJ\u001b[0;0m\u001b[2;31;34mu\u001b[0;0m\u001b[2;31;34ml\u001b[0;0m\u001b[2;31;34my\u001b[0;0m\u001b[2;31;34m \u001b[0;0m1987\n",
      "\n",
      "score['score']=251\tscore['norm']=58\tscore['gold_id']=160\tscore['score_id']=108216\tscore['label_id']=202042\n",
      "\u001b[2;31;34m⋄\u001b[0;0m\u001b[2;31;34mE\u001b[0;0m\u001b[2;31;34mA\u001b[0;0mS\u001b[2;31;34mT\u001b[0;0mE\u001b[2;31;34mR\u001b[0;0mN\u001b[2;31;34m \u001b[0;0mK\u001b[2;31;34mE\u001b[0;0mN\u001b[2;31;34mT\u001b[0;0mU\u001b[2;31;34mC\u001b[0;0m\u001b[2;31;34mK\u001b[0;0m\u001b[2;31;34mY\u001b[0;0m UNIVERSITY RONALD L. JONES HERBARIUM (EKY) \u001b[2;31;34m⋄\u001b[0;0m\u001b[2;31;34m⋄\u001b[0;0m\u001b[2;31;34m⋄\u001b[0;0m\u001b[2;31;34m⋄\u001b[0;0m\u001b[2;31;34m⋄\u001b[0;0m\u001b[2;31;34m⋄\u001b[0;0m\u001b[2;31;34m⋄\u001b[0;0m\u001b[2;31;34m⋄\u001b[0;0m\u001b[2;31;34m⋄\u001b[0;0m\u001b[2;31;34m⋄\u001b[0;0m\u001b[2;31;34m⋄\u001b[0;0m\u001b[2;31;34m⋄\u001b[0;0m\u001b[2;31;34m⋄\u001b[0;0m\u001b[2;31;34m⋄\u001b[0;0m\u001b[2;31;34m⋄\u001b[0;0m\u001b[2;31;34m⋄\u001b[0;0m\u001b[2;31;34m⋄\u001b[0;0m\u001b[2;31;34m⋄\u001b[0;0m\u001b[2;31;34m⋄\u001b[0;0m\u001b[2;31;34m⋄\u001b[0;0m\u001b[2;31;34m⋄\u001b[0;0m\u001b[2;31;34m⋄\u001b[0;0m\u001b[2;31;34m⋄\u001b[0;0m\u001b[2;31;34m⋄\u001b[0;0m\u001b[2;31;34m⋄\u001b[0;0m\u001b[2;31;34m⋄\u001b[0;0m\u001b[2;31;34m⋄\u001b[0;0m\u001b[2;31;34m⋄\u001b[0;0mFlora of\u001b[2;31;34m \u001b[0;0mK\u001b[2;31;34me\u001b[0;0mn\u001b[2;31;34mt\u001b[0;0mu\u001b[2;31;34mc\u001b[0;0mky\u001b[2;31;34m \u001b[0;0mPowell County \u001b[2;31;34m⋄\u001b[0;0m\u001b[2;31;34m⋄\u001b[0;0m\u001b[2;31;34m⋄\u001b[0;0m\u001b[2;31;34m⋄\u001b[0;0m\u001b[2;31;34m⋄\u001b[0;0m\u001b[2;31;34m⋄\u001b[0;0m\u001b[2;31;34m⋄\u001b[0;0m\u001b[2;31;34m⋄\u001b[0;0m\u001b[2;31;34m⋄\u001b[0;0m\u001b[2;31;34m⋄\u001b[0;0m\u001b[2;31;34m⋄\u001b[0;0m\u001b[2;31;34m⋄\u001b[0;0mOsmundaceae Osmunda\u001b[2;31;34m⋄\u001b[0;0m\u001b[2;31;34m⋄\u001b[0;0m\u001b[2;31;34m⋄\u001b[0;0m\u001b[2;31;34m⋄\u001b[0;0m \u001b[2;31;34m⋄\u001b[0;0ms\u001b[2;31;34m⋄\u001b[0;0m\u001b[2;31;34m⋄\u001b[0;0m\u001b[2;31;34m⋄\u001b[0;0m\u001b[2;31;34m⋄\u001b[0;0m\u001b[2;31;34m⋄\u001b[0;0m\u001b[2;31;34m⋄\u001b[0;0m\u001b[2;31;34m⋄\u001b[0;0mpectabilis Willd. \u001b[2;31;34m⋄\u001b[0;0m\u001b[2;31;34m⋄\u001b[0;0m\u001b[2;31;34m⋄\u001b[0;0m\u001b[2;31;34m⋄\u001b[0;0m\u001b[2;31;34mL\u001b[0;0m\u001b[2;31;34mo\u001b[0;0m\u001b[2;31;34m⋄\u001b[0;0m\u001b[2;31;34m⋄\u001b[0;0m\u001b[2;31;34m⋄\u001b[0;0m\u001b[2;31;34m⋄\u001b[0;0mc\u001b[2;31;34m⋄\u001b[0;0ma\u001b[2;31;34m⋄\u001b[0;0m\u001b[2;31;34m⋄\u001b[0;0mli\u001b[2;31;34m⋄\u001b[0;0m\u001b[2;31;34m⋄\u001b[0;0m\u001b[2;31;34m⋄\u001b[0;0m\u001b[2;31;34mt\u001b[0;0m\u001b[2;31;34my\u001b[0;0m\u001b[2;31;34m⋄\u001b[0;0m\u001b[2;31;34m⋄\u001b[0;0m\u001b[2;31;34m⋄\u001b[0;0m\u001b[2;31;34m:\u001b[0;0m\u001b[2;31;34m⋄\u001b[0;0m\u001b[2;31;34m⋄\u001b[0;0m \u001b[2;31;34m⋄\u001b[0;0m\u001b[2;31;34m⋄\u001b[0;0m\u001b[2;31;34m⋄\u001b[0;0m\u001b[2;31;34m⋄\u001b[0;0m\u001b[2;31;34m⋄\u001b[0;0m\u001b[2;31;34m⋄\u001b[0;0m\u001b[2;31;34m⋄\u001b[0;0m\u001b[2;31;34m⋄\u001b[0;0m\u001b[2;31;34m⋄\u001b[0;0m\u001b[2;31;34m⋄\u001b[0;0m\u001b[2;31;34m⋄\u001b[0;0mAlong Fish Trap Branch, in \u001b[2;31;34m⋄\u001b[0;0m\u001b[2;31;34m⋄\u001b[0;0m\u001b[2;31;34m⋄\u001b[0;0m\u001b[2;31;34m⋄\u001b[0;0m\u001b[2;31;34m⋄\u001b[0;0m\u001b[2;31;34m⋄\u001b[0;0m\u001b[2;31;34m⋄\u001b[0;0m\u001b[2;31;34m⋄\u001b[0;0m\u001b[2;31;34m⋄\u001b[0;0m\u001b[2;31;34m⋄\u001b[0;0m\u001b[2;31;34m⋄\u001b[0;0m\u001b[2;31;34m⋄\u001b[0;0m\u001b[2;31;34m⋄\u001b[0;0m\u001b[2;31;34m⋄\u001b[0;0m\u001b[2;31;34m⋄\u001b[0;0mbog/seep area Ca\u001b[2;31;34m.\u001b[0;0m\u001b[2;31;34m \u001b[0;0m1\u001b[2;31;34m.\u001b[0;0m\u001b[2;31;34m5\u001b[0;0mkm S of confluence with Red River Coordinates: 37.825204,\u001b[2;31;34m \u001b[0;0m-83.6\u001b[2;31;34m7\u001b[0;0m3\u001b[2;31;34m7\u001b[0;0m38 Project: Vascular Flora of the Red River \u001b[2;31;34m⋄\u001b[0;0m\u001b[2;31;34m⋄\u001b[0;0m\u001b[2;31;34m⋄\u001b[0;0m\u001b[2;31;34m⋄\u001b[0;0m\u001b[2;31;34m⋄\u001b[0;0m\u001b[2;31;34m⋄\u001b[0;0m\u001b[2;31;34m⋄\u001b[0;0m\u001b[2;31;34m⋄\u001b[0;0m\u001b[2;31;34m⋄\u001b[0;0m\u001b[2;31;34m⋄\u001b[0;0m\u001b[2;31;34m⋄\u001b[0;0m\u001b[2;31;34m⋄\u001b[0;0m\u001b[2;31;34m⋄\u001b[0;0m\u001b[2;31;34m⋄\u001b[0;0m\u001b[2;31;34m⋄\u001b[0;0m\u001b[2;31;34m⋄\u001b[0;0m\u001b[2;31;34m⋄\u001b[0;0m\u001b[2;31;34m⋄\u001b[0;0m\u001b[2;31;34m⋄\u001b[0;0m\u001b[2;31;34m⋄\u001b[0;0m\u001b[2;31;34m⋄\u001b[0;0m\u001b[2;31;34m⋄\u001b[0;0m\u001b[2;31;34m⋄\u001b[0;0m\u001b[2;31;34m⋄\u001b[0;0m\u001b[2;31;34m⋄\u001b[0;0m\u001b[2;31;34m⋄\u001b[0;0m\u001b[2;31;34m⋄\u001b[0;0m\u001b[2;31;34m⋄\u001b[0;0m\u001b[2;31;34m⋄\u001b[0;0m\u001b[2;31;34m⋄\u001b[0;0m\u001b[2;31;34m⋄\u001b[0;0m\u001b[2;31;34m⋄\u001b[0;0m\u001b[2;31;34m⋄\u001b[0;0m\u001b[2;31;34m⋄\u001b[0;0m\u001b[2;31;34m⋄\u001b[0;0m\u001b[2;31;34m⋄\u001b[0;0m\u001b[2;31;34m⋄\u001b[0;0m\u001b[2;31;34m⋄\u001b[0;0m\u001b[2;31;34m⋄\u001b[0;0m\u001b[2;31;34m⋄\u001b[0;0m\u001b[2;31;34m⋄\u001b[0;0m\u001b[2;31;34m⋄\u001b[0;0m\u001b[2;31;34m⋄\u001b[0;0m\u001b[2;31;34m⋄\u001b[0;0m\u001b[2;31;34m⋄\u001b[0;0m\u001b[2;31;34m⋄\u001b[0;0m\u001b[2;31;34m⋄\u001b[0;0m\u001b[2;31;34m⋄\u001b[0;0m\u001b[2;31;34m⋄\u001b[0;0m\u001b[2;31;34m⋄\u001b[0;0m\u001b[2;31;34m⋄\u001b[0;0m\u001b[2;31;34m⋄\u001b[0;0m\u001b[2;31;34m⋄\u001b[0;0m\u001b[2;31;34m⋄\u001b[0;0m\u001b[2;31;34m⋄\u001b[0;0m\u001b[2;31;34m⋄\u001b[0;0m\u001b[2;31;34m⋄\u001b[0;0m\u001b[2;31;34m⋄\u001b[0;0m\u001b[2;31;34m⋄\u001b[0;0m\u001b[2;31;34m⋄\u001b[0;0m\u001b[2;31;34m⋄\u001b[0;0m\u001b[2;31;34m⋄\u001b[0;0m\u001b[2;31;34m⋄\u001b[0;0m\u001b[2;31;34m⋄\u001b[0;0m\u001b[2;31;34m⋄\u001b[0;0m\u001b[2;31;34m⋄\u001b[0;0m\u001b[2;31;34m⋄\u001b[0;0m\u001b[2;31;34m⋄\u001b[0;0m\u001b[2;31;34m⋄\u001b[0;0m\u001b[2;31;34m⋄\u001b[0;0m\u001b[2;31;34m⋄\u001b[0;0m\u001b[2;31;34m⋄\u001b[0;0m\u001b[2;31;34m⋄\u001b[0;0m\u001b[2;31;34m⋄\u001b[0;0m\u001b[2;31;34m⋄\u001b[0;0m\u001b[2;31;34m⋄\u001b[0;0m\u001b[2;31;34m⋄\u001b[0;0m\u001b[2;31;34m⋄\u001b[0;0m\u001b[2;31;34m⋄\u001b[0;0m\u001b[2;31;34m⋄\u001b[0;0m\u001b[2;31;34m⋄\u001b[0;0m\u001b[2;31;34m⋄\u001b[0;0m\u001b[2;31;34m⋄\u001b[0;0m\u001b[2;31;34m⋄\u001b[0;0m\u001b[2;31;34m⋄\u001b[0;0m\u001b[2;31;34m⋄\u001b[0;0m\u001b[2;31;34m⋄\u001b[0;0m\u001b[2;31;34m⋄\u001b[0;0m\u001b[2;31;34m⋄\u001b[0;0m\u001b[2;31;34m⋄\u001b[0;0m\u001b[2;31;34m⋄\u001b[0;0m\u001b[2;31;34m⋄\u001b[0;0m\u001b[2;31;34m⋄\u001b[0;0mGorge in Powell, \u001b[2;31;34mM\u001b[0;0menife\u001b[2;31;34me\u001b[0;0m\u001b[2;31;34m \u001b[0;0mand Wolfe\u001b[2;31;34m \u001b[0;0mCounties KY. MS Thesis. \u001b[2;31;34m⋄\u001b[0;0m\u001b[2;31;34m⋄\u001b[0;0m\u001b[2;31;34m⋄\u001b[0;0m\u001b[2;31;34m⋄\u001b[0;0m\u001b[2;31;34m⋄\u001b[0;0m\u001b[2;31;34m⋄\u001b[0;0m\u001b[2;31;34m⋄\u001b[0;0m\u001b[2;31;34m⋄\u001b[0;0m\u001b[2;31;34m⋄\u001b[0;0m\u001b[2;31;34m⋄\u001b[0;0m\u001b[2;31;34m⋄\u001b[0;0m\u001b[2;31;34m⋄\u001b[0;0m\u001b[2;31;34m⋄\u001b[0;0m\u001b[2;31;34m⋄\u001b[0;0m\u001b[2;31;34m⋄\u001b[0;0m\u001b[2;31;34m⋄\u001b[0;0mCollector: Thom\u001b[2;31;34ma\u001b[0;0ms M\u001b[2;31;34mc\u001b[0;0mFa\u001b[2;31;34md\u001b[0;0md\u001b[2;31;34me\u001b[0;0mn Collection \u001b[2;31;34mN\u001b[0;0m\u001b[2;31;34mo\u001b[0;0m\u001b[2;31;34m.\u001b[0;0m\u001b[2;31;34m⋄\u001b[0;0m: \u001b[2;31;34m⋄\u001b[0;0m\u001b[2;31;34m6\u001b[0;0m\u001b[2;31;34m3\u001b[0;0m\u001b[2;31;34m7\u001b[0;0m Collection Date: July\u001b[2;31;34m \u001b[0;0m28,\u001b[2;31;34m \u001b[0;0m2017\n",
      "\u001b[2;31;34mO\u001b[0;0m\u001b[2;31;34mL\u001b[0;0m\u001b[2;31;34m⋄\u001b[0;0mS\u001b[2;31;34m⋄\u001b[0;0mE\u001b[2;31;34m⋄\u001b[0;0mN\u001b[2;31;34m.\u001b[0;0mK\u001b[2;31;34mA\u001b[0;0mN\u001b[2;31;34m⋄\u001b[0;0mU\u001b[2;31;34m⋄\u001b[0;0m\u001b[2;31;34m⋄\u001b[0;0m\u001b[2;31;34m⋄\u001b[0;0m UNIVERSITY RONALD L. JONES HERBARIUM (EKY) \u001b[2;31;34mE\u001b[0;0m\u001b[2;31;34mA\u001b[0;0m\u001b[2;31;34mS\u001b[0;0m\u001b[2;31;34mT\u001b[0;0m\u001b[2;31;34mE\u001b[0;0m\u001b[2;31;34mR\u001b[0;0m\u001b[2;31;34mN\u001b[0;0m\u001b[2;31;34m \u001b[0;0m\u001b[2;31;34mK\u001b[0;0m\u001b[2;31;34mE\u001b[0;0m\u001b[2;31;34mN\u001b[0;0m\u001b[2;31;34mT\u001b[0;0m\u001b[2;31;34mU\u001b[0;0m\u001b[2;31;34mC\u001b[0;0m\u001b[2;31;34mK\u001b[0;0m\u001b[2;31;34mY\u001b[0;0m\u001b[2;31;34m \u001b[0;0m\u001b[2;31;34mU\u001b[0;0m\u001b[2;31;34mN\u001b[0;0m\u001b[2;31;34mI\u001b[0;0m\u001b[2;31;34mV\u001b[0;0m\u001b[2;31;34mE\u001b[0;0m\u001b[2;31;34mR\u001b[0;0m\u001b[2;31;34mS\u001b[0;0m\u001b[2;31;34mI\u001b[0;0m\u001b[2;31;34mT\u001b[0;0m\u001b[2;31;34mY\u001b[0;0m\u001b[2;31;34m \u001b[0;0mFlora of\u001b[2;31;34m⋄\u001b[0;0mK\u001b[2;31;34m⋄\u001b[0;0mn\u001b[2;31;34m⋄\u001b[0;0mu\u001b[2;31;34m⋄\u001b[0;0mky\u001b[2;31;34m⋄\u001b[0;0mPowell County \u001b[2;31;34mo\u001b[0;0m\u001b[2;31;34mf\u001b[0;0m\u001b[2;31;34m \u001b[0;0m\u001b[2;31;34mK\u001b[0;0m\u001b[2;31;34me\u001b[0;0m\u001b[2;31;34mn\u001b[0;0m\u001b[2;31;34mt\u001b[0;0m\u001b[2;31;34mu\u001b[0;0m\u001b[2;31;34mc\u001b[0;0m\u001b[2;31;34mk\u001b[0;0m\u001b[2;31;34my\u001b[0;0m\u001b[2;31;34m \u001b[0;0mOsmundaceae Osmunda\u001b[2;31;34mc\u001b[0;0m\u001b[2;31;34me\u001b[0;0m\u001b[2;31;34ma\u001b[0;0m\u001b[2;31;34me\u001b[0;0m \u001b[2;31;34mO\u001b[0;0ms\u001b[2;31;34mm\u001b[0;0m\u001b[2;31;34mu\u001b[0;0m\u001b[2;31;34mn\u001b[0;0m\u001b[2;31;34md\u001b[0;0m\u001b[2;31;34ma\u001b[0;0m\u001b[2;31;34m \u001b[0;0m\u001b[2;31;34ms\u001b[0;0mpectabilis Willd. \u001b[2;31;34mO\u001b[0;0m\u001b[2;31;34ms\u001b[0;0m\u001b[2;31;34mm\u001b[0;0m\u001b[2;31;34mu\u001b[0;0m\u001b[2;31;34mn\u001b[0;0m\u001b[2;31;34md\u001b[0;0m\u001b[2;31;34m \u001b[0;0m\u001b[2;31;34ms\u001b[0;0m\u001b[2;31;34mp\u001b[0;0m\u001b[2;31;34me\u001b[0;0mc\u001b[2;31;34mt\u001b[0;0ma\u001b[2;31;34mb\u001b[0;0m\u001b[2;31;34mi\u001b[0;0mli\u001b[2;31;34ms\u001b[0;0m\u001b[2;31;34m:\u001b[0;0m\u001b[2;31;34mW\u001b[0;0m\u001b[2;31;34mi\u001b[0;0m\u001b[2;31;34ml\u001b[0;0m\u001b[2;31;34ml\u001b[0;0m\u001b[2;31;34md\u001b[0;0m\u001b[2;31;34m.\u001b[0;0m\u001b[2;31;34m \u001b[0;0m\u001b[2;31;34mo\u001b[0;0m\u001b[2;31;34mf\u001b[0;0m \u001b[2;31;34mc\u001b[0;0m\u001b[2;31;34mo\u001b[0;0m\u001b[2;31;34mn\u001b[0;0m\u001b[2;31;34mf\u001b[0;0m\u001b[2;31;34ml\u001b[0;0m\u001b[2;31;34mu\u001b[0;0m\u001b[2;31;34me\u001b[0;0m\u001b[2;31;34mn\u001b[0;0m\u001b[2;31;34mc\u001b[0;0m\u001b[2;31;34me\u001b[0;0m\u001b[2;31;34m \u001b[0;0mAlong Fish Trap Branch, in \u001b[2;31;34mw\u001b[0;0m\u001b[2;31;34mr\u001b[0;0m\u001b[2;31;34ma\u001b[0;0m\u001b[2;31;34mp\u001b[0;0m\u001b[2;31;34m \u001b[0;0m\u001b[2;31;34mR\u001b[0;0m\u001b[2;31;34me\u001b[0;0m\u001b[2;31;34mn\u001b[0;0m\u001b[2;31;34m \u001b[0;0m\u001b[2;31;34mh\u001b[0;0m\u001b[2;31;34m,\u001b[0;0m\u001b[2;31;34mv\u001b[0;0m\u001b[2;31;34mi\u001b[0;0m\u001b[2;31;34mr\u001b[0;0m\u001b[2;31;34m \u001b[0;0mbog/seep area Ca\u001b[2;31;34m⋄\u001b[0;0m\u001b[2;31;34m⋄\u001b[0;0m1\u001b[2;31;34m,\u001b[0;0m\u001b[2;31;34m⋄\u001b[0;0mkm S of confluence with Red River Coordinates: 37.825204,\u001b[2;31;34m⋄\u001b[0;0m-83.6\u001b[2;31;34m⋄\u001b[0;0m3\u001b[2;31;34m⋄\u001b[0;0m38 Project: Vascular Flora of the Red River \u001b[2;31;34mM\u001b[0;0m\u001b[2;31;34me\u001b[0;0m\u001b[2;31;34mn\u001b[0;0m\u001b[2;31;34mi\u001b[0;0m\u001b[2;31;34mf\u001b[0;0m\u001b[2;31;34me\u001b[0;0m\u001b[2;31;34me\u001b[0;0m\u001b[2;31;34m \u001b[0;0m\u001b[2;31;34ma\u001b[0;0m\u001b[2;31;34mn\u001b[0;0m\u001b[2;31;34md\u001b[0;0m\u001b[2;31;34m \u001b[0;0m\u001b[2;31;34mW\u001b[0;0m\u001b[2;31;34mo\u001b[0;0m\u001b[2;31;34ml\u001b[0;0m\u001b[2;31;34mf\u001b[0;0m\u001b[2;31;34me\u001b[0;0m\u001b[2;31;34m \u001b[0;0m\u001b[2;31;34mC\u001b[0;0m\u001b[2;31;34mo\u001b[0;0m\u001b[2;31;34mu\u001b[0;0m\u001b[2;31;34mn\u001b[0;0m\u001b[2;31;34mt\u001b[0;0m\u001b[2;31;34mi\u001b[0;0m\u001b[2;31;34me\u001b[0;0m\u001b[2;31;34ms\u001b[0;0m\u001b[2;31;34m \u001b[0;0m\u001b[2;31;34mC\u001b[0;0m\u001b[2;31;34mo\u001b[0;0m\u001b[2;31;34mo\u001b[0;0m\u001b[2;31;34mr\u001b[0;0m\u001b[2;31;34md\u001b[0;0m\u001b[2;31;34mi\u001b[0;0m\u001b[2;31;34mn\u001b[0;0m\u001b[2;31;34ma\u001b[0;0m\u001b[2;31;34mt\u001b[0;0m\u001b[2;31;34me\u001b[0;0m\u001b[2;31;34ms\u001b[0;0m\u001b[2;31;34m:\u001b[0;0m\u001b[2;31;34m \u001b[0;0m\u001b[2;31;34m3\u001b[0;0m\u001b[2;31;34m7\u001b[0;0m\u001b[2;31;34m.\u001b[0;0m\u001b[2;31;34m8\u001b[0;0m\u001b[2;31;34m2\u001b[0;0m\u001b[2;31;34m5\u001b[0;0m\u001b[2;31;34m2\u001b[0;0m\u001b[2;31;34m0\u001b[0;0m\u001b[2;31;34m4\u001b[0;0m\u001b[2;31;34m,\u001b[0;0m\u001b[2;31;34m-\u001b[0;0m\u001b[2;31;34m8\u001b[0;0m\u001b[2;31;34m3\u001b[0;0m\u001b[2;31;34m.\u001b[0;0m\u001b[2;31;34m6\u001b[0;0m\u001b[2;31;34m7\u001b[0;0m\u001b[2;31;34m3\u001b[0;0m\u001b[2;31;34m7\u001b[0;0m\u001b[2;31;34m3\u001b[0;0m\u001b[2;31;34m8\u001b[0;0m\u001b[2;31;34m \u001b[0;0m\u001b[2;31;34mV\u001b[0;0m\u001b[2;31;34ma\u001b[0;0m\u001b[2;31;34ms\u001b[0;0m\u001b[2;31;34mc\u001b[0;0m\u001b[2;31;34mu\u001b[0;0m\u001b[2;31;34ml\u001b[0;0m\u001b[2;31;34ma\u001b[0;0m\u001b[2;31;34mr\u001b[0;0m\u001b[2;31;34m \u001b[0;0m\u001b[2;31;34mF\u001b[0;0m\u001b[2;31;34ml\u001b[0;0m\u001b[2;31;34mo\u001b[0;0m\u001b[2;31;34mr\u001b[0;0m\u001b[2;31;34ma\u001b[0;0m\u001b[2;31;34m \u001b[0;0m\u001b[2;31;34mo\u001b[0;0m\u001b[2;31;34mf\u001b[0;0m\u001b[2;31;34m \u001b[0;0m\u001b[2;31;34mt\u001b[0;0m\u001b[2;31;34mh\u001b[0;0m\u001b[2;31;34me\u001b[0;0m\u001b[2;31;34m \u001b[0;0m\u001b[2;31;34mR\u001b[0;0m\u001b[2;31;34me\u001b[0;0m\u001b[2;31;34md\u001b[0;0m\u001b[2;31;34m \u001b[0;0m\u001b[2;31;34mR\u001b[0;0m\u001b[2;31;34mi\u001b[0;0m\u001b[2;31;34mv\u001b[0;0m\u001b[2;31;34me\u001b[0;0m\u001b[2;31;34mr\u001b[0;0m\u001b[2;31;34m \u001b[0;0mGorge in Powell, \u001b[2;31;34mC\u001b[0;0menife\u001b[2;31;34mc\u001b[0;0m\u001b[2;31;34mt\u001b[0;0mand Wolfe\u001b[2;31;34m:\u001b[0;0mCounties KY. MS Thesis. \u001b[2;31;34mT\u001b[0;0m\u001b[2;31;34mh\u001b[0;0m\u001b[2;31;34mo\u001b[0;0m\u001b[2;31;34mm\u001b[0;0m\u001b[2;31;34ma\u001b[0;0m\u001b[2;31;34ms\u001b[0;0m\u001b[2;31;34m \u001b[0;0m\u001b[2;31;34mM\u001b[0;0m\u001b[2;31;34mc\u001b[0;0m\u001b[2;31;34mF\u001b[0;0m\u001b[2;31;34ma\u001b[0;0m\u001b[2;31;34md\u001b[0;0m\u001b[2;31;34md\u001b[0;0m\u001b[2;31;34me\u001b[0;0m\u001b[2;31;34mn\u001b[0;0m\u001b[2;31;34m \u001b[0;0mCollector: Thom\u001b[2;31;34m:\u001b[0;0ms M\u001b[2;31;34m⋄\u001b[0;0mFa\u001b[2;31;34m6\u001b[0;0md\u001b[2;31;34m7\u001b[0;0mn Collection \u001b[2;31;34mD\u001b[0;0m\u001b[2;31;34ma\u001b[0;0m\u001b[2;31;34mt\u001b[0;0m\u001b[2;31;34me\u001b[0;0m: \u001b[2;31;34mJ\u001b[0;0m\u001b[2;31;34mu\u001b[0;0m\u001b[2;31;34ml\u001b[0;0m\u001b[2;31;34my\u001b[0;0m Collection Date: July\u001b[2;31;34m⋄\u001b[0;0m28,\u001b[2;31;34m⋄\u001b[0;0m2017\n",
      "\n",
      "score['score']=135\tscore['norm']=53\tscore['gold_id']=259\tscore['score_id']=117126\tscore['label_id']=224641\n",
      "HERBARIUM OF RICHMOND PROFESSIONAL\u001b[2;31;34m⋄\u001b[0;0m\u001b[2;31;34m⋄\u001b[0;0m\u001b[2;31;34m⋄\u001b[0;0m\u001b[2;31;34m⋄\u001b[0;0m\u001b[2;31;34m⋄\u001b[0;0m \u001b[2;31;34m⋄\u001b[0;0m\u001b[2;31;34m⋄\u001b[0;0m\u001b[2;31;34m⋄\u001b[0;0m\u001b[2;31;34m⋄\u001b[0;0m\u001b[2;31;34m⋄\u001b[0;0m\u001b[2;31;34m⋄\u001b[0;0mI\u001b[2;31;34m⋄\u001b[0;0m\u001b[2;31;34m⋄\u001b[0;0m\u001b[2;31;34m⋄\u001b[0;0m\u001b[2;31;34m⋄\u001b[0;0m\u001b[2;31;34m⋄\u001b[0;0m\u001b[2;31;34m⋄\u001b[0;0m\u001b[2;31;34m⋄\u001b[0;0m\u001b[2;31;34m⋄\u001b[0;0m\u001b[2;31;34m⋄\u001b[0;0m\u001b[2;31;34m⋄\u001b[0;0m\u001b[2;31;34m⋄\u001b[0;0m\u001b[2;31;34m⋄\u001b[0;0mN\u001b[2;31;34m⋄\u001b[0;0m\u001b[2;31;34m⋄\u001b[0;0m\u001b[2;31;34m⋄\u001b[0;0m\u001b[2;31;34m⋄\u001b[0;0m\u001b[2;31;34m⋄\u001b[0;0m\u001b[2;31;34m⋄\u001b[0;0m\u001b[2;31;34m⋄\u001b[0;0mS\u001b[2;31;34m⋄\u001b[0;0m\u001b[2;31;34m⋄\u001b[0;0m\u001b[2;31;34m⋄\u001b[0;0m\u001b[2;31;34m⋄\u001b[0;0m\u001b[2;31;34m⋄\u001b[0;0m\u001b[2;31;34m⋄\u001b[0;0m\u001b[2;31;34m⋄\u001b[0;0m\u001b[2;31;34m⋄\u001b[0;0m\u001b[2;31;34m⋄\u001b[0;0m\u001b[2;31;34m⋄\u001b[0;0mTITUTE Virginia:\u001b[2;31;34m⋄\u001b[0;0m\u001b[2;31;34m⋄\u001b[0;0m\u001b[2;31;34m⋄\u001b[0;0m \u001b[2;31;34m⋄\u001b[0;0m\u001b[2;31;34m⋄\u001b[0;0m\u001b[2;31;34m⋄\u001b[0;0m\u001b[2;31;34m⋄\u001b[0;0m\u001b[2;31;34m⋄\u001b[0;0m\u001b[2;31;34m⋄\u001b[0;0m\u001b[2;31;34m⋄\u001b[0;0m\u001b[2;31;34m⋄\u001b[0;0m\u001b[2;31;34m⋄\u001b[0;0m\u001b[2;31;34m⋄\u001b[0;0m\u001b[2;31;34m⋄\u001b[0;0m\u001b[2;31;34m⋄\u001b[0;0m\u001b[2;31;34m⋄\u001b[0;0m\u001b[2;31;34m⋄\u001b[0;0m\u001b[2;31;34m⋄\u001b[0;0m\u001b[2;31;34m⋄\u001b[0;0m\u001b[2;31;34m⋄\u001b[0;0m\u001b[2;31;34m⋄\u001b[0;0mNew Kent County #2203 Chrysogonum virginianum L\u001b[2;31;34m.\u001b[0;0m Common \u001b[2;31;34mo\u001b[0;0mn west exposure in \u001b[2;31;34ms\u001b[0;0m\u001b[2;31;34ma\u001b[0;0m\u001b[2;31;34mn\u001b[0;0m\u001b[2;31;34md\u001b[0;0m\u001b[2;31;34my\u001b[0;0m\u001b[2;31;34m \u001b[0;0mloam \u001b[2;31;34mi\u001b[0;0m\u001b[2;31;34m⋄\u001b[0;0m\u001b[2;31;34m⋄\u001b[0;0mn O\u001b[2;31;34ma\u001b[0;0m\u001b[2;31;34mk\u001b[0;0m\u001b[2;31;34m,\u001b[0;0m \u001b[2;31;34mH\u001b[0;0m\u001b[2;31;34m⋄\u001b[0;0m\u001b[2;31;34mi\u001b[0;0m\u001b[2;31;34mc\u001b[0;0m\u001b[2;31;34mk\u001b[0;0m\u001b[2;31;34mo\u001b[0;0mr\u001b[2;31;34my\u001b[0;0m,\u001b[2;31;34m⋄\u001b[0;0m\u001b[2;31;34m⋄\u001b[0;0m \u001b[2;31;34mT\u001b[0;0m\u001b[2;31;34m⋄\u001b[0;0m\u001b[2;31;34mu\u001b[0;0m\u001b[2;31;34ml\u001b[0;0m\u001b[2;31;34m⋄\u001b[0;0m\u001b[2;31;34m⋄\u001b[0;0m\u001b[2;31;34mi\u001b[0;0m\u001b[2;31;34mp\u001b[0;0m\u001b[2;31;34m⋄\u001b[0;0m\u001b[2;31;34m⋄\u001b[0;0m T\u001b[2;31;34m⋄\u001b[0;0m\u001b[2;31;34m⋄\u001b[0;0mree woods \u001b[2;31;34m½\u001b[0;0m\u001b[2;31;34m⋄\u001b[0;0m\u001b[2;31;34m⋄\u001b[0;0m \u001b[2;31;34m⋄\u001b[0;0m\u001b[2;31;34m⋄\u001b[0;0m\u001b[2;31;34mm\u001b[0;0m\u001b[2;31;34m⋄\u001b[0;0m\u001b[2;31;34m⋄\u001b[0;0m\u001b[2;31;34m⋄\u001b[0;0m\u001b[2;31;34m⋄\u001b[0;0mi\u001b[2;31;34m⋄\u001b[0;0m\u001b[2;31;34m⋄\u001b[0;0m\u001b[2;31;34m⋄\u001b[0;0m\u001b[2;31;34m⋄\u001b[0;0m\u001b[2;31;34m⋄\u001b[0;0m\u001b[2;31;34m⋄\u001b[0;0m\u001b[2;31;34m⋄\u001b[0;0m\u001b[2;31;34m⋄\u001b[0;0m\u001b[2;31;34m⋄\u001b[0;0m\u001b[2;31;34m⋄\u001b[0;0m \u001b[2;31;34m⋄\u001b[0;0m\u001b[2;31;34m⋄\u001b[0;0me\u001b[2;31;34m⋄\u001b[0;0m\u001b[2;31;34m⋄\u001b[0;0m \u001b[2;31;34m⋄\u001b[0;0m\u001b[2;31;34m⋄\u001b[0;0m\u001b[2;31;34m⋄\u001b[0;0m\u001b[2;31;34m⋄\u001b[0;0m\u001b[2;31;34m⋄\u001b[0;0mof Route 606 crossing Black Creek. April 29, 1969 Coll\u001b[2;31;34m.\u001b[0;0m:\u001b[2;31;34m \u001b[0;0mM. F\u001b[2;31;34m⋄\u001b[0;0m\u001b[2;31;34m⋄\u001b[0;0m. \u001b[2;31;34m⋄\u001b[0;0m\u001b[2;31;34m⋄\u001b[0;0m\u001b[2;31;34m⋄\u001b[0;0m\u001b[2;31;34m⋄\u001b[0;0m\u001b[2;31;34m⋄\u001b[0;0m\u001b[2;31;34m⋄\u001b[0;0m\u001b[2;31;34m⋄\u001b[0;0mJohnson\n",
      "HERBARIUM OF RICHMOND PROFESSIONAL\u001b[2;31;34mI\u001b[0;0m\u001b[2;31;34mS\u001b[0;0m\u001b[2;31;34mI\u001b[0;0m\u001b[2;31;34mU\u001b[0;0m\u001b[2;31;34mE\u001b[0;0m \u001b[2;31;34mH\u001b[0;0m\u001b[2;31;34mE\u001b[0;0m\u001b[2;31;34mR\u001b[0;0m\u001b[2;31;34mB\u001b[0;0m\u001b[2;31;34mA\u001b[0;0m\u001b[2;31;34mR\u001b[0;0mI\u001b[2;31;34mU\u001b[0;0m\u001b[2;31;34mM\u001b[0;0m\u001b[2;31;34m \u001b[0;0m\u001b[2;31;34mO\u001b[0;0m\u001b[2;31;34mF\u001b[0;0m\u001b[2;31;34m \u001b[0;0m\u001b[2;31;34mR\u001b[0;0m\u001b[2;31;34mI\u001b[0;0m\u001b[2;31;34mC\u001b[0;0m\u001b[2;31;34mH\u001b[0;0m\u001b[2;31;34mM\u001b[0;0m\u001b[2;31;34mO\u001b[0;0mN\u001b[2;31;34mD\u001b[0;0m\u001b[2;31;34m \u001b[0;0m\u001b[2;31;34mP\u001b[0;0m\u001b[2;31;34mR\u001b[0;0m\u001b[2;31;34mO\u001b[0;0m\u001b[2;31;34mF\u001b[0;0m\u001b[2;31;34mE\u001b[0;0mS\u001b[2;31;34mS\u001b[0;0m\u001b[2;31;34mI\u001b[0;0m\u001b[2;31;34mO\u001b[0;0m\u001b[2;31;34mN\u001b[0;0m\u001b[2;31;34mA\u001b[0;0m\u001b[2;31;34mL\u001b[0;0m\u001b[2;31;34m \u001b[0;0m\u001b[2;31;34mI\u001b[0;0m\u001b[2;31;34mN\u001b[0;0m\u001b[2;31;34mS\u001b[0;0mTITUTE Virginia:\u001b[2;31;34mN\u001b[0;0m\u001b[2;31;34me\u001b[0;0m\u001b[2;31;34mw\u001b[0;0m \u001b[2;31;34mK\u001b[0;0m\u001b[2;31;34me\u001b[0;0m\u001b[2;31;34mn\u001b[0;0m\u001b[2;31;34mt\u001b[0;0m\u001b[2;31;34m \u001b[0;0m\u001b[2;31;34mC\u001b[0;0m\u001b[2;31;34mo\u001b[0;0m\u001b[2;31;34mu\u001b[0;0m\u001b[2;31;34mn\u001b[0;0m\u001b[2;31;34mt\u001b[0;0m\u001b[2;31;34my\u001b[0;0m\u001b[2;31;34m \u001b[0;0m\u001b[2;31;34mV\u001b[0;0m\u001b[2;31;34mi\u001b[0;0m\u001b[2;31;34mc\u001b[0;0m\u001b[2;31;34mi\u001b[0;0m\u001b[2;31;34ma\u001b[0;0m\u001b[2;31;34m:\u001b[0;0mNew Kent County #2203 Chrysogonum virginianum L\u001b[2;31;34me\u001b[0;0m Common \u001b[2;31;34m0\u001b[0;0mn west exposure in \u001b[2;31;34m⋄\u001b[0;0m\u001b[2;31;34m⋄\u001b[0;0m\u001b[2;31;34m⋄\u001b[0;0m\u001b[2;31;34m⋄\u001b[0;0m\u001b[2;31;34m⋄\u001b[0;0m\u001b[2;31;34m⋄\u001b[0;0mloam \u001b[2;31;34mC\u001b[0;0m\u001b[2;31;34mo\u001b[0;0m\u001b[2;31;34mo\u001b[0;0mn O\u001b[2;31;34me\u001b[0;0m\u001b[2;31;34ms\u001b[0;0m\u001b[2;31;34mt\u001b[0;0m \u001b[2;31;34me\u001b[0;0m\u001b[2;31;34mx\u001b[0;0m\u001b[2;31;34mp\u001b[0;0m\u001b[2;31;34mo\u001b[0;0m\u001b[2;31;34ms\u001b[0;0m\u001b[2;31;34mu\u001b[0;0mr\u001b[2;31;34me\u001b[0;0m,\u001b[2;31;34mi\u001b[0;0m\u001b[2;31;34mn\u001b[0;0m \u001b[2;31;34ms\u001b[0;0m\u001b[2;31;34ma\u001b[0;0m\u001b[2;31;34mn\u001b[0;0m\u001b[2;31;34md\u001b[0;0m\u001b[2;31;34my\u001b[0;0m\u001b[2;31;34m \u001b[0;0m\u001b[2;31;34ml\u001b[0;0m\u001b[2;31;34mo\u001b[0;0m\u001b[2;31;34ma\u001b[0;0m\u001b[2;31;34mm\u001b[0;0m T\u001b[2;31;34mi\u001b[0;0m\u001b[2;31;34mT\u001b[0;0mree woods \u001b[2;31;34mm\u001b[0;0m\u001b[2;31;34mi\u001b[0;0m\u001b[2;31;34mo\u001b[0;0m \u001b[2;31;34mR\u001b[0;0m\u001b[2;31;34mo\u001b[0;0m\u001b[2;31;34mu\u001b[0;0m\u001b[2;31;34m,\u001b[0;0m\u001b[2;31;34me\u001b[0;0m\u001b[2;31;34m \u001b[0;0m\u001b[2;31;34m6\u001b[0;0mi\u001b[2;31;34m6\u001b[0;0m\u001b[2;31;34mc\u001b[0;0m\u001b[2;31;34mo\u001b[0;0m\u001b[2;31;34mr\u001b[0;0m\u001b[2;31;34m,\u001b[0;0m\u001b[2;31;34mB\u001b[0;0m\u001b[2;31;34ml\u001b[0;0m\u001b[2;31;34ma\u001b[0;0m\u001b[2;31;34mc\u001b[0;0m\u001b[2;31;34mk\u001b[0;0m \u001b[2;31;34mC\u001b[0;0m\u001b[2;31;34mr\u001b[0;0me\u001b[2;31;34me\u001b[0;0m\u001b[2;31;34mk\u001b[0;0m \u001b[2;31;34m2\u001b[0;0m\u001b[2;31;34m \u001b[0;0m\u001b[2;31;34mm\u001b[0;0m\u001b[2;31;34mi\u001b[0;0m\u001b[2;31;34m \u001b[0;0mof Route 606 crossing Black Creek. April 29, 1969 Coll\u001b[2;31;34ml\u001b[0;0m:\u001b[2;31;34m2\u001b[0;0mM. F\u001b[2;31;34m9\u001b[0;0m\u001b[2;31;34m9\u001b[0;0m. \u001b[2;31;34mC\u001b[0;0m\u001b[2;31;34ml\u001b[0;0m\u001b[2;31;34ml\u001b[0;0m\u001b[2;31;34m:\u001b[0;0m\u001b[2;31;34mM\u001b[0;0m\u001b[2;31;34m\\\u001b[0;0m\u001b[2;31;34m.\u001b[0;0mJohnson\n",
      "\n",
      "score['score']=136\tscore['norm']=46\tscore['gold_id']=182\tscore['score_id']=110196\tscore['label_id']=205742\n",
      "HERBARIUM\u001b[2;31;34m \u001b[0;0m\u001b[2;31;34mO\u001b[0;0m\u001b[2;31;34mF\u001b[0;0m\u001b[2;31;34m \u001b[0;0m\u001b[2;31;34mC\u001b[0;0m\u001b[2;31;34mL\u001b[0;0m\u001b[2;31;34mE\u001b[0;0m\u001b[2;31;34mM\u001b[0;0m\u001b[2;31;34mS\u001b[0;0m\u001b[2;31;34mO\u001b[0;0m\u001b[2;31;34mN\u001b[0;0m\u001b[2;31;34m \u001b[0;0m\u001b[2;31;34mU\u001b[0;0m\u001b[2;31;34mN\u001b[0;0m\u001b[2;31;34mI\u001b[0;0m\u001b[2;31;34mV\u001b[0;0m\u001b[2;31;34mE\u001b[0;0m\u001b[2;31;34mR\u001b[0;0m\u001b[2;31;34mS\u001b[0;0m\u001b[2;31;34mI\u001b[0;0m\u001b[2;31;34mT\u001b[0;0m\u001b[2;31;34mY\u001b[0;0m\u001b[2;31;34m \u001b[0;0mDEPARTMENT OF BOTANY AND BACTERIOLOGY \u001b[2;31;34m⋄\u001b[0;0m\u001b[2;31;34m⋄\u001b[0;0mC\u001b[2;31;34m⋄\u001b[0;0m\u001b[2;31;34m⋄\u001b[0;0m\u001b[2;31;34m⋄\u001b[0;0m\u001b[2;31;34m⋄\u001b[0;0m\u001b[2;31;34m⋄\u001b[0;0mLEMSON\u001b[2;31;34m⋄\u001b[0;0m\u001b[2;31;34m⋄\u001b[0;0m\u001b[2;31;34m⋄\u001b[0;0m\u001b[2;31;34m⋄\u001b[0;0m\u001b[2;31;34m⋄\u001b[0;0m\u001b[2;31;34m⋄\u001b[0;0m\u001b[2;31;34m⋄\u001b[0;0m\u001b[2;31;34m⋄\u001b[0;0m\u001b[2;31;34m⋄\u001b[0;0m\u001b[2;31;34m⋄\u001b[0;0m\u001b[2;31;34m⋄\u001b[0;0m\u001b[2;31;34m⋄\u001b[0;0m\u001b[2;31;34m⋄\u001b[0;0m\u001b[2;31;34m⋄\u001b[0;0m\u001b[2;31;34m⋄\u001b[0;0m\u001b[2;31;34m⋄\u001b[0;0m\u001b[2;31;34m⋄\u001b[0;0m\u001b[2;31;34m⋄\u001b[0;0m\u001b[2;31;34m⋄\u001b[0;0m, SOUTH CAROLINA 29631 \u001b[2;31;34m⋄\u001b[0;0m\u001b[2;31;34m⋄\u001b[0;0m\u001b[2;31;34m⋄\u001b[0;0m\u001b[2;31;34m⋄\u001b[0;0m\u001b[2;31;34m⋄\u001b[0;0m\u001b[2;31;34m⋄\u001b[0;0m\u001b[2;31;34m⋄\u001b[0;0m\u001b[2;31;34m⋄\u001b[0;0m\u001b[2;31;34m⋄\u001b[0;0m\u001b[2;31;34m⋄\u001b[0;0m\u001b[2;31;34m⋄\u001b[0;0m\u001b[2;31;34m⋄\u001b[0;0m\u001b[2;31;34m⋄\u001b[0;0m\u001b[2;31;34m⋄\u001b[0;0m\u001b[2;31;34m⋄\u001b[0;0m\u001b[2;31;34m⋄\u001b[0;0m\u001b[2;31;34m⋄\u001b[0;0m\u001b[2;31;34m⋄\u001b[0;0m\u001b[2;31;34m⋄\u001b[0;0m\u001b[2;31;34m⋄\u001b[0;0m\u001b[2;31;34m⋄\u001b[0;0m\u001b[2;31;34m⋄\u001b[0;0m\u001b[2;31;34m⋄\u001b[0;0m\u001b[2;31;34m⋄\u001b[0;0mScientific Name Solanum carolinense \u001b[2;31;34mL\u001b[0;0m\u001b[2;31;34m.\u001b[0;0m\u001b[2;31;34m \u001b[0;0mCommon Name Horsenettle Locality Fant\u001b[2;31;34m⋄\u001b[0;0m's Groove Co\u001b[2;31;34m.\u001b[0;0m Anderson Habitat\u001b[2;31;34m \u001b[0;0mS\u001b[2;31;34mo\u001b[0;0my\u001b[2;31;34mb\u001b[0;0m\u001b[2;31;34me\u001b[0;0m\u001b[2;31;34m⋄\u001b[0;0m\u001b[2;31;34ma\u001b[0;0m\u001b[2;31;34mn\u001b[0;0m \u001b[2;31;34m⋄\u001b[0;0m\u001b[2;31;34m⋄\u001b[0;0m\u001b[2;31;34mf\u001b[0;0mi\u001b[2;31;34me\u001b[0;0m\u001b[2;31;34ml\u001b[0;0m\u001b[2;31;34md\u001b[0;0m\u001b[2;31;34m⋄\u001b[0;0m \u001b[2;31;34mC\u001b[0;0mo\u001b[2;31;34ml\u001b[0;0m\u001b[2;31;34ml\u001b[0;0me\u001b[2;31;34mc\u001b[0;0m\u001b[2;31;34m⋄\u001b[0;0m\u001b[2;31;34mt\u001b[0;0m\u001b[2;31;34mo\u001b[0;0m\u001b[2;31;34mr\u001b[0;0m W\u001b[2;31;34mi\u001b[0;0ml\u001b[2;31;34ml\u001b[0;0mi\u001b[2;31;34ma\u001b[0;0mm\u001b[2;31;34m \u001b[0;0mA\u001b[2;31;34m.\u001b[0;0m\u001b[2;31;34m \u001b[0;0m\u001b[2;31;34mB\u001b[0;0ma\u001b[2;31;34mr\u001b[0;0m\u001b[2;31;34mn\u001b[0;0me\u001b[2;31;34ms\u001b[0;0m\u001b[2;31;34m \u001b[0;0m\u001b[2;31;34mN\u001b[0;0m\u001b[2;31;34mo\u001b[0;0m\u001b[2;31;34m.\u001b[0;0m\u001b[2;31;34m \u001b[0;0m6\u001b[2;31;34m⋄\u001b[0;0m \u001b[2;31;34mD\u001b[0;0m\u001b[2;31;34ma\u001b[0;0m\u001b[2;31;34mt\u001b[0;0m\u001b[2;31;34m⋄\u001b[0;0me\u001b[2;31;34m \u001b[0;0m\u001b[2;31;34m1\u001b[0;0m\u001b[2;31;34m0\u001b[0;0m\u001b[2;31;34m/\u001b[0;0m\u001b[2;31;34m2\u001b[0;0m\u001b[2;31;34m/\u001b[0;0m\u001b[2;31;34m6\u001b[0;0m\u001b[2;31;34m9\u001b[0;0m \u001b[2;31;34mA\u001b[0;0m\u001b[2;31;34mc\u001b[0;0m\u001b[2;31;34m⋄\u001b[0;0m\u001b[2;31;34mc\u001b[0;0m\u001b[2;31;34m.\u001b[0;0m\u001b[2;31;34m⋄\u001b[0;0m\u001b[2;31;34m⋄\u001b[0;0m No. Identified B\u001b[2;31;34my\u001b[0;0m\u001b[2;31;34m \u001b[0;0mW\u001b[2;31;34mA\u001b[0;0mB\n",
      "HERBARIUM\u001b[2;31;34m⋄\u001b[0;0m\u001b[2;31;34m⋄\u001b[0;0m\u001b[2;31;34m⋄\u001b[0;0m\u001b[2;31;34m⋄\u001b[0;0m\u001b[2;31;34m⋄\u001b[0;0m\u001b[2;31;34m⋄\u001b[0;0m\u001b[2;31;34m⋄\u001b[0;0m\u001b[2;31;34m⋄\u001b[0;0m\u001b[2;31;34m⋄\u001b[0;0m\u001b[2;31;34m⋄\u001b[0;0m\u001b[2;31;34m⋄\u001b[0;0m\u001b[2;31;34m⋄\u001b[0;0m\u001b[2;31;34m⋄\u001b[0;0m\u001b[2;31;34m⋄\u001b[0;0m\u001b[2;31;34m⋄\u001b[0;0m\u001b[2;31;34m⋄\u001b[0;0m\u001b[2;31;34m⋄\u001b[0;0m\u001b[2;31;34m⋄\u001b[0;0m\u001b[2;31;34m⋄\u001b[0;0m\u001b[2;31;34m⋄\u001b[0;0m\u001b[2;31;34m⋄\u001b[0;0m\u001b[2;31;34m⋄\u001b[0;0m\u001b[2;31;34m⋄\u001b[0;0mDEPARTMENT OF BOTANY AND BACTERIOLOGY \u001b[2;31;34mR\u001b[0;0m\u001b[2;31;34mA\u001b[0;0mC\u001b[2;31;34mI\u001b[0;0m\u001b[2;31;34mM\u001b[0;0m\u001b[2;31;34mO\u001b[0;0m\u001b[2;31;34m \u001b[0;0m\u001b[2;31;34mC\u001b[0;0mLEMSON\u001b[2;31;34m \u001b[0;0m\u001b[2;31;34mU\u001b[0;0m\u001b[2;31;34mN\u001b[0;0m\u001b[2;31;34mI\u001b[0;0m\u001b[2;31;34mV\u001b[0;0m\u001b[2;31;34mE\u001b[0;0m\u001b[2;31;34mR\u001b[0;0m\u001b[2;31;34mS\u001b[0;0m\u001b[2;31;34mI\u001b[0;0m\u001b[2;31;34mT\u001b[0;0m\u001b[2;31;34mY\u001b[0;0m\u001b[2;31;34m \u001b[0;0m\u001b[2;31;34mC\u001b[0;0m\u001b[2;31;34mL\u001b[0;0m\u001b[2;31;34mE\u001b[0;0m\u001b[2;31;34mM\u001b[0;0m\u001b[2;31;34mS\u001b[0;0m\u001b[2;31;34mO\u001b[0;0m\u001b[2;31;34mN\u001b[0;0m, SOUTH CAROLINA 29631 \u001b[2;31;34mB\u001b[0;0m\u001b[2;31;34mO\u001b[0;0m\u001b[2;31;34mT\u001b[0;0m\u001b[2;31;34mA\u001b[0;0m\u001b[2;31;34mN\u001b[0;0m\u001b[2;31;34mY\u001b[0;0m\u001b[2;31;34m \u001b[0;0m\u001b[2;31;34mA\u001b[0;0m\u001b[2;31;34mN\u001b[0;0m\u001b[2;31;34mD\u001b[0;0m\u001b[2;31;34m \u001b[0;0m\u001b[2;31;34mB\u001b[0;0m\u001b[2;31;34mA\u001b[0;0m\u001b[2;31;34mC\u001b[0;0m\u001b[2;31;34mT\u001b[0;0m\u001b[2;31;34mE\u001b[0;0m\u001b[2;31;34mR\u001b[0;0m\u001b[2;31;34mI\u001b[0;0m\u001b[2;31;34mO\u001b[0;0m\u001b[2;31;34mL\u001b[0;0m\u001b[2;31;34mO\u001b[0;0m\u001b[2;31;34mG\u001b[0;0m\u001b[2;31;34mY\u001b[0;0m\u001b[2;31;34m \u001b[0;0mScientific Name Solanum carolinense \u001b[2;31;34m⋄\u001b[0;0m\u001b[2;31;34m⋄\u001b[0;0m\u001b[2;31;34m⋄\u001b[0;0mCommon Name Horsenettle Locality Fant\u001b[2;31;34m \u001b[0;0m's Groove Co\u001b[2;31;34m:\u001b[0;0m Anderson Habitat\u001b[2;31;34m⋄\u001b[0;0mS\u001b[2;31;34m⋄\u001b[0;0my\u001b[2;31;34me\u001b[0;0m\u001b[2;31;34mn\u001b[0;0m\u001b[2;31;34mf\u001b[0;0m\u001b[2;31;34me\u001b[0;0m\u001b[2;31;34md\u001b[0;0m \u001b[2;31;34mH\u001b[0;0m\u001b[2;31;34ma\u001b[0;0m\u001b[2;31;34mb\u001b[0;0mi\u001b[2;31;34m⋄\u001b[0;0m\u001b[2;31;34mt\u001b[0;0m\u001b[2;31;34ma\u001b[0;0m\u001b[2;31;34mt\u001b[0;0m \u001b[2;31;34mS\u001b[0;0mo\u001b[2;31;34my\u001b[0;0m\u001b[2;31;34mb\u001b[0;0me\u001b[2;31;34ma\u001b[0;0m\u001b[2;31;34mn\u001b[0;0m\u001b[2;31;34mf\u001b[0;0m\u001b[2;31;34me\u001b[0;0m\u001b[2;31;34md\u001b[0;0m W\u001b[2;31;34m⋄\u001b[0;0ml\u001b[2;31;34m⋄\u001b[0;0mi\u001b[2;31;34m⋄\u001b[0;0mm\u001b[2;31;34m⋄\u001b[0;0mA\u001b[2;31;34m⋄\u001b[0;0m\u001b[2;31;34m⋄\u001b[0;0m\u001b[2;31;34mD\u001b[0;0ma\u001b[2;31;34mt\u001b[0;0m\u001b[2;31;34m⋄\u001b[0;0me\u001b[2;31;34m2\u001b[0;0m\u001b[2;31;34m1\u001b[0;0m\u001b[2;31;34m0\u001b[0;0m\u001b[2;31;34m/\u001b[0;0m\u001b[2;31;34m2\u001b[0;0m\u001b[2;31;34m/\u001b[0;0m6\u001b[2;31;34m9\u001b[0;0m \u001b[2;31;34mC\u001b[0;0m\u001b[2;31;34mo\u001b[0;0m\u001b[2;31;34ml\u001b[0;0m\u001b[2;31;34ml\u001b[0;0me\u001b[2;31;34mc\u001b[0;0m\u001b[2;31;34mt\u001b[0;0m\u001b[2;31;34mo\u001b[0;0m\u001b[2;31;34mr\u001b[0;0m\u001b[2;31;34m \u001b[0;0m\u001b[2;31;34mN\u001b[0;0m\u001b[2;31;34mo\u001b[0;0m\u001b[2;31;34me\u001b[0;0m \u001b[2;31;34mD\u001b[0;0m\u001b[2;31;34ma\u001b[0;0m\u001b[2;31;34mt\u001b[0;0m\u001b[2;31;34me\u001b[0;0m\u001b[2;31;34m \u001b[0;0m\u001b[2;31;34mA\u001b[0;0m\u001b[2;31;34mc\u001b[0;0m No. Identified B\u001b[2;31;34m⋄\u001b[0;0m\u001b[2;31;34m⋄\u001b[0;0mW\u001b[2;31;34m⋄\u001b[0;0mB\n",
      "\n"
     ]
    }
   ],
   "source": [
    "def examine(args, align, pipeline, n=5):\n",
    "    sql = \"\"\"\n",
    "        select *\n",
    "        from ocr_scores\n",
    "        join gold_standard using (gold_id)\n",
    "        where actions = ?\n",
    "        and score_set = ?\n",
    "        and ocr_scores.gold_set = ?\n",
    "    \"\"\"\n",
    "    with db.connect(ARGS.database) as cxn:\n",
    "        scores = db.execute(\n",
    "            cxn, sql, [pipeline, args.score_set, args.gold_set]\n",
    "        )\n",
    "    scores = [dict(s) for s in scores]\n",
    "    for score in scores:\n",
    "        score['norm'] = round(score['score'] / len(score['gold_text']) * 100.0)\n",
    "    scores = sorted(scores, key=lambda s: s['norm'], reverse=True)\n",
    "\n",
    "    for score in scores[:n]:\n",
    "        texts = [score['gold_text'], score['score_text']]\n",
    "        texts = [' '.join(ln.split()) for ln in texts]\n",
    "        aligned = align.align(texts)\n",
    "        colored = [list(a) for a in aligned]\n",
    "        for col in range(len(aligned[0])):\n",
    "            col_chars = [aligned[row][col] for row in range(2)]\n",
    "            if len(set(col_chars)) > 1:\n",
    "                colored[0][col] = f'\\033[2;31;34m{aligned[0][col]}\\033[0;0m'\n",
    "                colored[1][col] = f'\\033[2;31;34m{aligned[1][col]}\\033[0;0m'\n",
    "        colored = [''.join(ln) for ln in colored]\n",
    "        print(\n",
    "            f\"{score['score']=}\\t{score['norm']=}\\t\"\n",
    "            f\"{score['gold_id']=}\\t{score['score_id']=}\\t{score['label_id']=}\"\n",
    "        )\n",
    "        for ln in colored:\n",
    "            print(ln)\n",
    "        print()\n",
    "\n",
    "\n",
    "pipeline = \" \".join(\"\"\"\n",
    "[\"\", \"easyocr\"], [\"\", \"tesseract\"],\n",
    "[\"binarize\", \"easyocr\"], [\"binarize\", \"tesseract\"],\n",
    "[\"post_process\"]\n",
    "\"\"\".split()).strip()\n",
    "pipeline = '[' + pipeline + ']'\n",
    "\n",
    "examine(ARGS, ALIGN, pipeline)"
   ]
  },
  {
   "cell_type": "code",
   "execution_count": null,
   "id": "e2354ee4-52b9-4d4c-886f-84b665f89332",
   "metadata": {},
   "outputs": [],
   "source": []
  }
 ],
 "metadata": {
  "kernelspec": {
   "display_name": "Python 3 (ipykernel)",
   "language": "python",
   "name": "python3"
  },
  "language_info": {
   "codemirror_mode": {
    "name": "ipython",
    "version": 3
   },
   "file_extension": ".py",
   "mimetype": "text/x-python",
   "name": "python",
   "nbconvert_exporter": "python",
   "pygments_lexer": "ipython3",
   "version": "3.10.4"
  }
 },
 "nbformat": 4,
 "nbformat_minor": 5
}
