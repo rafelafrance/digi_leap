{
 "cells": [
  {
   "cell_type": "markdown",
   "id": "f0a618d1-c3ef-4873-aaac-71c5110adf76",
   "metadata": {},
   "source": [
    "# Examine output from the \"_Rise of Machines_\" expedition"
   ]
  },
  {
   "cell_type": "markdown",
   "id": "ad992487-77d6-44f5-b5ab-e6f165f2738b",
   "metadata": {},
   "source": [
    "## Setup"
   ]
  },
  {
   "cell_type": "code",
   "execution_count": 1,
   "id": "6e2756dd-8257-4090-8303-c349763bd1fe",
   "metadata": {},
   "outputs": [],
   "source": [
    "from collections import Counter, defaultdict\n",
    "from types import SimpleNamespace\n",
    "\n",
    "from IPython.display import display\n",
    "from ipywidgets import interact\n",
    "from PIL import ImageDraw\n",
    "\n",
    "from digi_leap.pylib import consts\n",
    "from digi_leap.pylib.db import db\n",
    "from digi_leap.pylib.label_finder.rise_of_machines import build_expedition as build\n",
    "from digi_leap.pylib.label_finder.rise_of_machines import reconcile_expedition as recon"
   ]
  },
  {
   "cell_type": "code",
   "execution_count": 2,
   "id": "8c18ef76-83b4-4c59-a7a7-455dc0340c87",
   "metadata": {},
   "outputs": [],
   "source": [
    "SERNEC = consts.DATA_DIR / \"sernec\"\n",
    "UNRECONCILED = (\n",
    "    SERNEC\n",
    "    / \"rise_of_machines\"\n",
    "    / \"label-babel-3-rise-of-the-machines-classifications.unreconciled.csv\"\n",
    ")\n",
    "\n",
    "ARGS = SimpleNamespace(\n",
    "    database=SERNEC / \"sernec.sqlite\",\n",
    "    label_set=\"tf_efficientnetv2_s_2022-03-04\",\n",
    "    label_conf=0.25,\n",
    "    threshold=0.4,\n",
    "    increase_by=4,\n",
    ")"
   ]
  },
  {
   "cell_type": "markdown",
   "id": "a0520c24-3ec2-41b1-ac33-a50214ac640b",
   "metadata": {},
   "source": [
    "## Process expedition data"
   ]
  },
  {
   "cell_type": "code",
   "execution_count": 3,
   "id": "0709cbd7-4aec-4b89-b08f-a6cc356002cb",
   "metadata": {},
   "outputs": [],
   "source": [
    "classifications = recon.read_classifications(UNRECONCILED)\n",
    "POINTS = recon.classifications_to_points(classifications, ARGS.increase_by)"
   ]
  },
  {
   "cell_type": "code",
   "execution_count": 4,
   "id": "66886ba2-92a5-40cb-a60c-10ced2cdc840",
   "metadata": {},
   "outputs": [],
   "source": [
    "with db.connect(ARGS.database) as cxn:\n",
    "    SHEETS = recon.select_sheet_labels(cxn, ARGS.label_set)"
   ]
  },
  {
   "cell_type": "code",
   "execution_count": 5,
   "id": "9c34b5ec-aaed-436b-a5c5-634744b8297c",
   "metadata": {},
   "outputs": [],
   "source": [
    "WHIFFS = recon.points_to_annotations(SHEETS, POINTS)"
   ]
  },
  {
   "cell_type": "markdown",
   "id": "e3542499-b7c6-429b-92e9-2a4b44bb46c4",
   "metadata": {},
   "source": [
    "## Show per label stats"
   ]
  },
  {
   "cell_type": "code",
   "execution_count": 6,
   "id": "e5280020-007b-4535-a5ff-854ddbd81b8d",
   "metadata": {},
   "outputs": [
    {
     "name": "stdout",
     "output_type": "stream",
     "text": [
      "label_count=12700  correct=6812  incorrect=5697  tied=191  whiff=204  too_many=87\n",
      "  650 label(s) clicked  1 times\n",
      " 1852 label(s) clicked  2 times\n",
      "10111 label(s) clicked  3 times\n",
      "   71 label(s) clicked  4 times\n",
      "    8 label(s) clicked  5 times\n",
      "    5 label(s) clicked  6 times\n",
      "    1 label(s) clicked  9 times\n",
      "    1 label(s) clicked 15 times\n",
      "    1 label(s) clicked 16 times\n"
     ]
    }
   ],
   "source": [
    "def check_label_results(sheets, whiff):\n",
    "    correct, incorrect, tied = 0, 0, 0\n",
    "    per_label = defaultdict(int)\n",
    "    label_count = 0\n",
    "    for labels in sheets.values():\n",
    "        for lb in labels:\n",
    "            if lb[\"annotations\"]:\n",
    "                label_count += 1\n",
    "                per_label[len(lb[\"annotations\"])] += 1\n",
    "                counts = Counter(lb[\"annotations\"])\n",
    "                counts = counts.most_common()\n",
    "                if len(counts) > 1 and counts[0][1] == counts[1][1]:\n",
    "                    tied += 1\n",
    "                elif counts[0][0] == \"correct\":\n",
    "                    correct += 1\n",
    "                else:\n",
    "                    incorrect += 1\n",
    "    per_label = sorted(per_label.items())\n",
    "    too_many = sum(c for n, c in per_label if n > 3)\n",
    "    print(f\"{label_count=}  {correct=}  {incorrect=}  {tied=}  {whiff=}  {too_many=}\")\n",
    "    for times, counts in per_label:\n",
    "        print(f\"{counts:5d} label(s) clicked {times:2d} times\")\n",
    "\n",
    "\n",
    "check_label_results(SHEETS, WHIFFS)"
   ]
  },
  {
   "cell_type": "markdown",
   "id": "77976d1d-8566-405f-9bb1-e081578b636f",
   "metadata": {},
   "source": [
    "## Show per sheet stats"
   ]
  },
  {
   "cell_type": "code",
   "execution_count": 7,
   "id": "4a394281-4674-4f00-b46f-fe5a08d713db",
   "metadata": {},
   "outputs": [
    {
     "name": "stdout",
     "output_type": "stream",
     "text": [
      "Number of sheets: 3000\n",
      "Number of times sheets were clicked\n",
      "   1 sheet(s) clicked  0 times\n",
      "   4 sheet(s) clicked  3 times\n",
      "  14 sheet(s) clicked  4 times\n",
      "  13 sheet(s) clicked  5 times\n",
      " 193 sheet(s) clicked  6 times\n",
      "  49 sheet(s) clicked  7 times\n",
      "  89 sheet(s) clicked  8 times\n",
      " 791 sheet(s) clicked  9 times\n",
      " 100 sheet(s) clicked 10 times\n",
      " 119 sheet(s) clicked 11 times\n",
      " 666 sheet(s) clicked 12 times\n",
      "  79 sheet(s) clicked 13 times\n",
      "  97 sheet(s) clicked 14 times\n",
      " 428 sheet(s) clicked 15 times\n",
      "  49 sheet(s) clicked 16 times\n",
      "  62 sheet(s) clicked 17 times\n",
      " 139 sheet(s) clicked 18 times\n",
      "  11 sheet(s) clicked 19 times\n",
      "  21 sheet(s) clicked 20 times\n",
      "  40 sheet(s) clicked 21 times\n",
      "   3 sheet(s) clicked 22 times\n",
      "   5 sheet(s) clicked 23 times\n",
      "  18 sheet(s) clicked 24 times\n",
      "   1 sheet(s) clicked 25 times\n",
      "   2 sheet(s) clicked 26 times\n",
      "   2 sheet(s) clicked 27 times\n",
      "   1 sheet(s) clicked 29 times\n",
      "   1 sheet(s) clicked 30 times\n",
      "   1 sheet(s) clicked 34 times\n",
      "   1 sheet(s) clicked 68 times\n"
     ]
    }
   ],
   "source": [
    "def check_point_results(points):\n",
    "    per_sheet = defaultdict(int)\n",
    "    for counts in points.values():\n",
    "        total = len(counts[\"correct\"]) + len(counts[\"incorrect\"])\n",
    "        per_sheet[total] += 1\n",
    "    per_sheet = sorted(per_sheet.items())\n",
    "    sheet_accum = sum(c for _, c in per_sheet)\n",
    "    print(f\"Number of sheets: {sheet_accum}\")\n",
    "    print(\"Number of times sheets were clicked\")\n",
    "    for times, counts in per_sheet:\n",
    "        print(f\"{counts:4d} sheet(s) clicked {times:2d} times\")\n",
    "\n",
    "\n",
    "check_point_results(POINTS)"
   ]
  },
  {
   "cell_type": "markdown",
   "id": "4d49e64f-6191-4504-ae98-23422f8e12c8",
   "metadata": {},
   "source": [
    "## Show sheet clicks"
   ]
  },
  {
   "cell_type": "code",
   "execution_count": 14,
   "id": "8536dbcb-7ee1-40ae-a48b-a0f427eb00c8",
   "metadata": {},
   "outputs": [
    {
     "data": {
      "application/vnd.jupyter.widget-view+json": {
       "model_id": "b4527ef862064ec79caa0a099cce282a",
       "version_major": 2,
       "version_minor": 0
      },
      "text/plain": [
       "interactive(children=(IntSlider(value=1499, description='idx', max=2998), Output()), _dom_classes=('widget-int…"
      ]
     },
     "metadata": {},
     "output_type": "display_data"
    },
    {
     "data": {
      "text/plain": [
       "<function __main__.show_clicks(idx)>"
      ]
     },
     "execution_count": 14,
     "metadata": {},
     "output_type": "execute_result"
    }
   ],
   "source": [
    "KEYS = list(POINTS.keys())\n",
    "\n",
    "\n",
    "def show_clicks(idx):\n",
    "    key = KEYS[idx]\n",
    "    print(key)\n",
    "    pad = 48\n",
    "    sheet = SHEETS[key][0]\n",
    "    points = POINTS[key]\n",
    "    path = \"../\" + sheet[\"path\"]\n",
    "    with db.connect(ARGS.database) as cxn:\n",
    "        labels = build.select_labels(cxn, sheet, ARGS.label_set, ARGS.label_conf)\n",
    "        labels = build.filter_labels(labels, threshold=ARGS.threshold)\n",
    "    image = build.create_sheet_image(path, labels)\n",
    "    draw = ImageDraw.Draw(image)\n",
    "    for point in points[\"correct\"]:\n",
    "        x, y = point[\"x\"], point[\"y\"]\n",
    "        draw.ellipse(\n",
    "            (x-pad, y-pad, x+pad, y+pad), fill=\"limegreen\", outline=\"white\", width=8\n",
    "        )\n",
    "    for point in points[\"incorrect\"]:\n",
    "        x, y = point[\"x\"], point[\"y\"]\n",
    "        draw.ellipse(\n",
    "            (x-pad, y-pad, x+pad, y+pad), fill=\"deeppink\", outline=\"white\", width=8\n",
    "        )\n",
    "    for box in points[\"missing\"]:\n",
    "        rec = [box[\"left\"], box[\"top\"], box[\"right\"], box[\"bottom\"]]\n",
    "        draw.rectangle(rec, outline=\"cyan\", width=pad)\n",
    "    image = image.reduce(5)\n",
    "    display(image)\n",
    "\n",
    "\n",
    "interact(show_clicks, idx=(0, len(KEYS) - 2))\n",
    "#       happy: 1380, 1503\n",
    "# many clicks: 213, 351\n",
    "#  good boxes: 529\n",
    "#   bad boxes: 527 2999\n",
    "# boxes overlap clicks: 2538"
   ]
  },
  {
   "cell_type": "markdown",
   "id": "eac7a29d-aa3d-4c9d-a745-bd6f4b99768c",
   "metadata": {},
   "source": [
    "## Find sheets with many clicks"
   ]
  },
  {
   "cell_type": "code",
   "execution_count": null,
   "id": "1552d8dc-9492-4597-8c84-95f35c523557",
   "metadata": {},
   "outputs": [],
   "source": [
    "# [(i, c) for i, p in enumerate(POINTS.items())\n",
    "#  if (c := len(p[1][\"correct\"]) + len(p[1][\"incorrect\"])) > 24]"
   ]
  },
  {
   "cell_type": "code",
   "execution_count": null,
   "id": "24c7b7ba-79ba-4d10-8a3d-db22a6f3fb8f",
   "metadata": {},
   "outputs": [],
   "source": []
  }
 ],
 "metadata": {
  "kernelspec": {
   "display_name": "Python 3 (ipykernel)",
   "language": "python",
   "name": "python3"
  },
  "language_info": {
   "codemirror_mode": {
    "name": "ipython",
    "version": 3
   },
   "file_extension": ".py",
   "mimetype": "text/x-python",
   "name": "python",
   "nbconvert_exporter": "python",
   "pygments_lexer": "ipython3",
   "version": "3.10.4"
  }
 },
 "nbformat": 4,
 "nbformat_minor": 5
}
