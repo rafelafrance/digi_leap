{
 "cells": [
  {
   "cell_type": "markdown",
   "id": "thirty-guitar",
   "metadata": {},
   "source": [
    "# Generation of Label Images"
   ]
  },
  {
   "cell_type": "markdown",
   "id": "great-introduction",
   "metadata": {},
   "source": [
    "## Data sources\n",
    "- iDigBio snapshot. I have a fresh one from a few days ago.\n",
    "    - The problem here is that it's ~60G zipped. I can put it on DropBox but we should shrink this down to it's essential file and use that. It will still be large but hopefully more manageable.\n",
    "- ITIS database: It's an SQLite3 database that is freely available for downloading.\n",
    "https://www.itis.gov/downloads/itisSqlite.zip\n",
    "- Fonts: This one is going to be problematic. We should download a consistent set.\n",
    "    - I've been going for \"distressed\", \"typewritten\", and \"pixel\" fonts. The categories may overlap\n",
    "    - We should be careful about the license for the fonts. I want to go for 100% free fonts or free for non-commercial use. \"Personal use\" may not apply?\n",
    "- Possible use of handwriting samples that can be placed onto an image."
   ]
  },
  {
   "cell_type": "markdown",
   "id": "latin-singer",
   "metadata": {},
   "source": [
    "## Data Augmentation\n",
    "- Use iDigBio data to generate text\n",
    "- Also augment the data with ITIS data\n",
    "- The data should be \"plausible\" for labels\n",
    "- Where can I get handwriting samples?"
   ]
  },
  {
   "cell_type": "markdown",
   "id": "retired-trigger",
   "metadata": {},
   "source": [
    "### Text Augmentation\n",
    "#### Things that can be finished to the text or font\n",
    "- [ ] Underline some text: Use solid, dotted & dashed underlines, also strike-through or lines to the text\n",
    "- [ ] Bold some text\n",
    "- [ ] Use different base fonts and within the label change some fonts and sizes\n",
    "- [ ] Use symbols like: ♀ or ♂ and other ones that may appear on labels\n",
    "- [ ] Augment taxon names with data from ITIS\n",
    "- [ ] Augment location data from gazetteer data\n",
    "- [ ] Generate names dates and numbers\n",
    "- [ ] Replace some words with abbreviations\n",
    "- [ ] Add spaces? Lets see if this will work"
   ]
  },
  {
   "cell_type": "markdown",
   "id": "prerequisite-paradise",
   "metadata": {},
   "source": [
    "### Image Augmentation\n",
    "#### Things that have to be finished to the image\n",
    "- [ ] Rotate image. This should be finished towards the end of augmentation.\n",
    "- [ ] Rotate sections of text within the label\n",
    "- [ ] Move text around the image (imperfect cropping)\n",
    "- [ ] Warp the image\n",
    "- [ ] Add stray marks & smudges\n",
    "- [ ] Add snow especially near the edges of text\n",
    "- [ ] Smear text with a kernel?\n",
    "- [ ] Change background colors: white to off-white and a few with other colors\n",
    "- [ ] Add gradients to the background. Maybe add a shadow?\n",
    "- [ ] Fade the font: black to gray & rarely dark blue with opacity\n",
    "- [ ] Use a gradient to fade text itself (Sobel kernel?)\n",
    "- [ ] Add edges to labels. Do this both before and after rotating the image\n",
    "- [ ] Simulate a bad typewriter by moving some letters up or over\n",
    "- [ ] Add handwriting to the label\n",
    "- [ ] Cross out some letters by covering with Xs or other characters. These are not considered text.\n",
    "- [ ] Overlap some labels a bit. Not so much that they cover text."
   ]
  },
  {
   "cell_type": "code",
   "execution_count": 1,
   "id": "joined-nature",
   "metadata": {},
   "outputs": [],
   "source": [
    "import sys\n",
    "from random import seed"
   ]
  },
  {
   "cell_type": "code",
   "execution_count": 2,
   "id": "statutory-trick",
   "metadata": {},
   "outputs": [],
   "source": [
    "sys.path.append('..')"
   ]
  },
  {
   "cell_type": "code",
   "execution_count": 3,
   "id": "hidden-poverty",
   "metadata": {},
   "outputs": [],
   "source": [
    "from digi_leap.const import DB\n",
    "from digi_leap.db import get_labels\n",
    "from digi_leap.font import choose_label_fonts\n",
    "from digi_leap.label_image import LabelImage\n",
    "from digi_leap.log import finished, started"
   ]
  },
  {
   "cell_type": "code",
   "execution_count": 4,
   "id": "editorial-costume",
   "metadata": {},
   "outputs": [],
   "source": [
    "seed(4458)"
   ]
  },
  {
   "cell_type": "code",
   "execution_count": 5,
   "id": "encouraging-seeking",
   "metadata": {},
   "outputs": [],
   "source": [
    "labels = get_labels(DB, 'labels', 10)"
   ]
  },
  {
   "cell_type": "code",
   "execution_count": 6,
   "id": "amazing-optimization",
   "metadata": {},
   "outputs": [
    {
     "name": "stdout",
     "output_type": "stream",
     "text": [
      "(692, 366)\n"
     ]
    },
    {
     "data": {
      "image/png": "[encoded data removed]",
      "text/plain": [
       "<PIL.Image.Image image mode=RGB size=692x195 at 0x7F5C218FB0A0>"
      ]
     },
     "metadata": {},
     "output_type": "display_data"
    }
   ],
   "source": [
    "for frags in labels:\n",
    "    label = LabelImage(frags)\n",
    "    choose_label_fonts(label)\n",
    "    label.layout()\n",
    "    break\n",
    "\n",
    "print(label.image_size)\n",
    "display(label.image)"
   ]
  },
  {
   "cell_type": "code",
   "execution_count": 22,
   "id": "pressed-claim",
   "metadata": {},
   "outputs": [
    {
     "name": "stdout",
     "output_type": "stream",
     "text": [
      "California Plants\n",
      "(271, 35)\n"
     ]
    },
    {
     "data": {
      "image/png": "[encoded data removed]",
      "text/plain": [
       "<PIL.Image.Image image mode=RGB size=271x35 at 0x7F5C21901100>"
      ]
     },
     "metadata": {},
     "output_type": "display_data"
    }
   ],
   "source": [
    "idx = 0\n",
    "print(label.frags[idx].text)\n",
    "print(label.frags[idx].text_size)\n",
    "display(label.frags[idx].text_image)"
   ]
  },
  {
   "cell_type": "code",
   "execution_count": 27,
   "id": "vital-indie",
   "metadata": {},
   "outputs": [
    {
     "name": "stdout",
     "output_type": "stream",
     "text": [
      "(<Use.title: 9>, <Writing.typewritten: 1>)\n",
      "<PIL.ImageFont.FreeTypeFont object at 0x7f5c218f9070>\n",
      "\n",
      "(<Use.text: 8>, <Writing.typewritten: 1>)\n",
      "<PIL.ImageFont.FreeTypeFont object at 0x7f5c21901130>\n",
      "\n",
      "(<Use.sci_name: 7>, <Writing.typewritten: 1>)\n",
      "<PIL.ImageFont.FreeTypeFont object at 0x7f5c219014f0>\n",
      "\n"
     ]
    }
   ],
   "source": [
    "for key, font in label.fonts.items():\n",
    "    print(key)\n",
    "    print(font)\n",
    "    print()"
   ]
  },
  {
   "cell_type": "code",
   "execution_count": null,
   "id": "enabling-header",
   "metadata": {},
   "outputs": [],
   "source": []
  },
  {
   "cell_type": "markdown",
   "id": "ranging-fireplace",
   "metadata": {},
   "source": [
    "#### This is a just an experiment to see if it is easily possible to do this."
   ]
  },
  {
   "cell_type": "code",
   "execution_count": 28,
   "id": "residential-static",
   "metadata": {},
   "outputs": [],
   "source": [
    "# hal_9000 = \"\"\"\n",
    "# Daisy, Daisy, give me your answer, do.\n",
    "# I'm half crazy all for the love of you.\n",
    "# \"\"\"\n",
    "\n",
    "# # I will use a symlink and a utility function here.\n",
    "# font = ImageFont.truetype('/home/rafe/.local/share/fonts/PixelOperator.ttf', 44)\n",
    "\n",
    "# image = Image.new(mode=\"RGB\", size=(800, 400), color='cornsilk')\n",
    "\n",
    "# draw = ImageDraw.Draw(image)\n",
    "\n",
    "# draw.text((10, 10), hal_9000, font=font, fill='black')\n",
    "\n",
    "# display(image)"
   ]
  },
  {
   "cell_type": "code",
   "execution_count": null,
   "id": "parallel-asset",
   "metadata": {},
   "outputs": [],
   "source": []
  }
 ],
 "metadata": {
  "kernelspec": {
   "display_name": "Python 3",
   "language": "python",
   "name": "python3"
  },
  "language_info": {
   "codemirror_mode": {
    "name": "ipython",
    "version": 3
   },
   "file_extension": ".py",
   "mimetype": "text/x-python",
   "name": "python",
   "nbconvert_exporter": "python",
   "pygments_lexer": "ipython3",
   "version": "3.9.0+"
  },
  "varInspector": {
   "cols": {
    "lenName": 16,
    "lenType": 16,
    "lenVar": 40
   },
   "kernels_config": {
    "python": {
     "delete_cmd_postfix": "",
     "delete_cmd_prefix": "del ",
     "library": "var_list.py",
     "varRefreshCmd": "print(var_dic_list())"
    },
    "r": {
     "delete_cmd_postfix": ") ",
     "delete_cmd_prefix": "rm(",
     "library": "var_list.r",
     "varRefreshCmd": "cat(var_dic_list()) "
    }
   },
   "types_to_exclude": [
    "module",
    "function",
    "builtin_function_or_method",
    "instance",
    "_Feature"
   ],
   "window_display": false
  }
 },
 "nbformat": 4,
 "nbformat_minor": 5
}
