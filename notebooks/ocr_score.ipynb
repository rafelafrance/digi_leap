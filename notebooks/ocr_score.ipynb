{
 "cells": [
  {
   "cell_type": "markdown",
   "id": "e83e74e7",
   "metadata": {},
   "source": [
    "# Score OCR Results"
   ]
  },
  {
   "cell_type": "markdown",
   "id": "3d5ba2ce",
   "metadata": {},
   "source": [
    "## Setup"
   ]
  },
  {
   "cell_type": "code",
   "execution_count": 1,
   "id": "8f14e969",
   "metadata": {},
   "outputs": [],
   "source": [
    "import sys\n",
    "\n",
    "sys.path.append('..')"
   ]
  },
  {
   "cell_type": "code",
   "execution_count": 20,
   "id": "e886bad3",
   "metadata": {},
   "outputs": [],
   "source": [
    "import json\n",
    "import random\n",
    "import shutil\n",
    "from os.path import split, splitext\n",
    "from pathlib import Path\n",
    "\n",
    "import matplotlib.pyplot as plt\n",
    "import numpy as np\n",
    "import tqdm\n",
    "\n",
    "import digi_leap.pylib.ocr_results as results"
   ]
  },
  {
   "cell_type": "code",
   "execution_count": 22,
   "id": "30c20061",
   "metadata": {},
   "outputs": [],
   "source": [
    "ROOT_DIR = Path('..')\n",
    "\n",
    "JUNK_DIR = ROOT_DIR / 'junk'\n",
    "OUTPUT_DIR = ROOT_DIR / 'output'\n",
    "TEXT_DIR = OUTPUT_DIR / 'ensemble_faster_rcnn_2021-08-18_text'\n",
    "IMAGE_DIR = OUTPUT_DIR / 'ensemble_faster_rcnn_2021-08-18_images'\n",
    "\n",
    "RECONCILED_JSON = OUTPUT_DIR / '17633_label_babel_2.reconciled.jsonl'"
   ]
  },
  {
   "cell_type": "markdown",
   "id": "0e673dc6",
   "metadata": {},
   "source": [
    "## Reconciled Data"
   ]
  },
  {
   "cell_type": "code",
   "execution_count": 4,
   "id": "59dc8d7d",
   "metadata": {},
   "outputs": [],
   "source": [
    "with open(RECONCILED_JSON) as lines:\n",
    "    RECONCILED = [json.loads(ln) for ln in lines.readlines()]"
   ]
  },
  {
   "cell_type": "markdown",
   "id": "be55d130",
   "metadata": {},
   "source": [
    "## OCR Text Files"
   ]
  },
  {
   "cell_type": "code",
   "execution_count": 5,
   "id": "c30792ac",
   "metadata": {},
   "outputs": [],
   "source": [
    "ALL_FILES = [str(f) for f in TEXT_DIR.glob('*.txt')]\n",
    "\n",
    "SCORE_FILES = [f for f in ALL_FILES if f.find('Barcode') < 0]\n",
    "\n",
    "TYPE_FILES = [f for f in ALL_FILES if f.find('Typewritten') >= 0]\n",
    "HAND_FILES = [f for f in ALL_FILES if f.find('Handwritten') >= 0]\n",
    "BOTH_FILES = [f for f in ALL_FILES if f.find('Both') >= 0]\n",
    "BARCODE_FILES = [f for f in ALL_FILES if f.find('Barcode') >= 0]"
   ]
  },
  {
   "cell_type": "markdown",
   "id": "ca7b449e",
   "metadata": {},
   "source": [
    "## Show Predicted Labels vs Reconciled Labels"
   ]
  },
  {
   "cell_type": "markdown",
   "id": "34600003",
   "metadata": {},
   "source": [
    "The reconciled labels are what we're using as ground truth.\n",
    "\n",
    "The predicted labels are what the model predicted"
   ]
  },
  {
   "cell_type": "code",
   "execution_count": 6,
   "id": "46c2ea79",
   "metadata": {},
   "outputs": [
    {
     "name": "stderr",
     "output_type": "stream",
     "text": [
      "100%|██████████████████████████████████████████████████████████████████████████████████████| 4994/4994 [00:27<00:00, 178.97it/s]\n"
     ]
    },
    {
     "data": {
      "text/plain": [
       "31759"
      ]
     },
     "execution_count": 6,
     "metadata": {},
     "output_type": "execute_result"
    }
   ],
   "source": [
    "x, y = [], []\n",
    "\n",
    "for rec in tqdm.tqdm(RECONCILED):\n",
    "    y.append(len(rec['merged_types']))\n",
    "\n",
    "    name, ext = splitext(rec['image_file'])\n",
    "    pattern = '/' + name + '_'\n",
    "    x.append(sum(1 for f in ALL_FILES if f.find(pattern) >= 0))\n",
    "\n",
    "sum(x)"
   ]
  },
  {
   "cell_type": "code",
   "execution_count": 7,
   "id": "141ee996",
   "metadata": {},
   "outputs": [
    {
     "data": {
      "image/png": "[encoded data removed]",
      "text/plain": [
       "<Figure size 576x576 with 1 Axes>"
      ]
     },
     "metadata": {
      "needs_background": "light"
     },
     "output_type": "display_data"
    }
   ],
   "source": [
    "fig, ax = plt.subplots(figsize=(8, 8))\n",
    "\n",
    "ax.scatter(x, y)\n",
    "\n",
    "ax.set_xlabel('Predicted count (model count)')\n",
    "ax.set_ylabel('Reconciled count (expected count)')\n",
    "ax.set_title('Number of labels per herbarium sheet')\n",
    "\n",
    "lims = [\n",
    "    np.min([ax.get_xlim(), ax.get_ylim()]),  # min of both axes\n",
    "    np.max([ax.get_xlim(), ax.get_ylim()]),  # max of both axes\n",
    "]\n",
    "ax.plot(lims, lims, 'm-', alpha=0.75, zorder=0)\n",
    "ax.set_aspect('equal')\n",
    "ax.set_xlim(lims)\n",
    "ax.set_ylim(lims)\n",
    "\n",
    "fig.tight_layout()\n",
    "\n",
    "fig.savefig(JUNK_DIR / 'labels_per_sheet.png', facecolor='white')\n",
    "plt.show()"
   ]
  },
  {
   "cell_type": "markdown",
   "id": "d1c5d916",
   "metadata": {},
   "source": [
    "## Score a File"
   ]
  },
  {
   "cell_type": "markdown",
   "id": "f1aa60b1",
   "metadata": {},
   "source": [
    "This function looks for word \"hits\" in the text file and divides that by the count of all \"words\" in the. A word is just any string of characters separated by white space.\n",
    "\n",
    "A \"hit\" can be one of 3 things:\n",
    "1. A match in the vocabulary. The vocabulary contains:\n",
    "    1. The NLTK word corpus\n",
    "    1. Taxon names for the plant kingdom scraped from the ITIS database\n",
    "1. A number, which is a string of digits with commas or decimal points like `1,234.5`.\n",
    "1. A date like `1/23/21` or `1-23-21`."
   ]
  },
  {
   "cell_type": "code",
   "execution_count": 8,
   "id": "03f671ff",
   "metadata": {},
   "outputs": [],
   "source": [
    "def score_file(path):\n",
    "    with open(path) as text_file:\n",
    "        text = text_file.read()\n",
    "        words = text.split()\n",
    "        count = len(words)\n",
    "\n",
    "    if count == 0:\n",
    "        return 0.0, 0\n",
    "\n",
    "    hits = results.text_hits(text)\n",
    "    return round(100.0 * hits / count), count"
   ]
  },
  {
   "cell_type": "markdown",
   "id": "a009c657",
   "metadata": {},
   "source": [
    "## Show All non-Barcode Scores"
   ]
  },
  {
   "cell_type": "code",
   "execution_count": 9,
   "id": "31540a01",
   "metadata": {},
   "outputs": [],
   "source": [
    "x = [score_file(p)[0] for p in SCORE_FILES]"
   ]
  },
  {
   "cell_type": "code",
   "execution_count": 10,
   "id": "2bbf8642",
   "metadata": {},
   "outputs": [
    {
     "data": {
      "image/png": "[encoded data removed]",
      "text/plain": [
       "<Figure size 720x432 with 1 Axes>"
      ]
     },
     "metadata": {
      "needs_background": "light"
     },
     "output_type": "display_data"
    }
   ],
   "source": [
    "fig, ax = plt.subplots(figsize=(10, 6))\n",
    "n, bins, patches = ax.hist(x, 25)\n",
    "ax.set_xlabel('Score %')\n",
    "ax.set_ylabel('Number of labels')\n",
    "ax.set_title(f'Scores of All OCR Labels (not bar codes) n = {len(x)}')\n",
    "fig.tight_layout()\n",
    "\n",
    "fig.savefig(JUNK_DIR / 'ocr_quality_all.png', facecolor='white')\n",
    "plt.show()"
   ]
  },
  {
   "cell_type": "markdown",
   "id": "c92b9b30",
   "metadata": {},
   "source": [
    "## Show Typewritten Scores"
   ]
  },
  {
   "cell_type": "code",
   "execution_count": 11,
   "id": "d19785b9",
   "metadata": {},
   "outputs": [],
   "source": [
    "x = [score_file(p)[0] for p in TYPE_FILES]"
   ]
  },
  {
   "cell_type": "code",
   "execution_count": 12,
   "id": "22f8cf9a",
   "metadata": {},
   "outputs": [
    {
     "data": {
      "image/png": "[encoded data removed]",
      "text/plain": [
       "<Figure size 720x432 with 1 Axes>"
      ]
     },
     "metadata": {
      "needs_background": "light"
     },
     "output_type": "display_data"
    }
   ],
   "source": [
    "fig, ax = plt.subplots(figsize=(10, 6))\n",
    "n, bins, patches = ax.hist(x, 25)\n",
    "ax.set_xlabel('Score %')\n",
    "ax.set_ylabel('Number of labels')\n",
    "ax.set_title(f'Scores of Typewritten Labels: n = {len(x)}')\n",
    "fig.tight_layout()\n",
    "fig.savefig(JUNK_DIR / 'ocr_quality_typewritten.png', facecolor='white')\n",
    "plt.show()"
   ]
  },
  {
   "cell_type": "markdown",
   "id": "f1885d8d",
   "metadata": {},
   "source": [
    "## Show Mixed (Typewritten & Handwritten) Scores"
   ]
  },
  {
   "cell_type": "code",
   "execution_count": 13,
   "id": "466f9489",
   "metadata": {},
   "outputs": [],
   "source": [
    "x = [score_file(p)[0] for p in BOTH_FILES]"
   ]
  },
  {
   "cell_type": "code",
   "execution_count": 14,
   "id": "fc5c2527",
   "metadata": {},
   "outputs": [
    {
     "data": {
      "image/png": "[encoded data removed]",
      "text/plain": [
       "<Figure size 720x432 with 1 Axes>"
      ]
     },
     "metadata": {
      "needs_background": "light"
     },
     "output_type": "display_data"
    }
   ],
   "source": [
    "fig, ax = plt.subplots(figsize=(10, 6))\n",
    "n, bins, patches = ax.hist(x, 25)\n",
    "ax.set_xlabel('Score %')\n",
    "ax.set_ylabel('Number of labels')\n",
    "ax.set_title(f'Scores of Mixed (Typewritten & Handwritten) Labels: n = {len(x)}')\n",
    "fig.tight_layout()\n",
    "fig.savefig(JUNK_DIR / 'ocr_quality_mixed.png', facecolor='white')\n",
    "plt.show()"
   ]
  },
  {
   "cell_type": "markdown",
   "id": "7a3f8313",
   "metadata": {},
   "source": [
    "## Show Handwritten Scores"
   ]
  },
  {
   "cell_type": "code",
   "execution_count": 15,
   "id": "00c4610e",
   "metadata": {},
   "outputs": [],
   "source": [
    "x = [score_file(p)[0] for p in HAND_FILES]"
   ]
  },
  {
   "cell_type": "code",
   "execution_count": 16,
   "id": "248f4e43",
   "metadata": {},
   "outputs": [
    {
     "data": {
      "image/png": "[encoded data removed]",
      "text/plain": [
       "<Figure size 720x432 with 1 Axes>"
      ]
     },
     "metadata": {
      "needs_background": "light"
     },
     "output_type": "display_data"
    }
   ],
   "source": [
    "fig, ax = plt.subplots(figsize=(10, 6))\n",
    "n, bins, patches = ax.hist(x, 25)\n",
    "ax.set_xlabel('Score %')\n",
    "ax.set_ylabel('Number of labels')\n",
    "ax.set_title(f'Scores of Handwritten Labels: n = {len(x)}')\n",
    "fig.tight_layout()\n",
    "fig.savefig(JUNK_DIR / 'ocr_quality_handwritten.png', facecolor='white')\n",
    "plt.show()"
   ]
  },
  {
   "cell_type": "markdown",
   "id": "49f05cba",
   "metadata": {},
   "source": [
    "## Show Bar Code Scores\n",
    "\n",
    "Many bar codes will have typewritten text on them."
   ]
  },
  {
   "cell_type": "code",
   "execution_count": 17,
   "id": "e4ce2b9b",
   "metadata": {},
   "outputs": [],
   "source": [
    "x = [score_file(p)[0] for p in BARCODE_FILES]"
   ]
  },
  {
   "cell_type": "code",
   "execution_count": 18,
   "id": "8c116243",
   "metadata": {},
   "outputs": [
    {
     "data": {
      "image/png": "[encoded data removed]",
      "text/plain": [
       "<Figure size 720x432 with 1 Axes>"
      ]
     },
     "metadata": {
      "needs_background": "light"
     },
     "output_type": "display_data"
    }
   ],
   "source": [
    "fig, ax = plt.subplots(figsize=(10, 6))\n",
    "n, bins, patches = ax.hist(x, 25)\n",
    "ax.set_xlabel('Score %')\n",
    "ax.set_ylabel('Number of labels')\n",
    "ax.set_title(f'Scores of Bar Code Labels: n = {len(x)}')\n",
    "fig.tight_layout()\n",
    "fig.savefig(JUNK_DIR / 'ocr_quality_barcode.png', facecolor='white')\n",
    "plt.show()"
   ]
  },
  {
   "cell_type": "markdown",
   "id": "db32dc55",
   "metadata": {},
   "source": [
    "## Sample Results"
   ]
  },
  {
   "cell_type": "code",
   "execution_count": 25,
   "id": "d88980d5",
   "metadata": {},
   "outputs": [],
   "source": [
    "labels = random.sample(TYPE_FILES, 10)\n",
    "\n",
    "for text in labels:\n",
    "    name = Path(text).stem\n",
    "    src = IMAGE_DIR / f'{name}.jpg'\n",
    "    dst = JUNK_DIR / f'{name}.jpg'\n",
    "    shutil.copyfile(src, dst)"
   ]
  },
  {
   "cell_type": "code",
   "execution_count": null,
   "id": "512537d3",
   "metadata": {},
   "outputs": [],
   "source": []
  }
 ],
 "metadata": {
  "kernelspec": {
   "display_name": "Python 3",
   "language": "python",
   "name": "python3"
  },
  "language_info": {
   "codemirror_mode": {
    "name": "ipython",
    "version": 3
   },
   "file_extension": ".py",
   "mimetype": "text/x-python",
   "name": "python",
   "nbconvert_exporter": "python",
   "pygments_lexer": "ipython3",
   "version": "3.9.5"
  },
  "varInspector": {
   "cols": {
    "lenName": 16,
    "lenType": 16,
    "lenVar": 40
   },
   "kernels_config": {
    "python": {
     "delete_cmd_postfix": "",
     "delete_cmd_prefix": "del ",
     "library": "var_list.py",
     "varRefreshCmd": "print(var_dic_list())"
    },
    "r": {
     "delete_cmd_postfix": ") ",
     "delete_cmd_prefix": "rm(",
     "library": "var_list.r",
     "varRefreshCmd": "cat(var_dic_list()) "
    }
   },
   "types_to_exclude": [
    "module",
    "function",
    "builtin_function_or_method",
    "instance",
    "_Feature"
   ],
   "window_display": false
  }
 },
 "nbformat": 4,
 "nbformat_minor": 5
}
