{
 "cells": [
  {
   "cell_type": "markdown",
   "id": "patient-leader",
   "metadata": {},
   "source": [
    "# Generate Label Text by Sampling iDigBio Data"
   ]
  },
  {
   "cell_type": "markdown",
   "id": "antique-engineering",
   "metadata": {},
   "source": [
    "Images can be generated (both clean and dirty) on the fly but we need to persist the text data so that it can be used in several steps further down the pipeline. This will create persistent data for the label text from the iDigBio database. I'm going to create a separate DB so that it can be easily used by other team members.\n",
    "\n",
    "The data will be in parts so that we can treat the different parts separately when we generate the labels. For instance so parts may use different fonts and others may have the text underlined etc. Also note that some of the parts may be empty.\n",
    "\n",
    "Text augmentation is done here because the OCR step, later on, needs to replicate the text. Text augmentation steps:\n",
    "- [ ] Underline some text: Use solid, dotted & dashed underlines, also strike-through or lines to the text\n",
    "- [ ] Bold some text\n",
    "- [ ] Use different base fonts and within the label change some fonts and sizes\n",
    "- [ ] Use symbols like: ♀ or ♂ and other ones that may appear on labels\n",
    "- [ ] Augment taxon names with data from ITIS\n",
    "- [ ] Augment location data from gazetteer data\n",
    "- [ ] Generate names dates and numbers\n",
    "- [ ] Replace some words with abbreviations\n",
    "- [ ] Add spaces? Lets see if this will work\n",
    "\n",
    "Note that we are generating *\"plausible\"* labels not necessarily *realistic* labels. Also note that there are different kinds of labels.\n",
    "- The main label that describes the sample\n",
    "- Labels for species determination\n",
    "- Barcode and QR-Code labels"
   ]
  },
  {
   "cell_type": "code",
   "execution_count": 1,
   "id": "intended-puzzle",
   "metadata": {
    "ExecuteTime": {
     "end_time": "2021-03-03T22:06:57.204521Z",
     "start_time": "2021-03-03T22:06:57.202716Z"
    }
   },
   "outputs": [],
   "source": [
    "import sys\n",
    "\n",
    "sys.path.append('..')"
   ]
  },
  {
   "cell_type": "code",
   "execution_count": 2,
   "id": "inclusive-consolidation",
   "metadata": {
    "ExecuteTime": {
     "end_time": "2021-03-03T22:06:57.472226Z",
     "start_time": "2021-03-03T22:06:57.205551Z"
    }
   },
   "outputs": [],
   "source": [
    "import os\n",
    "import sqlite3\n",
    "from pprint import pp\n",
    "\n",
    "import pandas as pd\n",
    "\n",
    "from digi_leap.pylib.const import LABEL_DB, SQLITE_DB"
   ]
  },
  {
   "cell_type": "markdown",
   "id": "quiet-salad",
   "metadata": {},
   "source": [
    "Constants for building the label table"
   ]
  },
  {
   "cell_type": "code",
   "execution_count": 3,
   "id": "naval-brake",
   "metadata": {
    "ExecuteTime": {
     "end_time": "2021-03-03T22:06:57.475684Z",
     "start_time": "2021-03-03T22:06:57.473345Z"
    }
   },
   "outputs": [],
   "source": [
    "LIMIT = 100_000  # This should be enuf for training\n",
    "TABLE = 'occurrence_raw'\n",
    "\n",
    "# These column look good for label generation\n",
    "COLUMNS = \"\"\"\n",
    "    scientific_name\n",
    "    phylum\n",
    "    class\n",
    "    order\n",
    "    family\n",
    "    genus\n",
    "    subgenus\n",
    "    verbatim_scientific_name\n",
    "    accepted_name_usage\n",
    "    vernacular_name\n",
    "    taxon_rank\n",
    "    verbatim_taxon_rank\n",
    "\n",
    "    scientific_name_authorship\n",
    "    name_according_to\n",
    "    name_published_in\n",
    "    name_published_in_id\n",
    "    name_published_in_year\n",
    "    date_identified\n",
    "    identified_by\n",
    "    identification_id\n",
    "    identification_remarks\n",
    "    original_name_usage\n",
    "    previous_identifications\n",
    "\n",
    "    locality\n",
    "    location_remarks\n",
    "    country\n",
    "    state_province\n",
    "    municipality\n",
    "    water_body\n",
    "    georeference_remarks\n",
    "    georeferenced_by\n",
    "\n",
    "    verbatim_coordinate_system\n",
    "    verbatim_coordinates\n",
    "    verbatim_depth\n",
    "    verbatim_elevation\n",
    "    verbatim_latitude\n",
    "    verbatim_longitude\n",
    "    verbatim_srs\n",
    "\n",
    "    event_date\n",
    "    event_id\n",
    "    event_remarks\n",
    "    dwc_verbatim_event_date\n",
    "\n",
    "    owner_institution_code\n",
    "    catalog_number\n",
    "    collection_code\n",
    "    dataset_name\n",
    "\n",
    "    field_notes\n",
    "    field_number\n",
    "\n",
    "    habitat\n",
    "    life_stage\n",
    "    occurrence_remarks\n",
    "    organism_remarks\n",
    "    preparations\n",
    "    reproductive_condition\n",
    "    sex\n",
    "    sampling_protocol\n",
    "    type_status\n",
    "    \n",
    "    record_entered_by\n",
    "    record_number\n",
    "    recorded_by\n",
    "\"\"\".split()"
   ]
  },
  {
   "cell_type": "code",
   "execution_count": 4,
   "id": "funny-peeing",
   "metadata": {
    "ExecuteTime": {
     "end_time": "2021-03-03T22:10:18.395133Z",
     "start_time": "2021-03-03T22:06:57.476765Z"
    }
   },
   "outputs": [],
   "source": [
    "columns = {f'`{c}`' for c in COLUMNS}\n",
    "columns = ', '.join(columns)\n",
    "\n",
    "sql = f\"\"\"\n",
    "    CREATE TABLE IF NOT EXISTS aux.data AS\n",
    "        SELECT rowid AS id, {columns}\n",
    "          FROM {TABLE}\n",
    "         WHERE rowid IN (\n",
    "             SELECT rowid\n",
    "               FROM {TABLE}\n",
    "              WHERE kingdom like 'plant%'\n",
    "                AND scientific_name <> ''\n",
    "           ORDER BY RANDOM()\n",
    "              LIMIT {LIMIT})\n",
    "\"\"\"\n",
    "\n",
    "with sqlite3.connect(SQLITE_DB) as cxn:\n",
    "    cxn.execute(f\"ATTACH DATABASE '{LABEL_DB}' AS aux\")\n",
    "    cxn.execute(sql)"
   ]
  },
  {
   "cell_type": "markdown",
   "id": "lesser-employer",
   "metadata": {},
   "source": [
    "We will need this index"
   ]
  },
  {
   "cell_type": "code",
   "execution_count": 5,
   "id": "opposite-spray",
   "metadata": {
    "ExecuteTime": {
     "end_time": "2021-03-03T22:10:18.441368Z",
     "start_time": "2021-03-03T22:10:18.396294Z"
    }
   },
   "outputs": [],
   "source": [
    "with sqlite3.connect(LABEL_DB) as cxn:\n",
    "    cxn.execute(\"\"\"\n",
    "        CREATE UNIQUE INDEX IF NOT EXISTS\n",
    "            data_id ON data (id)\"\"\")"
   ]
  },
  {
   "cell_type": "code",
   "execution_count": 6,
   "id": "silent-tsunami",
   "metadata": {
    "ExecuteTime": {
     "end_time": "2021-03-03T22:10:20.494650Z",
     "start_time": "2021-03-03T22:10:18.443264Z"
    }
   },
   "outputs": [],
   "source": [
    "with sqlite3.connect(LABEL_DB) as cxn:\n",
    "    df = pd.read_sql('select * from data', cxn)"
   ]
  },
  {
   "cell_type": "markdown",
   "id": "chief-telescope",
   "metadata": {},
   "source": [
    "Augment the sex field"
   ]
  },
  {
   "cell_type": "code",
   "execution_count": 8,
   "id": "supreme-landscape",
   "metadata": {
    "ExecuteTime": {
     "end_time": "2021-03-03T22:10:20.668729Z",
     "start_time": "2021-03-03T22:10:20.530256Z"
    }
   },
   "outputs": [],
   "source": [
    "UPDATABLE = ('', 'NO DISPONIBLE', 'No Aplica', 'Null', 'U', 'Unspecified', '5')\n",
    "SEXES = {\n",
    "    'Male': 10_000,\n",
    "    'male': 10_000,\n",
    "    'Female': 10_000,\n",
    "    'female': 10_000,\n",
    "    'hermaphrodite': 100,\n",
    "    'bisexual': 100,\n",
    "    '♀': 5_000,\n",
    "    '♂': 5_000,\n",
    "    '⚥': 10,\n",
    "}\n",
    "\n",
    "for value, count in SEXES.items():\n",
    "    rows = df.sample(n=count)\n",
    "    df.loc[rows.index, 'sex'] = value"
   ]
  },
  {
   "cell_type": "markdown",
   "id": "determined-colonial",
   "metadata": {},
   "source": [
    "Insert abbreviations into localities"
   ]
  },
  {
   "cell_type": "code",
   "execution_count": null,
   "id": "varied-negotiation",
   "metadata": {},
   "outputs": [],
   "source": []
  },
  {
   "cell_type": "markdown",
   "id": "organic-wellington",
   "metadata": {},
   "source": [
    "Write the output"
   ]
  },
  {
   "cell_type": "code",
   "execution_count": 9,
   "id": "proof-bobby",
   "metadata": {
    "ExecuteTime": {
     "end_time": "2021-03-03T22:10:22.676223Z",
     "start_time": "2021-03-03T22:10:20.669916Z"
    }
   },
   "outputs": [],
   "source": [
    "with sqlite3.connect(LABEL_DB) as cxn:\n",
    "    df.to_sql('data', cxn, if_exists='replace', index=False)"
   ]
  },
  {
   "cell_type": "code",
   "execution_count": null,
   "id": "limited-ethnic",
   "metadata": {},
   "outputs": [],
   "source": []
  }
 ],
 "metadata": {
  "kernelspec": {
   "display_name": "Python 3",
   "language": "python",
   "name": "python3"
  },
  "language_info": {
   "codemirror_mode": {
    "name": "ipython",
    "version": 3
   },
   "file_extension": ".py",
   "mimetype": "text/x-python",
   "name": "python",
   "nbconvert_exporter": "python",
   "pygments_lexer": "ipython3",
   "version": "3.9.0+"
  },
  "varInspector": {
   "cols": {
    "lenName": 16,
    "lenType": 16,
    "lenVar": 40
   },
   "kernels_config": {
    "python": {
     "delete_cmd_postfix": "",
     "delete_cmd_prefix": "del ",
     "library": "var_list.py",
     "varRefreshCmd": "print(var_dic_list())"
    },
    "r": {
     "delete_cmd_postfix": ") ",
     "delete_cmd_prefix": "rm(",
     "library": "var_list.r",
     "varRefreshCmd": "cat(var_dic_list()) "
    }
   },
   "types_to_exclude": [
    "module",
    "function",
    "builtin_function_or_method",
    "instance",
    "_Feature"
   ],
   "window_display": false
  }
 },
 "nbformat": 4,
 "nbformat_minor": 5
}
