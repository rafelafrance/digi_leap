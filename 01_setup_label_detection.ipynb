{
 "cells": [
  {
   "cell_type": "markdown",
   "id": "79d37170-5839-4940-974a-a561988c042d",
   "metadata": {
    "tags": []
   },
   "source": [
    "# Extract data from Notes from Nature expedition and setup for label detection"
   ]
  },
  {
   "cell_type": "markdown",
   "id": "aa3932de-5ca4-4802-8ac0-dd01bfcab1e2",
   "metadata": {
    "tags": []
   },
   "source": [
    "## Imports and other setup"
   ]
  },
  {
   "cell_type": "code",
   "execution_count": 1,
   "id": "80c75b0a-ffe5-4a4c-8e5a-c38e4ef32684",
   "metadata": {},
   "outputs": [],
   "source": [
    "%reload_ext autoreload\n",
    "%autoreload 2"
   ]
  },
  {
   "cell_type": "code",
   "execution_count": 2,
   "id": "e3a589b6-31cb-4a82-91ba-15d41114752e",
   "metadata": {},
   "outputs": [],
   "source": [
    "import csv\n",
    "import json\n",
    "from collections import defaultdict\n",
    "from pathlib import Path\n",
    "\n",
    "import numpy as np\n",
    "import pandas as pd\n",
    "\n",
    "from digi_leap.subject import Subject"
   ]
  },
  {
   "cell_type": "code",
   "execution_count": 3,
   "id": "876fd4a8-62b4-4e27-a70d-3de859aec6b9",
   "metadata": {},
   "outputs": [],
   "source": [
    "DATA_DIR = Path.cwd() / 'data'\n",
    "\n",
    "LABEL_BABEL_1 = DATA_DIR / 'label-babel-1'\n",
    "LABEL_BABEL_2 = DATA_DIR / 'label-babel-2'\n",
    "\n",
    "SHEETS_1 = LABEL_BABEL_1 / 'herbarium-sheets'\n",
    "SHEETS_2 = LABEL_BABEL_2 / 'herbarium-sheets'\n",
    "\n",
    "UNRECONCILED = LABEL_BABEL_2 / '17633_label_babel_2.unreconciled.csv'\n",
    "RECONCILED = LABEL_BABEL_2 / '17633_label_babel_2.reconciled.csv'"
   ]
  },
  {
   "cell_type": "markdown",
   "id": "547466f9-016a-4612-90f9-96d56f4c7e02",
   "metadata": {
    "heading_collapsed": true,
    "tags": [],
    "toc-hr-collapsed": true
   },
   "source": [
    "## Prepare to reconcile the data from Label Babel 2"
   ]
  },
  {
   "cell_type": "markdown",
   "id": "87766ac4-e61a-4b6e-b295-82bfc4b54abb",
   "metadata": {
    "heading_collapsed": "true",
    "hidden": true,
    "tags": []
   },
   "source": [
    "### Command line arguments used to reconcile Label Babel 1"
   ]
  },
  {
   "cell_type": "markdown",
   "id": "63508eb7-77ef-400d-9631-d76041e0ee50",
   "metadata": {
    "hidden": true
   },
   "source": [
    "It's handy to have a record of what I did before."
   ]
  },
  {
   "cell_type": "markdown",
   "id": "c826ce9b-630f-4ec9-a2c3-45ac651596bd",
   "metadata": {
    "hidden": true,
    "tags": []
   },
   "source": [
    "```bash\n",
    "./reconcile.py -u temp/8296_label_babel.unreconciled.csv -r temp/8296_label_babel.reconciled.csv -s temp/8296_label_babel.summary.html  --tool-label-hack 'a33c0ef367baa8:All typewritten,bf76cbd8a5a838:All handwritten,a18a7571a273e8:Both typewritten and handwritten' data/raw/labs_label-babel-classifications.csv\n",
    "```"
   ]
  },
  {
   "cell_type": "markdown",
   "id": "7755bc88-e017-4599-95bb-29759fd4ffda",
   "metadata": {
    "heading_collapsed": "true",
    "hidden": true,
    "tags": []
   },
   "source": [
    "### Look at the data given to us by the provider (Zooniverse.org)"
   ]
  },
  {
   "cell_type": "markdown",
   "id": "209366ef-ac3d-4c98-94a0-1b2a876e237e",
   "metadata": {
    "hidden": true
   },
   "source": [
    "Oh joy! The out put from the data provider changed between Label Babel 1 & 2. Let's look at what the differences are."
   ]
  },
  {
   "cell_type": "code",
   "execution_count": 4,
   "id": "6ca6dc00-91a9-4694-8b49-7915894d153c",
   "metadata": {
    "hidden": true
   },
   "outputs": [],
   "source": [
    "# Constants so we can copy/pasta some JSON into the a display function\n",
    "\n",
    "true = True\n",
    "false = False"
   ]
  },
  {
   "cell_type": "markdown",
   "id": "e5b843e8-4493-4c0f-938e-d7a7485e9645",
   "metadata": {
    "heading_collapsed": "true",
    "hidden": true,
    "tags": []
   },
   "source": [
    "#### What annotation data looks like from Label Babel 1"
   ]
  },
  {
   "cell_type": "code",
   "execution_count": 5,
   "id": "ea39b75d-ed7a-4f71-a1ed-efcaa59a152e",
   "metadata": {
    "hidden": true
   },
   "outputs": [
    {
     "name": "stdout",
     "output_type": "stream",
     "text": [
      "[\n",
      "  {\n",
      "    \"task\": \"T0\",\n",
      "    \"task_label\": \"Identify the primary label on the specimen and the kind of text it contains.\",\n",
      "    \"value\": [\n",
      "      {\n",
      "        \"x\": 2377.794677734375,\n",
      "        \"y\": 4987.271484375,\n",
      "        \"tool\": 0,\n",
      "        \"frame\": 0,\n",
      "        \"width\": 1543.725341796875,\n",
      "        \"height\": 982.72119140625,\n",
      "        \"details\": [\n",
      "          {\n",
      "            \"value\": [\n",
      "              {\n",
      "                \"value\": \"a33c0ef367baa8\",\n",
      "                \"option\": true\n",
      "              }\n",
      "            ]\n",
      "          }\n",
      "        ],\n",
      "        \"tool_label\": \"Rectangle around the primary label.\"\n",
      "      }\n",
      "    ]\n",
      "  }\n",
      "]\n"
     ]
    }
   ],
   "source": [
    "print(json.dumps([{\"task\": \"T0\", \"task_label\": \"Identify the primary label on the specimen and the kind of text it contains.\", \"value\": [{\"x\": 2377.794677734375, \"y\": 4987.271484375, \"tool\": 0, \"frame\": 0,\n",
    "                                                                                                                                          \"width\": 1543.725341796875, \"height\": 982.72119140625, \"details\": [{\"value\": [{\"value\": \"a33c0ef367baa8\", \"option\": true}]}], \"tool_label\": \"Rectangle around the primary label.\"}]}], indent=2))"
   ]
  },
  {
   "cell_type": "markdown",
   "id": "bc2352c4-10fa-4142-b2ee-07e239b0a677",
   "metadata": {
    "heading_collapsed": "true",
    "hidden": true,
    "tags": []
   },
   "source": [
    "#### What annotation data looks like from Label Babel 2"
   ]
  },
  {
   "cell_type": "code",
   "execution_count": 6,
   "id": "c9f67f84-69ee-4224-b278-8d833b8a6dd6",
   "metadata": {
    "hidden": true
   },
   "outputs": [
    {
     "name": "stdout",
     "output_type": "stream",
     "text": [
      "[\n",
      "  {\n",
      "    \"task\": \"T0\",\n",
      "    \"task_label\": \"Identify the labels on the specimen and the kind of text they contain.\",\n",
      "    \"value\": [\n",
      "      {\n",
      "        \"x\": 655.1286010742188,\n",
      "        \"y\": 24.654661178588867,\n",
      "        \"tool\": 0,\n",
      "        \"frame\": 0,\n",
      "        \"width\": 411.24566650390625,\n",
      "        \"height\": 61.76217079162598,\n",
      "        \"details\": [\n",
      "          {\n",
      "            \"value\": 1\n",
      "          }\n",
      "        ],\n",
      "        \"tool_label\": \"Box(es)\"\n",
      "      },\n",
      "      {\n",
      "        \"x\": 453.271728515625,\n",
      "        \"y\": 328.9463195800781,\n",
      "        \"tool\": 0,\n",
      "        \"frame\": 0,\n",
      "        \"width\": 146.1202392578125,\n",
      "        \"height\": 120.51153564453125,\n",
      "        \"details\": [\n",
      "          {\n",
      "            \"value\": 1\n",
      "          }\n",
      "        ],\n",
      "        \"tool_label\": \"Box(es)\"\n",
      "      },\n",
      "      {\n",
      "        \"x\": 905.1900634765625,\n",
      "        \"y\": 1333.7113037109375,\n",
      "        \"tool\": 0,\n",
      "        \"frame\": 0,\n",
      "        \"width\": 149.133056640625,\n",
      "        \"height\": 63.2685546875,\n",
      "        \"details\": [\n",
      "          {\n",
      "            \"value\": 4\n",
      "          }\n",
      "        ],\n",
      "        \"tool_label\": \"Box(es)\"\n",
      "      },\n",
      "      {\n",
      "        \"x\": 628.0134887695312,\n",
      "        \"y\": 1403.0054931640625,\n",
      "        \"tool\": 0,\n",
      "        \"frame\": 0,\n",
      "        \"width\": 451.91827392578125,\n",
      "        \"height\": 402.207275390625,\n",
      "        \"details\": [\n",
      "          {\n",
      "            \"value\": 1\n",
      "          }\n",
      "        ],\n",
      "        \"tool_label\": \"Box(es)\"\n",
      "      },\n",
      "      {\n",
      "        \"x\": 275.5171813964844,\n",
      "        \"y\": 1571.7216796875,\n",
      "        \"tool\": 0,\n",
      "        \"frame\": 0,\n",
      "        \"width\": 357.0154724121094,\n",
      "        \"height\": 158.17138671875,\n",
      "        \"details\": [\n",
      "          {\n",
      "            \"value\": 0\n",
      "          }\n",
      "        ],\n",
      "        \"tool_label\": \"Box(es)\"\n",
      "      },\n",
      "      {\n",
      "        \"x\": 99.26904296875,\n",
      "        \"y\": 1634.990234375,\n",
      "        \"tool\": 0,\n",
      "        \"frame\": 0,\n",
      "        \"width\": 125.03073120117188,\n",
      "        \"height\": 58.7493896484375,\n",
      "        \"details\": [\n",
      "          {\n",
      "            \"value\": 4\n",
      "          }\n",
      "        ],\n",
      "        \"tool_label\": \"Box(es)\"\n",
      "      },\n",
      "      {\n",
      "        \"x\": 88.72428894042969,\n",
      "        \"y\": 1735.918701171875,\n",
      "        \"tool\": 0,\n",
      "        \"frame\": 0,\n",
      "        \"width\": 222.9463653564453,\n",
      "        \"height\": 36.1534423828125,\n",
      "        \"details\": [\n",
      "          {\n",
      "            \"value\": 1\n",
      "          }\n",
      "        ],\n",
      "        \"tool_label\": \"Box(es)\"\n",
      "      },\n",
      "      {\n",
      "        \"x\": 424.6502380371094,\n",
      "        \"y\": 1274.9619140625,\n",
      "        \"tool\": 0,\n",
      "        \"frame\": 0,\n",
      "        \"width\": 93.39645385742188,\n",
      "        \"height\": 149.133056640625,\n",
      "        \"details\": [\n",
      "          {\n",
      "            \"value\": 1\n",
      "          }\n",
      "        ],\n",
      "        \"tool_label\": \"Box(es)\"\n",
      "      }\n",
      "    ]\n",
      "  }\n",
      "]\n"
     ]
    }
   ],
   "source": [
    "print(json.dumps([{\"task\": \"T0\", \"task_label\": \"Identify the labels on the specimen and the kind of text they contain.\", \"value\": [{\"x\": 655.1286010742188, \"y\": 24.654661178588867, \"tool\": 0, \"frame\": 0, \"width\": 411.24566650390625, \"height\": 61.76217079162598, \"details\": [{\"value\": 1}], \"tool_label\": \"Box(es)\"}, {\"x\": 453.271728515625, \"y\": 328.9463195800781, \"tool\": 0, \"frame\": 0, \"width\": 146.1202392578125, \"height\": 120.51153564453125, \"details\": [{\"value\": 1}], \"tool_label\": \"Box(es)\"}, {\"x\": 905.1900634765625, \"y\": 1333.7113037109375, \"tool\": 0, \"frame\": 0, \"width\": 149.133056640625, \"height\": 63.2685546875, \"details\": [{\"value\": 4}], \"tool_label\": \"Box(es)\"}, {\"x\": 628.0134887695312, \"y\": 1403.0054931640625, \"tool\": 0, \"frame\": 0, \"width\": 451.91827392578125, \"height\": 402.207275390625,\n",
    "                                                                                                                                                                                                                                                                                                                                                                                                                                                                                                                                                                                                                                                                                                    \"details\": [{\"value\": 1}], \"tool_label\": \"Box(es)\"}, {\"x\": 275.5171813964844, \"y\": 1571.7216796875, \"tool\": 0, \"frame\": 0, \"width\": 357.0154724121094, \"height\": 158.17138671875, \"details\": [{\"value\": 0}], \"tool_label\": \"Box(es)\"}, {\"x\": 99.26904296875, \"y\": 1634.990234375, \"tool\": 0, \"frame\": 0, \"width\": 125.03073120117188, \"height\": 58.7493896484375, \"details\": [{\"value\": 4}], \"tool_label\": \"Box(es)\"}, {\"x\": 88.72428894042969, \"y\": 1735.918701171875, \"tool\": 0, \"frame\": 0, \"width\": 222.9463653564453, \"height\": 36.1534423828125, \"details\": [{\"value\": 1}], \"tool_label\": \"Box(es)\"}, {\"x\": 424.6502380371094, \"y\": 1274.9619140625, \"tool\": 0, \"frame\": 0, \"width\": 93.39645385742188, \"height\": 149.133056640625, \"details\": [{\"value\": 1}], \"tool_label\": \"Box(es)\"}]}], indent=2))"
   ]
  },
  {
   "cell_type": "markdown",
   "id": "f09d0a3c-f616-4ab2-9e99-7aeba88cd65e",
   "metadata": {
    "heading_collapsed": "true",
    "hidden": true,
    "tags": []
   },
   "source": [
    "### What a workflow entry looks like for Label Babel 2"
   ]
  },
  {
   "cell_type": "code",
   "execution_count": 7,
   "id": "de0d6aec-a8b5-4f4e-89cd-6af32d71c874",
   "metadata": {
    "hidden": true
   },
   "outputs": [
    {
     "name": "stdout",
     "output_type": "stream",
     "text": [
      "{\n",
      "  \"T0.help\": \"Locate all labels on the specimen and select the answer that best matches. Draw a box around each label until you have identified them all. If you want to start your rectangle over, just click the \\\"x.\\\"\\n\\nUse the zoom and pan buttons in the upper right to focus in on any smaller labels if needed. Once you have selected the label and the type, click OK to move on to next label. \\n\\nYou can ignore any envelopes, tags or fragment packets. Also, ignore any stamps directly on the sheet, scale bars or color chips.   \\n\\nSelect the option that best represents the label. Stray handwritten marks such as check marks can be ignored when deciding whether the label is typewritten, handwritten or both. If a label is mostly handwritten, and only the herbarium nameplate is typed (i.e. the herbarium name), classify this as \\u201cAll handwritten.\\\"\\n\\nNote that there may be different kinds of barcodes represented such as linear and matrix (2D). All of these should be labeled \\\"Barcode.\\\" More information about different types of barcodes can be found [on Wikipedia](+tab+https://en.wikipedia.org/wiki/Barcode#Types_of_barcodes).\\n\\n**Blue arrows indicate labels with typewritten text. Red arrow indicates a barcode.**\\n\\n![Label_Finder_Ex1_ArrowsV3.jpg](https://panoptes-uploads.zooniverse.org/project_attached_image/d21033b1-c749-49c0-9814-e0acf7a2cc7f.jpeg =450x)\\n\\n**Blue arrows indicate labels with typewritten text. Red arrow indicate a barcode.**\\n\\n![Label_Finder_Ex2_ArrowsV3.jpg](https://panoptes-uploads.zooniverse.org/project_attached_image/a7f981dc-d90e-45b0-ad6e-034838d98f1c.jpeg =450x)\\n\\n**Blue arrows indicate labels with typewritten text. Red arrow indicates a barcode. Green arrows indicate handwritten text.**\\n\\n![Label_Finder_Ex3_ArrowV3.jpg](https://panoptes-uploads.zooniverse.org/project_attached_image/df1f806b-3eca-4719-99fa-146ddd15bbb8.jpeg =450x)\\n\\n**The example below contains a fragment packet in the upper left of the sheet. There is also a stamp in the upper right. These can be ignored and do not need to be identified.**\\n\\n![Other_Example.jpg](https://panoptes-uploads.zooniverse.org/project_attached_image/f4d80819-e68f-4ccc-b36e-c7f3083aa230.jpeg =450x)\\n\\n\\n**The example below contains a tag marked by an orange arrow. These can be ignored and do not need to be identified.**\\n\\n![TagEx1.jpg](https://panoptes-uploads.zooniverse.org/project_attached_image/bf49dd12-0102-4223-afa8-8ac7ac6af818.jpeg =450x)\\n\\n**The example below contains a tag marked by an orange arrow. These can be ignored and do not need to be identified.**\\n\\n![TagEx2.jpg](https://panoptes-uploads.zooniverse.org/project_attached_image/3864482d-8edb-47b0-87e5-d00fc47ee3cb.jpeg =450x)\",\n",
      "  \"T1.help\": \"\",\n",
      "  \"T0.instruction\": \"Identify the labels on the specimen and the kind of text they contain.\",\n",
      "  \"T1.instruction\": \"Identify all the labels on the specimen, the type of label and the kind of text it contains.\",\n",
      "  \"T0.tools.0.label\": \"Box(es)\",\n",
      "  \"T1.tools.0.label\": \"Rectangle (secondary label)\",\n",
      "  \"T0.tools.0.details.0.help\": \"\",\n",
      "  \"T1.tools.0.details.0.help\": \"\",\n",
      "  \"T0.tools.0.details.0.question\": \"Choose the option that best describes the label you just marked:\",\n",
      "  \"T1.tools.0.details.0.question\": \"Choose the option that best describes the label you just marked:\",\n",
      "  \"T0.tools.0.details.0.answers.0.label\": \"Label - All handwritten\",\n",
      "  \"T0.tools.0.details.0.answers.1.label\": \"Label - All typewritten\\n\",\n",
      "  \"T0.tools.0.details.0.answers.2.label\": \"Label - Both\\n\",\n",
      "  \"T0.tools.0.details.0.answers.3.label\": \"Barcode\\n\",\n",
      "  \"T1.tools.0.details.0.answers.0.label\": \"Contains only handwritten text\",\n",
      "  \"T1.tools.0.details.0.answers.1.label\": \"Contains only printed text\",\n",
      "  \"T1.tools.0.details.0.answers.2.label\": \"Contains both handwritten and printed text\"\n",
      "}\n"
     ]
    }
   ],
   "source": [
    "print(json.dumps({\"T0.help\": \"Locate all labels on the specimen and select the answer that best matches. Draw a box around each label until you have identified them all. If you want to start your rectangle over, just click the \\\"x.\\\"\\n\\nUse the zoom and pan buttons in the upper right to focus in on any smaller labels if needed. Once you have selected the label and the type, click OK to move on to next label. \\n\\nYou can ignore any envelopes, tags or fragment packets. Also, ignore any stamps directly on the sheet, scale bars or color chips.   \\n\\nSelect the option that best represents the label. Stray handwritten marks such as check marks can be ignored when deciding whether the label is typewritten, handwritten or both. If a label is mostly handwritten, and only the herbarium nameplate is typed (i.e. the herbarium name), classify this as “All handwritten.\\\"\\n\\nNote that there may be different kinds of barcodes represented such as linear and matrix (2D). All of these should be labeled \\\"Barcode.\\\" More information about different types of barcodes can be found [on Wikipedia](+tab+https://en.wikipedia.org/wiki/Barcode#Types_of_barcodes).\\n\\n**Blue arrows indicate labels with typewritten text. Red arrow indicates a barcode.**\\n\\n![Label_Finder_Ex1_ArrowsV3.jpg](https://panoptes-uploads.zooniverse.org/project_attached_image/d21033b1-c749-49c0-9814-e0acf7a2cc7f.jpeg =450x)\\n\\n**Blue arrows indicate labels with typewritten text. Red arrow indicate a barcode.**\\n\\n![Label_Finder_Ex2_ArrowsV3.jpg](https://panoptes-uploads.zooniverse.org/project_attached_image/a7f981dc-d90e-45b0-ad6e-034838d98f1c.jpeg =450x)\\n\\n**Blue arrows indicate labels with typewritten text. Red arrow indicates a barcode. Green arrows indicate handwritten text.**\\n\\n![Label_Finder_Ex3_ArrowV3.jpg](https://panoptes-uploads.zooniverse.org/project_attached_image/df1f806b-3eca-4719-99fa-146ddd15bbb8.jpeg =450x)\\n\\n**The example below contains a fragment packet in the upper left of the sheet. There is also a stamp in the upper right. These can be ignored and do not need to be identified.**\\n\\n![Other_Example.jpg](https://panoptes-uploads.zooniverse.org/project_attached_image/f4d80819-e68f-4ccc-b36e-c7f3083aa230.jpeg =450x)\\n\\n\\n**The example below contains a tag marked by an orange arrow. These can be ignored and do not need to be identified.**\\n\\n![TagEx1.jpg](https://panoptes-uploads.zooniverse.org/project_attached_image/bf49dd12-0102-4223-afa8-8ac7ac6af818.jpeg =450x)\\n\\n**The example below contains a tag marked by an orange arrow. These can be ignored and do not need to be identified.**\\n\\n![TagEx2.jpg](https://panoptes-uploads.zooniverse.org/project_attached_image/3864482d-8edb-47b0-87e5-d00fc47ee3cb.jpeg =450x)\",\n",
    "                  \"T1.help\": \"\", \"T0.instruction\": \"Identify the labels on the specimen and the kind of text they contain.\", \"T1.instruction\": \"Identify all the labels on the specimen, the type of label and the kind of text it contains.\", \"T0.tools.0.label\": \"Box(es)\", \"T1.tools.0.label\": \"Rectangle (secondary label)\", \"T0.tools.0.details.0.help\": \"\", \"T1.tools.0.details.0.help\": \"\", \"T0.tools.0.details.0.question\": \"Choose the option that best describes the label you just marked:\", \"T1.tools.0.details.0.question\": \"Choose the option that best describes the label you just marked:\", \"T0.tools.0.details.0.answers.0.label\": \"Label - All handwritten\", \"T0.tools.0.details.0.answers.1.label\": \"Label - All typewritten\\n\", \"T0.tools.0.details.0.answers.2.label\": \"Label - Both\\n\", \"T0.tools.0.details.0.answers.3.label\": \"Barcode\\n\", \"T1.tools.0.details.0.answers.0.label\": \"Contains only handwritten text\", \"T1.tools.0.details.0.answers.1.label\": \"Contains only printed text\", \"T1.tools.0.details.0.answers.2.label\": \"Contains both handwritten and printed text\"}, indent=2))"
   ]
  },
  {
   "cell_type": "markdown",
   "id": "588879e3-4c11-4013-b548-aca537e8db68",
   "metadata": {
    "heading_collapsed": "true",
    "hidden": true,
    "tags": []
   },
   "source": [
    "#### Command line arguments for getting unreconciled data from Label Babel 2"
   ]
  },
  {
   "cell_type": "markdown",
   "id": "15f6e093-4f5a-4adf-8eea-91d900bbf550",
   "metadata": {
    "hidden": true
   },
   "source": [
    "```bash\n",
    "./reconcile.py -u data/raw/17633_label_babel_2.unreconciled.csv --tool-label-hack '0:Handwritten,1:Typewritten,2:Both,3:Barcode' data/raw/labs_label-babel-2-classifications.csv\n",
    "```"
   ]
  },
  {
   "cell_type": "markdown",
   "id": "f6682bdd-1842-4669-a6ae-68552e438bc0",
   "metadata": {
    "tags": []
   },
   "source": [
    "## Reconcile data from Label Babel 2"
   ]
  },
  {
   "cell_type": "code",
   "execution_count": 8,
   "id": "d58e9ebe-7f87-41f9-b729-620d84d112b2",
   "metadata": {},
   "outputs": [],
   "source": [
    "with open(UNRECONCILED) as csv_file:\n",
    "    reader = csv.DictReader(csv_file)\n",
    "    classifications = [r for r in reader]"
   ]
  },
  {
   "cell_type": "markdown",
   "id": "e07f7d7b-0ef8-4135-86a7-641295b86028",
   "metadata": {},
   "source": [
    "### Group classifications by subject"
   ]
  },
  {
   "cell_type": "code",
   "execution_count": 9,
   "id": "35347be4-8786-43b3-83b1-684645b32071",
   "metadata": {},
   "outputs": [],
   "source": [
    "subs: dict[str, Subject] = defaultdict(lambda: Subject())\n",
    "\n",
    "for clsif in classifications:\n",
    "    sub_id = clsif['subject_id']\n",
    "\n",
    "    subs[sub_id].subject_id = sub_id\n",
    "    subs[sub_id].subject_file_name = clsif['subject_Filename']\n",
    "\n",
    "    coords = [v for k, v in clsif.items() if k.startswith('Box(es): box') and v]\n",
    "    boxes = np.array([Subject.bbox_from_json(c) for c in coords if c])\n",
    "    if len(boxes):\n",
    "        subs[sub_id].boxes = np.vstack((subs[sub_id].boxes, boxes))\n",
    "\n",
    "    selects = [(v if v else '') for k, v in clsif.items()\n",
    "               if k.startswith('Box(es): select')]\n",
    "    types = np.array(selects[:len(boxes)], dtype=str)\n",
    "    if len(types):\n",
    "        subs[sub_id].types = np.hstack((subs[sub_id].types, types))\n",
    "\n",
    "subjects = list(subs.values())"
   ]
  },
  {
   "cell_type": "markdown",
   "id": "a58b264d-cb5e-4688-89b4-c6c98cf411e0",
   "metadata": {},
   "source": [
    "### Merge all boxes in each group of boxes into a single bound box"
   ]
  },
  {
   "cell_type": "markdown",
   "id": "b2b89748-9a7d-45fd-bdcd-73bee586dfa8",
   "metadata": {},
   "source": [
    "There is a slight wrinkle here in that when labels are next to each other on the herbarium sheet some people lumped them into one large bounding box and others drew boxes around the individual labels. We'd prefer to have the individual bounding boxes for each label so we're going to do some extra processing to see if we can get them."
   ]
  },
  {
   "cell_type": "code",
   "execution_count": 10,
   "id": "e0998869-ae8f-48df-adf7-3bdf4b4a679c",
   "metadata": {
    "tags": []
   },
   "outputs": [
    {
     "name": "stdout",
     "output_type": "stream",
     "text": [
      "medialib.naturalis.nl_file_id_L.1732428_format_large.jpg\n",
      "medialib.naturalis.nl_file_id_L.1758368_format_large.jpg\n",
      "medialib.naturalis.nl_file_id_L.1943278_format_large.jpg\n",
      "medialib.naturalis.nl_file_id_L.2215372_format_large.jpg\n",
      "medialib.naturalis.nl_file_id_L.2381614_format_large.jpg\n",
      "medialib.naturalis.nl_file_id_L.2531270_format_large.jpg\n",
      "medialib.naturalis.nl_file_id_L.2713449_format_large.jpg\n",
      "medialib.naturalis.nl_file_id_L.2920885_format_large.jpg\n",
      "medialib.naturalis.nl_file_id_L.2920885_format_large.jpg\n"
     ]
    }
   ],
   "source": [
    "for_df = []\n",
    "\n",
    "for subject in subjects:\n",
    "    subject.merge_box_groups()\n",
    "    for_df.append(subject.to_dict(everything=True))"
   ]
  },
  {
   "cell_type": "code",
   "execution_count": 11,
   "id": "982eea9b-ca9d-43d6-868b-1f04872fba4a",
   "metadata": {},
   "outputs": [
    {
     "data": {
      "text/html": [
       "<div>\n",
       "<style scoped>\n",
       "    .dataframe tbody tr th:only-of-type {\n",
       "        vertical-align: middle;\n",
       "    }\n",
       "\n",
       "    .dataframe tbody tr th {\n",
       "        vertical-align: top;\n",
       "    }\n",
       "\n",
       "    .dataframe thead th {\n",
       "        text-align: right;\n",
       "    }\n",
       "</style>\n",
       "<table border=\"1\" class=\"dataframe\">\n",
       "  <thead>\n",
       "    <tr style=\"text-align: right;\">\n",
       "      <th></th>\n",
       "      <th>subject_id</th>\n",
       "      <th>subject_file_name</th>\n",
       "      <th>merged_box_1</th>\n",
       "      <th>merged_type_1</th>\n",
       "      <th>merged_box_2</th>\n",
       "      <th>merged_type_2</th>\n",
       "      <th>merged_box_3</th>\n",
       "      <th>merged_type_3</th>\n",
       "      <th>box_1</th>\n",
       "      <th>type_1</th>\n",
       "      <th>...</th>\n",
       "      <th>group_40</th>\n",
       "      <th>box_41</th>\n",
       "      <th>type_41</th>\n",
       "      <th>group_41</th>\n",
       "      <th>box_42</th>\n",
       "      <th>type_42</th>\n",
       "      <th>group_42</th>\n",
       "      <th>box_43</th>\n",
       "      <th>type_43</th>\n",
       "      <th>group_43</th>\n",
       "    </tr>\n",
       "  </thead>\n",
       "  <tbody>\n",
       "    <tr>\n",
       "      <th>0</th>\n",
       "      <td>56418756</td>\n",
       "      <td>biimages.biodiversity.ku.edu_static_VascularPl...</td>\n",
       "      <td>{\"left\": 1843, \"top\": 3366, \"right\": 2688, \"bo...</td>\n",
       "      <td>Typewritten</td>\n",
       "      <td>{\"left\": 124, \"top\": 3871, \"right\": 608, \"bott...</td>\n",
       "      <td>Barcode</td>\n",
       "      <td>{\"left\": 1887, \"top\": 1888, \"right\": 2138, \"bo...</td>\n",
       "      <td>Handwritten</td>\n",
       "      <td>{\"left\": 1843, \"top\": 3366, \"right\": 2688, \"bo...</td>\n",
       "      <td>Typewritten</td>\n",
       "      <td>...</td>\n",
       "      <td></td>\n",
       "      <td></td>\n",
       "      <td></td>\n",
       "      <td></td>\n",
       "      <td></td>\n",
       "      <td></td>\n",
       "      <td></td>\n",
       "      <td></td>\n",
       "      <td></td>\n",
       "      <td></td>\n",
       "    </tr>\n",
       "    <tr>\n",
       "      <th>1</th>\n",
       "      <td>56418757</td>\n",
       "      <td>biimages.biodiversity.ku.edu_static_VascularPl...</td>\n",
       "      <td>{\"left\": 1374, \"top\": 2694, \"right\": 2056, \"bo...</td>\n",
       "      <td>Typewritten</td>\n",
       "      <td>{\"left\": 1566, \"top\": 2558, \"right\": 2024, \"bo...</td>\n",
       "      <td>Typewritten</td>\n",
       "      <td>{\"left\": 71, \"top\": 2931, \"right\": 451, \"botto...</td>\n",
       "      <td>Barcode</td>\n",
       "      <td>{\"left\": 1395, \"top\": 2694, \"right\": 2031, \"bo...</td>\n",
       "      <td>Typewritten</td>\n",
       "      <td>...</td>\n",
       "      <td></td>\n",
       "      <td></td>\n",
       "      <td></td>\n",
       "      <td></td>\n",
       "      <td></td>\n",
       "      <td></td>\n",
       "      <td></td>\n",
       "      <td></td>\n",
       "      <td></td>\n",
       "      <td></td>\n",
       "    </tr>\n",
       "    <tr>\n",
       "      <th>2</th>\n",
       "      <td>56418758</td>\n",
       "      <td>biimages.biodiversity.ku.edu_static_VascularPl...</td>\n",
       "      <td>{\"left\": 1364, \"top\": 2699, \"right\": 2035, \"bo...</td>\n",
       "      <td>Typewritten</td>\n",
       "      <td>{\"left\": 941, \"top\": 2965, \"right\": 1375, \"bot...</td>\n",
       "      <td>Typewritten</td>\n",
       "      <td>{\"left\": 188, \"top\": 2960, \"right\": 547, \"bott...</td>\n",
       "      <td>Barcode</td>\n",
       "      <td>{\"left\": 1379, \"top\": 2722, \"right\": 2027, \"bo...</td>\n",
       "      <td>Typewritten</td>\n",
       "      <td>...</td>\n",
       "      <td></td>\n",
       "      <td></td>\n",
       "      <td></td>\n",
       "      <td></td>\n",
       "      <td></td>\n",
       "      <td></td>\n",
       "      <td></td>\n",
       "      <td></td>\n",
       "      <td></td>\n",
       "      <td></td>\n",
       "    </tr>\n",
       "    <tr>\n",
       "      <th>3</th>\n",
       "      <td>56418759</td>\n",
       "      <td>biimages.biodiversity.ku.edu_static_VascularPl...</td>\n",
       "      <td>{\"left\": 1303, \"top\": 2741, \"right\": 2038, \"bo...</td>\n",
       "      <td>Typewritten</td>\n",
       "      <td>{\"left\": 96, \"top\": 2884, \"right\": 534, \"botto...</td>\n",
       "      <td>Barcode</td>\n",
       "      <td>{\"left\": 1313, \"top\": 2614, \"right\": 1747, \"bo...</td>\n",
       "      <td>Typewritten</td>\n",
       "      <td>{\"left\": 1314, \"top\": 2782, \"right\": 2003, \"bo...</td>\n",
       "      <td>Typewritten</td>\n",
       "      <td>...</td>\n",
       "      <td></td>\n",
       "      <td></td>\n",
       "      <td></td>\n",
       "      <td></td>\n",
       "      <td></td>\n",
       "      <td></td>\n",
       "      <td></td>\n",
       "      <td></td>\n",
       "      <td></td>\n",
       "      <td></td>\n",
       "    </tr>\n",
       "    <tr>\n",
       "      <th>4</th>\n",
       "      <td>56418760</td>\n",
       "      <td>biimages.biodiversity.ku.edu_static_VascularPl...</td>\n",
       "      <td>{\"left\": 1295, \"top\": 2733, \"right\": 2053, \"bo...</td>\n",
       "      <td>Typewritten</td>\n",
       "      <td>{\"left\": 812, \"top\": 5, \"right\": 2071, \"bottom...</td>\n",
       "      <td>Typewritten</td>\n",
       "      <td>{\"left\": 1284, \"top\": 2612, \"right\": 2018, \"bo...</td>\n",
       "      <td>Typewritten</td>\n",
       "      <td>{\"left\": 1301, \"top\": 2750, \"right\": 2032, \"bo...</td>\n",
       "      <td>Typewritten</td>\n",
       "      <td>...</td>\n",
       "      <td></td>\n",
       "      <td></td>\n",
       "      <td></td>\n",
       "      <td></td>\n",
       "      <td></td>\n",
       "      <td></td>\n",
       "      <td></td>\n",
       "      <td></td>\n",
       "      <td></td>\n",
       "      <td></td>\n",
       "    </tr>\n",
       "  </tbody>\n",
       "</table>\n",
       "<p>5 rows × 173 columns</p>\n",
       "</div>"
      ],
      "text/plain": [
       "  subject_id                                  subject_file_name  \\\n",
       "0   56418756  biimages.biodiversity.ku.edu_static_VascularPl...   \n",
       "1   56418757  biimages.biodiversity.ku.edu_static_VascularPl...   \n",
       "2   56418758  biimages.biodiversity.ku.edu_static_VascularPl...   \n",
       "3   56418759  biimages.biodiversity.ku.edu_static_VascularPl...   \n",
       "4   56418760  biimages.biodiversity.ku.edu_static_VascularPl...   \n",
       "\n",
       "                                        merged_box_1 merged_type_1  \\\n",
       "0  {\"left\": 1843, \"top\": 3366, \"right\": 2688, \"bo...   Typewritten   \n",
       "1  {\"left\": 1374, \"top\": 2694, \"right\": 2056, \"bo...   Typewritten   \n",
       "2  {\"left\": 1364, \"top\": 2699, \"right\": 2035, \"bo...   Typewritten   \n",
       "3  {\"left\": 1303, \"top\": 2741, \"right\": 2038, \"bo...   Typewritten   \n",
       "4  {\"left\": 1295, \"top\": 2733, \"right\": 2053, \"bo...   Typewritten   \n",
       "\n",
       "                                        merged_box_2 merged_type_2  \\\n",
       "0  {\"left\": 124, \"top\": 3871, \"right\": 608, \"bott...       Barcode   \n",
       "1  {\"left\": 1566, \"top\": 2558, \"right\": 2024, \"bo...   Typewritten   \n",
       "2  {\"left\": 941, \"top\": 2965, \"right\": 1375, \"bot...   Typewritten   \n",
       "3  {\"left\": 96, \"top\": 2884, \"right\": 534, \"botto...       Barcode   \n",
       "4  {\"left\": 812, \"top\": 5, \"right\": 2071, \"bottom...   Typewritten   \n",
       "\n",
       "                                        merged_box_3 merged_type_3  \\\n",
       "0  {\"left\": 1887, \"top\": 1888, \"right\": 2138, \"bo...   Handwritten   \n",
       "1  {\"left\": 71, \"top\": 2931, \"right\": 451, \"botto...       Barcode   \n",
       "2  {\"left\": 188, \"top\": 2960, \"right\": 547, \"bott...       Barcode   \n",
       "3  {\"left\": 1313, \"top\": 2614, \"right\": 1747, \"bo...   Typewritten   \n",
       "4  {\"left\": 1284, \"top\": 2612, \"right\": 2018, \"bo...   Typewritten   \n",
       "\n",
       "                                               box_1       type_1  ...  \\\n",
       "0  {\"left\": 1843, \"top\": 3366, \"right\": 2688, \"bo...  Typewritten  ...   \n",
       "1  {\"left\": 1395, \"top\": 2694, \"right\": 2031, \"bo...  Typewritten  ...   \n",
       "2  {\"left\": 1379, \"top\": 2722, \"right\": 2027, \"bo...  Typewritten  ...   \n",
       "3  {\"left\": 1314, \"top\": 2782, \"right\": 2003, \"bo...  Typewritten  ...   \n",
       "4  {\"left\": 1301, \"top\": 2750, \"right\": 2032, \"bo...  Typewritten  ...   \n",
       "\n",
       "  group_40 box_41 type_41 group_41 box_42 type_42 group_42 box_43 type_43  \\\n",
       "0                                                                           \n",
       "1                                                                           \n",
       "2                                                                           \n",
       "3                                                                           \n",
       "4                                                                           \n",
       "\n",
       "  group_43  \n",
       "0           \n",
       "1           \n",
       "2           \n",
       "3           \n",
       "4           \n",
       "\n",
       "[5 rows x 173 columns]"
      ]
     },
     "execution_count": 11,
     "metadata": {},
     "output_type": "execute_result"
    }
   ],
   "source": [
    "df = pd.DataFrame(for_df).fillna('')\n",
    "df.head()"
   ]
  },
  {
   "cell_type": "code",
   "execution_count": 12,
   "id": "6472a0bb-0821-495f-8a45-bb0cdbbd3720",
   "metadata": {},
   "outputs": [],
   "source": [
    "df.to_csv(RECONCILED, index=False)"
   ]
  },
  {
   "cell_type": "code",
   "execution_count": null,
   "id": "840fff4f-a162-407e-aca7-74e12ef1305a",
   "metadata": {},
   "outputs": [],
   "source": []
  }
 ],
 "metadata": {
  "kernelspec": {
   "display_name": "Python 3",
   "language": "python",
   "name": "python3"
  },
  "language_info": {
   "codemirror_mode": {
    "name": "ipython",
    "version": 3
   },
   "file_extension": ".py",
   "mimetype": "text/x-python",
   "name": "python",
   "nbconvert_exporter": "python",
   "pygments_lexer": "ipython3",
   "version": "3.9.5"
  },
  "varInspector": {
   "cols": {
    "lenName": 16,
    "lenType": 16,
    "lenVar": 40
   },
   "kernels_config": {
    "python": {
     "delete_cmd_postfix": "",
     "delete_cmd_prefix": "del ",
     "library": "var_list.py",
     "varRefreshCmd": "print(var_dic_list())"
    },
    "r": {
     "delete_cmd_postfix": ") ",
     "delete_cmd_prefix": "rm(",
     "library": "var_list.r",
     "varRefreshCmd": "cat(var_dic_list()) "
    }
   },
   "types_to_exclude": [
    "module",
    "function",
    "builtin_function_or_method",
    "instance",
    "_Feature"
   ],
   "window_display": false
  }
 },
 "nbformat": 4,
 "nbformat_minor": 5
}
