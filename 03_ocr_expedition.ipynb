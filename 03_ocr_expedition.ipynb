{
 "cells": [
  {
   "cell_type": "code",
   "execution_count": 1,
   "id": "afc61a9a-9590-4126-8c41-810e14fad851",
   "metadata": {},
   "outputs": [],
   "source": [
    "from collections import defaultdict\n",
    "from pathlib import Path\n",
    "\n",
    "import enchant\n",
    "import numpy as np\n",
    "# import pytesseract\n",
    "from IPython.display import display\n",
    "from ipywidgets import interact\n",
    "from PIL import Image, ImageDraw, ImageFont  # , ImageOps\n",
    "\n",
    "# import digi_leap.const as const\n",
    "import digi_leap.box_calc as calc\n",
    "import digi_leap.util as util\n",
    "from digi_leap.ocr import ocr_label\n",
    "from digi_leap.ocr_score import BBox"
   ]
  },
  {
   "cell_type": "code",
   "execution_count": 2,
   "id": "de458159-8097-4f2a-b9c5-037cba36200c",
   "metadata": {},
   "outputs": [],
   "source": [
    "LABELS_DIR = Path('data') / 'labels-1' / 'typewritten'\n",
    "# LABELS_DIR = Path('data') / 'labels-1' / 'handwritten'\n",
    "\n",
    "FONTS_DIR = Path('fonts') / 'print' / 'Source_Code_Pro'\n",
    "FONT = FONTS_DIR / 'SourceCodePro-Regular.ttf'\n",
    "\n",
    "PREVIOUS = Path('output') / 'ocr_sample_2021-05-10a'\n",
    "OUTPUT = Path('output') / 'ocr_sample_2021-05-10b'"
   ]
  },
  {
   "cell_type": "code",
   "execution_count": 3,
   "id": "63d2ed6d",
   "metadata": {},
   "outputs": [],
   "source": [
    "LANG = 'en_US'\n",
    "EXTRA_VOCAB = Path('data') / 'custom_vocab.txt'\n",
    "VOCAB = enchant.DictWithPWL(LANG, str(EXTRA_VOCAB))"
   ]
  },
  {
   "cell_type": "code",
   "execution_count": 4,
   "id": "5bee1acf-5f34-4e09-b539-827ac0892d5e",
   "metadata": {},
   "outputs": [],
   "source": [
    "NAMES = {p.name for p in PREVIOUS.glob('*.jpg')}\n",
    "IMAGES = [p for p in LABELS_DIR.glob('*.jpg') if p.name in NAMES]"
   ]
  },
  {
   "cell_type": "code",
   "execution_count": 5,
   "id": "a8507305-fbbc-4660-849e-3bc373f141a4",
   "metadata": {},
   "outputs": [],
   "source": [
    "class FontDict(dict):\n",
    "    def __missing__(self, key):\n",
    "        return ImageFont.truetype(str(FONT), key)"
   ]
  },
  {
   "cell_type": "code",
   "execution_count": 6,
   "id": "8f4c6b60-f70d-4008-a55c-9069e10463d2",
   "metadata": {},
   "outputs": [],
   "source": [
    "base = 48\n",
    "fonts = FontDict()\n",
    "base_font = ImageFont.truetype(str(FONT), base)\n",
    "\n",
    "scaled_by = 'scaled by: '"
   ]
  },
  {
   "cell_type": "code",
   "execution_count": 7,
   "id": "c5302b33-e952-4e1d-88d1-c6444b4c94f9",
   "metadata": {},
   "outputs": [],
   "source": [
    "def show_ocr(idx):\n",
    "    path = IMAGES[idx]\n",
    "    print(path)\n",
    "    label = Image.open(path)\n",
    "    width, height = label.size\n",
    "\n",
    "    image = Image.new('RGB', (width, height * 2))\n",
    "    image.paste(label, (0, 0))\n",
    "\n",
    "    result = Image.new('RGB', label.size, color='white')\n",
    "\n",
    "    score = ocr_label(path)\n",
    "    scale = [m for m in score.score.method if m.startswith(scaled_by)]\n",
    "    scale = float(scale[0].removeprefix(scaled_by)) if scale else 1.0\n",
    "\n",
    "    draw = ImageDraw.Draw(result)\n",
    "\n",
    "    for bbox in score.score.data:\n",
    "        text = bbox['text']\n",
    "\n",
    "        bl, bt, br, bb = bbox['left'], bbox['top'], bbox['right'], bbox['bottom']\n",
    "        bl, bt, br, bb = bl // scale, bt // scale, br // scale, bb // scale\n",
    "\n",
    "        for size in range(base, 8, -1):\n",
    "            tl, tt, tr, tb = draw.textbbox(\n",
    "                (bl, bt), text, font=fonts[size], anchor='lt')\n",
    "            if br >= tr and bb >= tb:\n",
    "                break\n",
    "        else:\n",
    "            continue\n",
    "\n",
    "        draw.rectangle((bl, bt, br, bb), outline='red')\n",
    "        draw.rectangle((tl, tt, tr, tb), outline='blue')\n",
    "        draw.text((bl, bt), text, font=fonts[size], fill='black', anchor='lt')\n",
    "\n",
    "    image.paste(result, (0, height))\n",
    "\n",
    "    display(image)\n",
    "\n",
    "\n",
    "# show_ocr(3)\n",
    "# interact(show_ocr, idx=(0, len(IMAGES) - 1));"
   ]
  },
  {
   "cell_type": "code",
   "execution_count": 8,
   "id": "91015667-b077-425f-8b81-f353d8f256a6",
   "metadata": {},
   "outputs": [],
   "source": [
    "class MergedBox(BBox):\n",
    "\n",
    "    def __init__(self, **kwargs):\n",
    "        super().__init__(**kwargs)\n",
    "        self.boxes: list[BBox] = []"
   ]
  },
  {
   "cell_type": "code",
   "execution_count": 9,
   "id": "4a4a7179-a315-498a-b56b-23c0edf0fb5b",
   "metadata": {},
   "outputs": [],
   "source": [
    "def init_boxes(old_boxes, image_width, *, scale=1.0, pad_chars=2):\n",
    "    \"\"\"Pad the bounding boxes on the left & right.\"\"\"\n",
    "    boxes = []\n",
    "\n",
    "    for box in old_boxes:\n",
    "        ll, tt, rr, bb = box.left, box.top, box.right, box.bottom\n",
    "        ll, tt, rr, bb = ll // scale, tt // scale, rr // scale, bb // scale\n",
    "\n",
    "        per_char = (rr - ll) / len(box.text)\n",
    "        ll = max(0, ll - pad_chars * per_char)\n",
    "        rr = min(image_width, rr + pad_chars * per_char)\n",
    "\n",
    "        new_box = MergedBox(left=ll, top=tt, right=rr, bottom=bb, text=box.text)\n",
    "        new_box.boxes.append(box)\n",
    "        boxes.append(new_box)\n",
    "\n",
    "    return boxes"
   ]
  },
  {
   "cell_type": "code",
   "execution_count": 10,
   "id": "366c4681-2a1e-41b3-bf69-65c27bbf667a",
   "metadata": {},
   "outputs": [],
   "source": [
    "def link_box(inters, row, chains, chain):\n",
    "    linked = np.argwhere(inters[row] > 0.0).squeeze(1)\n",
    "    for r in linked:\n",
    "        if chains[r] == 0:\n",
    "            chains[r] = chain\n",
    "            link_box(inters, r, chains, chain)"
   ]
  },
  {
   "cell_type": "code",
   "execution_count": 11,
   "id": "bd22663b-f220-47e8-bd4a-13d6e3516089",
   "metadata": {},
   "outputs": [],
   "source": [
    "def merge_boxes(boxes, threshold=0.1):\n",
    "    \"\"\"Merge left/right extended boxes that overlap.\"\"\"\n",
    "    array = np.array([b.as_list() for b in boxes])\n",
    "    inters = calc.all_fractions(array)\n",
    "    inters = np.triu(inters)\n",
    "\n",
    "    mask = np.where(inters < threshold)\n",
    "    inters[mask] = 0.0\n",
    "\n",
    "    chain = 0\n",
    "    chains = defaultdict(int)\n",
    "    for r, row in enumerate(inters):\n",
    "        if chains[r] != 0:\n",
    "            continue\n",
    "        chain += 1\n",
    "        link_box(inters, r, chains, chain)\n",
    "\n",
    "    merged = defaultdict(lambda: MergedBox())\n",
    "    for b, chain in chains.items():\n",
    "        box = boxes[b]\n",
    "        group = merged[chain]\n",
    "        group.boxes.append(box)\n",
    "        group.left = min(group.left, box.left)\n",
    "        group.top = min(group.top, box.top)\n",
    "        group.right = max(group.right, box.right)\n",
    "        group.bottom = max(group.bottom, box.bottom)\n",
    "\n",
    "    for group in merged.values():\n",
    "        group.boxes = sorted(group.boxes, key=lambda b: (b.left, b.top))\n",
    "        group.text = ' '.join(b.text for b in group.boxes)\n",
    "\n",
    "    return list(merged.values())"
   ]
  },
  {
   "cell_type": "code",
   "execution_count": 12,
   "id": "9aaa095c-2ee5-4b74-9cd0-3b9eb65866f8",
   "metadata": {
    "scrolled": false
   },
   "outputs": [
    {
     "data": {
      "application/vnd.jupyter.widget-view+json": {
       "model_id": "9f76117bc1604423a2d5a29240756d64",
       "version_major": 2,
       "version_minor": 0
      },
      "text/plain": [
       "interactive(children=(IntSlider(value=49, description='idx', max=99), Output()), _dom_classes=('widget-interac…"
      ]
     },
     "metadata": {},
     "output_type": "display_data"
    }
   ],
   "source": [
    "def merge_cells(idx):\n",
    "    path = IMAGES[idx]\n",
    "    print(path)\n",
    "    label = Image.open(path)\n",
    "    width, height = label.size\n",
    "\n",
    "    image = Image.new('RGB', (width, height * 2))\n",
    "    image.paste(label, (0, 0))\n",
    "\n",
    "    result = Image.new('RGB', label.size, color='white')\n",
    "\n",
    "    score = ocr_label(path)\n",
    "    print(score.score)\n",
    "\n",
    "    scale = [m for m in score.score.method if m.startswith(scaled_by)]\n",
    "    scale = float(scale[0].removeprefix(scaled_by)) if scale else 1.0\n",
    "\n",
    "    boxes0 = init_boxes(score.score.data, width, scale=scale)\n",
    "    boxes = boxes0\n",
    "    boxes = merge_boxes(boxes, threshold=0.1)\n",
    "\n",
    "    draw = ImageDraw.Draw(result)\n",
    "\n",
    "    for b in boxes:\n",
    "        for size in range(base, int(16 / scale), -1):\n",
    "            c = draw.textbbox((b.left, b.top), b.text, font=fonts[size], anchor='lt')\n",
    "            if b.right >= c[2] and b.bottom >= c[3]:\n",
    "                break\n",
    "            else:\n",
    "                continue\n",
    "\n",
    "#         draw.rectangle(b.as_list(), outline='red')\n",
    "#         # draw.rectangle(c.as_list(), outline='blue')\n",
    "        draw.text((b.left, b.top), b.text, font=fonts[size], fill='black', anchor='lt')\n",
    "\n",
    "#     for b in boxes0:\n",
    "#         draw.rectangle(b.as_list(), outline='blue')\n",
    "\n",
    "    image.paste(result, (0, height))\n",
    "    display(image)\n",
    "\n",
    "\n",
    "# merge_cells(46)\n",
    "# merge_cells(48)\n",
    "interact(merge_cells, idx=(0, len(IMAGES) - 1));"
   ]
  },
  {
   "cell_type": "code",
   "execution_count": null,
   "id": "c5818a19-54ff-4811-8e77-1873a867cfb9",
   "metadata": {},
   "outputs": [],
   "source": []
  }
 ],
 "metadata": {
  "kernelspec": {
   "display_name": "Python 3.9.0  ('.venv': venv)",
   "language": "python",
   "name": "pythonjvsc74a57bd032d845bac60b679f8e5f22d8a5bba0d3cb74b30896cf30d8a0b9935d5a07e95d"
  },
  "language_info": {
   "codemirror_mode": {
    "name": "ipython",
    "version": 3
   },
   "file_extension": ".py",
   "mimetype": "text/x-python",
   "name": "python",
   "nbconvert_exporter": "python",
   "pygments_lexer": "ipython3",
   "version": "3.9.5"
  },
  "metadata": {
   "interpreter": {
    "hash": "32d845bac60b679f8e5f22d8a5bba0d3cb74b30896cf30d8a0b9935d5a07e95d"
   }
  },
  "varInspector": {
   "cols": {
    "lenName": 16,
    "lenType": 16,
    "lenVar": 40
   },
   "kernels_config": {
    "python": {
     "delete_cmd_postfix": "",
     "delete_cmd_prefix": "del ",
     "library": "var_list.py",
     "varRefreshCmd": "print(var_dic_list())"
    },
    "r": {
     "delete_cmd_postfix": ") ",
     "delete_cmd_prefix": "rm(",
     "library": "var_list.r",
     "varRefreshCmd": "cat(var_dic_list()) "
    }
   },
   "types_to_exclude": [
    "module",
    "function",
    "builtin_function_or_method",
    "instance",
    "_Feature"
   ],
   "window_display": false
  }
 },
 "nbformat": 4,
 "nbformat_minor": 5
}
