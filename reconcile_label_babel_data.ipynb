{
 "cells": [
  {
   "cell_type": "markdown",
   "id": "79d37170-5839-4940-974a-a561988c042d",
   "metadata": {
    "tags": []
   },
   "source": [
    "# Reconcile data from Label Babel"
   ]
  },
  {
   "cell_type": "markdown",
   "id": "aa3932de-5ca4-4802-8ac0-dd01bfcab1e2",
   "metadata": {
    "heading_collapsed": true,
    "tags": []
   },
   "source": [
    "## Imports and other setup"
   ]
  },
  {
   "cell_type": "code",
   "execution_count": 1,
   "id": "80c75b0a-ffe5-4a4c-8e5a-c38e4ef32684",
   "metadata": {
    "hidden": true
   },
   "outputs": [],
   "source": [
    "%reload_ext autoreload\n",
    "%autoreload 2"
   ]
  },
  {
   "cell_type": "code",
   "execution_count": 2,
   "id": "e3a589b6-31cb-4a82-91ba-15d41114752e",
   "metadata": {
    "hidden": true
   },
   "outputs": [],
   "source": [
    "import csv\n",
    "import json\n",
    "from collections import defaultdict\n",
    "from pathlib import Path\n",
    "\n",
    "import numpy as np\n",
    "import pandas as pd\n",
    "from PIL import Image, UnidentifiedImageError\n",
    "from sklearn.model_selection import train_test_split\n",
    "from tqdm import tqdm\n",
    "\n",
    "from digi_leap.subject import Subject"
   ]
  },
  {
   "cell_type": "markdown",
   "id": "1a7ea8c2",
   "metadata": {
    "heading_collapsed": true
   },
   "source": [
    "## Data that may change for each user"
   ]
  },
  {
   "cell_type": "code",
   "execution_count": 3,
   "id": "876fd4a8-62b4-4e27-a70d-3de859aec6b9",
   "metadata": {
    "hidden": true
   },
   "outputs": [],
   "source": [
    "DATA_DIR = Path.cwd() / 'data'\n",
    "\n",
    "LABEL_BABEL_1 = DATA_DIR / 'label-babel-1'\n",
    "LABEL_BABEL_2 = DATA_DIR / 'label-babel-2'\n",
    "\n",
    "SHEETS_1 = LABEL_BABEL_1 / 'herbarium-sheets'\n",
    "SHEETS_2 = LABEL_BABEL_2 / 'herbarium-sheets-small'\n",
    "\n",
    "UNRECONCILED = LABEL_BABEL_2 / '17633_label_babel_2.unreconciled.csv'\n",
    "RECONCILED = LABEL_BABEL_2 / '17633_label_babel_2.reconciled.csv'\n",
    "TRAIN = LABEL_BABEL_2 / '17633_label_babel_2.train.csv'\n",
    "TEST = LABEL_BABEL_2 / '17633_label_babel_2.test.csv'"
   ]
  },
  {
   "cell_type": "markdown",
   "id": "f6682bdd-1842-4669-a6ae-68552e438bc0",
   "metadata": {
    "heading_collapsed": true,
    "tags": []
   },
   "source": [
    "## Read unreconciled data"
   ]
  },
  {
   "cell_type": "code",
   "execution_count": 4,
   "id": "d58e9ebe-7f87-41f9-b729-620d84d112b2",
   "metadata": {
    "hidden": true
   },
   "outputs": [],
   "source": [
    "with open(UNRECONCILED) as csv_file:\n",
    "    reader = csv.DictReader(csv_file)\n",
    "    classifications = [r for r in reader]"
   ]
  },
  {
   "cell_type": "markdown",
   "id": "e07f7d7b-0ef8-4135-86a7-641295b86028",
   "metadata": {},
   "source": [
    "## Group classifications by subject"
   ]
  },
  {
   "cell_type": "code",
   "execution_count": 5,
   "id": "35347be4-8786-43b3-83b1-684645b32071",
   "metadata": {},
   "outputs": [
    {
     "name": "stderr",
     "output_type": "stream",
     "text": [
      "100%|██████████| 15027/15027 [00:00<00:00, 23964.16it/s]\n"
     ]
    }
   ],
   "source": [
    "subs: dict[str, Subject] = defaultdict(lambda: Subject())\n",
    "\n",
    "for clsif in tqdm(classifications):\n",
    "    sub_id = clsif['subject_id']\n",
    "\n",
    "    subs[sub_id].subject_id = sub_id\n",
    "    subs[sub_id].image_file = clsif['subject_Filename']\n",
    "\n",
    "    coords = [v for k, v in clsif.items() if k.startswith('Box(es): box') and v]\n",
    "    boxes = np.array([Subject.bbox_from_json(c) for c in coords if c])\n",
    "    if len(boxes):\n",
    "        subs[sub_id].boxes = np.vstack((subs[sub_id].boxes, boxes))\n",
    "\n",
    "    selects = [(v if v else '') for k, v in clsif.items()\n",
    "               if k.startswith('Box(es): select')]\n",
    "    types = np.array(selects[:len(boxes)], dtype=str)\n",
    "    if len(types):\n",
    "        subs[sub_id].types = np.hstack((subs[sub_id].types, types))\n",
    "\n",
    "subjects = list(subs.values())"
   ]
  },
  {
   "cell_type": "markdown",
   "id": "a58b264d-cb5e-4688-89b4-c6c98cf411e0",
   "metadata": {},
   "source": [
    "## Merge all boxes in each group of boxes into a single bound box"
   ]
  },
  {
   "cell_type": "markdown",
   "id": "b2b89748-9a7d-45fd-bdcd-73bee586dfa8",
   "metadata": {},
   "source": [
    "There is a slight wrinkle here in that when labels are next to each other on the herbarium sheet some people lumped them into one large bounding box and others drew boxes around the individual labels. We'd prefer to have the individual bounding boxes for each label so we're going to do some extra processing to see if we can get them."
   ]
  },
  {
   "cell_type": "code",
   "execution_count": 6,
   "id": "e0998869-ae8f-48df-adf7-3bdf4b4a679c",
   "metadata": {
    "tags": []
   },
   "outputs": [
    {
     "name": "stderr",
     "output_type": "stream",
     "text": [
      "100%|██████████| 4995/4995 [00:05<00:00, 932.09it/s] \n"
     ]
    }
   ],
   "source": [
    "for_df = []\n",
    "\n",
    "for subject in tqdm(subjects):\n",
    "    subject.merge_box_groups()\n",
    "    for_df.append(subject.to_dict(everything=True))"
   ]
  },
  {
   "cell_type": "markdown",
   "id": "0cf7fb24",
   "metadata": {},
   "source": [
    "## Get image sizes"
   ]
  },
  {
   "cell_type": "code",
   "execution_count": 7,
   "id": "66f500c3",
   "metadata": {},
   "outputs": [
    {
     "name": "stderr",
     "output_type": "stream",
     "text": [
      "100%|██████████| 4995/4995 [00:00<00:00, 7882.13it/s]\n"
     ]
    },
    {
     "name": "stdout",
     "output_type": "stream",
     "text": [
      "4994\n"
     ]
    }
   ],
   "source": [
    "df_rows = []\n",
    "\n",
    "for subject in tqdm(for_df):\n",
    "    path = SHEETS_2 / subject['image_file']\n",
    "    try:\n",
    "        image = Image.open(path)\n",
    "        width, height = image.size\n",
    "    except UnidentifiedImageError:\n",
    "        continue\n",
    "    subject['image_size'] = {'width': width, 'height': height}\n",
    "    df_rows.append(subject)\n",
    "\n",
    "print(len(df_rows))"
   ]
  },
  {
   "cell_type": "markdown",
   "id": "874e6c1a",
   "metadata": {},
   "source": [
    "## Sort data frame columns"
   ]
  },
  {
   "cell_type": "code",
   "execution_count": 8,
   "id": "982eea9b-ca9d-43d6-868b-1f04872fba4a",
   "metadata": {},
   "outputs": [],
   "source": [
    "df = pd.DataFrame(df_rows).fillna('')"
   ]
  },
  {
   "cell_type": "code",
   "execution_count": 9,
   "id": "d5c15578",
   "metadata": {},
   "outputs": [],
   "source": [
    "columns = \"\"\" subject_id  image_file image_size \"\"\".split()\n",
    "\n",
    "boxes = [k for k in df.columns if k.startswith('merged_box_')]\n",
    "types = [k for k in df.columns if k.startswith('merged_type_')]\n",
    "columns += [c for s in zip(boxes, types) for c in s]\n",
    "\n",
    "boxes = [k for k in df.columns if k.startswith('removed_box_')]\n",
    "types = [k for k in df.columns if k.startswith('removed_type_')]\n",
    "columns += [c for s in zip(boxes, types) for c in s]\n",
    "\n",
    "boxes = [k for k in df.columns if k.startswith('box_')]\n",
    "types = [k for k in df.columns if k.startswith('type_')]\n",
    "groups = [k for k in df.columns if k.startswith('group_')]\n",
    "columns += [c for s in zip(boxes, types, groups) for c in s]\n",
    "\n",
    "df = df[columns]"
   ]
  },
  {
   "cell_type": "markdown",
   "id": "28c153e7",
   "metadata": {},
   "source": [
    "## Split into training and test sets"
   ]
  },
  {
   "cell_type": "code",
   "execution_count": 10,
   "id": "6472a0bb-0821-495f-8a45-bb0cdbbd3720",
   "metadata": {},
   "outputs": [],
   "source": [
    "df.to_csv(RECONCILED, index=False)\n",
    "\n",
    "train_df, test_df = train_test_split(df, test_size=0.2, shuffle=True, random_state=9984)\n",
    "\n",
    "train_df.to_csv(TRAIN, index=False)\n",
    "test_df.to_csv(TEST, index=False)"
   ]
  },
  {
   "cell_type": "code",
   "execution_count": null,
   "id": "04833aec",
   "metadata": {},
   "outputs": [],
   "source": []
  }
 ],
 "metadata": {
  "kernelspec": {
   "display_name": "Python 3",
   "language": "python",
   "name": "python3"
  },
  "language_info": {
   "codemirror_mode": {
    "name": "ipython",
    "version": 3
   },
   "file_extension": ".py",
   "mimetype": "text/x-python",
   "name": "python",
   "nbconvert_exporter": "python",
   "pygments_lexer": "ipython3",
   "version": "3.9.5"
  },
  "varInspector": {
   "cols": {
    "lenName": 16,
    "lenType": 16,
    "lenVar": 40
   },
   "kernels_config": {
    "python": {
     "delete_cmd_postfix": "",
     "delete_cmd_prefix": "del ",
     "library": "var_list.py",
     "varRefreshCmd": "print(var_dic_list())"
    },
    "r": {
     "delete_cmd_postfix": ") ",
     "delete_cmd_prefix": "rm(",
     "library": "var_list.r",
     "varRefreshCmd": "cat(var_dic_list()) "
    }
   },
   "types_to_exclude": [
    "module",
    "function",
    "builtin_function_or_method",
    "instance",
    "_Feature"
   ],
   "window_display": false
  }
 },
 "nbformat": 4,
 "nbformat_minor": 5
}
