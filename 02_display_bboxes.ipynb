{
 "cells": [
  {
   "cell_type": "code",
   "execution_count": 1,
   "id": "dcc8cc4b-c954-4c70-9748-faed4e16ddb5",
   "metadata": {},
   "outputs": [],
   "source": [
    "import csv\n",
    "import json\n",
    "from itertools import cycle\n",
    "from pathlib import Path\n",
    "\n",
    "from IPython.display import display\n",
    "from ipywidgets import interact\n",
    "from PIL import Image, ImageDraw"
   ]
  },
  {
   "cell_type": "code",
   "execution_count": 2,
   "id": "dd52df45-3a60-42ff-8f40-90d46c300abc",
   "metadata": {},
   "outputs": [],
   "source": [
    "DATA_DIR = Path.cwd() / 'data'\n",
    "\n",
    "LABEL_BABEL_1 = DATA_DIR / 'label-babel-1'\n",
    "LABEL_BABEL_2 = DATA_DIR / 'label-babel-2'\n",
    "\n",
    "SHEETS_2 = LABEL_BABEL_2 / 'herbarium-sheets-small'\n",
    "\n",
    "UNRECONCILED = LABEL_BABEL_2 / '17633_label_babel_2.unreconciled.csv'\n",
    "RECONCILED = LABEL_BABEL_2 / '17633_label_babel_2.reconciled.csv'"
   ]
  },
  {
   "cell_type": "code",
   "execution_count": 3,
   "id": "e13599fb-4522-466f-a143-17272d417063",
   "metadata": {},
   "outputs": [],
   "source": [
    "with open(RECONCILED) as in_file:\n",
    "    reader = csv.DictReader(in_file)\n",
    "    SUBJECTS = [s for s in reader]"
   ]
  },
  {
   "cell_type": "code",
   "execution_count": 4,
   "id": "565f4594-9cd9-4f02-9690-dc628439e69f",
   "metadata": {},
   "outputs": [],
   "source": [
    "colors = cycle('blue orange purple brown black'.split())"
   ]
  },
  {
   "cell_type": "code",
   "execution_count": 5,
   "id": "eaad3178-33a9-45a0-b4f1-87f78a9fd603",
   "metadata": {
    "scrolled": false
   },
   "outputs": [
    {
     "data": {
      "application/vnd.jupyter.widget-view+json": {
       "model_id": "ad585b27f73d486392b68ac3dc26db98",
       "version_major": 2,
       "version_minor": 0
      },
      "text/plain": [
       "interactive(children=(IntSlider(value=2497, description='idx', max=4994), Output()), _dom_classes=('widget-int…"
      ]
     },
     "metadata": {},
     "output_type": "display_data"
    }
   ],
   "source": [
    "def show_boxes(idx):\n",
    "    row = SUBJECTS[idx]\n",
    "    path = SHEETS_2 / row['subject_file_name']\n",
    "    image = Image.open(path)\n",
    "    draw = ImageDraw.Draw(image)\n",
    "\n",
    "    print(row['subject_file_name'])\n",
    "\n",
    "    for box in [v for k, v in row.items() if k.startswith('merged_box_') and v]:\n",
    "        box = json.loads(box)\n",
    "        box = [v for v in box.values()]\n",
    "        draw.rectangle(box, outline='red', width=4)\n",
    "\n",
    "    for box in [v for k, v in row.items() if k.startswith('removed_box_') and v]:\n",
    "        box = json.loads(box)\n",
    "        box = [v for v in box.values()]\n",
    "        draw.rectangle(box, outline='green', width=4)\n",
    "\n",
    "    for box in [v for k, v in row.items() if k.startswith('box_') and v]:\n",
    "        box = json.loads(box)\n",
    "        box = [v for v in box.values()]\n",
    "        color = 'blue'  # next(colors)\n",
    "        draw.rectangle(box, outline=color, width=1)\n",
    "\n",
    "    display(image)\n",
    "\n",
    "\n",
    "# show_boxes(0)\n",
    "interact(show_boxes, idx=(0, len(SUBJECTS) - 1));"
   ]
  },
  {
   "cell_type": "code",
   "execution_count": null,
   "id": "acdb5a58-31af-46f4-92e6-9ac47febcfa1",
   "metadata": {},
   "outputs": [],
   "source": []
  }
 ],
 "metadata": {
  "kernelspec": {
   "display_name": "Python 3",
   "language": "python",
   "name": "python3"
  },
  "language_info": {
   "codemirror_mode": {
    "name": "ipython",
    "version": 3
   },
   "file_extension": ".py",
   "mimetype": "text/x-python",
   "name": "python",
   "nbconvert_exporter": "python",
   "pygments_lexer": "ipython3",
   "version": "3.9.5"
  },
  "varInspector": {
   "cols": {
    "lenName": 16,
    "lenType": 16,
    "lenVar": 40
   },
   "kernels_config": {
    "python": {
     "delete_cmd_postfix": "",
     "delete_cmd_prefix": "del ",
     "library": "var_list.py",
     "varRefreshCmd": "print(var_dic_list())"
    },
    "r": {
     "delete_cmd_postfix": ") ",
     "delete_cmd_prefix": "rm(",
     "library": "var_list.r",
     "varRefreshCmd": "cat(var_dic_list()) "
    }
   },
   "types_to_exclude": [
    "module",
    "function",
    "builtin_function_or_method",
    "instance",
    "_Feature"
   ],
   "window_display": false
  }
 },
 "nbformat": 4,
 "nbformat_minor": 5
}
