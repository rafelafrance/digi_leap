{
 "cells": [
  {
   "cell_type": "code",
   "execution_count": 1,
   "id": "7f05bc72-56a5-4512-9ed9-58060b44694e",
   "metadata": {},
   "outputs": [],
   "source": [
    "import csv\n",
    "import sqlite3\n",
    "import warnings\n",
    "from pathlib import Path\n",
    "\n",
    "from PIL import Image\n",
    "from tqdm import tqdm"
   ]
  },
  {
   "cell_type": "code",
   "execution_count": 2,
   "id": "79a7f65e-edde-4864-b5fe-ea710b7883d1",
   "metadata": {},
   "outputs": [],
   "source": [
    "DATA_DIR = Path(\".\") / \"data\" / \"sernec\"\n",
    "OCR_DIR = DATA_DIR / \"sernec_2023-05-18_ocr\"\n",
    "LABEL_DIR = DATA_DIR / \"sernec_2023-05-18_labels\"\n",
    "DB = DATA_DIR / \"sernec.sqlite\"\n",
    "LABEL_IDS = DATA_DIR / \"sernec_2023-05-18_label_ids.csv\""
   ]
  },
  {
   "cell_type": "code",
   "execution_count": 3,
   "id": "3b3c6e79-696b-447f-951d-e8cc433bebaa",
   "metadata": {},
   "outputs": [
    {
     "name": "stderr",
     "output_type": "stream",
     "text": [
      "1224it [00:00, 48067.75it/s]\n"
     ]
    }
   ],
   "source": [
    "sql = \"\"\"\n",
    "    select path, coreid, labels.*, ocr_text\n",
    "    from ocr_texts\n",
    "    join labels using (label_id)\n",
    "    join sheets using (sheet_id)\n",
    "    where ocr_set = 'sernec_2023-05-18'\n",
    "    \"\"\"\n",
    "with sqlite3.connect(DB) as cxn, open(LABEL_IDS, \"w\") as csv_out:\n",
    "    writer = csv.writer(csv_out)\n",
    "    writer.writerow([\"old_id\", \"new_id\"])\n",
    "    \n",
    "    cxn.row_factory = sqlite3.Row\n",
    "    \n",
    "    for row in tqdm(cxn.execute(sql)):\n",
    "        name = (\n",
    "            f\"{row['coreid']}_{row['class'].lower()}_\"\n",
    "            f\"{row['label_left']}_{row['label_top']}_\"\n",
    "            f\"{row['label_right']}_{row['label_bottom']}.txt\"\n",
    "        )\n",
    "        with open(OCR_DIR / name, \"w\") as f:\n",
    "            f.write(row[\"ocr_text\"])\n",
    "\n",
    "        with warnings.catch_warnings():  # Turn off EXIF warnings\n",
    "            warnings.filterwarnings(\"ignore\", category=UserWarning)\n",
    "            sheet = Image.open(row[\"path\"])\n",
    "\n",
    "        image = sheet.crop(\n",
    "            (\n",
    "                row[\"label_left\"],\n",
    "                row[\"label_top\"],\n",
    "                row[\"label_right\"],\n",
    "                row[\"label_bottom\"],\n",
    "            )\n",
    "        )\n",
    "        \n",
    "        name = (LABEL_DIR / name).with_suffix(\".jpg\")\n",
    "        image.save(name, \"JPEG\")\n",
    "        \n",
    "        writer.writerow([row[\"label_id\"], name.stem])"
   ]
  },
  {
   "cell_type": "code",
   "execution_count": null,
   "id": "7d56df9d-729b-4282-8896-c81dc0f8c35d",
   "metadata": {},
   "outputs": [],
   "source": []
  }
 ],
 "metadata": {
  "kernelspec": {
   "display_name": "venv311",
   "language": "python",
   "name": "venv311"
  },
  "language_info": {
   "codemirror_mode": {
    "name": "ipython",
    "version": 3
   },
   "file_extension": ".py",
   "mimetype": "text/x-python",
   "name": "python",
   "nbconvert_exporter": "python",
   "pygments_lexer": "ipython3",
   "version": "3.11.5"
  }
 },
 "nbformat": 4,
 "nbformat_minor": 5
}
